{
 "metadata": {
  "name": "",
  "signature": "sha256:8f9934176bcb39e1853f6a3cdbd139718178eee7c2cde78783ff5eecb5f2e8f7"
 },
 "nbformat": 3,
 "nbformat_minor": 0,
 "worksheets": [
  {
   "cells": [
    {
     "cell_type": "heading",
     "level": 2,
     "metadata": {},
     "source": [
      "Implementation of Infinite Latent Feature Models and the Indian Buffet Process"
     ]
    },
    {
     "cell_type": "markdown",
     "metadata": {},
     "source": [
      "**Indian Buffet Process (IBP)**\n",
      "\n",
      "The Indian Buffet is an adaptation of Chinese Buffett Process where each object instead of being associated with a single latent class can  be associated with multiple classes. This is particularly useful when each object has multile latent features and by associating objects with a single class we cannot partition them into homogeneous subsets.\n",
      "\n",
      "In the Indian buffet process, $N$ customers enter a restaurant one after another. Each customer encounters a buffet \n",
      "consisting of infinitely many dishes arranged in a line. The first customer starts at the left of the buffet and \n",
      "takes a serving from each dish, stopping after a Poisson($\\alpha$) number of dishes. The $i$th customer moves along the buffet, \n",
      "sampling dishes in proportion to their popularity, taking dish $k$ with probability $\\frac{m_k}{i}$ , where $m_k$ is the number of \n",
      "previous customers who have sampled that dish. Having reached the end of all previous sampled dishes, the $i$th customer \n",
      "then tries a Poisson($\\frac{\\alpha}{i}$) number of new dishes.\n",
      "\n",
      "IBP can be used as a prior in models for unsupervised learning. An example of which is presentd in the paper by Griffiths and Ghahramani, where IBP is used as a prior in linear-Gaussian binary latent feature model."
     ]
    },
    {
     "cell_type": "code",
     "collapsed": false,
     "input": [],
     "language": "python",
     "metadata": {},
     "outputs": []
    }
   ],
   "metadata": {}
  }
 ]
}