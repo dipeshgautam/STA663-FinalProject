{
 "metadata": {
  "name": "",
  "signature": "sha256:6909bada09709caad8ac3f7b060cd249ba49f1d5f1b3efcb593e98c3981c1d0f"
 },
 "nbformat": 3,
 "nbformat_minor": 0,
 "worksheets": [
  {
   "cells": [
    {
     "cell_type": "heading",
     "level": 2,
     "metadata": {},
     "source": [
      "Implementation of Infinite Latent Feature Models and the Indian Buffet Process"
     ]
    },
    {
     "cell_type": "markdown",
     "metadata": {},
     "source": [
      "**Indian Buffet Process (IBP)**\n",
      "\n",
      "The Indian Buffet is an adaptation of Chinese Buffett Process where each object instead of being associated with a single latent class can  be associated with multiple classes. This is particularly useful when each object has multile latent features and by associating objects with a single class we cannot partition them into homogeneous subsets.\n",
      "\n",
      "In the Indian buffet process, $N$ customers enter a restaurant one after another. Each customer encounters a buffet \n",
      "consisting of infinitely many dishes arranged in a line. The first customer starts at the left of the buffet and \n",
      "takes a serving from each dish, stopping after a Poisson($\\alpha$) number of dishes. The $i$th customer moves along the buffet, \n",
      "sampling dishes in proportion to their popularity, taking dish $k$ with probability $\\frac{m_k}{i}$ , where $m_k$ is the number of \n",
      "previous customers who have sampled that dish. Having reached the end of all previous sampled dishes, the $i$th customer \n",
      "then tries a Poisson($\\frac{\\alpha}{i}$) number of new dishes. Which costumer chose which dishes is indicated using a binary matrix **Z** with $N$ rows and infinitely many columns(corresponding to the infinitely many selection of dished), where $z_{ik}$ = 1 if the $i$th costumer sampled $k$th dish.\n",
      "\n",
      "IBP can be used as a prior in models for unsupervised learning. An example of which is presentd in the paper by Griffiths and Ghahramani, where IBP is used as a prior in linear-Gaussian binary latent feature model."
     ]
    },
    {
     "cell_type": "heading",
     "level": 3,
     "metadata": {},
     "source": [
      "Algorithm"
     ]
    },
    {
     "cell_type": "code",
     "collapsed": false,
     "input": [
      "# define a likelihood function to be used multiple times later, try to implement it in C or at change to log likelihood\n",
      "def ll(X, Z, sigmaA, sigmaX, K, D, N):\n",
      "    M = Z[:,0:K].T.dot(Z[:,0:K])+sigmaX**2/sigmaA**2*np.identity(K)\n",
      "    return -np.log(2*np.pi)*N*D*.5 - np.log(sigmaX)*(N-K)*D - np.log(sigmaA)*K*D - .5*D*np.log(np.linalg.det(M)) \\\n",
      "        -.5/sigmaX**2 + np.matrix.trace( X.T.dot( np.identity(N)-Z.dot(np.linalg.inv(M).dot(Z.T)) ).dot(X) )"
     ],
     "language": "python",
     "metadata": {},
     "outputs": [],
     "prompt_number": 44
    },
    {
     "cell_type": "markdown",
     "metadata": {},
     "source": [
      "* Gamma prior for $\\alpha$\n",
      "$$\n",
      "\\alpha \\sim Gamma(1,1)\n",
      "$$\n",
      "* Prior on **Z** is obtained by IBP as:\n",
      "$$\n",
      "P(z_{ik}=1|\\textbf{z}_{-i,k}) = \\frac{n_{-i,k}}{N}\n",
      "$$\n",
      "\n",
      "* Likelihood is given by\n",
      "\\begin{equation}\n",
      "P(X|Z,\\sigma_X, \\sigma_A) = \\frac{1}{(2 \\pi)^{ND/2} (\\sigma_X)^{(N-K)D}(\\sigma_A)^{KD}(|Z^TZ+\\frac{\\sigma_X^2}{\\sigma_A^2}I|)^{D/2}}exp\\{-\\frac{1}{2\\sigma_X^2}tr(X^T(I-Z(Z^TZ+\\frac{\\sigma_X^2}{\\sigma_A^2}I)^{-1}Z^T)X)\\}\n",
      "\\end{equation}\n",
      "\n",
      "After we have the likelihood and the prior given by IBP,\n",
      "\n",
      "* full conditional posterior for **Z** can be calculated as:\n",
      "$$\n",
      "P(z_{ik}|X,Z_{-(i,k)},\\sigma_X,\\sigma_A) \\propto  P(X|Z,\\sigma_X, \\sigma_A) * P(z_{ik}=1|\\textbf{z}_{-i,k}) \n",
      "$$\n",
      "\n",
      "To sample the number of new features for observation $i$, we use a truncated distribution, computing probabilities for a range of values $K_1^{(i)}$ up to an upper bound (say 4). The prior on number of features is given by $Poisson(\\frac{\\alpha}{N})$.\n",
      "Using this prior and the likelihood, we sample the nummber of new features.\n",
      "\n",
      "* Full conditional posterior for $\\alpha$ is given by:\n",
      "$$\n",
      "P(\\alpha|Z) \\sim Gamma(1+K_+,1+\\sum_{i=1}^{N} H_i)\n",
      "$$\n",
      "\n",
      "* For $\\sigma_X$ and $\\sigma_A$, we use MH algorithm as follows:\n",
      "\\begin{eqnarray}\n",
      "\\epsilon \\sim Uniform(-.05,.05)\\\\\n",
      "\\sigma_X^{*} =  \\sigma_X +\\epsilon\\\\\n",
      "\\end{eqnarray}\n",
      "Accept this new $\\sigma_X$ with probability given by:\n",
      "$$\n",
      "AR = min\\{1,\\frac{Likelihood(X|\\sigma_X^{*},...)}{Likelihood(X|\\sigma_X,...)}\\}\\\\\n",
      "$$\n",
      "Where AR is the acceptance ratio. We use similar algorithm to sample $\\sigma_A$"
     ]
    },
    {
     "cell_type": "heading",
     "level": 4,
     "metadata": {},
     "source": [
      "Pseudo-code for a single iteration of Gibbs and MH combined algorigthm"
     ]
    },
    {
     "cell_type": "code",
     "collapsed": false,
     "input": [
      "import numpy as np"
     ],
     "language": "python",
     "metadata": {},
     "outputs": [],
     "prompt_number": 1
    },
    {
     "cell_type": "heading",
     "level": 6,
     "metadata": {},
     "source": [
      "Simulate data"
     ]
    },
    {
     "cell_type": "code",
     "collapsed": false,
     "input": [
      "N = 100 #number of objects\n",
      "K = 4\n",
      "D = 36 # dimension of feature\n",
      "\n",
      "\n",
      "sigmaX0 = .5;\n",
      "A = np.array((0, 1, 0, 0, 0, 0, 1, 1, 1, 0, 0, 0, 0, 1, 0, 0, 0, 0, 0, 0, 0, 0, 0, 0, 0, 0, 0, 0, 0, 0, 0, 0, 0, 0, 0, 0, \\\n",
      "             0, 0, 0, 1, 1, 1, 0, 0, 0, 1, 0, 1, 0, 0, 0, 1, 1, 1, 0, 0, 0, 0, 0, 0, 0, 0, 0, 0, 0, 0, 0, 0, 0, 0, 0, 0, \\\n",
      "             0, 0, 0, 0, 0, 0, 0, 0, 0, 0, 0, 0, 0, 0, 0, 0, 0, 0, 1, 0, 0, 0, 0, 0, 1, 1, 0, 0, 0, 0, 1, 1, 1, 0, 0, 0, \\\n",
      "             0, 0, 0, 0, 0, 0, 0, 0, 0, 0, 0, 0, 0, 0, 0, 0, 0, 0, 0, 0, 0, 1, 1, 1, 0, 0, 0, 0, 1, 0, 0, 0, 0, 0, 1, 0)).reshape(4, D)\n",
      "\n",
      "\n",
      "I = sigmaX0*np.identity(D)\n",
      "Z0 = np.zeros((100, K))\n",
      "X = np.zeros((N, D))\n",
      "for i in range(N):\n",
      "    Z0[i,:] = (np.random.uniform(0,1,K) > .5).astype(int)\n",
      "    while (np.sum(Z0[i,:]) == 0):\n",
      "        Z0[i,:] = (np.random.uniform(0,1,K) > .5).astype(int)\n",
      "    X[i,:] = np.random.normal(0,1, (1,D)).dot(I)+Z0[i,:].dot(A)\n",
      "X.shape"
     ],
     "language": "python",
     "metadata": {},
     "outputs": [
      {
       "metadata": {},
       "output_type": "pyout",
       "prompt_number": 57,
       "text": [
        "(100, 36)"
       ]
      }
     ],
     "prompt_number": 57
    },
    {
     "cell_type": "heading",
     "level": 6,
     "metadata": {},
     "source": [
      "Set initial numbers, dimensions and features"
     ]
    },
    {
     "cell_type": "heading",
     "level": 6,
     "metadata": {},
     "source": [
      "Sample prior"
     ]
    },
    {
     "cell_type": "code",
     "collapsed": false,
     "input": [
      "np.random.seed(1000)\n",
      "def sampleIBP(alpha, N):\n",
      "    result = np.zeros((N, 1000))\n",
      "    t = np.random.poisson(alpha)\n",
      "    result[0,0:t] = np.ones((1,t))\n",
      "    Kplus = t\n",
      "    for i in range(1,N):\n",
      "        for j in range(Kplus):\n",
      "            p = np.zeros(2)\n",
      "            p[0] = np.log(np.sum(result[0:i,j]))-np.log(i)\n",
      "            p[1] = np.log(i - np.sum(result[0:i,j])) - np.log(i)\n",
      "            p = np.exp(p-max(p))\n",
      "            if np.random.uniform(0,1) < p[0]/np.sum(p):\n",
      "                result[i,j] = 1\n",
      "            else:\n",
      "                result[i,j] = 0\n",
      "        t = np.random.poisson(alpha/i)\n",
      "        result[i,Kplus:Kplus+t] = np.ones((1,t))\n",
      "        Kplus = Kplus+t\n",
      "    result = result[:,0:Kplus]\n",
      "    return result\n",
      "\n",
      "Z = sampleIBP(1., 100)\n",
      "Kplus = Z.shape[1]"
     ],
     "language": "python",
     "metadata": {},
     "outputs": [],
     "prompt_number": 51
    },
    {
     "cell_type": "heading",
     "level": 5,
     "metadata": {},
     "source": [
      "Likelihood function"
     ]
    },
    {
     "cell_type": "code",
     "collapsed": false,
     "input": [
      "HN = 0.\n",
      "for i in range(1,N+1):\n",
      "    HN += 1./i\n",
      "    \n",
      "#Kplus = 4 #current number of features with at least one object\n",
      "niter = 10\n",
      "sigmaX = 1.\n",
      "sigmaA = 1.\n",
      "alpha = 1."
     ],
     "language": "python",
     "metadata": {},
     "outputs": [],
     "prompt_number": 49
    },
    {
     "cell_type": "code",
     "collapsed": false,
     "input": [
      "#update z\n",
      "for j in range(niter):\n",
      "    for i in range(N):\n",
      "        for k in range(Kplus):\n",
      "            #print k\n",
      "            if k>=Kplus:\n",
      "                break            \n",
      "            if Z[i,k] > 0:\n",
      "            # Take care of singular features by removing them\n",
      "                if (np.sum(Z[:,k])- Z[i,k]) <=0:\n",
      "                    Z[i,k] = 0\n",
      "                    Z[:,k:(Kplus-1)] = Z[:,(k+1):Kplus] #shift everything one column to the left\n",
      "                    Kplus = Kplus-1\n",
      "                    Z = Z[:,0:Kplus] # remove the last column as it is redundent\n",
      "                    continue #We're no longer looking at this feature, so move to another one\n",
      "        \n",
      "            P = np.zeros(2)\n",
      "            #set Z[i,k] = 0 and calculate posterior probability\n",
      "            Z[i,k] = 0\n",
      "            P[0] = ll(X, Z,sigmaX, sigmaA, Kplus, D, N) + np.log(np.sum(Z[:,k])- Z[i,k]) - np.log(N)\n",
      "        \n",
      "            #set Z[i,k] = 1 and calculate posterior probability\n",
      "            Z[i,k] = 1\n",
      "            P[1] = ll(X, Z,sigmaX, sigmaA, Kplus, D, N)  + np.log(np.sum(Z[:,k])- Z[i,k]) - np.log(N)\n",
      "        \n",
      "            P = np.exp(P - max(P))\n",
      "            U = np.random.uniform(0,1)\n",
      "            if U<(P[1]/(np.sum(P))):\n",
      "                Z[i,k] = 1\n",
      "            else:\n",
      "                Z[i,k] = 0     \n",
      "    \n",
      "    \n",
      "        #Sample number of new features\n",
      "        prob = np.zeros(4)\n",
      "        alphaN = alpha/N\n",
      "        for kNew in range(4): # max new features is 3\n",
      "            Z_temp = Z\n",
      "            if kNew>0:\n",
      "                addCols = np.zeros(N*kNew).reshape(N,kNew)\n",
      "                addCols[i,:] = 1\n",
      "                Z_temp = np.hstack((Z_temp, addCols))\n",
      "        \n",
      "            prob[kNew] = np.log(np.random.poisson(alphaN)) +\\\n",
      "            ll(X = X, Z = Z_temp, sigmaX = sigmaX, sigmaA = sigmaA, K=(Kplus+kNew), D= D, N= N)\n",
      "            print ll(X = X, Z = Z_temp, sigmaX = sigmaX, sigmaA = sigmaA, K=(Kplus+kNew), D= D, N= N)\n",
      "\n",
      "        #normalize prob\n",
      "        #print prob\n",
      "        prob = np.exp(prob - max(prob));\n",
      "        prob = prob/sum(prob)\n",
      "        #print prob\n",
      "        U = np.random.uniform(0,1)\n",
      "        p = 0\n",
      "        for new in range(4):\n",
      "            p = p+prob[new]\n",
      "            if U<=p:\n",
      "                #print kNew\n",
      "                kNew = new\n",
      "                break\n",
      "     \n",
      "        #Add kNew new columns to Z and set the values at ith row to 1 for all of them\n",
      "        addCols = np.zeros(N*kNew).reshape(N,kNew)\n",
      "        addCols[i,:] = 1\n",
      "        Z = np.hstack((Z, addCols))\n",
      "        Kplus = Kplus + kNew \n",
      "\n",
      "\n",
      "    #update sigmaX\n",
      "    epsX = np.random.uniform(-.05,.05)\n",
      "    sigmaX_new = sigmaX+epsX\n",
      "    llCurrent = ll(X, Z, sigmaX, sigmaA, Kplus, D, N )\n",
      "    llNew = ll(X, Z, sigmaX_new, sigmaA, Kplus, D, N)\n",
      "\n",
      "    arX = min(1,llNew-llCurrent)\n",
      "\n",
      "    U = uniform(0,1)\n",
      "    if U < arX:\n",
      "        sigmaX = sigmaX_new\n",
      "    \n",
      "    \n",
      "    #update sigma_A\n",
      "    epsA = np.random.uniform(-.05,.05)\n",
      "    sigmaA_new = sigmaA+epsA\n",
      "    llCurrent = ll(X, Z, sigmaX, sigmaA, Kplus, D, N )\n",
      "    llNew = ll(X, Z, sigmaX, sigmaA_new, Kplus, D, N)\n",
      "\n",
      "    arA = min(1,llNew-llCurrent)\n",
      "\n",
      "    U = uniform(0,1)\n",
      "    if U < arA:\n",
      "        sigmaA = sigmaA_new\n",
      "\n",
      "    #update alpha\n",
      "    alpha = np.random.gamma(1+Kplus, 1/(1+HN))        "
     ],
     "language": "python",
     "metadata": {},
     "outputs": [
      {
       "output_type": "stream",
       "stream": "stdout",
       "text": [
        "-4067.07174654\n",
        "-4067.74472557\n",
        "-4068.39498281\n",
        "-4069.02394571\n",
        "-4085.40510549"
       ]
      },
      {
       "output_type": "stream",
       "stream": "stdout",
       "text": [
        "\n",
        "-4089.24811367\n",
        "-4092.67633859\n",
        "-4095.76017118\n",
        "-4096.33779546"
       ]
      },
      {
       "output_type": "stream",
       "stream": "stdout",
       "text": [
        "\n",
        "-4102.54404622\n",
        "-4107.67061383\n",
        "-4112.00372326\n",
        "-4102.09222478"
       ]
      },
      {
       "output_type": "stream",
       "stream": "stdout",
       "text": [
        "\n",
        "-4105.27369596\n",
        "-4108.28452542\n",
        "-4111.13884297\n",
        "-4125.49954085"
       ]
      },
      {
       "output_type": "stream",
       "stream": "stdout",
       "text": [
        "\n",
        "-4126.23749841\n",
        "-4126.94780938\n",
        "-4127.63240905\n",
        "-4124.49047498"
       ]
      },
      {
       "output_type": "stream",
       "stream": "stdout",
       "text": [
        "\n",
        "-4127.00671265\n",
        "-4129.39807158\n",
        "-4131.67424184\n",
        "-4128.86314463"
       ]
      },
      {
       "output_type": "stream",
       "stream": "stdout",
       "text": [
        "\n",
        "-4130.22402423\n",
        "-4131.5236079\n",
        "-4132.76647767\n",
        "-4149.96616311"
       ]
      },
      {
       "output_type": "stream",
       "stream": "stdout",
       "text": [
        "\n",
        "-4151.21648725\n",
        "-4152.40712347\n",
        "-4153.54292076\n",
        "-4158.9214004"
       ]
      },
      {
       "output_type": "stream",
       "stream": "stdout",
       "text": [
        "\n",
        "-4162.3271755\n",
        "-4165.45759693\n",
        "-4168.34748424\n",
        "-4168.34748424"
       ]
      },
      {
       "output_type": "stream",
       "stream": "stdout",
       "text": [
        "\n",
        "-4193.12679033\n",
        "-4204.52604789\n",
        "-4211.754768\n",
        "-4193.26028621"
       ]
      },
      {
       "output_type": "stream",
       "stream": "stdout",
       "text": [
        "\n",
        "-4219.29859631\n",
        "-4231.33420503\n",
        "-4238.92389923\n"
       ]
      },
      {
       "ename": "KeyboardInterrupt",
       "evalue": "",
       "output_type": "pyerr",
       "traceback": [
        "\u001b[1;31m---------------------------------------------------------------------------\u001b[0m\n\u001b[1;31mKeyboardInterrupt\u001b[0m                         Traceback (most recent call last)",
        "\u001b[1;32m<ipython-input-56-28512ae37b64>\u001b[0m in \u001b[0;36m<module>\u001b[1;34m()\u001b[0m\n\u001b[0;32m     22\u001b[0m             \u001b[1;31m#set Z[i,k] = 1 and calculate posterior probability\u001b[0m\u001b[1;33m\u001b[0m\u001b[1;33m\u001b[0m\u001b[0m\n\u001b[0;32m     23\u001b[0m             \u001b[0mZ\u001b[0m\u001b[1;33m[\u001b[0m\u001b[0mi\u001b[0m\u001b[1;33m,\u001b[0m\u001b[0mk\u001b[0m\u001b[1;33m]\u001b[0m \u001b[1;33m=\u001b[0m \u001b[1;36m1\u001b[0m\u001b[1;33m\u001b[0m\u001b[0m\n\u001b[1;32m---> 24\u001b[1;33m             \u001b[0mP\u001b[0m\u001b[1;33m[\u001b[0m\u001b[1;36m1\u001b[0m\u001b[1;33m]\u001b[0m \u001b[1;33m=\u001b[0m \u001b[0mll\u001b[0m\u001b[1;33m(\u001b[0m\u001b[0mX\u001b[0m\u001b[1;33m,\u001b[0m \u001b[0mZ\u001b[0m\u001b[1;33m,\u001b[0m\u001b[0msigmaX\u001b[0m\u001b[1;33m,\u001b[0m \u001b[0msigmaA\u001b[0m\u001b[1;33m,\u001b[0m \u001b[0mKplus\u001b[0m\u001b[1;33m,\u001b[0m \u001b[0mD\u001b[0m\u001b[1;33m,\u001b[0m \u001b[0mN\u001b[0m\u001b[1;33m)\u001b[0m  \u001b[1;33m+\u001b[0m \u001b[0mnp\u001b[0m\u001b[1;33m.\u001b[0m\u001b[0mlog\u001b[0m\u001b[1;33m(\u001b[0m\u001b[0mnp\u001b[0m\u001b[1;33m.\u001b[0m\u001b[0msum\u001b[0m\u001b[1;33m(\u001b[0m\u001b[0mZ\u001b[0m\u001b[1;33m[\u001b[0m\u001b[1;33m:\u001b[0m\u001b[1;33m,\u001b[0m\u001b[0mk\u001b[0m\u001b[1;33m]\u001b[0m\u001b[1;33m)\u001b[0m\u001b[1;33m-\u001b[0m \u001b[0mZ\u001b[0m\u001b[1;33m[\u001b[0m\u001b[0mi\u001b[0m\u001b[1;33m,\u001b[0m\u001b[0mk\u001b[0m\u001b[1;33m]\u001b[0m\u001b[1;33m)\u001b[0m \u001b[1;33m-\u001b[0m \u001b[0mnp\u001b[0m\u001b[1;33m.\u001b[0m\u001b[0mlog\u001b[0m\u001b[1;33m(\u001b[0m\u001b[0mN\u001b[0m\u001b[1;33m)\u001b[0m\u001b[1;33m\u001b[0m\u001b[0m\n\u001b[0m\u001b[0;32m     25\u001b[0m \u001b[1;33m\u001b[0m\u001b[0m\n\u001b[0;32m     26\u001b[0m             \u001b[0mP\u001b[0m \u001b[1;33m=\u001b[0m \u001b[0mnp\u001b[0m\u001b[1;33m.\u001b[0m\u001b[0mexp\u001b[0m\u001b[1;33m(\u001b[0m\u001b[0mP\u001b[0m \u001b[1;33m-\u001b[0m \u001b[0mmax\u001b[0m\u001b[1;33m(\u001b[0m\u001b[0mP\u001b[0m\u001b[1;33m)\u001b[0m\u001b[1;33m)\u001b[0m\u001b[1;33m\u001b[0m\u001b[0m\n",
        "\u001b[1;32m<ipython-input-44-fae8fee6058c>\u001b[0m in \u001b[0;36mll\u001b[1;34m(X, Z, sigmaA, sigmaX, K, D, N)\u001b[0m\n\u001b[0;32m      2\u001b[0m \u001b[1;32mdef\u001b[0m \u001b[0mll\u001b[0m\u001b[1;33m(\u001b[0m\u001b[0mX\u001b[0m\u001b[1;33m,\u001b[0m \u001b[0mZ\u001b[0m\u001b[1;33m,\u001b[0m \u001b[0msigmaA\u001b[0m\u001b[1;33m,\u001b[0m \u001b[0msigmaX\u001b[0m\u001b[1;33m,\u001b[0m \u001b[0mK\u001b[0m\u001b[1;33m,\u001b[0m \u001b[0mD\u001b[0m\u001b[1;33m,\u001b[0m \u001b[0mN\u001b[0m\u001b[1;33m)\u001b[0m\u001b[1;33m:\u001b[0m\u001b[1;33m\u001b[0m\u001b[0m\n\u001b[0;32m      3\u001b[0m     \u001b[0mM\u001b[0m \u001b[1;33m=\u001b[0m \u001b[0mZ\u001b[0m\u001b[1;33m[\u001b[0m\u001b[1;33m:\u001b[0m\u001b[1;33m,\u001b[0m\u001b[1;36m0\u001b[0m\u001b[1;33m:\u001b[0m\u001b[0mK\u001b[0m\u001b[1;33m]\u001b[0m\u001b[1;33m.\u001b[0m\u001b[0mT\u001b[0m\u001b[1;33m.\u001b[0m\u001b[0mdot\u001b[0m\u001b[1;33m(\u001b[0m\u001b[0mZ\u001b[0m\u001b[1;33m[\u001b[0m\u001b[1;33m:\u001b[0m\u001b[1;33m,\u001b[0m\u001b[1;36m0\u001b[0m\u001b[1;33m:\u001b[0m\u001b[0mK\u001b[0m\u001b[1;33m]\u001b[0m\u001b[1;33m)\u001b[0m\u001b[1;33m+\u001b[0m\u001b[0msigmaX\u001b[0m\u001b[1;33m**\u001b[0m\u001b[1;36m2\u001b[0m\u001b[1;33m/\u001b[0m\u001b[0msigmaA\u001b[0m\u001b[1;33m**\u001b[0m\u001b[1;36m2\u001b[0m\u001b[1;33m*\u001b[0m\u001b[0mnp\u001b[0m\u001b[1;33m.\u001b[0m\u001b[0midentity\u001b[0m\u001b[1;33m(\u001b[0m\u001b[0mK\u001b[0m\u001b[1;33m)\u001b[0m\u001b[1;33m\u001b[0m\u001b[0m\n\u001b[1;32m----> 4\u001b[1;33m     \u001b[1;32mreturn\u001b[0m \u001b[1;33m-\u001b[0m\u001b[0mnp\u001b[0m\u001b[1;33m.\u001b[0m\u001b[0mlog\u001b[0m\u001b[1;33m(\u001b[0m\u001b[1;36m2\u001b[0m\u001b[1;33m*\u001b[0m\u001b[0mnp\u001b[0m\u001b[1;33m.\u001b[0m\u001b[0mpi\u001b[0m\u001b[1;33m)\u001b[0m\u001b[1;33m*\u001b[0m\u001b[0mN\u001b[0m\u001b[1;33m*\u001b[0m\u001b[0mD\u001b[0m\u001b[1;33m*\u001b[0m\u001b[1;36m.5\u001b[0m \u001b[1;33m-\u001b[0m \u001b[0mnp\u001b[0m\u001b[1;33m.\u001b[0m\u001b[0mlog\u001b[0m\u001b[1;33m(\u001b[0m\u001b[0msigmaX\u001b[0m\u001b[1;33m)\u001b[0m\u001b[1;33m*\u001b[0m\u001b[1;33m(\u001b[0m\u001b[0mN\u001b[0m\u001b[1;33m-\u001b[0m\u001b[0mK\u001b[0m\u001b[1;33m)\u001b[0m\u001b[1;33m*\u001b[0m\u001b[0mD\u001b[0m \u001b[1;33m-\u001b[0m \u001b[0mnp\u001b[0m\u001b[1;33m.\u001b[0m\u001b[0mlog\u001b[0m\u001b[1;33m(\u001b[0m\u001b[0msigmaA\u001b[0m\u001b[1;33m)\u001b[0m\u001b[1;33m*\u001b[0m\u001b[0mK\u001b[0m\u001b[1;33m*\u001b[0m\u001b[0mD\u001b[0m \u001b[1;33m-\u001b[0m \u001b[1;36m.5\u001b[0m\u001b[1;33m*\u001b[0m\u001b[0mD\u001b[0m\u001b[1;33m*\u001b[0m\u001b[0mnp\u001b[0m\u001b[1;33m.\u001b[0m\u001b[0mlog\u001b[0m\u001b[1;33m(\u001b[0m\u001b[0mnp\u001b[0m\u001b[1;33m.\u001b[0m\u001b[0mlinalg\u001b[0m\u001b[1;33m.\u001b[0m\u001b[0mdet\u001b[0m\u001b[1;33m(\u001b[0m\u001b[0mM\u001b[0m\u001b[1;33m)\u001b[0m\u001b[1;33m)\u001b[0m         \u001b[1;33m-\u001b[0m\u001b[1;36m.5\u001b[0m\u001b[1;33m/\u001b[0m\u001b[0msigmaX\u001b[0m\u001b[1;33m**\u001b[0m\u001b[1;36m2\u001b[0m\u001b[1;33m+\u001b[0m\u001b[0mnp\u001b[0m\u001b[1;33m.\u001b[0m\u001b[0mmatrix\u001b[0m\u001b[1;33m.\u001b[0m\u001b[0mtrace\u001b[0m\u001b[1;33m(\u001b[0m \u001b[0mX\u001b[0m\u001b[1;33m.\u001b[0m\u001b[0mT\u001b[0m\u001b[1;33m.\u001b[0m\u001b[0mdot\u001b[0m\u001b[1;33m(\u001b[0m \u001b[0mnp\u001b[0m\u001b[1;33m.\u001b[0m\u001b[0midentity\u001b[0m\u001b[1;33m(\u001b[0m\u001b[0mN\u001b[0m\u001b[1;33m)\u001b[0m\u001b[1;33m-\u001b[0m\u001b[0mZ\u001b[0m\u001b[1;33m.\u001b[0m\u001b[0mdot\u001b[0m\u001b[1;33m(\u001b[0m\u001b[0mnp\u001b[0m\u001b[1;33m.\u001b[0m\u001b[0mlinalg\u001b[0m\u001b[1;33m.\u001b[0m\u001b[0minv\u001b[0m\u001b[1;33m(\u001b[0m\u001b[0mM\u001b[0m\u001b[1;33m)\u001b[0m\u001b[1;33m.\u001b[0m\u001b[0mdot\u001b[0m\u001b[1;33m(\u001b[0m\u001b[0mZ\u001b[0m\u001b[1;33m.\u001b[0m\u001b[0mT\u001b[0m\u001b[1;33m)\u001b[0m\u001b[1;33m)\u001b[0m \u001b[1;33m)\u001b[0m\u001b[1;33m.\u001b[0m\u001b[0mdot\u001b[0m\u001b[1;33m(\u001b[0m\u001b[0mX\u001b[0m\u001b[1;33m)\u001b[0m \u001b[1;33m)\u001b[0m\u001b[1;33m\u001b[0m\u001b[0m\n\u001b[0m",
        "\u001b[1;31mKeyboardInterrupt\u001b[0m: "
       ]
      }
     ],
     "prompt_number": 56
    },
    {
     "cell_type": "code",
     "collapsed": false,
     "input": [
      "Z"
     ],
     "language": "python",
     "metadata": {},
     "outputs": [
      {
       "metadata": {},
       "output_type": "pyout",
       "prompt_number": 55,
       "text": [
        "array([[ 1.,  0.,  0., ...,  0.,  0.,  0.],\n",
        "       [ 0.,  0.,  1., ...,  0.,  0.,  0.],\n",
        "       [ 0.,  0.,  0., ...,  0.,  0.,  0.],\n",
        "       ..., \n",
        "       [ 1.,  1.,  0., ...,  0.,  0.,  0.],\n",
        "       [ 1.,  1.,  1., ...,  0.,  0.,  0.],\n",
        "       [ 1.,  1.,  1., ...,  0.,  0.,  0.]])"
       ]
      }
     ],
     "prompt_number": 55
    },
    {
     "cell_type": "heading",
     "level": 3,
     "metadata": {},
     "source": [
      "Unit testing"
     ]
    },
    {
     "cell_type": "markdown",
     "metadata": {},
     "source": [
      "To check if the code is working properly some of the unit testings I've come up with so far are:\n",
      "* Probabilities calculated for the presence of feature have to be between 0 and 1.\n",
      "* "
     ]
    }
   ],
   "metadata": {}
  }
 ]
}