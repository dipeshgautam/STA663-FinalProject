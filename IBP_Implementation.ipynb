{
 "metadata": {
  "name": "",
  "signature": "sha256:3a1ce459da4478757f2e6b40f89de2943d5ebec7498bfe079ebaf2011ebb794d"
 },
 "nbformat": 3,
 "nbformat_minor": 0,
 "worksheets": [
  {
   "cells": [
    {
     "cell_type": "heading",
     "level": 2,
     "metadata": {},
     "source": [
      "Implementation of Infinite Latent Feature Models and the Indian Buffet Process"
     ]
    },
    {
     "cell_type": "markdown",
     "metadata": {},
     "source": [
      "**Indian Buffet Process (IBP)**\n",
      "\n",
      "The Indian Buffet is an adaptation of Chinese Buffett Process where each object instead of being associated with a single latent class can  be associated with multiple classes. This is particularly useful when each object has multile latent features and by associating objects with a single class we cannot partition them into homogeneous subsets.\n",
      "\n",
      "In the Indian buffet process, $N$ customers enter a restaurant one after another. Each customer encounters a buffet \n",
      "consisting of infinitely many dishes arranged in a line. The first customer starts at the left of the buffet and \n",
      "takes a serving from each dish, stopping after a Poisson($\\alpha$) number of dishes. The $i$th customer moves along the buffet, \n",
      "sampling dishes in proportion to their popularity, taking dish $k$ with probability $\\frac{m_k}{i}$ , where $m_k$ is the number of \n",
      "previous customers who have sampled that dish. Having reached the end of all previous sampled dishes, the $i$th customer \n",
      "then tries a Poisson($\\frac{\\alpha}{i}$) number of new dishes. Which costumer chose which dishes is indicated using a binary matrix **Z** with $N$ rows and infinitely many columns(corresponding to the infinitely many selection of dished), where $z_{ik}$ = 1 if the $i$th costumer sampled $k$th dish.\n",
      "\n",
      "IBP can be used as a prior in models for unsupervised learning. An example of which is presentd in the paper by Griffiths and Ghahramani, where IBP is used as a prior in linear-Gaussian binary latent feature model."
     ]
    },
    {
     "cell_type": "heading",
     "level": 3,
     "metadata": {},
     "source": [
      "Algorithm"
     ]
    },
    {
     "cell_type": "markdown",
     "metadata": {},
     "source": [
      "* Gamma prior for $\\alpha$\n",
      "$$\n",
      "\\alpha \\sim Gamma(1,1)\n",
      "$$\n",
      "* Prior on **Z** is obtained by IBP as:\n",
      "$$\n",
      "P(z_{ik}=1|\\textbf{z}_{-i,k}) = \\frac{n_{-i,k}}{N}\n",
      "$$\n",
      "\n",
      "* Likelihood is given by\n",
      "\\begin{equation}\n",
      "P(X|Z,\\sigma_X, \\sigma_A) = \\frac{1}{(2 \\pi)^{ND/2} (\\sigma_X)^{(N-K)D}(\\sigma_A)^{KD}(|Z^TZ+\\frac{\\sigma_X^2}{\\sigma_A^2}I|)^{D/2}}exp\\{-\\frac{1}{2\\sigma_X^2}tr(X^T(I-Z(Z^TZ+\\frac{\\sigma_X^2}{\\sigma_A^2}I)^{-1}Z^T)X)\\}\n",
      "\\end{equation}\n",
      "\n",
      "After we have the likelihood and the prior given by IBP,\n",
      "\n",
      "* full conditional posterior for **Z** can be calculated as:\n",
      "$$\n",
      "P(z_{ik}|X,Z_{-(i,k)},\\sigma_X,\\sigma_A) \\propto  P(X|Z,\\sigma_X, \\sigma_A) * P(z_{ik}=1|\\textbf{z}_{-i,k}) \n",
      "$$\n",
      "\n",
      "To sample the number of new features for observation $i$, we use a truncated distribution, computing probabilities for a range of values $K_1^{(i)}$ up to an upper bound (say 4). The prior on number of features is given by $Poisson(\\frac{\\alpha}{N})$.\n",
      "Using this prior and the likelihood, we sample the nummber of new features.\n",
      "\n",
      "* Full conditional posterior for $\\alpha$ is given by:\n",
      "$$\n",
      "P(\\alpha|Z) \\sim Gamma(1+K_+,1+\\sum_{i=1}^{N} H_i)\n",
      "$$\n",
      "\n",
      "* For $\\sigma_X$ and $\\sigma_A$, we use MH algorithm as follows:\n",
      "\\begin{eqnarray}\n",
      "\\epsilon \\sim Uniform(-.05,.05)\\\\\n",
      "\\sigma_X^{*} =  \\sigma_X +\\epsilon\\\\\n",
      "\\end{eqnarray}\n",
      "Accept this new $\\sigma_X$ with probability given by:\n",
      "$$\n",
      "AR = min\\{1,\\frac{Likelihood(X|\\sigma_X^{*},...)}{Likelihood(X|\\sigma_X,...)}\\}\\\\\n",
      "$$\n",
      "Where AR is the acceptance ratio. We use similar algorithm to sample $\\sigma_A$"
     ]
    },
    {
     "cell_type": "heading",
     "level": 4,
     "metadata": {},
     "source": [
      "Pseudo-code for a single iteration of Gibbs and MH combined algorigthm"
     ]
    },
    {
     "cell_type": "code",
     "collapsed": false,
     "input": [
      "import numpy as np\n",
      "import scipy as sp\n",
      "import math\n",
      "import matplotlib.pyplot as plt\n",
      "from __future__ import division\n",
      "plt.style.use('ggplot')\n",
      "import Image\n",
      "import matplotlib.cm as cm\n",
      "%matplotlib inline\n",
      "%precision 4\n",
      "import time"
     ],
     "language": "python",
     "metadata": {},
     "outputs": [],
     "prompt_number": 587
    },
    {
     "cell_type": "heading",
     "level": 6,
     "metadata": {},
     "source": [
      "Simulate data"
     ]
    },
    {
     "cell_type": "code",
     "collapsed": false,
     "input": [
      "np.random.seed(1)\n",
      "\n",
      "N = 100 #number of objects\n",
      "K = 4 #true number of features\n",
      "D = 36 # dimension of feature\n",
      "\n",
      "\n",
      "sigmaX0 = .5;\n",
      "A = np.array((0, 1, 0, 0, 0, 0, 1, 1, 1, 0, 0, 0, 0, 1, 0, 0, 0, 0, 0, 0, 0, 0, 0, 0, 0, 0, 0, 0, 0, 0, 0, 0, 0, 0, 0, 0, \\\n",
      "             0, 0, 0, 1, 1, 1, 0, 0, 0, 1, 0, 1, 0, 0, 0, 1, 1, 1, 0, 0, 0, 0, 0, 0, 0, 0, 0, 0, 0, 0, 0, 0, 0, 0, 0, 0, \\\n",
      "             0, 0, 0, 0, 0, 0, 0, 0, 0, 0, 0, 0, 0, 0, 0, 0, 0, 0, 1, 0, 0, 0, 0, 0, 1, 1, 0, 0, 0, 0, 1, 1, 1, 0, 0, 0, \\\n",
      "             0, 0, 0, 0, 0, 0, 0, 0, 0, 0, 0, 0, 0, 0, 0, 0, 0, 0, 0, 0, 0, 1, 1, 1, 0, 0, 0, 0, 1, 0, 0, 0, 0, 0, 1, 0)).reshape(4, D)\n",
      "\n",
      "\n",
      "I = sigmaX0*np.identity(D)\n",
      "Z0 = np.zeros((N, K))\n",
      "X = np.zeros((N, D))\n",
      "for i in range(N):\n",
      "    Z0[i,:] = (np.random.uniform(0,1,K) > .5).astype(int)\n",
      "    while (np.sum(Z0[i,:]) == 0):\n",
      "        Z0[i,:] = (np.random.uniform(0,1,K) > .5).astype(int)\n",
      "    #X[i,:] = np.random.multivariate_normal(Z0[i,:].dot(A), I)\n",
      "    X[i,:] = np.random.normal(0,1, (1,D)).dot(I)+Z0[i,:].dot(A)\n",
      "plt.figure(num=None, figsize=(12,3), dpi=80, facecolor='w', edgecolor='k')\n",
      "plt.subplot(141)\n",
      "plt.pcolormesh(A[0,:].reshape(6,6),cmap=plt.cm.gray)     \n",
      "plt.subplot(142)\n",
      "plt.pcolormesh(A[1,:].reshape(6,6),cmap=plt.cm.gray)  \n",
      "plt.subplot(143)\n",
      "plt.pcolormesh(A[2,:].reshape(6,6),cmap=plt.cm.gray)  \n",
      "plt.subplot(144)\n",
      "plt.pcolormesh(A[3,:].reshape(6,6),cmap=plt.cm.gray) "
     ],
     "language": "python",
     "metadata": {},
     "outputs": [
      {
       "ename": "RuntimeError",
       "evalue": "Invalid DISPLAY variable",
       "output_type": "pyerr",
       "traceback": [
        "\u001b[1;31m---------------------------------------------------------------------------\u001b[0m\n\u001b[1;31mRuntimeError\u001b[0m                              Traceback (most recent call last)",
        "\u001b[1;32m<ipython-input-581-a0340d86fcdf>\u001b[0m in \u001b[0;36m<module>\u001b[1;34m()\u001b[0m\n\u001b[0;32m     21\u001b[0m \u001b[0mA0\u001b[0m\u001b[1;33m=\u001b[0m \u001b[0mA\u001b[0m\u001b[1;33m[\u001b[0m\u001b[1;36m0\u001b[0m\u001b[1;33m]\u001b[0m\u001b[1;33m.\u001b[0m\u001b[0mreshape\u001b[0m\u001b[1;33m(\u001b[0m\u001b[1;33m(\u001b[0m\u001b[1;36m6\u001b[0m\u001b[1;33m,\u001b[0m\u001b[1;36m6\u001b[0m\u001b[1;33m)\u001b[0m\u001b[1;33m)\u001b[0m\u001b[1;33m\u001b[0m\u001b[0m\n\u001b[0;32m     22\u001b[0m \u001b[0mA0\u001b[0m\u001b[1;33m\u001b[0m\u001b[0m\n\u001b[1;32m---> 23\u001b[1;33m \u001b[0mplt\u001b[0m\u001b[1;33m.\u001b[0m\u001b[0mfigure\u001b[0m\u001b[1;33m(\u001b[0m\u001b[0mnum\u001b[0m\u001b[1;33m=\u001b[0m\u001b[0mNone\u001b[0m\u001b[1;33m,\u001b[0m \u001b[0mfigsize\u001b[0m\u001b[1;33m=\u001b[0m\u001b[1;33m(\u001b[0m\u001b[1;36m12\u001b[0m\u001b[1;33m,\u001b[0m\u001b[1;36m3\u001b[0m\u001b[1;33m)\u001b[0m\u001b[1;33m,\u001b[0m \u001b[0mdpi\u001b[0m\u001b[1;33m=\u001b[0m\u001b[1;36m80\u001b[0m\u001b[1;33m,\u001b[0m \u001b[0mfacecolor\u001b[0m\u001b[1;33m=\u001b[0m\u001b[1;34m'w'\u001b[0m\u001b[1;33m,\u001b[0m \u001b[0medgecolor\u001b[0m\u001b[1;33m=\u001b[0m\u001b[1;34m'k'\u001b[0m\u001b[1;33m)\u001b[0m\u001b[1;33m\u001b[0m\u001b[0m\n\u001b[0m\u001b[0;32m     24\u001b[0m \u001b[0mplt\u001b[0m\u001b[1;33m.\u001b[0m\u001b[0msubplot\u001b[0m\u001b[1;33m(\u001b[0m\u001b[1;36m141\u001b[0m\u001b[1;33m)\u001b[0m\u001b[1;33m\u001b[0m\u001b[0m\n\u001b[0;32m     25\u001b[0m \u001b[0mplt\u001b[0m\u001b[1;33m.\u001b[0m\u001b[0mpcolormesh\u001b[0m\u001b[1;33m(\u001b[0m\u001b[0mA0\u001b[0m\u001b[1;33m,\u001b[0m\u001b[0mcmap\u001b[0m\u001b[1;33m=\u001b[0m\u001b[0mplt\u001b[0m\u001b[1;33m.\u001b[0m\u001b[0mcm\u001b[0m\u001b[1;33m.\u001b[0m\u001b[0mgray\u001b[0m\u001b[1;33m)\u001b[0m\u001b[1;33m\u001b[0m\u001b[0m\n",
        "\u001b[1;32m/home/bitnami/anaconda/lib/python2.7/site-packages/matplotlib/pyplot.pyc\u001b[0m in \u001b[0;36mfigure\u001b[1;34m(num, figsize, dpi, facecolor, edgecolor, frameon, FigureClass, **kwargs)\u001b[0m\n\u001b[0;32m    432\u001b[0m                                         \u001b[0mframeon\u001b[0m\u001b[1;33m=\u001b[0m\u001b[0mframeon\u001b[0m\u001b[1;33m,\u001b[0m\u001b[1;33m\u001b[0m\u001b[0m\n\u001b[0;32m    433\u001b[0m                                         \u001b[0mFigureClass\u001b[0m\u001b[1;33m=\u001b[0m\u001b[0mFigureClass\u001b[0m\u001b[1;33m,\u001b[0m\u001b[1;33m\u001b[0m\u001b[0m\n\u001b[1;32m--> 434\u001b[1;33m                                         **kwargs)\n\u001b[0m\u001b[0;32m    435\u001b[0m \u001b[1;33m\u001b[0m\u001b[0m\n\u001b[0;32m    436\u001b[0m         \u001b[1;32mif\u001b[0m \u001b[0mfigLabel\u001b[0m\u001b[1;33m:\u001b[0m\u001b[1;33m\u001b[0m\u001b[0m\n",
        "\u001b[1;32m/home/bitnami/anaconda/lib/python2.7/site-packages/matplotlib/backends/backend_qt4agg.pyc\u001b[0m in \u001b[0;36mnew_figure_manager\u001b[1;34m(num, *args, **kwargs)\u001b[0m\n\u001b[0;32m     45\u001b[0m     \u001b[0mFigureClass\u001b[0m \u001b[1;33m=\u001b[0m \u001b[0mkwargs\u001b[0m\u001b[1;33m.\u001b[0m\u001b[0mpop\u001b[0m\u001b[1;33m(\u001b[0m\u001b[1;34m'FigureClass'\u001b[0m\u001b[1;33m,\u001b[0m \u001b[0mFigure\u001b[0m\u001b[1;33m)\u001b[0m\u001b[1;33m\u001b[0m\u001b[0m\n\u001b[0;32m     46\u001b[0m     \u001b[0mthisFig\u001b[0m \u001b[1;33m=\u001b[0m \u001b[0mFigureClass\u001b[0m\u001b[1;33m(\u001b[0m\u001b[1;33m*\u001b[0m\u001b[0margs\u001b[0m\u001b[1;33m,\u001b[0m \u001b[1;33m**\u001b[0m\u001b[0mkwargs\u001b[0m\u001b[1;33m)\u001b[0m\u001b[1;33m\u001b[0m\u001b[0m\n\u001b[1;32m---> 47\u001b[1;33m     \u001b[1;32mreturn\u001b[0m \u001b[0mnew_figure_manager_given_figure\u001b[0m\u001b[1;33m(\u001b[0m\u001b[0mnum\u001b[0m\u001b[1;33m,\u001b[0m \u001b[0mthisFig\u001b[0m\u001b[1;33m)\u001b[0m\u001b[1;33m\u001b[0m\u001b[0m\n\u001b[0m\u001b[0;32m     48\u001b[0m \u001b[1;33m\u001b[0m\u001b[0m\n\u001b[0;32m     49\u001b[0m \u001b[1;33m\u001b[0m\u001b[0m\n",
        "\u001b[1;32m/home/bitnami/anaconda/lib/python2.7/site-packages/matplotlib/backends/backend_qt4agg.pyc\u001b[0m in \u001b[0;36mnew_figure_manager_given_figure\u001b[1;34m(num, figure)\u001b[0m\n\u001b[0;32m     52\u001b[0m     \u001b[0mCreate\u001b[0m \u001b[0ma\u001b[0m \u001b[0mnew\u001b[0m \u001b[0mfigure\u001b[0m \u001b[0mmanager\u001b[0m \u001b[0minstance\u001b[0m \u001b[1;32mfor\u001b[0m \u001b[0mthe\u001b[0m \u001b[0mgiven\u001b[0m \u001b[0mfigure\u001b[0m\u001b[1;33m.\u001b[0m\u001b[1;33m\u001b[0m\u001b[0m\n\u001b[0;32m     53\u001b[0m     \"\"\"\n\u001b[1;32m---> 54\u001b[1;33m     \u001b[0mcanvas\u001b[0m \u001b[1;33m=\u001b[0m \u001b[0mFigureCanvasQTAgg\u001b[0m\u001b[1;33m(\u001b[0m\u001b[0mfigure\u001b[0m\u001b[1;33m)\u001b[0m\u001b[1;33m\u001b[0m\u001b[0m\n\u001b[0m\u001b[0;32m     55\u001b[0m     \u001b[1;32mreturn\u001b[0m \u001b[0mFigureManagerQT\u001b[0m\u001b[1;33m(\u001b[0m\u001b[0mcanvas\u001b[0m\u001b[1;33m,\u001b[0m \u001b[0mnum\u001b[0m\u001b[1;33m)\u001b[0m\u001b[1;33m\u001b[0m\u001b[0m\n\u001b[0;32m     56\u001b[0m \u001b[1;33m\u001b[0m\u001b[0m\n",
        "\u001b[1;32m/home/bitnami/anaconda/lib/python2.7/site-packages/matplotlib/backends/backend_qt4agg.pyc\u001b[0m in \u001b[0;36m__init__\u001b[1;34m(self, figure)\u001b[0m\n\u001b[0;32m     70\u001b[0m         \u001b[1;32mif\u001b[0m \u001b[0mDEBUG\u001b[0m\u001b[1;33m:\u001b[0m\u001b[1;33m\u001b[0m\u001b[0m\n\u001b[0;32m     71\u001b[0m             \u001b[1;32mprint\u001b[0m\u001b[1;33m(\u001b[0m\u001b[1;34m'FigureCanvasQtAgg: '\u001b[0m\u001b[1;33m,\u001b[0m \u001b[0mfigure\u001b[0m\u001b[1;33m)\u001b[0m\u001b[1;33m\u001b[0m\u001b[0m\n\u001b[1;32m---> 72\u001b[1;33m         \u001b[0mFigureCanvasQT\u001b[0m\u001b[1;33m.\u001b[0m\u001b[0m__init__\u001b[0m\u001b[1;33m(\u001b[0m\u001b[0mself\u001b[0m\u001b[1;33m,\u001b[0m \u001b[0mfigure\u001b[0m\u001b[1;33m)\u001b[0m\u001b[1;33m\u001b[0m\u001b[0m\n\u001b[0m\u001b[0;32m     73\u001b[0m         \u001b[0mFigureCanvasAgg\u001b[0m\u001b[1;33m.\u001b[0m\u001b[0m__init__\u001b[0m\u001b[1;33m(\u001b[0m\u001b[0mself\u001b[0m\u001b[1;33m,\u001b[0m \u001b[0mfigure\u001b[0m\u001b[1;33m)\u001b[0m\u001b[1;33m\u001b[0m\u001b[0m\n\u001b[0;32m     74\u001b[0m         \u001b[0mself\u001b[0m\u001b[1;33m.\u001b[0m\u001b[0m_drawRect\u001b[0m \u001b[1;33m=\u001b[0m \u001b[0mNone\u001b[0m\u001b[1;33m\u001b[0m\u001b[0m\n",
        "\u001b[1;32m/home/bitnami/anaconda/lib/python2.7/site-packages/matplotlib/backends/backend_qt4.pyc\u001b[0m in \u001b[0;36m__init__\u001b[1;34m(self, figure)\u001b[0m\n\u001b[0;32m     66\u001b[0m         \u001b[1;32mif\u001b[0m \u001b[0mDEBUG\u001b[0m\u001b[1;33m:\u001b[0m\u001b[1;33m\u001b[0m\u001b[0m\n\u001b[0;32m     67\u001b[0m             \u001b[1;32mprint\u001b[0m\u001b[1;33m(\u001b[0m\u001b[1;34m'FigureCanvasQt qt4: '\u001b[0m\u001b[1;33m,\u001b[0m \u001b[0mfigure\u001b[0m\u001b[1;33m)\u001b[0m\u001b[1;33m\u001b[0m\u001b[0m\n\u001b[1;32m---> 68\u001b[1;33m         \u001b[0m_create_qApp\u001b[0m\u001b[1;33m(\u001b[0m\u001b[1;33m)\u001b[0m\u001b[1;33m\u001b[0m\u001b[0m\n\u001b[0m\u001b[0;32m     69\u001b[0m \u001b[1;33m\u001b[0m\u001b[0m\n\u001b[0;32m     70\u001b[0m         \u001b[1;31m# Note different super-calling style to backend_qt5\u001b[0m\u001b[1;33m\u001b[0m\u001b[1;33m\u001b[0m\u001b[0m\n",
        "\u001b[1;32m/home/bitnami/anaconda/lib/python2.7/site-packages/matplotlib/backends/backend_qt5.pyc\u001b[0m in \u001b[0;36m_create_qApp\u001b[1;34m()\u001b[0m\n\u001b[0;32m    137\u001b[0m                 \u001b[0mdisplay\u001b[0m \u001b[1;33m=\u001b[0m \u001b[0mos\u001b[0m\u001b[1;33m.\u001b[0m\u001b[0menviron\u001b[0m\u001b[1;33m.\u001b[0m\u001b[0mget\u001b[0m\u001b[1;33m(\u001b[0m\u001b[1;34m'DISPLAY'\u001b[0m\u001b[1;33m)\u001b[0m\u001b[1;33m\u001b[0m\u001b[0m\n\u001b[0;32m    138\u001b[0m                 \u001b[1;32mif\u001b[0m \u001b[0mdisplay\u001b[0m \u001b[1;32mis\u001b[0m \u001b[0mNone\u001b[0m \u001b[1;32mor\u001b[0m \u001b[1;32mnot\u001b[0m \u001b[0mre\u001b[0m\u001b[1;33m.\u001b[0m\u001b[0msearch\u001b[0m\u001b[1;33m(\u001b[0m\u001b[1;34m':\\d'\u001b[0m\u001b[1;33m,\u001b[0m \u001b[0mdisplay\u001b[0m\u001b[1;33m)\u001b[0m\u001b[1;33m:\u001b[0m\u001b[1;33m\u001b[0m\u001b[0m\n\u001b[1;32m--> 139\u001b[1;33m                     \u001b[1;32mraise\u001b[0m \u001b[0mRuntimeError\u001b[0m\u001b[1;33m(\u001b[0m\u001b[1;34m'Invalid DISPLAY variable'\u001b[0m\u001b[1;33m)\u001b[0m\u001b[1;33m\u001b[0m\u001b[0m\n\u001b[0m\u001b[0;32m    140\u001b[0m \u001b[1;33m\u001b[0m\u001b[0m\n\u001b[0;32m    141\u001b[0m             \u001b[0mqApp\u001b[0m \u001b[1;33m=\u001b[0m \u001b[0mQtWidgets\u001b[0m\u001b[1;33m.\u001b[0m\u001b[0mQApplication\u001b[0m\u001b[1;33m(\u001b[0m\u001b[1;33m[\u001b[0m\u001b[0mstr\u001b[0m\u001b[1;33m(\u001b[0m\u001b[1;34m\" \"\u001b[0m\u001b[1;33m)\u001b[0m\u001b[1;33m]\u001b[0m\u001b[1;33m)\u001b[0m\u001b[1;33m\u001b[0m\u001b[0m\n",
        "\u001b[1;31mRuntimeError\u001b[0m: Invalid DISPLAY variable"
       ]
      }
     ],
     "prompt_number": 581
    },
    {
     "cell_type": "heading",
     "level": 6,
     "metadata": {},
     "source": [
      "Set initial numbers, dimensions and features"
     ]
    },
    {
     "cell_type": "heading",
     "level": 6,
     "metadata": {},
     "source": [
      "Sample prior"
     ]
    },
    {
     "cell_type": "code",
     "collapsed": false,
     "input": [
      "np.random.seed(1)\n",
      "def sampleIBP(alpha, N):\n",
      "    result = np.zeros((N, 1000))\n",
      "    t = np.random.poisson(alpha)\n",
      "    if t>0:\n",
      "        result[0,0:t] = np.ones(t)\n",
      "    Kplus = t\n",
      "    for i in range(1,N):\n",
      "        for j in range(Kplus):\n",
      "            p = np.sum(result[0:i,j])/(i+1)\n",
      "            if np.random.uniform(0,1) < p:\n",
      "                result[i,j] = 1\n",
      "        t = np.random.poisson(alpha/(i+1))\n",
      "        if t>0:\n",
      "            result[i,Kplus:Kplus+t] = np.ones(t)\n",
      "            Kplus = Kplus+t\n",
      "    result = result[:,0:Kplus]\n",
      "    return np.array((result, Kplus))\n"
     ],
     "language": "python",
     "metadata": {},
     "outputs": [],
     "prompt_number": 542
    },
    {
     "cell_type": "heading",
     "level": 5,
     "metadata": {},
     "source": [
      "Likelihood function"
     ]
    },
    {
     "cell_type": "code",
     "collapsed": false,
     "input": [
      "# define a log likelihood function \n",
      "def ll(X, Z, sigmaX, sigmaA, K, D, N):\n",
      "    #M = Z[:,0:K].T.dot(Z[:,0:K])+sigmaX**2/sigmaA**2*np.identity(K)\n",
      "    M = Z.T.dot(Z)+(sigmaX**2/sigmaA**2)*np.identity(K)\n",
      "    return (-1)*np.log(2*np.pi)*N*D*.5 - np.log(sigmaX)*(N-K)*D - np.log(sigmaA)*K*D - .5*D*np.log(np.linalg.det(M)) \\\n",
      "        -.5/(sigmaX**2)*np.trace( (X.T.dot( np.identity(N)-Z.dot(np.linalg.inv(M).dot(Z.T)) )).dot(X) )"
     ],
     "language": "python",
     "metadata": {},
     "outputs": [],
     "prompt_number": 543
    },
    {
     "cell_type": "code",
     "collapsed": false,
     "input": [
      "HN = 0.\n",
      "for i in range(1,N+1):\n",
      "    HN += 1./i\n",
      "    \n",
      "#Kplus = 4 #current number of features with at least one object\n",
      "niter = 1000\n",
      "sigmaX = 1\n",
      "sigmaA = 1\n",
      "alpha = 1\n",
      "maxNew = 4"
     ],
     "language": "python",
     "metadata": {},
     "outputs": [],
     "prompt_number": 590
    },
    {
     "cell_type": "code",
     "collapsed": false,
     "input": [
      "BURN_IN=200\n",
      "SAMPLE_SIZE=niter-BURN_IN\n",
      "\n",
      "K_inf=20\n",
      "\n",
      "chain_Z=np.zeros((SAMPLE_SIZE,N,K_inf))\n",
      "chain_K=np.zeros((SAMPLE_SIZE,1))\n",
      "chain_sigma_X=np.zeros((SAMPLE_SIZE,1))\n",
      "chain_sigma_A=np.zeros((SAMPLE_SIZE,1))\n",
      "chain_alpha=np.zeros((SAMPLE_SIZE,1))"
     ],
     "language": "python",
     "metadata": {},
     "outputs": []
    },
    {
     "cell_type": "code",
     "collapsed": false,
     "input": [
      "t0 = time.time()\n",
      "np.random.seed(1)\n",
      "Z, Kplus = sampleIBP(alpha, N)\n",
      "s_counter=0\n",
      "\n",
      "for j in range(niter):\n",
      "    #print(\"iteration:\",j ,  \"Kplus:\",Kplus,  \"shape of Z\", Z.shape, \"alpha:\", alpha, \"sigmaX\", sigmaX)\n",
      "    #update z\n",
      "    if((j+1)>BURN_IN):\n",
      "        chain_Z[s_counter,:,0:Kplus]=Z\n",
      "        chain_K[s_counter]=Kplus\n",
      "        chain_sigma_X[s_counter]=sigmaX\n",
      "        chain_sigma_A[s_counter]=sigmaA\n",
      "        chain_alpha[s_counter]=alpha\n",
      "        s_counter=s_counter+1\n",
      "    \n",
      "    for i in range(N):\n",
      "        for k in range(Kplus):\n",
      "            #print k\n",
      "            if k>=Kplus:\n",
      "                break            \n",
      "            if Z[i,k] > 0:\n",
      "                if (np.sum(Z[:,k])- 1) <=0:\n",
      "                    #Z[i,k] = 0\n",
      "                    Z[:,k:(Kplus-1)] = Z[:,(k+1):Kplus] #shift everything one column to the left\n",
      "                    Kplus = Kplus-1\n",
      "                    Z = Z[:,0:Kplus] # remove the last column as it is redundent\n",
      "                    continue #We're no longer looking at this feature, so move to another one               \n",
      "        \n",
      "            P = np.zeros(2)\n",
      "            #set Z[i,k] = 0 and calculate posterior probability\n",
      "            Z[i,k] = 0\n",
      "            P[0] = ll(X, Z, sigmaX, sigmaA, Kplus, D, N) + np.log(N-np.sum(Z[:,k])) - np.log(N)\n",
      "        \n",
      "            #set Z[i,k] = 1 and calculate posterior probability\n",
      "            Z[i,k] = 1\n",
      "            P[1] = ll(X, Z,sigmaX, sigmaA, Kplus, D, N)  + np.log(np.sum(Z[:,k])- 1) - np.log(N)\n",
      "        \n",
      "            P = np.exp(P - max(P))\n",
      "            U = np.random.uniform(0,1)\n",
      "            if U<(P[1]/(np.sum(P))):\n",
      "                Z[i,k] = 1\n",
      "            else:\n",
      "                Z[i,k] = 0   \n",
      "    \n",
      "    \n",
      "        #Sample number of new features\n",
      "        prob = np.zeros(maxNew)\n",
      "        alphaN = alpha/N\n",
      "        for kNew in range(maxNew): # max new features is 3\n",
      "            Z_temp = Z\n",
      "            if kNew>0:\n",
      "                addCols = np.zeros((N,kNew))\n",
      "                addCols[i,:] = 1\n",
      "                Z_temp = np.hstack((Z_temp, addCols))\n",
      "            \n",
      "            pois = kNew*np.log(alphaN) - alphaN - np.log(math.factorial(kNew))\n",
      "            lik = ll(X = X, Z = Z_temp, sigmaX = sigmaX, sigmaA = sigmaA, K=(Kplus+kNew), D= D, N= N)\n",
      "            prob[kNew] = pois + lik\n",
      "\n",
      "        #normalize prob\n",
      "        prob = np.exp(prob - max(prob))\n",
      "        prob = prob/sum(prob)\n",
      "        \n",
      "        U = np.random.uniform(0,1,1)\n",
      "        p = 0\n",
      "        kNew=0\n",
      "        for new in range(maxNew):\n",
      "            p = p+prob[new]\n",
      "            if U<p:\n",
      "                kNew = new\n",
      "                break\n",
      "     \n",
      "        #Add kNew new columns to Z and set the values at ith row to 1 for all of them\n",
      "        if kNew>0:\n",
      "            addCols = np.zeros((N,kNew))\n",
      "            addCols[i,:] = 1\n",
      "            Z = np.hstack((Z, addCols))\n",
      "        Kplus = Kplus + kNew \n",
      "    \n",
      "    llCurrent = ll(X, Z, sigmaX, sigmaA, Kplus, D, N )\n",
      "    #update sigmaX\n",
      "    if np.random.uniform(0,1) < .5:\n",
      "        sigmaX_new = sigmaX - np.random.uniform(0,1)/20\n",
      "    else:\n",
      "        sigmaX_new = sigmaX + np.random.uniform(0,1)/20\n",
      "    llNew = ll(X, Z, sigmaX_new, sigmaA, Kplus, D, N)\n",
      "\n",
      "    arX = np.exp(min(0,llNew-llCurrent))\n",
      "    U = np.random.uniform(0,1)\n",
      "    if U < arX:\n",
      "        sigmaX = sigmaX_new\n",
      "        \n",
      "        \n",
      "    #update sigma_A\n",
      "    #epsA = np.random.uniform(0,1)\n",
      "    if np.random.uniform(0,1) < .5:\n",
      "        sigmaA_new = sigmaA - np.random.uniform(0,1)/20\n",
      "    else:\n",
      "        sigmaA_new = sigmaA + np.random.uniform(0,1)/20\n",
      "    \n",
      "    \n",
      "#     epsA = np.random.uniform(-.05,.05)\n",
      "#     sigmaA_new = sigmaA+epsA\n",
      "    #llCurrent = ll(X, Z, sigmaX, sigmaA, Kplus, D, N )\n",
      "    #llCurrent = ll(X, Z, sigmaX, sigmaA, Kplus, D, N )\n",
      "    llNew = ll(X, Z, sigmaX, sigmaA_new, Kplus, D, N)\n",
      "\n",
      "    arA = np.exp(min(0,llNew-llCurrent))\n",
      "\n",
      "    U = np.random.uniform(0,1)\n",
      "    if U < arA:\n",
      "        sigmaA = sigmaA_new\n",
      "        \n",
      "    alpha = np.random.gamma(1+Kplus, 1/(1+HN))\n",
      "t1 = time.time()\n",
      "timeElapsed = t1-t0"
     ],
     "language": "python",
     "metadata": {},
     "outputs": [
      {
       "output_type": "stream",
       "stream": "stdout",
       "text": [
        "('iteration:', 0, 'Kplus:', 4, 'shape of Z', (100, 4), 'alpha:', 1, 'sigmaX', 1)\n",
        "('iteration:', 1, 'Kplus:', 2, 'shape of Z', (100, 2), 'alpha:', 0.12667405344167204, 'sigmaX', 0.9800390697323773)"
       ]
      },
      {
       "output_type": "stream",
       "stream": "stdout",
       "text": [
        "\n",
        "('iteration:', 2, 'Kplus:', 1, 'shape of Z', (100, 1), 'alpha:', 0.07020216879932586, 'sigmaX', 0.9800390697323773)"
       ]
      },
      {
       "output_type": "stream",
       "stream": "stdout",
       "text": [
        "\n",
        "('iteration:', 3, 'Kplus:', 1, 'shape of Z', (100, 1), 'alpha:', 0.4775943790140517, 'sigmaX', 0.9800390697323773)"
       ]
      },
      {
       "output_type": "stream",
       "stream": "stdout",
       "text": [
        "\n",
        "('iteration:', 4, 'Kplus:', 1, 'shape of Z', (100, 1), 'alpha:', 0.5007023512405712, 'sigmaX', 0.9800390697323773)"
       ]
      },
      {
       "output_type": "stream",
       "stream": "stdout",
       "text": [
        "\n",
        "('iteration:', 5, 'Kplus:', 1, 'shape of Z', (100, 1), 'alpha:', 0.8576840552997496, 'sigmaX', 0.952849695149186)"
       ]
      },
      {
       "output_type": "stream",
       "stream": "stdout",
       "text": [
        "\n",
        "('iteration:', 6, 'Kplus:', 1, 'shape of Z', (100, 1), 'alpha:', 0.04885516351054874, 'sigmaX', 0.952849695149186)"
       ]
      },
      {
       "output_type": "stream",
       "stream": "stdout",
       "text": [
        "\n",
        "('iteration:', 7, 'Kplus:', 1, 'shape of Z', (100, 1), 'alpha:', 0.04060545463343536, 'sigmaX', 0.9431564521662087)"
       ]
      },
      {
       "output_type": "stream",
       "stream": "stdout",
       "text": [
        "\n",
        "('iteration:', 8, 'Kplus:', 1, 'shape of Z', (100, 1), 'alpha:', 0.19154403701405254, 'sigmaX', 0.899675747910153)"
       ]
      },
      {
       "output_type": "stream",
       "stream": "stdout",
       "text": [
        "\n",
        "('iteration:', 9, 'Kplus:', 1, 'shape of Z', (100, 1), 'alpha:', 0.4238240939217516, 'sigmaX', 0.899675747910153)"
       ]
      },
      {
       "output_type": "stream",
       "stream": "stdout",
       "text": [
        "\n",
        "('iteration:', 10, 'Kplus:', 1, 'shape of Z', (100, 1), 'alpha:', 0.7537393470571785, 'sigmaX', 0.899675747910153)"
       ]
      },
      {
       "output_type": "stream",
       "stream": "stdout",
       "text": [
        "\n",
        "('iteration:', 11, 'Kplus:', 1, 'shape of Z', (100, 1), 'alpha:', 0.5825319874178668, 'sigmaX', 0.8612763989360127)"
       ]
      },
      {
       "output_type": "stream",
       "stream": "stdout",
       "text": [
        "\n",
        "('iteration:', 12, 'Kplus:', 1, 'shape of Z', (100, 1), 'alpha:', 0.42353754538370403, 'sigmaX', 0.8612763989360127)"
       ]
      },
      {
       "output_type": "stream",
       "stream": "stdout",
       "text": [
        "\n",
        "('iteration:', 13, 'Kplus:', 1, 'shape of Z', (100, 1), 'alpha:', 0.5904896284476917, 'sigmaX', 0.8612763989360127)"
       ]
      },
      {
       "output_type": "stream",
       "stream": "stdout",
       "text": [
        "\n",
        "('iteration:', 14, 'Kplus:', 1, 'shape of Z', (100, 1), 'alpha:', 0.28680708592454746, 'sigmaX', 0.8231644603329726)"
       ]
      },
      {
       "output_type": "stream",
       "stream": "stdout",
       "text": [
        "\n",
        "('iteration:', 15, 'Kplus:', 1, 'shape of Z', (100, 1), 'alpha:', 0.38634673749640797, 'sigmaX', 0.7799369276925727)"
       ]
      },
      {
       "output_type": "stream",
       "stream": "stdout",
       "text": [
        "\n",
        "('iteration:', 16, 'Kplus:', 1, 'shape of Z', (100, 1), 'alpha:', 0.4800855005443504, 'sigmaX', 0.7727526290426316)"
       ]
      },
      {
       "output_type": "stream",
       "stream": "stdout",
       "text": [
        "\n",
        "('iteration:', 17, 'Kplus:', 1, 'shape of Z', (100, 1), 'alpha:', 0.03442767401201715, 'sigmaX', 0.7727526290426316)"
       ]
      },
      {
       "output_type": "stream",
       "stream": "stdout",
       "text": [
        "\n",
        "('iteration:', 18, 'Kplus:', 1, 'shape of Z', (100, 1), 'alpha:', 0.49892008043324904, 'sigmaX', 0.7727526290426316)"
       ]
      },
      {
       "output_type": "stream",
       "stream": "stdout",
       "text": [
        "\n",
        "('iteration:', 19, 'Kplus:', 1, 'shape of Z', (100, 1), 'alpha:', 0.13616419527826448, 'sigmaX', 0.7326163809422329)"
       ]
      },
      {
       "output_type": "stream",
       "stream": "stdout",
       "text": [
        "\n",
        "('iteration:', 20, 'Kplus:', 1, 'shape of Z', (100, 1), 'alpha:', 0.33424752149206965, 'sigmaX', 0.6924413727368699)"
       ]
      },
      {
       "output_type": "stream",
       "stream": "stdout",
       "text": [
        "\n",
        "('iteration:', 21, 'Kplus:', 1, 'shape of Z', (100, 1), 'alpha:', 0.4986731964389205, 'sigmaX', 0.6924413727368699)"
       ]
      },
      {
       "output_type": "stream",
       "stream": "stdout",
       "text": [
        "\n",
        "('iteration:', 22, 'Kplus:', 1, 'shape of Z', (100, 1), 'alpha:', 1.0668677298037135, 'sigmaX', 0.6924413727368699)"
       ]
      },
      {
       "output_type": "stream",
       "stream": "stdout",
       "text": [
        "\n",
        "('iteration:', 23, 'Kplus:', 1, 'shape of Z', (100, 1), 'alpha:', 0.16079229752187202, 'sigmaX', 0.6530543168893869)"
       ]
      },
      {
       "output_type": "stream",
       "stream": "stdout",
       "text": [
        "\n",
        "('iteration:', 24, 'Kplus:', 1, 'shape of Z', (100, 1), 'alpha:', 0.5308257527075295, 'sigmaX', 0.6530543168893869)"
       ]
      },
      {
       "output_type": "stream",
       "stream": "stdout",
       "text": [
        "\n",
        "('iteration:', 25, 'Kplus:', 1, 'shape of Z', (100, 1), 'alpha:', 0.0557318909163567, 'sigmaX', 0.6530543168893869)"
       ]
      },
      {
       "output_type": "stream",
       "stream": "stdout",
       "text": [
        "\n",
        "('iteration:', 26, 'Kplus:', 1, 'shape of Z', (100, 1), 'alpha:', 0.25666701445545664, 'sigmaX', 0.6530543168893869)"
       ]
      },
      {
       "output_type": "stream",
       "stream": "stdout",
       "text": [
        "\n",
        "('iteration:', 27, 'Kplus:', 1, 'shape of Z', (100, 1), 'alpha:', 0.3058827050048843, 'sigmaX', 0.6530543168893869)"
       ]
      },
      {
       "output_type": "stream",
       "stream": "stdout",
       "text": [
        "\n",
        "('iteration:', 28, 'Kplus:', 1, 'shape of Z', (100, 1), 'alpha:', 0.16946631855637137, 'sigmaX', 0.6530543168893869)"
       ]
      },
      {
       "output_type": "stream",
       "stream": "stdout",
       "text": [
        "\n",
        "('iteration:', 29, 'Kplus:', 1, 'shape of Z', (100, 1), 'alpha:', 0.3895188369601753, 'sigmaX', 0.6455467748500384)"
       ]
      },
      {
       "output_type": "stream",
       "stream": "stdout",
       "text": [
        "\n",
        "('iteration:', 30, 'Kplus:', 1, 'shape of Z', (100, 1), 'alpha:', 0.4486267092622324, 'sigmaX', 0.6455467748500384)"
       ]
      },
      {
       "output_type": "stream",
       "stream": "stdout",
       "text": [
        "\n",
        "('iteration:', 31, 'Kplus:', 1, 'shape of Z', (100, 1), 'alpha:', 0.4804600390404933, 'sigmaX', 0.6455467748500384)"
       ]
      },
      {
       "output_type": "stream",
       "stream": "stdout",
       "text": [
        "\n",
        "('iteration:', 32, 'Kplus:', 1, 'shape of Z', (100, 1), 'alpha:', 0.5676057329273241, 'sigmaX', 0.6455467748500384)"
       ]
      },
      {
       "output_type": "stream",
       "stream": "stdout",
       "text": [
        "\n",
        "('iteration:', 33, 'Kplus:', 1, 'shape of Z', (100, 1), 'alpha:', 0.5183342500161476, 'sigmaX', 0.6455467748500384)"
       ]
      },
      {
       "output_type": "stream",
       "stream": "stdout",
       "text": [
        "\n",
        "('iteration:', 34, 'Kplus:', 1, 'shape of Z', (100, 1), 'alpha:', 0.6357068120341283, 'sigmaX', 0.6455467748500384)"
       ]
      },
      {
       "output_type": "stream",
       "stream": "stdout",
       "text": [
        "\n",
        "('iteration:', 35, 'Kplus:', 1, 'shape of Z', (100, 1), 'alpha:', 0.40162722782869686, 'sigmaX', 0.6388214769133511)"
       ]
      },
      {
       "output_type": "stream",
       "stream": "stdout",
       "text": [
        "\n",
        "('iteration:', 36, 'Kplus:', 1, 'shape of Z', (100, 1), 'alpha:', 0.3464220371889696, 'sigmaX', 0.6388214769133511)"
       ]
      },
      {
       "output_type": "stream",
       "stream": "stdout",
       "text": [
        "\n",
        "('iteration:', 37, 'Kplus:', 1, 'shape of Z', (100, 1), 'alpha:', 0.55504663467429, 'sigmaX', 0.6388214769133511)"
       ]
      },
      {
       "output_type": "stream",
       "stream": "stdout",
       "text": [
        "\n",
        "('iteration:', 38, 'Kplus:', 1, 'shape of Z', (100, 1), 'alpha:', 0.19529228504432963, 'sigmaX', 0.6388214769133511)"
       ]
      },
      {
       "output_type": "stream",
       "stream": "stdout",
       "text": [
        "\n",
        "('iteration:', 39, 'Kplus:', 1, 'shape of Z', (100, 1), 'alpha:', 0.1957386553212841, 'sigmaX', 0.6388214769133511)"
       ]
      },
      {
       "output_type": "stream",
       "stream": "stdout",
       "text": [
        "\n",
        "('iteration:', 40, 'Kplus:', 1, 'shape of Z', (100, 1), 'alpha:', 0.2898315359758121, 'sigmaX', 0.6388214769133511)"
       ]
      },
      {
       "output_type": "stream",
       "stream": "stdout",
       "text": [
        "\n",
        "('iteration:', 41, 'Kplus:', 1, 'shape of Z', (100, 1), 'alpha:', 0.30310919937173364, 'sigmaX', 0.6388214769133511)"
       ]
      },
      {
       "output_type": "stream",
       "stream": "stdout",
       "text": [
        "\n",
        "('iteration:', 42, 'Kplus:', 1, 'shape of Z', (100, 1), 'alpha:', 0.2276903095405377, 'sigmaX', 0.6388214769133511)"
       ]
      },
      {
       "output_type": "stream",
       "stream": "stdout",
       "text": [
        "\n",
        "('iteration:', 43, 'Kplus:', 1, 'shape of Z', (100, 1), 'alpha:', 0.2681620710966462, 'sigmaX', 0.6388214769133511)"
       ]
      },
      {
       "output_type": "stream",
       "stream": "stdout",
       "text": [
        "\n",
        "('iteration:', 44, 'Kplus:', 1, 'shape of Z', (100, 1), 'alpha:', 0.693834924325206, 'sigmaX', 0.6310394553372326)"
       ]
      },
      {
       "output_type": "stream",
       "stream": "stdout",
       "text": [
        "\n",
        "('iteration:', 45, 'Kplus:', 1, 'shape of Z', (100, 1), 'alpha:', 0.43788488831425426, 'sigmaX', 0.6310394553372326)"
       ]
      },
      {
       "output_type": "stream",
       "stream": "stdout",
       "text": [
        "\n",
        "('iteration:', 46, 'Kplus:', 1, 'shape of Z', (100, 1), 'alpha:', 0.4284617799500437, 'sigmaX', 0.6257525468373005)"
       ]
      },
      {
       "output_type": "stream",
       "stream": "stdout",
       "text": [
        "\n",
        "('iteration:', 47, 'Kplus:', 1, 'shape of Z', (100, 1), 'alpha:', 0.27108472934630246, 'sigmaX', 0.6257525468373005)"
       ]
      },
      {
       "output_type": "stream",
       "stream": "stdout",
       "text": [
        "\n",
        "('iteration:', 48, 'Kplus:', 1, 'shape of Z', (100, 1), 'alpha:', 0.244566148850323, 'sigmaX', 0.651415656162392)"
       ]
      },
      {
       "output_type": "stream",
       "stream": "stdout",
       "text": [
        "\n",
        "('iteration:', 49, 'Kplus:', 1, 'shape of Z', (100, 1), 'alpha:', 0.33126676363659274, 'sigmaX', 0.651415656162392)"
       ]
      },
      {
       "output_type": "stream",
       "stream": "stdout",
       "text": [
        "\n",
        "('iteration:', 50, 'Kplus:', 1, 'shape of Z', (100, 1), 'alpha:', 0.11222343045738027, 'sigmaX', 0.651415656162392)"
       ]
      },
      {
       "output_type": "stream",
       "stream": "stdout",
       "text": [
        "\n",
        "('iteration:', 51, 'Kplus:', 1, 'shape of Z', (100, 1), 'alpha:', 0.21049464766484827, 'sigmaX', 0.651415656162392)"
       ]
      },
      {
       "output_type": "stream",
       "stream": "stdout",
       "text": [
        "\n",
        "('iteration:', 52, 'Kplus:', 1, 'shape of Z', (100, 1), 'alpha:', 0.22208504244477165, 'sigmaX', 0.651415656162392)"
       ]
      },
      {
       "output_type": "stream",
       "stream": "stdout",
       "text": [
        "\n",
        "('iteration:', 53, 'Kplus:', 1, 'shape of Z', (100, 1), 'alpha:', 0.3402442564053611, 'sigmaX', 0.6271510840100959)"
       ]
      },
      {
       "output_type": "stream",
       "stream": "stdout",
       "text": [
        "\n",
        "('iteration:', 54, 'Kplus:', 1, 'shape of Z', (100, 1), 'alpha:', 0.6675755669471938, 'sigmaX', 0.6271510840100959)"
       ]
      },
      {
       "output_type": "stream",
       "stream": "stdout",
       "text": [
        "\n",
        "('iteration:', 55, 'Kplus:', 1, 'shape of Z', (100, 1), 'alpha:', 0.1625978478689302, 'sigmaX', 0.6271510840100959)"
       ]
      },
      {
       "output_type": "stream",
       "stream": "stdout",
       "text": [
        "\n",
        "('iteration:', 56, 'Kplus:', 1, 'shape of Z', (100, 1), 'alpha:', 0.44384246790744514, 'sigmaX', 0.6271510840100959)"
       ]
      },
      {
       "output_type": "stream",
       "stream": "stdout",
       "text": [
        "\n",
        "('iteration:', 57, 'Kplus:', 1, 'shape of Z', (100, 1), 'alpha:', 0.09664988951846863, 'sigmaX', 0.6424354545937839)"
       ]
      },
      {
       "output_type": "stream",
       "stream": "stdout",
       "text": [
        "\n",
        "('iteration:', 58, 'Kplus:', 1, 'shape of Z', (100, 1), 'alpha:', 0.19272593339796684, 'sigmaX', 0.6424354545937839)"
       ]
      },
      {
       "output_type": "stream",
       "stream": "stdout",
       "text": [
        "\n",
        "('iteration:', 59, 'Kplus:', 1, 'shape of Z', (100, 1), 'alpha:', 0.16321245591295067, 'sigmaX', 0.6424354545937839)"
       ]
      },
      {
       "output_type": "stream",
       "stream": "stdout",
       "text": [
        "\n",
        "('iteration:', 60, 'Kplus:', 1, 'shape of Z', (100, 1), 'alpha:', 0.016114433059530777, 'sigmaX', 0.6424354545937839)"
       ]
      },
      {
       "output_type": "stream",
       "stream": "stdout",
       "text": [
        "\n",
        "('iteration:', 61, 'Kplus:', 1, 'shape of Z', (100, 1), 'alpha:', 0.23483510360375207, 'sigmaX', 0.6424354545937839)"
       ]
      },
      {
       "output_type": "stream",
       "stream": "stdout",
       "text": [
        "\n",
        "('iteration:', 62, 'Kplus:', 1, 'shape of Z', (100, 1), 'alpha:', 0.6747642703882456, 'sigmaX', 0.6317303137637359)"
       ]
      },
      {
       "output_type": "stream",
       "stream": "stdout",
       "text": [
        "\n",
        "('iteration:', 63, 'Kplus:', 1, 'shape of Z', (100, 1), 'alpha:', 0.3520319153905481, 'sigmaX', 0.6317303137637359)"
       ]
      },
      {
       "output_type": "stream",
       "stream": "stdout",
       "text": [
        "\n",
        "('iteration:', 64, 'Kplus:', 1, 'shape of Z', (100, 1), 'alpha:', 0.36039299590623586, 'sigmaX', 0.6317303137637359)"
       ]
      },
      {
       "output_type": "stream",
       "stream": "stdout",
       "text": [
        "\n",
        "('iteration:', 65, 'Kplus:', 1, 'shape of Z', (100, 1), 'alpha:', 0.1298841501372788, 'sigmaX', 0.6317303137637359)"
       ]
      },
      {
       "output_type": "stream",
       "stream": "stdout",
       "text": [
        "\n",
        "('iteration:', 66, 'Kplus:', 1, 'shape of Z', (100, 1), 'alpha:', 0.08293536059570096, 'sigmaX', 0.6362421221843236)"
       ]
      },
      {
       "output_type": "stream",
       "stream": "stdout",
       "text": [
        "\n",
        "('iteration:', 67, 'Kplus:', 1, 'shape of Z', (100, 1), 'alpha:', 0.45615184010347126, 'sigmaX', 0.6362421221843236)"
       ]
      },
      {
       "output_type": "stream",
       "stream": "stdout",
       "text": [
        "\n",
        "('iteration:', 68, 'Kplus:', 1, 'shape of Z', (100, 1), 'alpha:', 0.26871015655491537, 'sigmaX', 0.6362421221843236)"
       ]
      },
      {
       "output_type": "stream",
       "stream": "stdout",
       "text": [
        "\n",
        "('iteration:', 69, 'Kplus:', 1, 'shape of Z', (100, 1), 'alpha:', 0.5633549739243293, 'sigmaX', 0.6362421221843236)"
       ]
      },
      {
       "output_type": "stream",
       "stream": "stdout",
       "text": [
        "\n",
        "('iteration:', 70, 'Kplus:', 1, 'shape of Z', (100, 1), 'alpha:', 0.08220934287104308, 'sigmaX', 0.6362421221843236)"
       ]
      },
      {
       "output_type": "stream",
       "stream": "stdout",
       "text": [
        "\n",
        "('iteration:', 71, 'Kplus:', 1, 'shape of Z', (100, 1), 'alpha:', 0.15984897063357692, 'sigmaX', 0.6315587162416049)"
       ]
      },
      {
       "output_type": "stream",
       "stream": "stdout",
       "text": [
        "\n",
        "('iteration:', 72, 'Kplus:', 2, 'shape of Z', (100, 2), 'alpha:', 0.9664730136358399, 'sigmaX', 0.6315587162416049)"
       ]
      },
      {
       "output_type": "stream",
       "stream": "stdout",
       "text": [
        "\n",
        "('iteration:', 73, 'Kplus:', 2, 'shape of Z', (100, 2), 'alpha:', 0.6103796538740551, 'sigmaX', 0.6315587162416049)"
       ]
      },
      {
       "output_type": "stream",
       "stream": "stdout",
       "text": [
        "\n",
        "('iteration:', 74, 'Kplus:', 2, 'shape of Z', (100, 2), 'alpha:', 0.21141375835879134, 'sigmaX', 0.6315587162416049)"
       ]
      },
      {
       "output_type": "stream",
       "stream": "stdout",
       "text": [
        "\n",
        "('iteration:', 75, 'Kplus:', 2, 'shape of Z', (100, 2), 'alpha:', 0.27692986967193944, 'sigmaX', 0.6219758865878601)"
       ]
      },
      {
       "output_type": "stream",
       "stream": "stdout",
       "text": [
        "\n",
        "('iteration:', 76, 'Kplus:', 2, 'shape of Z', (100, 2), 'alpha:', 0.5554939514843753, 'sigmaX', 0.6219758865878601)"
       ]
      },
      {
       "output_type": "stream",
       "stream": "stdout",
       "text": [
        "\n",
        "('iteration:', 77, 'Kplus:', 2, 'shape of Z', (100, 2), 'alpha:', 0.18379446137946245, 'sigmaX', 0.609238652355955)"
       ]
      },
      {
       "output_type": "stream",
       "stream": "stdout",
       "text": [
        "\n",
        "('iteration:', 78, 'Kplus:', 2, 'shape of Z', (100, 2), 'alpha:', 0.21891937786330024, 'sigmaX', 0.609238652355955)"
       ]
      },
      {
       "output_type": "stream",
       "stream": "stdout",
       "text": [
        "\n",
        "('iteration:', 79, 'Kplus:', 2, 'shape of Z', (100, 2), 'alpha:', 1.3540136061902566, 'sigmaX', 0.609238652355955)"
       ]
      },
      {
       "output_type": "stream",
       "stream": "stdout",
       "text": [
        "\n",
        "('iteration:', 80, 'Kplus:', 2, 'shape of Z', (100, 2), 'alpha:', 0.1631117172126855, 'sigmaX', 0.5726588726551857)"
       ]
      },
      {
       "output_type": "stream",
       "stream": "stdout",
       "text": [
        "\n",
        "('iteration:', 81, 'Kplus:', 2, 'shape of Z', (100, 2), 'alpha:', 0.6622766407997778, 'sigmaX', 0.5726588726551857)"
       ]
      },
      {
       "output_type": "stream",
       "stream": "stdout",
       "text": [
        "\n",
        "('iteration:', 82, 'Kplus:', 2, 'shape of Z', (100, 2), 'alpha:', 0.5560259287157387, 'sigmaX', 0.5726588726551857)"
       ]
      },
      {
       "output_type": "stream",
       "stream": "stdout",
       "text": [
        "\n",
        "('iteration:', 83, 'Kplus:', 2, 'shape of Z', (100, 2), 'alpha:', 0.40865704078883164, 'sigmaX', 0.5726588726551857)"
       ]
      },
      {
       "output_type": "stream",
       "stream": "stdout",
       "text": [
        "\n",
        "('iteration:', 84, 'Kplus:', 2, 'shape of Z', (100, 2), 'alpha:', 0.3738588827108321, 'sigmaX', 0.5773399125233069)"
       ]
      },
      {
       "output_type": "stream",
       "stream": "stdout",
       "text": [
        "\n",
        "('iteration:', 85, 'Kplus:', 2, 'shape of Z', (100, 2), 'alpha:', 0.23322903817620413, 'sigmaX', 0.5808283951253803)"
       ]
      },
      {
       "output_type": "stream",
       "stream": "stdout",
       "text": [
        "\n",
        "('iteration:', 86, 'Kplus:', 2, 'shape of Z', (100, 2), 'alpha:', 0.49252399830303745, 'sigmaX', 0.577279265534314)"
       ]
      },
      {
       "output_type": "stream",
       "stream": "stdout",
       "text": [
        "\n",
        "('iteration:', 87, 'Kplus:', 2, 'shape of Z', (100, 2), 'alpha:', 0.7538905410897407, 'sigmaX', 0.575405294108541)"
       ]
      },
      {
       "output_type": "stream",
       "stream": "stdout",
       "text": [
        "\n",
        "('iteration:', 88, 'Kplus:', 4, 'shape of Z', (100, 4), 'alpha:', 1.32475343389249, 'sigmaX', 0.575405294108541)"
       ]
      },
      {
       "output_type": "stream",
       "stream": "stdout",
       "text": [
        "\n",
        "('iteration:', 89, 'Kplus:', 5, 'shape of Z', (100, 5), 'alpha:', 1.1201176535482316, 'sigmaX', 0.575405294108541)"
       ]
      },
      {
       "output_type": "stream",
       "stream": "stdout",
       "text": [
        "\n",
        "('iteration:', 90, 'Kplus:', 6, 'shape of Z', (100, 6), 'alpha:', 1.110648540738547, 'sigmaX', 0.575405294108541)"
       ]
      },
      {
       "output_type": "stream",
       "stream": "stdout",
       "text": [
        "\n",
        "('iteration:', 91, 'Kplus:', 5, 'shape of Z', (100, 5), 'alpha:', 0.3912904028526567, 'sigmaX', 0.5508852603185979)"
       ]
      },
      {
       "output_type": "stream",
       "stream": "stdout",
       "text": [
        "\n",
        "('iteration:', 92, 'Kplus:', 5, 'shape of Z', (100, 5), 'alpha:', 0.8305091020902959, 'sigmaX', 0.5352235195565919)"
       ]
      },
      {
       "output_type": "stream",
       "stream": "stdout",
       "text": [
        "\n",
        "('iteration:', 93, 'Kplus:', 6, 'shape of Z', (100, 6), 'alpha:', 0.5152676053500898, 'sigmaX', 0.5352235195565919)"
       ]
      },
      {
       "output_type": "stream",
       "stream": "stdout",
       "text": [
        "\n",
        "('iteration:', 94, 'Kplus:', 5, 'shape of Z', (100, 5), 'alpha:', 1.0288488290631876, 'sigmaX', 0.5126872634962719)"
       ]
      },
      {
       "output_type": "stream",
       "stream": "stdout",
       "text": [
        "\n",
        "('iteration:', 95, 'Kplus:', 6, 'shape of Z', (100, 6), 'alpha:', 1.2426139598350348, 'sigmaX', 0.5126872634962719)"
       ]
      },
      {
       "output_type": "stream",
       "stream": "stdout",
       "text": [
        "\n",
        "('iteration:', 96, 'Kplus:', 7, 'shape of Z', (100, 7), 'alpha:', 1.057729387522415, 'sigmaX', 0.5126872634962719)"
       ]
      },
      {
       "output_type": "stream",
       "stream": "stdout",
       "text": [
        "\n",
        "('iteration:', 97, 'Kplus:', 7, 'shape of Z', (100, 7), 'alpha:', 0.8548720584338163, 'sigmaX', 0.5126872634962719)"
       ]
      },
      {
       "output_type": "stream",
       "stream": "stdout",
       "text": [
        "\n",
        "('iteration:', 98, 'Kplus:', 6, 'shape of Z', (100, 6), 'alpha:', 1.0449005034255048, 'sigmaX', 0.5126872634962719)"
       ]
      },
      {
       "output_type": "stream",
       "stream": "stdout",
       "text": [
        "\n",
        "('iteration:', 99, 'Kplus:', 5, 'shape of Z', (100, 5), 'alpha:', 0.5096879853492684, 'sigmaX', 0.5126872634962719)"
       ]
      },
      {
       "output_type": "stream",
       "stream": "stdout",
       "text": [
        "\n",
        "('iteration:', 100, 'Kplus:', 5, 'shape of Z', (100, 5), 'alpha:', 0.3726313701382614, 'sigmaX', 0.5126872634962719)"
       ]
      },
      {
       "output_type": "stream",
       "stream": "stdout",
       "text": [
        "\n",
        "('iteration:', 101, 'Kplus:', 5, 'shape of Z', (100, 5), 'alpha:', 1.5742405914664814, 'sigmaX', 0.49172545628987346)"
       ]
      },
      {
       "output_type": "stream",
       "stream": "stdout",
       "text": [
        "\n",
        "('iteration:', 102, 'Kplus:', 5, 'shape of Z', (100, 5), 'alpha:', 0.8066062573523468, 'sigmaX', 0.49172545628987346)"
       ]
      },
      {
       "output_type": "stream",
       "stream": "stdout",
       "text": [
        "\n",
        "('iteration:', 103, 'Kplus:', 4, 'shape of Z', (100, 4), 'alpha:', 0.48058965922525887, 'sigmaX', 0.49172545628987346)"
       ]
      },
      {
       "output_type": "stream",
       "stream": "stdout",
       "text": [
        "\n",
        "('iteration:', 104, 'Kplus:', 5, 'shape of Z', (100, 5), 'alpha:', 0.7226433465109349, 'sigmaX', 0.49172545628987346)"
       ]
      },
      {
       "output_type": "stream",
       "stream": "stdout",
       "text": [
        "\n",
        "('iteration:', 105, 'Kplus:', 4, 'shape of Z', (100, 4), 'alpha:', 0.2606642274026691, 'sigmaX', 0.49172545628987346)"
       ]
      },
      {
       "output_type": "stream",
       "stream": "stdout",
       "text": [
        "\n",
        "('iteration:', 106, 'Kplus:', 6, 'shape of Z', (100, 6), 'alpha:', 1.169721959401857, 'sigmaX', 0.49172545628987346)"
       ]
      },
      {
       "output_type": "stream",
       "stream": "stdout",
       "text": [
        "\n",
        "('iteration:', 107, 'Kplus:', 4, 'shape of Z', (100, 4), 'alpha:', 0.8389992645628633, 'sigmaX', 0.49172545628987346)"
       ]
      },
      {
       "output_type": "stream",
       "stream": "stdout",
       "text": [
        "\n",
        "('iteration:', 108, 'Kplus:', 4, 'shape of Z', (100, 4), 'alpha:', 0.9831244162568639, 'sigmaX', 0.49172545628987346)"
       ]
      },
      {
       "output_type": "stream",
       "stream": "stdout",
       "text": [
        "\n",
        "('iteration:', 109, 'Kplus:', 6, 'shape of Z', (100, 6), 'alpha:', 1.7804009856625733, 'sigmaX', 0.49172545628987346)"
       ]
      },
      {
       "output_type": "stream",
       "stream": "stdout",
       "text": [
        "\n",
        "('iteration:', 110, 'Kplus:', 5, 'shape of Z', (100, 5), 'alpha:', 1.3792969244561586, 'sigmaX', 0.49172545628987346)"
       ]
      },
      {
       "output_type": "stream",
       "stream": "stdout",
       "text": [
        "\n",
        "('iteration:', 111, 'Kplus:', 6, 'shape of Z', (100, 6), 'alpha:', 1.0700443069418306, 'sigmaX', 0.4848383557872348)"
       ]
      },
      {
       "output_type": "stream",
       "stream": "stdout",
       "text": [
        "\n",
        "('iteration:', 112, 'Kplus:', 5, 'shape of Z', (100, 5), 'alpha:', 1.1831924699788807, 'sigmaX', 0.4848383557872348)"
       ]
      },
      {
       "output_type": "stream",
       "stream": "stdout",
       "text": [
        "\n",
        "('iteration:', 113, 'Kplus:', 6, 'shape of Z', (100, 6), 'alpha:', 1.6900004109810005, 'sigmaX', 0.4848383557872348)"
       ]
      },
      {
       "output_type": "stream",
       "stream": "stdout",
       "text": [
        "\n",
        "('iteration:', 114, 'Kplus:', 7, 'shape of Z', (100, 7), 'alpha:', 1.3504052817959828, 'sigmaX', 0.4848383557872348)"
       ]
      },
      {
       "output_type": "stream",
       "stream": "stdout",
       "text": [
        "\n",
        "('iteration:', 115, 'Kplus:', 9, 'shape of Z', (100, 9), 'alpha:', 2.0611298160108515, 'sigmaX', 0.4848383557872348)"
       ]
      },
      {
       "output_type": "stream",
       "stream": "stdout",
       "text": [
        "\n",
        "('iteration:', 116, 'Kplus:', 9, 'shape of Z', (100, 9), 'alpha:', 1.9106301269527577, 'sigmaX', 0.4848383557872348)"
       ]
      },
      {
       "output_type": "stream",
       "stream": "stdout",
       "text": [
        "\n",
        "('iteration:', 117, 'Kplus:', 9, 'shape of Z', (100, 9), 'alpha:', 1.052622241454822, 'sigmaX', 0.4848383557872348)"
       ]
      },
      {
       "output_type": "stream",
       "stream": "stdout",
       "text": [
        "\n",
        "('iteration:', 118, 'Kplus:', 9, 'shape of Z', (100, 9), 'alpha:', 1.6945100156249515, 'sigmaX', 0.4848383557872348)"
       ]
      },
      {
       "output_type": "stream",
       "stream": "stdout",
       "text": [
        "\n",
        "('iteration:', 119, 'Kplus:', 10, 'shape of Z', (100, 10), 'alpha:', 1.4441571032618854, 'sigmaX', 0.4848383557872348)"
       ]
      },
      {
       "output_type": "stream",
       "stream": "stdout",
       "text": [
        "\n",
        "('iteration:', 120, 'Kplus:', 7, 'shape of Z', (100, 7), 'alpha:', 0.776053261373975, 'sigmaX', 0.4848383557872348)"
       ]
      },
      {
       "output_type": "stream",
       "stream": "stdout",
       "text": [
        "\n",
        "('iteration:', 121, 'Kplus:', 6, 'shape of Z', (100, 6), 'alpha:', 1.0316775241734608, 'sigmaX', 0.4848383557872348)"
       ]
      },
      {
       "output_type": "stream",
       "stream": "stdout",
       "text": [
        "\n",
        "('iteration:', 122, 'Kplus:', 5, 'shape of Z', (100, 5), 'alpha:', 0.7632994202615222, 'sigmaX', 0.4848383557872348)"
       ]
      },
      {
       "output_type": "stream",
       "stream": "stdout",
       "text": [
        "\n",
        "('iteration:', 123, 'Kplus:', 6, 'shape of Z', (100, 6), 'alpha:', 0.6942882755813615, 'sigmaX', 0.48798326030807754)"
       ]
      },
      {
       "output_type": "stream",
       "stream": "stdout",
       "text": [
        "\n",
        "('iteration:', 124, 'Kplus:', 6, 'shape of Z', (100, 6), 'alpha:', 1.485318505167826, 'sigmaX', 0.5069246931754015)"
       ]
      },
      {
       "output_type": "stream",
       "stream": "stdout",
       "text": [
        "\n",
        "('iteration:', 125, 'Kplus:', 6, 'shape of Z', (100, 6), 'alpha:', 1.3669896760619962, 'sigmaX', 0.49801208994701773)"
       ]
      },
      {
       "output_type": "stream",
       "stream": "stdout",
       "text": [
        "\n",
        "('iteration:', 126, 'Kplus:', 5, 'shape of Z', (100, 5), 'alpha:', 0.9754526682162027, 'sigmaX', 0.49801208994701773)"
       ]
      },
      {
       "output_type": "stream",
       "stream": "stdout",
       "text": [
        "\n",
        "('iteration:', 127, 'Kplus:', 5, 'shape of Z', (100, 5), 'alpha:', 1.0975471697298702, 'sigmaX', 0.49801208994701773)"
       ]
      },
      {
       "output_type": "stream",
       "stream": "stdout",
       "text": [
        "\n",
        "('iteration:', 128, 'Kplus:', 7, 'shape of Z', (100, 7), 'alpha:', 1.771376691410232, 'sigmaX', 0.483089873746206)"
       ]
      },
      {
       "output_type": "stream",
       "stream": "stdout",
       "text": [
        "\n",
        "('iteration:', 129, 'Kplus:', 8, 'shape of Z', (100, 8), 'alpha:', 1.350655711942012, 'sigmaX', 0.483089873746206)"
       ]
      },
      {
       "output_type": "stream",
       "stream": "stdout",
       "text": [
        "\n",
        "('iteration:', 130, 'Kplus:', 7, 'shape of Z', (100, 7), 'alpha:', 1.2174947247315628, 'sigmaX', 0.483089873746206)"
       ]
      },
      {
       "output_type": "stream",
       "stream": "stdout",
       "text": [
        "\n",
        "('iteration:', 131, 'Kplus:', 6, 'shape of Z', (100, 6), 'alpha:', 0.8585683312586446, 'sigmaX', 0.48755215327624113)"
       ]
      },
      {
       "output_type": "stream",
       "stream": "stdout",
       "text": [
        "\n",
        "('iteration:', 132, 'Kplus:', 4, 'shape of Z', (100, 4), 'alpha:', 0.9229419124623515, 'sigmaX', 0.48755215327624113)"
       ]
      },
      {
       "output_type": "stream",
       "stream": "stdout",
       "text": [
        "\n",
        "('iteration:', 133, 'Kplus:', 6, 'shape of Z', (100, 6), 'alpha:', 1.0786068527749197, 'sigmaX', 0.48755215327624113)"
       ]
      },
      {
       "output_type": "stream",
       "stream": "stdout",
       "text": [
        "\n",
        "('iteration:', 134, 'Kplus:', 6, 'shape of Z', (100, 6), 'alpha:', 1.321215219655535, 'sigmaX', 0.48755215327624113)"
       ]
      },
      {
       "output_type": "stream",
       "stream": "stdout",
       "text": [
        "\n",
        "('iteration:', 135, 'Kplus:', 7, 'shape of Z', (100, 7), 'alpha:', 1.003233792351282, 'sigmaX', 0.48755215327624113)"
       ]
      },
      {
       "output_type": "stream",
       "stream": "stdout",
       "text": [
        "\n",
        "('iteration:', 136, 'Kplus:', 7, 'shape of Z', (100, 7), 'alpha:', 2.029474477229287, 'sigmaX', 0.48755215327624113)"
       ]
      },
      {
       "output_type": "stream",
       "stream": "stdout",
       "text": [
        "\n",
        "('iteration:', 137, 'Kplus:', 8, 'shape of Z', (100, 8), 'alpha:', 1.727982796574615, 'sigmaX', 0.48755215327624113)"
       ]
      },
      {
       "output_type": "stream",
       "stream": "stdout",
       "text": [
        "\n",
        "('iteration:', 138, 'Kplus:', 10, 'shape of Z', (100, 10), 'alpha:', 2.4247347125160754, 'sigmaX', 0.48755215327624113)"
       ]
      },
      {
       "output_type": "stream",
       "stream": "stdout",
       "text": [
        "\n",
        "('iteration:', 139, 'Kplus:', 10, 'shape of Z', (100, 10), 'alpha:', 2.403713083671798, 'sigmaX', 0.48755215327624113)"
       ]
      },
      {
       "output_type": "stream",
       "stream": "stdout",
       "text": [
        "\n",
        "('iteration:', 140, 'Kplus:', 9, 'shape of Z', (100, 9), 'alpha:', 1.6336346351355737, 'sigmaX', 0.48755215327624113)"
       ]
      },
      {
       "output_type": "stream",
       "stream": "stdout",
       "text": [
        "\n",
        "('iteration:', 141, 'Kplus:', 7, 'shape of Z', (100, 7), 'alpha:', 1.6922050180724217, 'sigmaX', 0.48755215327624113)"
       ]
      },
      {
       "output_type": "stream",
       "stream": "stdout",
       "text": [
        "\n",
        "('iteration:', 142, 'Kplus:', 6, 'shape of Z', (100, 6), 'alpha:', 0.6884419112908405, 'sigmaX', 0.49834207078142584)"
       ]
      },
      {
       "output_type": "stream",
       "stream": "stdout",
       "text": [
        "\n",
        "('iteration:', 143, 'Kplus:', 4, 'shape of Z', (100, 4), 'alpha:', 0.34586448396640834, 'sigmaX', 0.49834207078142584)"
       ]
      },
      {
       "output_type": "stream",
       "stream": "stdout",
       "text": [
        "\n",
        "('iteration:', 144, 'Kplus:', 5, 'shape of Z', (100, 5), 'alpha:', 1.0271863412763773, 'sigmaX', 0.49834207078142584)"
       ]
      },
      {
       "output_type": "stream",
       "stream": "stdout",
       "text": [
        "\n",
        "('iteration:', 145, 'Kplus:', 4, 'shape of Z', (100, 4), 'alpha:', 0.34513050898742775, 'sigmaX', 0.49834207078142584)"
       ]
      },
      {
       "output_type": "stream",
       "stream": "stdout",
       "text": [
        "\n",
        "('iteration:', 146, 'Kplus:', 4, 'shape of Z', (100, 4), 'alpha:', 0.3278230405304475, 'sigmaX', 0.49834207078142584)"
       ]
      },
      {
       "output_type": "stream",
       "stream": "stdout",
       "text": [
        "\n",
        "('iteration:', 147, 'Kplus:', 4, 'shape of Z', (100, 4), 'alpha:', 0.424567647121292, 'sigmaX', 0.49834207078142584)"
       ]
      },
      {
       "output_type": "stream",
       "stream": "stdout",
       "text": [
        "\n",
        "('iteration:', 148, 'Kplus:', 5, 'shape of Z', (100, 5), 'alpha:', 0.5434424205516807, 'sigmaX', 0.49834207078142584)"
       ]
      },
      {
       "output_type": "stream",
       "stream": "stdout",
       "text": [
        "\n",
        "('iteration:', 149, 'Kplus:', 5, 'shape of Z', (100, 5), 'alpha:', 1.968993841690826, 'sigmaX', 0.49834207078142584)"
       ]
      },
      {
       "output_type": "stream",
       "stream": "stdout",
       "text": [
        "\n",
        "('iteration:', 150, 'Kplus:', 6, 'shape of Z', (100, 6), 'alpha:', 0.7259660623082043, 'sigmaX', 0.49834207078142584)"
       ]
      },
      {
       "output_type": "stream",
       "stream": "stdout",
       "text": [
        "\n",
        "('iteration:', 151, 'Kplus:', 5, 'shape of Z', (100, 5), 'alpha:', 1.1608275183179662, 'sigmaX', 0.49834207078142584)"
       ]
      },
      {
       "output_type": "stream",
       "stream": "stdout",
       "text": [
        "\n",
        "('iteration:', 152, 'Kplus:', 5, 'shape of Z', (100, 5), 'alpha:', 0.4467156382415307, 'sigmaX', 0.49834207078142584)"
       ]
      },
      {
       "output_type": "stream",
       "stream": "stdout",
       "text": [
        "\n",
        "('iteration:', 153, 'Kplus:', 5, 'shape of Z', (100, 5), 'alpha:', 1.1034930626285895, 'sigmaX', 0.5036827277827833)"
       ]
      },
      {
       "output_type": "stream",
       "stream": "stdout",
       "text": [
        "\n",
        "('iteration:', 154, 'Kplus:', 5, 'shape of Z', (100, 5), 'alpha:', 1.4075825719432051, 'sigmaX', 0.5036827277827833)"
       ]
      },
      {
       "output_type": "stream",
       "stream": "stdout",
       "text": [
        "\n",
        "('iteration:', 155, 'Kplus:', 6, 'shape of Z', (100, 6), 'alpha:', 1.580717936295799, 'sigmaX', 0.5079269146679191)"
       ]
      },
      {
       "output_type": "stream",
       "stream": "stdout",
       "text": [
        "\n",
        "('iteration:', 156, 'Kplus:', 4, 'shape of Z', (100, 4), 'alpha:', 0.7699278896485119, 'sigmaX', 0.5079269146679191)"
       ]
      },
      {
       "output_type": "stream",
       "stream": "stdout",
       "text": [
        "\n",
        "('iteration:', 157, 'Kplus:', 4, 'shape of Z', (100, 4), 'alpha:', 0.6109952465021985, 'sigmaX', 0.5079269146679191)"
       ]
      },
      {
       "output_type": "stream",
       "stream": "stdout",
       "text": [
        "\n",
        "('iteration:', 158, 'Kplus:', 4, 'shape of Z', (100, 4), 'alpha:', 0.4238260243226535, 'sigmaX', 0.5079269146679191)"
       ]
      },
      {
       "output_type": "stream",
       "stream": "stdout",
       "text": [
        "\n",
        "('iteration:', 159, 'Kplus:', 4, 'shape of Z', (100, 4), 'alpha:', 1.2912493289298153, 'sigmaX', 0.5079269146679191)"
       ]
      },
      {
       "output_type": "stream",
       "stream": "stdout",
       "text": [
        "\n",
        "('iteration:', 160, 'Kplus:', 5, 'shape of Z', (100, 5), 'alpha:', 0.7383220784769183, 'sigmaX', 0.5079269146679191)"
       ]
      },
      {
       "output_type": "stream",
       "stream": "stdout",
       "text": [
        "\n",
        "('iteration:', 161, 'Kplus:', 6, 'shape of Z', (100, 6), 'alpha:', 1.6434383246675273, 'sigmaX', 0.5079269146679191)"
       ]
      },
      {
       "output_type": "stream",
       "stream": "stdout",
       "text": [
        "\n",
        "('iteration:', 162, 'Kplus:', 6, 'shape of Z', (100, 6), 'alpha:', 1.0521259871158797, 'sigmaX', 0.5090621483449052)"
       ]
      },
      {
       "output_type": "stream",
       "stream": "stdout",
       "text": [
        "\n",
        "('iteration:', 163, 'Kplus:', 6, 'shape of Z', (100, 6), 'alpha:', 1.4579952079532914, 'sigmaX', 0.4857984008407185)"
       ]
      },
      {
       "output_type": "stream",
       "stream": "stdout",
       "text": [
        "\n",
        "('iteration:', 164, 'Kplus:', 5, 'shape of Z', (100, 5), 'alpha:', 0.749228639766163, 'sigmaX', 0.5099667029021364)"
       ]
      },
      {
       "output_type": "stream",
       "stream": "stdout",
       "text": [
        "\n",
        "('iteration:', 165, 'Kplus:', 5, 'shape of Z', (100, 5), 'alpha:', 1.1012075285459515, 'sigmaX', 0.5099667029021364)"
       ]
      },
      {
       "output_type": "stream",
       "stream": "stdout",
       "text": [
        "\n",
        "('iteration:', 166, 'Kplus:', 4, 'shape of Z', (100, 4), 'alpha:', 0.699090142578776, 'sigmaX', 0.4961658911380448)"
       ]
      },
      {
       "output_type": "stream",
       "stream": "stdout",
       "text": [
        "\n",
        "('iteration:', 167, 'Kplus:', 4, 'shape of Z', (100, 4), 'alpha:', 0.5905125061965483, 'sigmaX', 0.4961658911380448)"
       ]
      },
      {
       "output_type": "stream",
       "stream": "stdout",
       "text": [
        "\n",
        "('iteration:', 168, 'Kplus:', 4, 'shape of Z', (100, 4), 'alpha:', 0.794636416832191, 'sigmaX', 0.4961658911380448)"
       ]
      },
      {
       "output_type": "stream",
       "stream": "stdout",
       "text": [
        "\n",
        "('iteration:', 169, 'Kplus:', 5, 'shape of Z', (100, 5), 'alpha:', 1.5114457617822985, 'sigmaX', 0.4961658911380448)"
       ]
      },
      {
       "output_type": "stream",
       "stream": "stdout",
       "text": [
        "\n",
        "('iteration:', 170, 'Kplus:', 6, 'shape of Z', (100, 6), 'alpha:', 1.3798505578095244, 'sigmaX', 0.4961658911380448)"
       ]
      },
      {
       "output_type": "stream",
       "stream": "stdout",
       "text": [
        "\n",
        "('iteration:', 171, 'Kplus:', 5, 'shape of Z', (100, 5), 'alpha:', 0.5585035364644648, 'sigmaX', 0.49802412815789987)"
       ]
      },
      {
       "output_type": "stream",
       "stream": "stdout",
       "text": [
        "\n",
        "('iteration:', 172, 'Kplus:', 6, 'shape of Z', (100, 6), 'alpha:', 1.7282249971243786, 'sigmaX', 0.49802412815789987)"
       ]
      },
      {
       "output_type": "stream",
       "stream": "stdout",
       "text": [
        "\n",
        "('iteration:', 173, 'Kplus:', 8, 'shape of Z', (100, 8), 'alpha:', 1.2192338583390858, 'sigmaX', 0.49802412815789987)"
       ]
      },
      {
       "output_type": "stream",
       "stream": "stdout",
       "text": [
        "\n",
        "('iteration:', 174, 'Kplus:', 8, 'shape of Z', (100, 8), 'alpha:', 1.6067711831055853, 'sigmaX', 0.4773505927611965)"
       ]
      },
      {
       "output_type": "stream",
       "stream": "stdout",
       "text": [
        "\n",
        "('iteration:', 175, 'Kplus:', 8, 'shape of Z', (100, 8), 'alpha:', 1.333591007056544, 'sigmaX', 0.4773505927611965)"
       ]
      },
      {
       "output_type": "stream",
       "stream": "stdout",
       "text": [
        "\n",
        "('iteration:', 176, 'Kplus:', 6, 'shape of Z', (100, 6), 'alpha:', 0.5970364346686851, 'sigmaX', 0.4773505927611965)"
       ]
      },
      {
       "output_type": "stream",
       "stream": "stdout",
       "text": [
        "\n",
        "('iteration:', 177, 'Kplus:', 6, 'shape of Z', (100, 6), 'alpha:', 0.8368247050775619, 'sigmaX', 0.5023611527708685)"
       ]
      },
      {
       "output_type": "stream",
       "stream": "stdout",
       "text": [
        "\n",
        "('iteration:', 178, 'Kplus:', 5, 'shape of Z', (100, 5), 'alpha:', 1.1365475083196896, 'sigmaX', 0.5023611527708685)"
       ]
      },
      {
       "output_type": "stream",
       "stream": "stdout",
       "text": [
        "\n",
        "('iteration:', 179, 'Kplus:', 7, 'shape of Z', (100, 7), 'alpha:', 0.8305426987414151, 'sigmaX', 0.5023611527708685)"
       ]
      },
      {
       "output_type": "stream",
       "stream": "stdout",
       "text": [
        "\n",
        "('iteration:', 180, 'Kplus:', 7, 'shape of Z', (100, 7), 'alpha:', 1.4554342391183417, 'sigmaX', 0.5023611527708685)"
       ]
      },
      {
       "output_type": "stream",
       "stream": "stdout",
       "text": [
        "\n",
        "('iteration:', 181, 'Kplus:', 7, 'shape of Z', (100, 7), 'alpha:', 1.382645759560077, 'sigmaX', 0.4865573164268055)"
       ]
      },
      {
       "output_type": "stream",
       "stream": "stdout",
       "text": [
        "\n",
        "('iteration:', 182, 'Kplus:', 6, 'shape of Z', (100, 6), 'alpha:', 0.9509134188785248, 'sigmaX', 0.4865573164268055)"
       ]
      },
      {
       "output_type": "stream",
       "stream": "stdout",
       "text": [
        "\n",
        "('iteration:', 183, 'Kplus:', 6, 'shape of Z', (100, 6), 'alpha:', 0.41426535011324206, 'sigmaX', 0.4865573164268055)"
       ]
      },
      {
       "output_type": "stream",
       "stream": "stdout",
       "text": [
        "\n",
        "('iteration:', 184, 'Kplus:', 5, 'shape of Z', (100, 5), 'alpha:', 0.6853289878004487, 'sigmaX', 0.4931340389146386)"
       ]
      },
      {
       "output_type": "stream",
       "stream": "stdout",
       "text": [
        "\n",
        "('iteration:', 185, 'Kplus:', 5, 'shape of Z', (100, 5), 'alpha:', 0.5597096742208689, 'sigmaX', 0.4931340389146386)"
       ]
      },
      {
       "output_type": "stream",
       "stream": "stdout",
       "text": [
        "\n",
        "('iteration:', 186, 'Kplus:', 5, 'shape of Z', (100, 5), 'alpha:', 0.6866893236200878, 'sigmaX', 0.49090860343952425)"
       ]
      },
      {
       "output_type": "stream",
       "stream": "stdout",
       "text": [
        "\n",
        "('iteration:', 187, 'Kplus:', 5, 'shape of Z', (100, 5), 'alpha:', 0.402397873101761, 'sigmaX', 0.49090860343952425)"
       ]
      },
      {
       "output_type": "stream",
       "stream": "stdout",
       "text": [
        "\n",
        "('iteration:', 188, 'Kplus:', 6, 'shape of Z', (100, 6), 'alpha:', 1.5083620499438035, 'sigmaX', 0.487933460763957)"
       ]
      },
      {
       "output_type": "stream",
       "stream": "stdout",
       "text": [
        "\n",
        "('iteration:', 189, 'Kplus:', 6, 'shape of Z', (100, 6), 'alpha:', 1.2384644055189786, 'sigmaX', 0.487933460763957)"
       ]
      },
      {
       "output_type": "stream",
       "stream": "stdout",
       "text": [
        "\n",
        "('iteration:', 190, 'Kplus:', 6, 'shape of Z', (100, 6), 'alpha:', 1.0048531191177175, 'sigmaX', 0.487933460763957)"
       ]
      },
      {
       "output_type": "stream",
       "stream": "stdout",
       "text": [
        "\n",
        "('iteration:', 191, 'Kplus:', 4, 'shape of Z', (100, 4), 'alpha:', 0.36007163868021014, 'sigmaX', 0.487933460763957)"
       ]
      },
      {
       "output_type": "stream",
       "stream": "stdout",
       "text": [
        "\n",
        "('iteration:', 192, 'Kplus:', 5, 'shape of Z', (100, 5), 'alpha:', 1.2221536281144278, 'sigmaX', 0.487933460763957)"
       ]
      },
      {
       "output_type": "stream",
       "stream": "stdout",
       "text": [
        "\n",
        "('iteration:', 193, 'Kplus:', 5, 'shape of Z', (100, 5), 'alpha:', 0.7590899214408915, 'sigmaX', 0.4844750474034395)"
       ]
      },
      {
       "output_type": "stream",
       "stream": "stdout",
       "text": [
        "\n",
        "('iteration:', 194, 'Kplus:', 6, 'shape of Z', (100, 6), 'alpha:', 0.5741312223459277, 'sigmaX', 0.4844750474034395)"
       ]
      },
      {
       "output_type": "stream",
       "stream": "stdout",
       "text": [
        "\n",
        "('iteration:', 195, 'Kplus:', 5, 'shape of Z', (100, 5), 'alpha:', 1.081813461971286, 'sigmaX', 0.4844750474034395)"
       ]
      },
      {
       "output_type": "stream",
       "stream": "stdout",
       "text": [
        "\n",
        "('iteration:', 196, 'Kplus:', 6, 'shape of Z', (100, 6), 'alpha:', 0.871327223847424, 'sigmaX', 0.4909665052071812)"
       ]
      },
      {
       "output_type": "stream",
       "stream": "stdout",
       "text": [
        "\n",
        "('iteration:', 197, 'Kplus:', 7, 'shape of Z', (100, 7), 'alpha:', 1.7316537378194465, 'sigmaX', 0.4909665052071812)"
       ]
      },
      {
       "output_type": "stream",
       "stream": "stdout",
       "text": [
        "\n",
        "('iteration:', 198, 'Kplus:', 5, 'shape of Z', (100, 5), 'alpha:', 0.9217615991485668, 'sigmaX', 0.48895888135329657)"
       ]
      },
      {
       "output_type": "stream",
       "stream": "stdout",
       "text": [
        "\n",
        "('iteration:', 199, 'Kplus:', 6, 'shape of Z', (100, 6), 'alpha:', 1.1498515811603394, 'sigmaX', 0.48895888135329657)"
       ]
      },
      {
       "output_type": "stream",
       "stream": "stdout",
       "text": [
        "\n",
        "('iteration:', 200, 'Kplus:', 7, 'shape of Z', (100, 7), 'alpha:', 1.8330232940353464, 'sigmaX', 0.49149426580367145)"
       ]
      },
      {
       "output_type": "stream",
       "stream": "stdout",
       "text": [
        "\n",
        "('iteration:', 201, 'Kplus:', 7, 'shape of Z', (100, 7), 'alpha:', 1.8596695539549843, 'sigmaX', 0.4950095298161957)"
       ]
      },
      {
       "output_type": "stream",
       "stream": "stdout",
       "text": [
        "\n",
        "('iteration:', 202, 'Kplus:', 6, 'shape of Z', (100, 6), 'alpha:', 1.41899655424143, 'sigmaX', 0.4950095298161957)"
       ]
      },
      {
       "output_type": "stream",
       "stream": "stdout",
       "text": [
        "\n",
        "('iteration:', 203, 'Kplus:', 4, 'shape of Z', (100, 4), 'alpha:', 0.8070415331273478, 'sigmaX', 0.4950095298161957)"
       ]
      },
      {
       "output_type": "stream",
       "stream": "stdout",
       "text": [
        "\n",
        "('iteration:', 204, 'Kplus:', 4, 'shape of Z', (100, 4), 'alpha:', 0.7014602762587756, 'sigmaX', 0.4950095298161957)"
       ]
      },
      {
       "output_type": "stream",
       "stream": "stdout",
       "text": [
        "\n",
        "('iteration:', 205, 'Kplus:', 5, 'shape of Z', (100, 5), 'alpha:', 1.5645368514848939, 'sigmaX', 0.4950095298161957)"
       ]
      },
      {
       "output_type": "stream",
       "stream": "stdout",
       "text": [
        "\n",
        "('iteration:', 206, 'Kplus:', 4, 'shape of Z', (100, 4), 'alpha:', 0.9032577565181518, 'sigmaX', 0.4950095298161957)"
       ]
      },
      {
       "output_type": "stream",
       "stream": "stdout",
       "text": [
        "\n",
        "('iteration:', 207, 'Kplus:', 4, 'shape of Z', (100, 4), 'alpha:', 1.3038610743621122, 'sigmaX', 0.4950095298161957)"
       ]
      },
      {
       "output_type": "stream",
       "stream": "stdout",
       "text": [
        "\n",
        "('iteration:', 208, 'Kplus:', 4, 'shape of Z', (100, 4), 'alpha:', 1.080721513700349, 'sigmaX', 0.4950095298161957)"
       ]
      },
      {
       "output_type": "stream",
       "stream": "stdout",
       "text": [
        "\n",
        "('iteration:', 209, 'Kplus:', 4, 'shape of Z', (100, 4), 'alpha:', 0.7935847254263335, 'sigmaX', 0.4950095298161957)"
       ]
      },
      {
       "output_type": "stream",
       "stream": "stdout",
       "text": [
        "\n",
        "('iteration:', 210, 'Kplus:', 5, 'shape of Z', (100, 5), 'alpha:', 1.2409360053801226, 'sigmaX', 0.4950095298161957)"
       ]
      },
      {
       "output_type": "stream",
       "stream": "stdout",
       "text": [
        "\n",
        "('iteration:', 211, 'Kplus:', 6, 'shape of Z', (100, 6), 'alpha:', 1.7117804787429889, 'sigmaX', 0.4950095298161957)"
       ]
      },
      {
       "output_type": "stream",
       "stream": "stdout",
       "text": [
        "\n",
        "('iteration:', 212, 'Kplus:', 5, 'shape of Z', (100, 5), 'alpha:', 0.8697687749551174, 'sigmaX', 0.4950095298161957)"
       ]
      },
      {
       "output_type": "stream",
       "stream": "stdout",
       "text": [
        "\n",
        "('iteration:', 213, 'Kplus:', 6, 'shape of Z', (100, 6), 'alpha:', 1.5151757998300381, 'sigmaX', 0.4950095298161957)"
       ]
      },
      {
       "output_type": "stream",
       "stream": "stdout",
       "text": [
        "\n",
        "('iteration:', 214, 'Kplus:', 7, 'shape of Z', (100, 7), 'alpha:', 1.0766703736170544, 'sigmaX', 0.4823433731481576)"
       ]
      },
      {
       "output_type": "stream",
       "stream": "stdout",
       "text": [
        "\n",
        "('iteration:', 215, 'Kplus:', 5, 'shape of Z', (100, 5), 'alpha:', 1.2062545644818388, 'sigmaX', 0.4992544541070815)"
       ]
      },
      {
       "output_type": "stream",
       "stream": "stdout",
       "text": [
        "\n",
        "('iteration:', 216, 'Kplus:', 7, 'shape of Z', (100, 7), 'alpha:', 1.6062414801982583, 'sigmaX', 0.4907895708148171)"
       ]
      },
      {
       "output_type": "stream",
       "stream": "stdout",
       "text": [
        "\n",
        "('iteration:', 217, 'Kplus:', 7, 'shape of Z', (100, 7), 'alpha:', 0.5015826485843605, 'sigmaX', 0.4907895708148171)"
       ]
      },
      {
       "output_type": "stream",
       "stream": "stdout",
       "text": [
        "\n",
        "('iteration:', 218, 'Kplus:', 5, 'shape of Z', (100, 5), 'alpha:', 0.6557132762854356, 'sigmaX', 0.4907895708148171)"
       ]
      },
      {
       "output_type": "stream",
       "stream": "stdout",
       "text": [
        "\n",
        "('iteration:', 219, 'Kplus:', 5, 'shape of Z', (100, 5), 'alpha:', 0.49751905184520273, 'sigmaX', 0.48166364363125663)"
       ]
      },
      {
       "output_type": "stream",
       "stream": "stdout",
       "text": [
        "\n",
        "('iteration:', 220, 'Kplus:', 5, 'shape of Z', (100, 5), 'alpha:', 0.6393147493055237, 'sigmaX', 0.48166364363125663)"
       ]
      },
      {
       "output_type": "stream",
       "stream": "stdout",
       "text": [
        "\n",
        "('iteration:', 221, 'Kplus:', 5, 'shape of Z', (100, 5), 'alpha:', 0.7157227072951745, 'sigmaX', 0.48166364363125663)"
       ]
      },
      {
       "output_type": "stream",
       "stream": "stdout",
       "text": [
        "\n",
        "('iteration:', 222, 'Kplus:', 7, 'shape of Z', (100, 7), 'alpha:', 1.6695102997964235, 'sigmaX', 0.49708647910525205)"
       ]
      },
      {
       "output_type": "stream",
       "stream": "stdout",
       "text": [
        "\n",
        "('iteration:', 223, 'Kplus:', 5, 'shape of Z', (100, 5), 'alpha:', 1.1408969538120641, 'sigmaX', 0.49708647910525205)"
       ]
      },
      {
       "output_type": "stream",
       "stream": "stdout",
       "text": [
        "\n",
        "('iteration:', 224, 'Kplus:', 5, 'shape of Z', (100, 5), 'alpha:', 0.6721360920296849, 'sigmaX', 0.49708647910525205)"
       ]
      },
      {
       "output_type": "stream",
       "stream": "stdout",
       "text": [
        "\n",
        "('iteration:', 225, 'Kplus:', 4, 'shape of Z', (100, 4), 'alpha:', 0.6626674898056405, 'sigmaX', 0.49708647910525205)"
       ]
      },
      {
       "output_type": "stream",
       "stream": "stdout",
       "text": [
        "\n",
        "('iteration:', 226, 'Kplus:', 5, 'shape of Z', (100, 5), 'alpha:', 0.48153165573067475, 'sigmaX', 0.5028717967901887)"
       ]
      },
      {
       "output_type": "stream",
       "stream": "stdout",
       "text": [
        "\n",
        "('iteration:', 227, 'Kplus:', 6, 'shape of Z', (100, 6), 'alpha:', 1.0042332595712404, 'sigmaX', 0.49529117693618435)"
       ]
      },
      {
       "output_type": "stream",
       "stream": "stdout",
       "text": [
        "\n",
        "('iteration:', 228, 'Kplus:', 6, 'shape of Z', (100, 6), 'alpha:', 1.1889126995078818, 'sigmaX', 0.49529117693618435)"
       ]
      },
      {
       "output_type": "stream",
       "stream": "stdout",
       "text": [
        "\n",
        "('iteration:', 229, 'Kplus:', 6, 'shape of Z', (100, 6), 'alpha:', 1.6709252801604926, 'sigmaX', 0.49529117693618435)"
       ]
      },
      {
       "output_type": "stream",
       "stream": "stdout",
       "text": [
        "\n",
        "('iteration:', 230, 'Kplus:', 7, 'shape of Z', (100, 7), 'alpha:', 1.2051256596527802, 'sigmaX', 0.49529117693618435)"
       ]
      },
      {
       "output_type": "stream",
       "stream": "stdout",
       "text": [
        "\n",
        "('iteration:', 231, 'Kplus:', 6, 'shape of Z', (100, 6), 'alpha:', 1.3446406681658833, 'sigmaX', 0.49529117693618435)"
       ]
      },
      {
       "output_type": "stream",
       "stream": "stdout",
       "text": [
        "\n",
        "('iteration:', 232, 'Kplus:', 6, 'shape of Z', (100, 6), 'alpha:', 1.4419409587339633, 'sigmaX', 0.49529117693618435)"
       ]
      },
      {
       "output_type": "stream",
       "stream": "stdout",
       "text": [
        "\n",
        "('iteration:', 233, 'Kplus:', 6, 'shape of Z', (100, 6), 'alpha:', 1.0741713786070752, 'sigmaX', 0.49529117693618435)"
       ]
      },
      {
       "output_type": "stream",
       "stream": "stdout",
       "text": [
        "\n",
        "('iteration:', 234, 'Kplus:', 5, 'shape of Z', (100, 5), 'alpha:', 1.266442909125983, 'sigmaX', 0.49529117693618435)"
       ]
      },
      {
       "output_type": "stream",
       "stream": "stdout",
       "text": [
        "\n",
        "('iteration:', 235, 'Kplus:', 6, 'shape of Z', (100, 6), 'alpha:', 0.9962337997046163, 'sigmaX', 0.49529117693618435)"
       ]
      },
      {
       "output_type": "stream",
       "stream": "stdout",
       "text": [
        "\n",
        "('iteration:', 236, 'Kplus:', 6, 'shape of Z', (100, 6), 'alpha:', 1.087768792681276, 'sigmaX', 0.49529117693618435)"
       ]
      },
      {
       "output_type": "stream",
       "stream": "stdout",
       "text": [
        "\n",
        "('iteration:', 237, 'Kplus:', 7, 'shape of Z', (100, 7), 'alpha:', 0.9897952553028758, 'sigmaX', 0.49529117693618435)"
       ]
      },
      {
       "output_type": "stream",
       "stream": "stdout",
       "text": [
        "\n",
        "('iteration:', 238, 'Kplus:', 7, 'shape of Z', (100, 7), 'alpha:', 2.8168429939935296, 'sigmaX', 0.49529117693618435)"
       ]
      },
      {
       "output_type": "stream",
       "stream": "stdout",
       "text": [
        "\n",
        "('iteration:', 239, 'Kplus:', 7, 'shape of Z', (100, 7), 'alpha:', 1.4323655810856115, 'sigmaX', 0.49529117693618435)"
       ]
      },
      {
       "output_type": "stream",
       "stream": "stdout",
       "text": [
        "\n",
        "('iteration:', 240, 'Kplus:', 6, 'shape of Z', (100, 6), 'alpha:', 2.040506370724506, 'sigmaX', 0.49529117693618435)"
       ]
      },
      {
       "output_type": "stream",
       "stream": "stdout",
       "text": [
        "\n",
        "('iteration:', 241, 'Kplus:', 5, 'shape of Z', (100, 5), 'alpha:', 0.3499162643412578, 'sigmaX', 0.49529117693618435)"
       ]
      },
      {
       "output_type": "stream",
       "stream": "stdout",
       "text": [
        "\n",
        "('iteration:', 242, 'Kplus:', 5, 'shape of Z', (100, 5), 'alpha:', 0.9335543990409136, 'sigmaX', 0.4933530220233845)"
       ]
      },
      {
       "output_type": "stream",
       "stream": "stdout",
       "text": [
        "\n",
        "('iteration:', 243, 'Kplus:', 5, 'shape of Z', (100, 5), 'alpha:', 0.8597597646684131, 'sigmaX', 0.4933530220233845)"
       ]
      },
      {
       "output_type": "stream",
       "stream": "stdout",
       "text": [
        "\n",
        "('iteration:', 244, 'Kplus:', 4, 'shape of Z', (100, 4), 'alpha:', 0.2550193902441538, 'sigmaX', 0.49959204304031574)"
       ]
      },
      {
       "output_type": "stream",
       "stream": "stdout",
       "text": [
        "\n",
        "('iteration:', 245, 'Kplus:', 4, 'shape of Z', (100, 4), 'alpha:', 0.7440677751751046, 'sigmaX', 0.49959204304031574)"
       ]
      },
      {
       "output_type": "stream",
       "stream": "stdout",
       "text": [
        "\n",
        "('iteration:', 246, 'Kplus:', 4, 'shape of Z', (100, 4), 'alpha:', 0.7347325839251747, 'sigmaX', 0.49959204304031574)"
       ]
      },
      {
       "output_type": "stream",
       "stream": "stdout",
       "text": [
        "\n",
        "('iteration:', 247, 'Kplus:', 5, 'shape of Z', (100, 5), 'alpha:', 0.7230772153401244, 'sigmaX', 0.49959204304031574)"
       ]
      },
      {
       "output_type": "stream",
       "stream": "stdout",
       "text": [
        "\n",
        "('iteration:', 248, 'Kplus:', 5, 'shape of Z', (100, 5), 'alpha:', 0.7176890405970686, 'sigmaX', 0.49959204304031574)"
       ]
      },
      {
       "output_type": "stream",
       "stream": "stdout",
       "text": [
        "\n",
        "('iteration:', 249, 'Kplus:', 6, 'shape of Z', (100, 6), 'alpha:', 0.7853691404016407, 'sigmaX', 0.49959204304031574)"
       ]
      },
      {
       "output_type": "stream",
       "stream": "stdout",
       "text": [
        "\n",
        "('iteration:', 250, 'Kplus:', 5, 'shape of Z', (100, 5), 'alpha:', 1.1173820364195692, 'sigmaX', 0.49060126478211147)"
       ]
      },
      {
       "output_type": "stream",
       "stream": "stdout",
       "text": [
        "\n",
        "('iteration:', 251, 'Kplus:', 6, 'shape of Z', (100, 6), 'alpha:', 0.9680345202584393, 'sigmaX', 0.49060126478211147)"
       ]
      },
      {
       "output_type": "stream",
       "stream": "stdout",
       "text": [
        "\n",
        "('iteration:', 252, 'Kplus:', 4, 'shape of Z', (100, 4), 'alpha:', 0.6402163816026339, 'sigmaX', 0.49060126478211147)"
       ]
      },
      {
       "output_type": "stream",
       "stream": "stdout",
       "text": [
        "\n",
        "('iteration:', 253, 'Kplus:', 5, 'shape of Z', (100, 5), 'alpha:', 0.697443861660648, 'sigmaX', 0.49060126478211147)"
       ]
      },
      {
       "output_type": "stream",
       "stream": "stdout",
       "text": [
        "\n",
        "('iteration:', 254, 'Kplus:', 5, 'shape of Z', (100, 5), 'alpha:', 0.7028141897118496, 'sigmaX', 0.49060126478211147)"
       ]
      },
      {
       "output_type": "stream",
       "stream": "stdout",
       "text": [
        "\n",
        "('iteration:', 255, 'Kplus:', 6, 'shape of Z', (100, 6), 'alpha:', 1.0787565007537092, 'sigmaX', 0.49060126478211147)"
       ]
      },
      {
       "output_type": "stream",
       "stream": "stdout",
       "text": [
        "\n",
        "('iteration:', 256, 'Kplus:', 6, 'shape of Z', (100, 6), 'alpha:', 0.6874544903759673, 'sigmaX', 0.49060126478211147)"
       ]
      },
      {
       "output_type": "stream",
       "stream": "stdout",
       "text": [
        "\n",
        "('iteration:', 257, 'Kplus:', 5, 'shape of Z', (100, 5), 'alpha:', 1.224364278020093, 'sigmaX', 0.5030078188053871)"
       ]
      },
      {
       "output_type": "stream",
       "stream": "stdout",
       "text": [
        "\n",
        "('iteration:', 258, 'Kplus:', 5, 'shape of Z', (100, 5), 'alpha:', 1.4272958750644456, 'sigmaX', 0.5030078188053871)"
       ]
      },
      {
       "output_type": "stream",
       "stream": "stdout",
       "text": [
        "\n",
        "('iteration:', 259, 'Kplus:', 6, 'shape of Z', (100, 6), 'alpha:', 0.38918465502091437, 'sigmaX', 0.48991296818480745)"
       ]
      },
      {
       "output_type": "stream",
       "stream": "stdout",
       "text": [
        "\n",
        "('iteration:', 260, 'Kplus:', 6, 'shape of Z', (100, 6), 'alpha:', 1.5170358068230947, 'sigmaX', 0.48991296818480745)"
       ]
      },
      {
       "output_type": "stream",
       "stream": "stdout",
       "text": [
        "\n",
        "('iteration:', 261, 'Kplus:', 7, 'shape of Z', (100, 7), 'alpha:', 1.7640822300503671, 'sigmaX', 0.48991296818480745)"
       ]
      },
      {
       "output_type": "stream",
       "stream": "stdout",
       "text": [
        "\n",
        "('iteration:', 262, 'Kplus:', 7, 'shape of Z', (100, 7), 'alpha:', 2.02456754467451, 'sigmaX', 0.48991296818480745)"
       ]
      },
      {
       "output_type": "stream",
       "stream": "stdout",
       "text": [
        "\n",
        "('iteration:', 263, 'Kplus:', 5, 'shape of Z', (100, 5), 'alpha:', 1.8209510106066666, 'sigmaX', 0.5104232108016965)"
       ]
      },
      {
       "output_type": "stream",
       "stream": "stdout",
       "text": [
        "\n",
        "('iteration:', 264, 'Kplus:', 6, 'shape of Z', (100, 6), 'alpha:', 1.0722281458647476, 'sigmaX', 0.5050687239721933)"
       ]
      },
      {
       "output_type": "stream",
       "stream": "stdout",
       "text": [
        "\n",
        "('iteration:', 265, 'Kplus:', 6, 'shape of Z', (100, 6), 'alpha:', 1.0074172376005854, 'sigmaX', 0.5050687239721933)"
       ]
      },
      {
       "output_type": "stream",
       "stream": "stdout",
       "text": [
        "\n",
        "('iteration:', 266, 'Kplus:', 5, 'shape of Z', (100, 5), 'alpha:', 0.7971986208900963, 'sigmaX', 0.5050687239721933)"
       ]
      },
      {
       "output_type": "stream",
       "stream": "stdout",
       "text": [
        "\n",
        "('iteration:', 267, 'Kplus:', 4, 'shape of Z', (100, 4), 'alpha:', 0.666292825885733, 'sigmaX', 0.5050687239721933)"
       ]
      },
      {
       "output_type": "stream",
       "stream": "stdout",
       "text": [
        "\n",
        "('iteration:', 268, 'Kplus:', 4, 'shape of Z', (100, 4), 'alpha:', 0.8929233182456502, 'sigmaX', 0.5050687239721933)"
       ]
      },
      {
       "output_type": "stream",
       "stream": "stdout",
       "text": [
        "\n",
        "('iteration:', 269, 'Kplus:', 5, 'shape of Z', (100, 5), 'alpha:', 0.9592631813283843, 'sigmaX', 0.5050687239721933)"
       ]
      },
      {
       "output_type": "stream",
       "stream": "stdout",
       "text": [
        "\n",
        "('iteration:', 270, 'Kplus:', 6, 'shape of Z', (100, 6), 'alpha:', 1.1842767679376742, 'sigmaX', 0.5050687239721933)"
       ]
      },
      {
       "output_type": "stream",
       "stream": "stdout",
       "text": [
        "\n",
        "('iteration:', 271, 'Kplus:', 4, 'shape of Z', (100, 4), 'alpha:', 0.8122887484479234, 'sigmaX', 0.5050687239721933)"
       ]
      },
      {
       "output_type": "stream",
       "stream": "stdout",
       "text": [
        "\n",
        "('iteration:', 272, 'Kplus:', 5, 'shape of Z', (100, 5), 'alpha:', 1.2517667787552524, 'sigmaX', 0.5050687239721933)"
       ]
      },
      {
       "output_type": "stream",
       "stream": "stdout",
       "text": [
        "\n",
        "('iteration:', 273, 'Kplus:', 5, 'shape of Z', (100, 5), 'alpha:', 0.8983638749725235, 'sigmaX', 0.5050687239721933)"
       ]
      },
      {
       "output_type": "stream",
       "stream": "stdout",
       "text": [
        "\n",
        "('iteration:', 274, 'Kplus:', 5, 'shape of Z', (100, 5), 'alpha:', 1.422307772223631, 'sigmaX', 0.5050687239721933)"
       ]
      },
      {
       "output_type": "stream",
       "stream": "stdout",
       "text": [
        "\n",
        "('iteration:', 275, 'Kplus:', 5, 'shape of Z', (100, 5), 'alpha:', 0.9472469341394707, 'sigmaX', 0.5023129550951809)"
       ]
      },
      {
       "output_type": "stream",
       "stream": "stdout",
       "text": [
        "\n",
        "('iteration:', 276, 'Kplus:', 5, 'shape of Z', (100, 5), 'alpha:', 1.2933480896824212, 'sigmaX', 0.5023129550951809)"
       ]
      },
      {
       "output_type": "stream",
       "stream": "stdout",
       "text": [
        "\n",
        "('iteration:', 277, 'Kplus:', 6, 'shape of Z', (100, 6), 'alpha:', 0.74411597521532, 'sigmaX', 0.5023129550951809)"
       ]
      },
      {
       "output_type": "stream",
       "stream": "stdout",
       "text": [
        "\n",
        "('iteration:', 278, 'Kplus:', 4, 'shape of Z', (100, 4), 'alpha:', 0.2643748293399369, 'sigmaX', 0.5023129550951809)"
       ]
      },
      {
       "output_type": "stream",
       "stream": "stdout",
       "text": [
        "\n",
        "('iteration:', 279, 'Kplus:', 4, 'shape of Z', (100, 4), 'alpha:', 1.315918123787891, 'sigmaX', 0.4967043731779598)"
       ]
      },
      {
       "output_type": "stream",
       "stream": "stdout",
       "text": [
        "\n",
        "('iteration:', 280, 'Kplus:', 4, 'shape of Z', (100, 4), 'alpha:', 0.8593065223408842, 'sigmaX', 0.4967043731779598)"
       ]
      },
      {
       "output_type": "stream",
       "stream": "stdout",
       "text": [
        "\n",
        "('iteration:', 281, 'Kplus:', 5, 'shape of Z', (100, 5), 'alpha:', 0.6099654461112145, 'sigmaX', 0.4967043731779598)"
       ]
      },
      {
       "output_type": "stream",
       "stream": "stdout",
       "text": [
        "\n",
        "('iteration:', 282, 'Kplus:', 5, 'shape of Z', (100, 5), 'alpha:', 0.7675198133760068, 'sigmaX', 0.4967043731779598)"
       ]
      },
      {
       "output_type": "stream",
       "stream": "stdout",
       "text": [
        "\n",
        "('iteration:', 283, 'Kplus:', 5, 'shape of Z', (100, 5), 'alpha:', 0.9453960241354599, 'sigmaX', 0.4967043731779598)"
       ]
      },
      {
       "output_type": "stream",
       "stream": "stdout",
       "text": [
        "\n",
        "('iteration:', 284, 'Kplus:', 6, 'shape of Z', (100, 6), 'alpha:', 1.0604824985193184, 'sigmaX', 0.4967043731779598)"
       ]
      },
      {
       "output_type": "stream",
       "stream": "stdout",
       "text": [
        "\n",
        "('iteration:', 285, 'Kplus:', 6, 'shape of Z', (100, 6), 'alpha:', 0.8895508929269975, 'sigmaX', 0.4906279659335268)"
       ]
      },
      {
       "output_type": "stream",
       "stream": "stdout",
       "text": [
        "\n",
        "('iteration:', 286, 'Kplus:', 6, 'shape of Z', (100, 6), 'alpha:', 0.42433161526984475, 'sigmaX', 0.4906279659335268)"
       ]
      },
      {
       "output_type": "stream",
       "stream": "stdout",
       "text": [
        "\n",
        "('iteration:', 287, 'Kplus:', 4, 'shape of Z', (100, 4), 'alpha:', 0.957303931440826, 'sigmaX', 0.4906279659335268)"
       ]
      },
      {
       "output_type": "stream",
       "stream": "stdout",
       "text": [
        "\n",
        "('iteration:', 288, 'Kplus:', 5, 'shape of Z', (100, 5), 'alpha:', 1.047813255976728, 'sigmaX', 0.4906279659335268)"
       ]
      },
      {
       "output_type": "stream",
       "stream": "stdout",
       "text": [
        "\n",
        "('iteration:', 289, 'Kplus:', 6, 'shape of Z', (100, 6), 'alpha:', 0.6089616925422802, 'sigmaX', 0.4906279659335268)"
       ]
      },
      {
       "output_type": "stream",
       "stream": "stdout",
       "text": [
        "\n",
        "('iteration:', 290, 'Kplus:', 5, 'shape of Z', (100, 5), 'alpha:', 1.2766022448961247, 'sigmaX', 0.4906279659335268)"
       ]
      },
      {
       "output_type": "stream",
       "stream": "stdout",
       "text": [
        "\n",
        "('iteration:', 291, 'Kplus:', 6, 'shape of Z', (100, 6), 'alpha:', 0.9363234442686891, 'sigmaX', 0.4906279659335268)"
       ]
      },
      {
       "output_type": "stream",
       "stream": "stdout",
       "text": [
        "\n",
        "('iteration:', 292, 'Kplus:', 6, 'shape of Z', (100, 6), 'alpha:', 1.0440521100111964, 'sigmaX', 0.5038284227164654)"
       ]
      },
      {
       "output_type": "stream",
       "stream": "stdout",
       "text": [
        "\n",
        "('iteration:', 293, 'Kplus:', 5, 'shape of Z', (100, 5), 'alpha:', 0.8401864958341342, 'sigmaX', 0.5038284227164654)"
       ]
      },
      {
       "output_type": "stream",
       "stream": "stdout",
       "text": [
        "\n",
        "('iteration:', 294, 'Kplus:', 5, 'shape of Z', (100, 5), 'alpha:', 2.0918413067191826, 'sigmaX', 0.5038284227164654)"
       ]
      },
      {
       "output_type": "stream",
       "stream": "stdout",
       "text": [
        "\n",
        "('iteration:', 295, 'Kplus:', 6, 'shape of Z', (100, 6), 'alpha:', 1.1390569957101053, 'sigmaX', 0.5038284227164654)"
       ]
      },
      {
       "output_type": "stream",
       "stream": "stdout",
       "text": [
        "\n",
        "('iteration:', 296, 'Kplus:', 6, 'shape of Z', (100, 6), 'alpha:', 0.6004708715110023, 'sigmaX', 0.5038284227164654)"
       ]
      },
      {
       "output_type": "stream",
       "stream": "stdout",
       "text": [
        "\n",
        "('iteration:', 297, 'Kplus:', 5, 'shape of Z', (100, 5), 'alpha:', 0.6670768520094975, 'sigmaX', 0.5038284227164654)"
       ]
      },
      {
       "output_type": "stream",
       "stream": "stdout",
       "text": [
        "\n",
        "('iteration:', 298, 'Kplus:', 4, 'shape of Z', (100, 4), 'alpha:', 0.8602236764279411, 'sigmaX', 0.4953986285676702)"
       ]
      },
      {
       "output_type": "stream",
       "stream": "stdout",
       "text": [
        "\n",
        "('iteration:', 299, 'Kplus:', 4, 'shape of Z', (100, 4), 'alpha:', 1.1139862402754304, 'sigmaX', 0.4953986285676702)"
       ]
      },
      {
       "output_type": "stream",
       "stream": "stdout",
       "text": [
        "\n",
        "('iteration:', 300, 'Kplus:', 5, 'shape of Z', (100, 5), 'alpha:', 1.0312767582919695, 'sigmaX', 0.4953986285676702)"
       ]
      },
      {
       "output_type": "stream",
       "stream": "stdout",
       "text": [
        "\n",
        "('iteration:', 301, 'Kplus:', 5, 'shape of Z', (100, 5), 'alpha:', 1.0591096828165236, 'sigmaX', 0.4953986285676702)"
       ]
      },
      {
       "output_type": "stream",
       "stream": "stdout",
       "text": [
        "\n",
        "('iteration:', 302, 'Kplus:', 4, 'shape of Z', (100, 4), 'alpha:', 0.3471935021241423, 'sigmaX', 0.4953986285676702)"
       ]
      },
      {
       "output_type": "stream",
       "stream": "stdout",
       "text": [
        "\n",
        "('iteration:', 303, 'Kplus:', 4, 'shape of Z', (100, 4), 'alpha:', 1.1621847295205228, 'sigmaX', 0.4953986285676702)"
       ]
      },
      {
       "output_type": "stream",
       "stream": "stdout",
       "text": [
        "\n",
        "('iteration:', 304, 'Kplus:', 5, 'shape of Z', (100, 5), 'alpha:', 0.7276478437158211, 'sigmaX', 0.4935810237611375)"
       ]
      },
      {
       "output_type": "stream",
       "stream": "stdout",
       "text": [
        "\n",
        "('iteration:', 305, 'Kplus:', 4, 'shape of Z', (100, 4), 'alpha:', 1.0025843223060857, 'sigmaX', 0.4935810237611375)"
       ]
      },
      {
       "output_type": "stream",
       "stream": "stdout",
       "text": [
        "\n",
        "('iteration:', 306, 'Kplus:', 5, 'shape of Z', (100, 5), 'alpha:', 1.028824829089694, 'sigmaX', 0.4935810237611375)"
       ]
      },
      {
       "output_type": "stream",
       "stream": "stdout",
       "text": [
        "\n",
        "('iteration:', 307, 'Kplus:', 6, 'shape of Z', (100, 6), 'alpha:', 0.9532989711905988, 'sigmaX', 0.4935810237611375)"
       ]
      },
      {
       "output_type": "stream",
       "stream": "stdout",
       "text": [
        "\n",
        "('iteration:', 308, 'Kplus:', 5, 'shape of Z', (100, 5), 'alpha:', 0.4761259246277192, 'sigmaX', 0.4935810237611375)"
       ]
      },
      {
       "output_type": "stream",
       "stream": "stdout",
       "text": [
        "\n",
        "('iteration:', 309, 'Kplus:', 5, 'shape of Z', (100, 5), 'alpha:', 0.5646841768524504, 'sigmaX', 0.4935810237611375)"
       ]
      },
      {
       "output_type": "stream",
       "stream": "stdout",
       "text": [
        "\n",
        "('iteration:', 310, 'Kplus:', 6, 'shape of Z', (100, 6), 'alpha:', 1.6955505972516893, 'sigmaX', 0.4935810237611375)"
       ]
      },
      {
       "output_type": "stream",
       "stream": "stdout",
       "text": [
        "\n",
        "('iteration:', 311, 'Kplus:', 5, 'shape of Z', (100, 5), 'alpha:', 0.5878422141422786, 'sigmaX', 0.4933503597045369)"
       ]
      },
      {
       "output_type": "stream",
       "stream": "stdout",
       "text": [
        "\n",
        "('iteration:', 312, 'Kplus:', 5, 'shape of Z', (100, 5), 'alpha:', 0.8254824872496525, 'sigmaX', 0.5028016468204577)"
       ]
      },
      {
       "output_type": "stream",
       "stream": "stdout",
       "text": [
        "\n",
        "('iteration:', 313, 'Kplus:', 5, 'shape of Z', (100, 5), 'alpha:', 0.6658793242479849, 'sigmaX', 0.5028016468204577)"
       ]
      },
      {
       "output_type": "stream",
       "stream": "stdout",
       "text": [
        "\n",
        "('iteration:', 314, 'Kplus:', 5, 'shape of Z', (100, 5), 'alpha:', 1.3992280329133422, 'sigmaX', 0.49853612179642337)"
       ]
      },
      {
       "output_type": "stream",
       "stream": "stdout",
       "text": [
        "\n",
        "('iteration:', 315, 'Kplus:', 7, 'shape of Z', (100, 7), 'alpha:', 1.2690776898977936, 'sigmaX', 0.49853612179642337)"
       ]
      },
      {
       "output_type": "stream",
       "stream": "stdout",
       "text": [
        "\n",
        "('iteration:', 316, 'Kplus:', 5, 'shape of Z', (100, 5), 'alpha:', 0.6201366840154631, 'sigmaX', 0.49853612179642337)"
       ]
      },
      {
       "output_type": "stream",
       "stream": "stdout",
       "text": [
        "\n",
        "('iteration:', 317, 'Kplus:', 7, 'shape of Z', (100, 7), 'alpha:', 1.162569531104144, 'sigmaX', 0.49853612179642337)"
       ]
      },
      {
       "output_type": "stream",
       "stream": "stdout",
       "text": [
        "\n",
        "('iteration:', 318, 'Kplus:', 6, 'shape of Z', (100, 6), 'alpha:', 0.29335707944781186, 'sigmaX', 0.49853612179642337)"
       ]
      },
      {
       "output_type": "stream",
       "stream": "stdout",
       "text": [
        "\n",
        "('iteration:', 319, 'Kplus:', 5, 'shape of Z', (100, 5), 'alpha:', 0.7005095803305462, 'sigmaX', 0.49853612179642337)"
       ]
      },
      {
       "output_type": "stream",
       "stream": "stdout",
       "text": [
        "\n",
        "('iteration:', 320, 'Kplus:', 5, 'shape of Z', (100, 5), 'alpha:', 1.6527941682612142, 'sigmaX', 0.49853612179642337)"
       ]
      },
      {
       "output_type": "stream",
       "stream": "stdout",
       "text": [
        "\n",
        "('iteration:', 321, 'Kplus:', 8, 'shape of Z', (100, 8), 'alpha:', 0.7285044876717053, 'sigmaX', 0.49853612179642337)"
       ]
      },
      {
       "output_type": "stream",
       "stream": "stdout",
       "text": [
        "\n",
        "('iteration:', 322, 'Kplus:', 5, 'shape of Z', (100, 5), 'alpha:', 1.4494154931248744, 'sigmaX', 0.49853612179642337)"
       ]
      },
      {
       "output_type": "stream",
       "stream": "stdout",
       "text": [
        "\n",
        "('iteration:', 323, 'Kplus:', 7, 'shape of Z', (100, 7), 'alpha:', 1.7002719881253479, 'sigmaX', 0.49853612179642337)"
       ]
      },
      {
       "output_type": "stream",
       "stream": "stdout",
       "text": [
        "\n",
        "('iteration:', 324, 'Kplus:', 7, 'shape of Z', (100, 7), 'alpha:', 1.4079826801405355, 'sigmaX', 0.49853612179642337)"
       ]
      },
      {
       "output_type": "stream",
       "stream": "stdout",
       "text": [
        "\n",
        "('iteration:', 325, 'Kplus:', 5, 'shape of Z', (100, 5), 'alpha:', 0.6722292108045342, 'sigmaX', 0.487760413612232)"
       ]
      },
      {
       "output_type": "stream",
       "stream": "stdout",
       "text": [
        "\n",
        "('iteration:', 326, 'Kplus:', 6, 'shape of Z', (100, 6), 'alpha:', 0.7395813244508377, 'sigmaX', 0.487760413612232)"
       ]
      },
      {
       "output_type": "stream",
       "stream": "stdout",
       "text": [
        "\n",
        "('iteration:', 327, 'Kplus:', 5, 'shape of Z', (100, 5), 'alpha:', 0.7893936897414819, 'sigmaX', 0.4961246182885568)"
       ]
      },
      {
       "output_type": "stream",
       "stream": "stdout",
       "text": [
        "\n",
        "('iteration:', 328, 'Kplus:', 5, 'shape of Z', (100, 5), 'alpha:', 2.1671699288779434, 'sigmaX', 0.4961246182885568)"
       ]
      },
      {
       "output_type": "stream",
       "stream": "stdout",
       "text": [
        "\n",
        "('iteration:', 329, 'Kplus:', 6, 'shape of Z', (100, 6), 'alpha:', 0.7638423217920495, 'sigmaX', 0.4961246182885568)"
       ]
      },
      {
       "output_type": "stream",
       "stream": "stdout",
       "text": [
        "\n",
        "('iteration:', 330, 'Kplus:', 6, 'shape of Z', (100, 6), 'alpha:', 1.0273958362956872, 'sigmaX', 0.4961246182885568)"
       ]
      },
      {
       "output_type": "stream",
       "stream": "stdout",
       "text": [
        "\n",
        "('iteration:', 331, 'Kplus:', 4, 'shape of Z', (100, 4), 'alpha:', 1.0828246360929783, 'sigmaX', 0.4961246182885568)"
       ]
      },
      {
       "output_type": "stream",
       "stream": "stdout",
       "text": [
        "\n",
        "('iteration:', 332, 'Kplus:', 4, 'shape of Z', (100, 4), 'alpha:', 0.9711450926920691, 'sigmaX', 0.5022113118991232)"
       ]
      },
      {
       "output_type": "stream",
       "stream": "stdout",
       "text": [
        "\n",
        "('iteration:', 333, 'Kplus:', 5, 'shape of Z', (100, 5), 'alpha:', 0.5858023283212822, 'sigmaX', 0.5022113118991232)"
       ]
      },
      {
       "output_type": "stream",
       "stream": "stdout",
       "text": [
        "\n",
        "('iteration:', 334, 'Kplus:', 4, 'shape of Z', (100, 4), 'alpha:', 0.5343728404314003, 'sigmaX', 0.5022113118991232)"
       ]
      },
      {
       "output_type": "stream",
       "stream": "stdout",
       "text": [
        "\n",
        "('iteration:', 335, 'Kplus:', 4, 'shape of Z', (100, 4), 'alpha:', 0.4661303616360205, 'sigmaX', 0.5022113118991232)"
       ]
      },
      {
       "output_type": "stream",
       "stream": "stdout",
       "text": [
        "\n",
        "('iteration:', 336, 'Kplus:', 5, 'shape of Z', (100, 5), 'alpha:', 0.9867951516675458, 'sigmaX', 0.5022113118991232)"
       ]
      },
      {
       "output_type": "stream",
       "stream": "stdout",
       "text": [
        "\n",
        "('iteration:', 337, 'Kplus:', 4, 'shape of Z', (100, 4), 'alpha:', 0.3386115700512253, 'sigmaX', 0.49712278963933154)"
       ]
      },
      {
       "output_type": "stream",
       "stream": "stdout",
       "text": [
        "\n",
        "('iteration:', 338, 'Kplus:', 4, 'shape of Z', (100, 4), 'alpha:', 1.63854507375079, 'sigmaX', 0.49712278963933154)"
       ]
      },
      {
       "output_type": "stream",
       "stream": "stdout",
       "text": [
        "\n",
        "('iteration:', 339, 'Kplus:', 5, 'shape of Z', (100, 5), 'alpha:', 0.8082552949164394, 'sigmaX', 0.5124119295435198)"
       ]
      },
      {
       "output_type": "stream",
       "stream": "stdout",
       "text": [
        "\n",
        "('iteration:', 340, 'Kplus:', 4, 'shape of Z', (100, 4), 'alpha:', 0.35026181805677203, 'sigmaX', 0.5124119295435198)"
       ]
      },
      {
       "output_type": "stream",
       "stream": "stdout",
       "text": [
        "\n",
        "('iteration:', 341, 'Kplus:', 4, 'shape of Z', (100, 4), 'alpha:', 1.355093192913466, 'sigmaX', 0.48682844184418267)"
       ]
      },
      {
       "output_type": "stream",
       "stream": "stdout",
       "text": [
        "\n",
        "('iteration:', 342, 'Kplus:', 4, 'shape of Z', (100, 4), 'alpha:', 0.6793096190652217, 'sigmaX', 0.48682844184418267)"
       ]
      },
      {
       "output_type": "stream",
       "stream": "stdout",
       "text": [
        "\n",
        "('iteration:', 343, 'Kplus:', 5, 'shape of Z', (100, 5), 'alpha:', 0.39392426175125655, 'sigmaX', 0.48682844184418267)"
       ]
      },
      {
       "output_type": "stream",
       "stream": "stdout",
       "text": [
        "\n",
        "('iteration:', 344, 'Kplus:', 6, 'shape of Z', (100, 6), 'alpha:', 1.8330461287725843, 'sigmaX', 0.48682844184418267)"
       ]
      },
      {
       "output_type": "stream",
       "stream": "stdout",
       "text": [
        "\n",
        "('iteration:', 345, 'Kplus:', 6, 'shape of Z', (100, 6), 'alpha:', 1.4796177632478658, 'sigmaX', 0.48682844184418267)"
       ]
      },
      {
       "output_type": "stream",
       "stream": "stdout",
       "text": [
        "\n",
        "('iteration:', 346, 'Kplus:', 8, 'shape of Z', (100, 8), 'alpha:', 1.067814853404003, 'sigmaX', 0.48682844184418267)"
       ]
      },
      {
       "output_type": "stream",
       "stream": "stdout",
       "text": [
        "\n",
        "('iteration:', 347, 'Kplus:', 6, 'shape of Z', (100, 6), 'alpha:', 1.093515640550346, 'sigmaX', 0.48682844184418267)"
       ]
      },
      {
       "output_type": "stream",
       "stream": "stdout",
       "text": [
        "\n",
        "('iteration:', 348, 'Kplus:', 7, 'shape of Z', (100, 7), 'alpha:', 1.554283553508938, 'sigmaX', 0.48682844184418267)"
       ]
      },
      {
       "output_type": "stream",
       "stream": "stdout",
       "text": [
        "\n",
        "('iteration:', 349, 'Kplus:', 5, 'shape of Z', (100, 5), 'alpha:', 0.9725437096164099, 'sigmaX', 0.48840567084396463)"
       ]
      },
      {
       "output_type": "stream",
       "stream": "stdout",
       "text": [
        "\n",
        "('iteration:', 350, 'Kplus:', 5, 'shape of Z', (100, 5), 'alpha:', 1.3520167887433836, 'sigmaX', 0.48840567084396463)"
       ]
      },
      {
       "output_type": "stream",
       "stream": "stdout",
       "text": [
        "\n",
        "('iteration:', 351, 'Kplus:', 5, 'shape of Z', (100, 5), 'alpha:', 0.9258570322748254, 'sigmaX', 0.48840567084396463)"
       ]
      },
      {
       "output_type": "stream",
       "stream": "stdout",
       "text": [
        "\n",
        "('iteration:', 352, 'Kplus:', 4, 'shape of Z', (100, 4), 'alpha:', 0.600950242753966, 'sigmaX', 0.48840567084396463)"
       ]
      },
      {
       "output_type": "stream",
       "stream": "stdout",
       "text": [
        "\n",
        "('iteration:', 353, 'Kplus:', 5, 'shape of Z', (100, 5), 'alpha:', 0.6009156943873415, 'sigmaX', 0.48840567084396463)"
       ]
      },
      {
       "output_type": "stream",
       "stream": "stdout",
       "text": [
        "\n",
        "('iteration:', 354, 'Kplus:', 5, 'shape of Z', (100, 5), 'alpha:', 0.8770043754955958, 'sigmaX', 0.48840567084396463)"
       ]
      },
      {
       "output_type": "stream",
       "stream": "stdout",
       "text": [
        "\n",
        "('iteration:', 355, 'Kplus:', 5, 'shape of Z', (100, 5), 'alpha:', 1.2581227357830722, 'sigmaX', 0.48840567084396463)"
       ]
      },
      {
       "output_type": "stream",
       "stream": "stdout",
       "text": [
        "\n",
        "('iteration:', 356, 'Kplus:', 7, 'shape of Z', (100, 7), 'alpha:', 1.7020463057149486, 'sigmaX', 0.48840567084396463)"
       ]
      },
      {
       "output_type": "stream",
       "stream": "stdout",
       "text": [
        "\n",
        "('iteration:', 357, 'Kplus:', 6, 'shape of Z', (100, 6), 'alpha:', 1.59274177502253, 'sigmaX', 0.4916566845179645)"
       ]
      },
      {
       "output_type": "stream",
       "stream": "stdout",
       "text": [
        "\n",
        "('iteration:', 358, 'Kplus:', 7, 'shape of Z', (100, 7), 'alpha:', 0.755655073934355, 'sigmaX', 0.48177617669423)"
       ]
      },
      {
       "output_type": "stream",
       "stream": "stdout",
       "text": [
        "\n",
        "('iteration:', 359, 'Kplus:', 9, 'shape of Z', (100, 9), 'alpha:', 1.94561980737352, 'sigmaX', 0.48177617669423)"
       ]
      },
      {
       "output_type": "stream",
       "stream": "stdout",
       "text": [
        "\n",
        "('iteration:', 360, 'Kplus:', 7, 'shape of Z', (100, 7), 'alpha:', 1.2915275164314914, 'sigmaX', 0.48177617669423)"
       ]
      },
      {
       "output_type": "stream",
       "stream": "stdout",
       "text": [
        "\n",
        "('iteration:', 361, 'Kplus:', 6, 'shape of Z', (100, 6), 'alpha:', 1.5148193031174575, 'sigmaX', 0.48177617669423)"
       ]
      },
      {
       "output_type": "stream",
       "stream": "stdout",
       "text": [
        "\n",
        "('iteration:', 362, 'Kplus:', 4, 'shape of Z', (100, 4), 'alpha:', 0.6644352099095925, 'sigmaX', 0.48177617669423)"
       ]
      },
      {
       "output_type": "stream",
       "stream": "stdout",
       "text": [
        "\n",
        "('iteration:', 363, 'Kplus:', 5, 'shape of Z', (100, 5), 'alpha:', 1.9967544247870272, 'sigmaX', 0.48177617669423)"
       ]
      },
      {
       "output_type": "stream",
       "stream": "stdout",
       "text": [
        "\n",
        "('iteration:', 364, 'Kplus:', 5, 'shape of Z', (100, 5), 'alpha:', 1.5023853779539276, 'sigmaX', 0.4924994418042546)"
       ]
      },
      {
       "output_type": "stream",
       "stream": "stdout",
       "text": [
        "\n",
        "('iteration:', 365, 'Kplus:', 7, 'shape of Z', (100, 7), 'alpha:', 0.55388049708766, 'sigmaX', 0.4924994418042546)"
       ]
      },
      {
       "output_type": "stream",
       "stream": "stdout",
       "text": [
        "\n",
        "('iteration:', 366, 'Kplus:', 4, 'shape of Z', (100, 4), 'alpha:', 0.9192354198855143, 'sigmaX', 0.4924994418042546)"
       ]
      },
      {
       "output_type": "stream",
       "stream": "stdout",
       "text": [
        "\n",
        "('iteration:', 367, 'Kplus:', 7, 'shape of Z', (100, 7), 'alpha:', 0.9270376017560553, 'sigmaX', 0.4924994418042546)"
       ]
      },
      {
       "output_type": "stream",
       "stream": "stdout",
       "text": [
        "\n",
        "('iteration:', 368, 'Kplus:', 5, 'shape of Z', (100, 5), 'alpha:', 0.9561322576110518, 'sigmaX', 0.4924994418042546)"
       ]
      },
      {
       "output_type": "stream",
       "stream": "stdout",
       "text": [
        "\n",
        "('iteration:', 369, 'Kplus:', 5, 'shape of Z', (100, 5), 'alpha:', 0.9025642843022805, 'sigmaX', 0.4924994418042546)"
       ]
      },
      {
       "output_type": "stream",
       "stream": "stdout",
       "text": [
        "\n",
        "('iteration:', 370, 'Kplus:', 5, 'shape of Z', (100, 5), 'alpha:', 1.3562474791026804, 'sigmaX', 0.4924994418042546)"
       ]
      },
      {
       "output_type": "stream",
       "stream": "stdout",
       "text": [
        "\n",
        "('iteration:', 371, 'Kplus:', 4, 'shape of Z', (100, 4), 'alpha:', 0.6930374670284493, 'sigmaX', 0.4924994418042546)"
       ]
      },
      {
       "output_type": "stream",
       "stream": "stdout",
       "text": [
        "\n",
        "('iteration:', 372, 'Kplus:', 4, 'shape of Z', (100, 4), 'alpha:', 0.6299515577944339, 'sigmaX', 0.4924994418042546)"
       ]
      },
      {
       "output_type": "stream",
       "stream": "stdout",
       "text": [
        "\n",
        "('iteration:', 373, 'Kplus:', 4, 'shape of Z', (100, 4), 'alpha:', 0.45367262970513295, 'sigmaX', 0.4924994418042546)"
       ]
      },
      {
       "output_type": "stream",
       "stream": "stdout",
       "text": [
        "\n",
        "('iteration:', 374, 'Kplus:', 5, 'shape of Z', (100, 5), 'alpha:', 1.6562416860555507, 'sigmaX', 0.4924994418042546)"
       ]
      },
      {
       "output_type": "stream",
       "stream": "stdout",
       "text": [
        "\n",
        "('iteration:', 375, 'Kplus:', 4, 'shape of Z', (100, 4), 'alpha:', 0.4971614552522636, 'sigmaX', 0.4924994418042546)"
       ]
      },
      {
       "output_type": "stream",
       "stream": "stdout",
       "text": [
        "\n",
        "('iteration:', 376, 'Kplus:', 5, 'shape of Z', (100, 5), 'alpha:', 0.9507454900261857, 'sigmaX', 0.4881342458021682)"
       ]
      },
      {
       "output_type": "stream",
       "stream": "stdout",
       "text": [
        "\n",
        "('iteration:', 377, 'Kplus:', 4, 'shape of Z', (100, 4), 'alpha:', 1.2489604161669519, 'sigmaX', 0.4881342458021682)"
       ]
      },
      {
       "output_type": "stream",
       "stream": "stdout",
       "text": [
        "\n",
        "('iteration:', 378, 'Kplus:', 5, 'shape of Z', (100, 5), 'alpha:', 0.46068825043867156, 'sigmaX', 0.4881342458021682)"
       ]
      },
      {
       "output_type": "stream",
       "stream": "stdout",
       "text": [
        "\n",
        "('iteration:', 379, 'Kplus:', 4, 'shape of Z', (100, 4), 'alpha:', 0.6359592201311504, 'sigmaX', 0.4881342458021682)"
       ]
      },
      {
       "output_type": "stream",
       "stream": "stdout",
       "text": [
        "\n",
        "('iteration:', 380, 'Kplus:', 5, 'shape of Z', (100, 5), 'alpha:', 0.5749678850410099, 'sigmaX', 0.4881342458021682)"
       ]
      },
      {
       "output_type": "stream",
       "stream": "stdout",
       "text": [
        "\n",
        "('iteration:', 381, 'Kplus:', 5, 'shape of Z', (100, 5), 'alpha:', 1.0136006342956152, 'sigmaX', 0.4881342458021682)"
       ]
      },
      {
       "output_type": "stream",
       "stream": "stdout",
       "text": [
        "\n",
        "('iteration:', 382, 'Kplus:', 4, 'shape of Z', (100, 4), 'alpha:', 0.2877566870856063, 'sigmaX', 0.4881342458021682)"
       ]
      },
      {
       "output_type": "stream",
       "stream": "stdout",
       "text": [
        "\n",
        "('iteration:', 383, 'Kplus:', 5, 'shape of Z', (100, 5), 'alpha:', 0.9634570905407877, 'sigmaX', 0.4881342458021682)"
       ]
      },
      {
       "output_type": "stream",
       "stream": "stdout",
       "text": [
        "\n",
        "('iteration:', 384, 'Kplus:', 5, 'shape of Z', (100, 5), 'alpha:', 0.5846166224730059, 'sigmaX', 0.49670524905317737)"
       ]
      },
      {
       "output_type": "stream",
       "stream": "stdout",
       "text": [
        "\n",
        "('iteration:', 385, 'Kplus:', 5, 'shape of Z', (100, 5), 'alpha:', 0.5479206889811907, 'sigmaX', 0.5014772332601347)"
       ]
      },
      {
       "output_type": "stream",
       "stream": "stdout",
       "text": [
        "\n",
        "('iteration:', 386, 'Kplus:', 5, 'shape of Z', (100, 5), 'alpha:', 0.8625504391596274, 'sigmaX', 0.48607022216091256)"
       ]
      },
      {
       "output_type": "stream",
       "stream": "stdout",
       "text": [
        "\n",
        "('iteration:', 387, 'Kplus:', 5, 'shape of Z', (100, 5), 'alpha:', 1.5793035506536557, 'sigmaX', 0.4768659305320164)"
       ]
      },
      {
       "output_type": "stream",
       "stream": "stdout",
       "text": [
        "\n",
        "('iteration:', 388, 'Kplus:', 6, 'shape of Z', (100, 6), 'alpha:', 1.3840809772957139, 'sigmaX', 0.4768659305320164)"
       ]
      },
      {
       "output_type": "stream",
       "stream": "stdout",
       "text": [
        "\n",
        "('iteration:', 389, 'Kplus:', 7, 'shape of Z', (100, 7), 'alpha:', 1.3529332997415013, 'sigmaX', 0.49078562175158413)"
       ]
      },
      {
       "output_type": "stream",
       "stream": "stdout",
       "text": [
        "\n",
        "('iteration:', 390, 'Kplus:', 8, 'shape of Z', (100, 8), 'alpha:', 0.782679185507096, 'sigmaX', 0.48977256115027673)"
       ]
      },
      {
       "output_type": "stream",
       "stream": "stdout",
       "text": [
        "\n",
        "('iteration:', 391, 'Kplus:', 9, 'shape of Z', (100, 9), 'alpha:', 1.4755368212965103, 'sigmaX', 0.48977256115027673)"
       ]
      },
      {
       "output_type": "stream",
       "stream": "stdout",
       "text": [
        "\n",
        "('iteration:', 392, 'Kplus:', 7, 'shape of Z', (100, 7), 'alpha:', 1.8066545590810406, 'sigmaX', 0.49030877073798546)"
       ]
      },
      {
       "output_type": "stream",
       "stream": "stdout",
       "text": [
        "\n",
        "('iteration:', 393, 'Kplus:', 6, 'shape of Z', (100, 6), 'alpha:', 0.5491332655742873, 'sigmaX', 0.4927446352426921)"
       ]
      },
      {
       "output_type": "stream",
       "stream": "stdout",
       "text": [
        "\n",
        "('iteration:', 394, 'Kplus:', 6, 'shape of Z', (100, 6), 'alpha:', 0.7577362872272323, 'sigmaX', 0.4927446352426921)"
       ]
      },
      {
       "output_type": "stream",
       "stream": "stdout",
       "text": [
        "\n",
        "('iteration:', 395, 'Kplus:', 6, 'shape of Z', (100, 6), 'alpha:', 1.578583524487486, 'sigmaX', 0.4927446352426921)"
       ]
      },
      {
       "output_type": "stream",
       "stream": "stdout",
       "text": [
        "\n",
        "('iteration:', 396, 'Kplus:', 8, 'shape of Z', (100, 8), 'alpha:', 1.8777381810203988, 'sigmaX', 0.4927446352426921)"
       ]
      },
      {
       "output_type": "stream",
       "stream": "stdout",
       "text": [
        "\n",
        "('iteration:', 397, 'Kplus:', 5, 'shape of Z', (100, 5), 'alpha:', 0.4760644307916653, 'sigmaX', 0.4927446352426921)"
       ]
      },
      {
       "output_type": "stream",
       "stream": "stdout",
       "text": [
        "\n",
        "('iteration:', 398, 'Kplus:', 4, 'shape of Z', (100, 4), 'alpha:', 0.6128717773388355, 'sigmaX', 0.4927446352426921)"
       ]
      },
      {
       "output_type": "stream",
       "stream": "stdout",
       "text": [
        "\n",
        "('iteration:', 399, 'Kplus:', 4, 'shape of Z', (100, 4), 'alpha:', 0.2191803908758655, 'sigmaX', 0.4927446352426921)"
       ]
      },
      {
       "output_type": "stream",
       "stream": "stdout",
       "text": [
        "\n",
        "('iteration:', 400, 'Kplus:', 4, 'shape of Z', (100, 4), 'alpha:', 0.5604073127601538, 'sigmaX', 0.4927446352426921)"
       ]
      },
      {
       "output_type": "stream",
       "stream": "stdout",
       "text": [
        "\n",
        "('iteration:', 401, 'Kplus:', 6, 'shape of Z', (100, 6), 'alpha:', 0.9341237337933741, 'sigmaX', 0.4927446352426921)"
       ]
      },
      {
       "output_type": "stream",
       "stream": "stdout",
       "text": [
        "\n",
        "('iteration:', 402, 'Kplus:', 5, 'shape of Z', (100, 5), 'alpha:', 0.6556839835921395, 'sigmaX', 0.4927446352426921)"
       ]
      },
      {
       "output_type": "stream",
       "stream": "stdout",
       "text": [
        "\n",
        "('iteration:', 403, 'Kplus:', 4, 'shape of Z', (100, 4), 'alpha:', 0.6854788423137973, 'sigmaX', 0.4927446352426921)"
       ]
      },
      {
       "output_type": "stream",
       "stream": "stdout",
       "text": [
        "\n",
        "('iteration:', 404, 'Kplus:', 6, 'shape of Z', (100, 6), 'alpha:', 0.8840864724169871, 'sigmaX', 0.4927446352426921)"
       ]
      },
      {
       "output_type": "stream",
       "stream": "stdout",
       "text": [
        "\n",
        "('iteration:', 405, 'Kplus:', 4, 'shape of Z', (100, 4), 'alpha:', 0.9610003127211697, 'sigmaX', 0.4921405199514591)"
       ]
      },
      {
       "output_type": "stream",
       "stream": "stdout",
       "text": [
        "\n",
        "('iteration:', 406, 'Kplus:', 5, 'shape of Z', (100, 5), 'alpha:', 1.3883459119149892, 'sigmaX', 0.4921405199514591)"
       ]
      },
      {
       "output_type": "stream",
       "stream": "stdout",
       "text": [
        "\n",
        "('iteration:', 407, 'Kplus:', 5, 'shape of Z', (100, 5), 'alpha:', 1.0114936766375084, 'sigmaX', 0.4921405199514591)"
       ]
      },
      {
       "output_type": "stream",
       "stream": "stdout",
       "text": [
        "\n",
        "('iteration:', 408, 'Kplus:', 5, 'shape of Z', (100, 5), 'alpha:', 0.66317871145973, 'sigmaX', 0.4921405199514591)"
       ]
      },
      {
       "output_type": "stream",
       "stream": "stdout",
       "text": [
        "\n",
        "('iteration:', 409, 'Kplus:', 4, 'shape of Z', (100, 4), 'alpha:', 0.6715843725350609, 'sigmaX', 0.4921405199514591)"
       ]
      },
      {
       "output_type": "stream",
       "stream": "stdout",
       "text": [
        "\n",
        "('iteration:', 410, 'Kplus:', 5, 'shape of Z', (100, 5), 'alpha:', 2.428659969494291, 'sigmaX', 0.4921405199514591)"
       ]
      },
      {
       "output_type": "stream",
       "stream": "stdout",
       "text": [
        "\n",
        "('iteration:', 411, 'Kplus:', 9, 'shape of Z', (100, 9), 'alpha:', 2.8817014584571377, 'sigmaX', 0.4921405199514591)"
       ]
      },
      {
       "output_type": "stream",
       "stream": "stdout",
       "text": [
        "\n",
        "('iteration:', 412, 'Kplus:', 7, 'shape of Z', (100, 7), 'alpha:', 1.1580346522468294, 'sigmaX', 0.4946282151025515)"
       ]
      },
      {
       "output_type": "stream",
       "stream": "stdout",
       "text": [
        "\n",
        "('iteration:', 413, 'Kplus:', 8, 'shape of Z', (100, 8), 'alpha:', 1.3694308693630597, 'sigmaX', 0.4946282151025515)"
       ]
      },
      {
       "output_type": "stream",
       "stream": "stdout",
       "text": [
        "\n",
        "('iteration:', 414, 'Kplus:', 4, 'shape of Z', (100, 4), 'alpha:', 0.7429329082391889, 'sigmaX', 0.4946282151025515)"
       ]
      },
      {
       "output_type": "stream",
       "stream": "stdout",
       "text": [
        "\n",
        "('iteration:', 415, 'Kplus:', 5, 'shape of Z', (100, 5), 'alpha:', 2.118025840045763, 'sigmaX', 0.4946282151025515)"
       ]
      },
      {
       "output_type": "stream",
       "stream": "stdout",
       "text": [
        "\n",
        "('iteration:', 416, 'Kplus:', 5, 'shape of Z', (100, 5), 'alpha:', 0.5308107421577526, 'sigmaX', 0.4946282151025515)"
       ]
      },
      {
       "output_type": "stream",
       "stream": "stdout",
       "text": [
        "\n",
        "('iteration:', 417, 'Kplus:', 6, 'shape of Z', (100, 6), 'alpha:', 1.0712273938102548, 'sigmaX', 0.4946282151025515)"
       ]
      },
      {
       "output_type": "stream",
       "stream": "stdout",
       "text": [
        "\n",
        "('iteration:', 418, 'Kplus:', 6, 'shape of Z', (100, 6), 'alpha:', 0.9292644591888316, 'sigmaX', 0.4946282151025515)"
       ]
      },
      {
       "output_type": "stream",
       "stream": "stdout",
       "text": [
        "\n",
        "('iteration:', 419, 'Kplus:', 6, 'shape of Z', (100, 6), 'alpha:', 0.6354547162192868, 'sigmaX', 0.4946282151025515)"
       ]
      },
      {
       "output_type": "stream",
       "stream": "stdout",
       "text": [
        "\n",
        "('iteration:', 420, 'Kplus:', 4, 'shape of Z', (100, 4), 'alpha:', 0.3742196094631348, 'sigmaX', 0.4946282151025515)"
       ]
      },
      {
       "output_type": "stream",
       "stream": "stdout",
       "text": [
        "\n",
        "('iteration:', 421, 'Kplus:', 4, 'shape of Z', (100, 4), 'alpha:', 0.9536114845022845, 'sigmaX', 0.4946282151025515)"
       ]
      },
      {
       "output_type": "stream",
       "stream": "stdout",
       "text": [
        "\n",
        "('iteration:', 422, 'Kplus:', 5, 'shape of Z', (100, 5), 'alpha:', 2.1048982540313537, 'sigmaX', 0.4946282151025515)"
       ]
      },
      {
       "output_type": "stream",
       "stream": "stdout",
       "text": [
        "\n",
        "('iteration:', 423, 'Kplus:', 5, 'shape of Z', (100, 5), 'alpha:', 1.1271056151020957, 'sigmaX', 0.4946282151025515)"
       ]
      },
      {
       "output_type": "stream",
       "stream": "stdout",
       "text": [
        "\n",
        "('iteration:', 424, 'Kplus:', 6, 'shape of Z', (100, 6), 'alpha:', 0.6652799091998952, 'sigmaX', 0.4946282151025515)"
       ]
      },
      {
       "output_type": "stream",
       "stream": "stdout",
       "text": [
        "\n",
        "('iteration:', 425, 'Kplus:', 6, 'shape of Z', (100, 6), 'alpha:', 1.4054640683506334, 'sigmaX', 0.4946282151025515)"
       ]
      },
      {
       "output_type": "stream",
       "stream": "stdout",
       "text": [
        "\n",
        "('iteration:', 426, 'Kplus:', 7, 'shape of Z', (100, 7), 'alpha:', 1.0442504610400676, 'sigmaX', 0.4946282151025515)"
       ]
      },
      {
       "output_type": "stream",
       "stream": "stdout",
       "text": [
        "\n",
        "('iteration:', 427, 'Kplus:', 6, 'shape of Z', (100, 6), 'alpha:', 1.051547635286416, 'sigmaX', 0.4946282151025515)"
       ]
      },
      {
       "output_type": "stream",
       "stream": "stdout",
       "text": [
        "\n",
        "('iteration:', 428, 'Kplus:', 6, 'shape of Z', (100, 6), 'alpha:', 0.8064107838895289, 'sigmaX', 0.4946282151025515)"
       ]
      },
      {
       "output_type": "stream",
       "stream": "stdout",
       "text": [
        "\n",
        "('iteration:', 429, 'Kplus:', 5, 'shape of Z', (100, 5), 'alpha:', 1.4275110056279763, 'sigmaX', 0.4946282151025515)"
       ]
      },
      {
       "output_type": "stream",
       "stream": "stdout",
       "text": [
        "\n",
        "('iteration:', 430, 'Kplus:', 5, 'shape of Z', (100, 5), 'alpha:', 0.7777056475059752, 'sigmaX', 0.4946282151025515)"
       ]
      },
      {
       "output_type": "stream",
       "stream": "stdout",
       "text": [
        "\n",
        "('iteration:', 431, 'Kplus:', 4, 'shape of Z', (100, 4), 'alpha:', 0.38131498793997964, 'sigmaX', 0.4946282151025515)"
       ]
      },
      {
       "output_type": "stream",
       "stream": "stdout",
       "text": [
        "\n",
        "('iteration:', 432, 'Kplus:', 4, 'shape of Z', (100, 4), 'alpha:', 0.7295824481836651, 'sigmaX', 0.4946282151025515)"
       ]
      },
      {
       "output_type": "stream",
       "stream": "stdout",
       "text": [
        "\n",
        "('iteration:', 433, 'Kplus:', 4, 'shape of Z', (100, 4), 'alpha:', 0.5547877285423921, 'sigmaX', 0.4946282151025515)"
       ]
      },
      {
       "output_type": "stream",
       "stream": "stdout",
       "text": [
        "\n",
        "('iteration:', 434, 'Kplus:', 4, 'shape of Z', (100, 4), 'alpha:', 0.8319040904676102, 'sigmaX', 0.4946282151025515)"
       ]
      },
      {
       "output_type": "stream",
       "stream": "stdout",
       "text": [
        "\n",
        "('iteration:', 435, 'Kplus:', 7, 'shape of Z', (100, 7), 'alpha:', 1.2571612529167946, 'sigmaX', 0.4907487124856871)"
       ]
      },
      {
       "output_type": "stream",
       "stream": "stdout",
       "text": [
        "\n",
        "('iteration:', 436, 'Kplus:', 8, 'shape of Z', (100, 8), 'alpha:', 1.265450748963918, 'sigmaX', 0.4907487124856871)"
       ]
      },
      {
       "output_type": "stream",
       "stream": "stdout",
       "text": [
        "\n",
        "('iteration:', 437, 'Kplus:', 7, 'shape of Z', (100, 7), 'alpha:', 1.9460214892756726, 'sigmaX', 0.4907487124856871)"
       ]
      },
      {
       "output_type": "stream",
       "stream": "stdout",
       "text": [
        "\n",
        "('iteration:', 438, 'Kplus:', 6, 'shape of Z', (100, 6), 'alpha:', 1.68678418123402, 'sigmaX', 0.4907487124856871)"
       ]
      },
      {
       "output_type": "stream",
       "stream": "stdout",
       "text": [
        "\n",
        "('iteration:', 439, 'Kplus:', 6, 'shape of Z', (100, 6), 'alpha:', 1.294703438605807, 'sigmaX', 0.4979256869681182)"
       ]
      },
      {
       "output_type": "stream",
       "stream": "stdout",
       "text": [
        "\n",
        "('iteration:', 440, 'Kplus:', 6, 'shape of Z', (100, 6), 'alpha:', 1.2748115864813945, 'sigmaX', 0.4979256869681182)"
       ]
      },
      {
       "output_type": "stream",
       "stream": "stdout",
       "text": [
        "\n",
        "('iteration:', 441, 'Kplus:', 5, 'shape of Z', (100, 5), 'alpha:', 0.43504528937674025, 'sigmaX', 0.4979256869681182)"
       ]
      },
      {
       "output_type": "stream",
       "stream": "stdout",
       "text": [
        "\n",
        "('iteration:', 442, 'Kplus:', 5, 'shape of Z', (100, 5), 'alpha:', 1.6425292717799356, 'sigmaX', 0.4979256869681182)"
       ]
      },
      {
       "output_type": "stream",
       "stream": "stdout",
       "text": [
        "\n",
        "('iteration:', 443, 'Kplus:', 6, 'shape of Z', (100, 6), 'alpha:', 1.689878582991372, 'sigmaX', 0.4979256869681182)"
       ]
      },
      {
       "output_type": "stream",
       "stream": "stdout",
       "text": [
        "\n",
        "('iteration:', 444, 'Kplus:', 7, 'shape of Z', (100, 7), 'alpha:', 1.932187195859211, 'sigmaX', 0.4979256869681182)"
       ]
      },
      {
       "output_type": "stream",
       "stream": "stdout",
       "text": [
        "\n",
        "('iteration:', 445, 'Kplus:', 5, 'shape of Z', (100, 5), 'alpha:', 0.6343447800935135, 'sigmaX', 0.4979256869681182)"
       ]
      },
      {
       "output_type": "stream",
       "stream": "stdout",
       "text": [
        "\n",
        "('iteration:', 446, 'Kplus:', 5, 'shape of Z', (100, 5), 'alpha:', 0.3420739679277581, 'sigmaX', 0.4841383678982478)"
       ]
      },
      {
       "output_type": "stream",
       "stream": "stdout",
       "text": [
        "\n",
        "('iteration:', 447, 'Kplus:', 5, 'shape of Z', (100, 5), 'alpha:', 0.5784342894651071, 'sigmaX', 0.4841383678982478)"
       ]
      },
      {
       "output_type": "stream",
       "stream": "stdout",
       "text": [
        "\n",
        "('iteration:', 448, 'Kplus:', 5, 'shape of Z', (100, 5), 'alpha:', 1.4380196479326892, 'sigmaX', 0.5019563476321834)"
       ]
      },
      {
       "output_type": "stream",
       "stream": "stdout",
       "text": [
        "\n",
        "('iteration:', 449, 'Kplus:', 5, 'shape of Z', (100, 5), 'alpha:', 1.165710809080415, 'sigmaX', 0.5019563476321834)"
       ]
      },
      {
       "output_type": "stream",
       "stream": "stdout",
       "text": [
        "\n",
        "('iteration:', 450, 'Kplus:', 6, 'shape of Z', (100, 6), 'alpha:', 1.8888743402285046, 'sigmaX', 0.5019563476321834)"
       ]
      },
      {
       "output_type": "stream",
       "stream": "stdout",
       "text": [
        "\n",
        "('iteration:', 451, 'Kplus:', 6, 'shape of Z', (100, 6), 'alpha:', 0.9508244853880968, 'sigmaX', 0.48295790848778064)"
       ]
      },
      {
       "output_type": "stream",
       "stream": "stdout",
       "text": [
        "\n",
        "('iteration:', 452, 'Kplus:', 8, 'shape of Z', (100, 8), 'alpha:', 0.941210697632741, 'sigmaX', 0.48295790848778064)"
       ]
      },
      {
       "output_type": "stream",
       "stream": "stdout",
       "text": [
        "\n",
        "('iteration:', 453, 'Kplus:', 6, 'shape of Z', (100, 6), 'alpha:', 1.3770892902511254, 'sigmaX', 0.48295790848778064)"
       ]
      },
      {
       "output_type": "stream",
       "stream": "stdout",
       "text": [
        "\n",
        "('iteration:', 454, 'Kplus:', 6, 'shape of Z', (100, 6), 'alpha:', 1.8812987764505256, 'sigmaX', 0.48295790848778064)"
       ]
      },
      {
       "output_type": "stream",
       "stream": "stdout",
       "text": [
        "\n",
        "('iteration:', 455, 'Kplus:', 6, 'shape of Z', (100, 6), 'alpha:', 0.5287431373511012, 'sigmaX', 0.48295790848778064)"
       ]
      },
      {
       "output_type": "stream",
       "stream": "stdout",
       "text": [
        "\n",
        "('iteration:', 456, 'Kplus:', 6, 'shape of Z', (100, 6), 'alpha:', 0.48114053473332824, 'sigmaX', 0.48295790848778064)"
       ]
      },
      {
       "output_type": "stream",
       "stream": "stdout",
       "text": [
        "\n",
        "('iteration:', 457, 'Kplus:', 5, 'shape of Z', (100, 5), 'alpha:', 0.9447605969918018, 'sigmaX', 0.48295790848778064)"
       ]
      },
      {
       "output_type": "stream",
       "stream": "stdout",
       "text": [
        "\n",
        "('iteration:', 458, 'Kplus:', 6, 'shape of Z', (100, 6), 'alpha:', 1.2990807739752286, 'sigmaX', 0.48295790848778064)"
       ]
      },
      {
       "output_type": "stream",
       "stream": "stdout",
       "text": [
        "\n",
        "('iteration:', 459, 'Kplus:', 6, 'shape of Z', (100, 6), 'alpha:', 1.5095502621642074, 'sigmaX', 0.5047682123307676)"
       ]
      },
      {
       "output_type": "stream",
       "stream": "stdout",
       "text": [
        "\n",
        "('iteration:', 460, 'Kplus:', 6, 'shape of Z', (100, 6), 'alpha:', 1.4552813650821352, 'sigmaX', 0.5047682123307676)"
       ]
      },
      {
       "output_type": "stream",
       "stream": "stdout",
       "text": [
        "\n",
        "('iteration:', 461, 'Kplus:', 7, 'shape of Z', (100, 7), 'alpha:', 1.4403612277759679, 'sigmaX', 0.5047682123307676)"
       ]
      },
      {
       "output_type": "stream",
       "stream": "stdout",
       "text": [
        "\n",
        "('iteration:', 462, 'Kplus:', 5, 'shape of Z', (100, 5), 'alpha:', 0.968244178616517, 'sigmaX', 0.5047682123307676)"
       ]
      },
      {
       "output_type": "stream",
       "stream": "stdout",
       "text": [
        "\n",
        "('iteration:', 463, 'Kplus:', 5, 'shape of Z', (100, 5), 'alpha:', 0.5584401007891792, 'sigmaX', 0.5047682123307676)"
       ]
      },
      {
       "output_type": "stream",
       "stream": "stdout",
       "text": [
        "\n",
        "('iteration:', 464, 'Kplus:', 5, 'shape of Z', (100, 5), 'alpha:', 0.7761019104887174, 'sigmaX', 0.4967290132353595)"
       ]
      },
      {
       "output_type": "stream",
       "stream": "stdout",
       "text": [
        "\n",
        "('iteration:', 465, 'Kplus:', 5, 'shape of Z', (100, 5), 'alpha:', 1.104961995284195, 'sigmaX', 0.4967290132353595)"
       ]
      },
      {
       "output_type": "stream",
       "stream": "stdout",
       "text": [
        "\n",
        "('iteration:', 466, 'Kplus:', 4, 'shape of Z', (100, 4), 'alpha:', 0.6055605235122795, 'sigmaX', 0.503871016515347)"
       ]
      },
      {
       "output_type": "stream",
       "stream": "stdout",
       "text": [
        "\n",
        "('iteration:', 467, 'Kplus:', 5, 'shape of Z', (100, 5), 'alpha:', 0.7258066087324672, 'sigmaX', 0.503871016515347)"
       ]
      },
      {
       "output_type": "stream",
       "stream": "stdout",
       "text": [
        "\n",
        "('iteration:', 468, 'Kplus:', 4, 'shape of Z', (100, 4), 'alpha:', 1.5012599251167489, 'sigmaX', 0.503871016515347)"
       ]
      },
      {
       "output_type": "stream",
       "stream": "stdout",
       "text": [
        "\n",
        "('iteration:', 469, 'Kplus:', 4, 'shape of Z', (100, 4), 'alpha:', 0.7529112127410457, 'sigmaX', 0.503871016515347)"
       ]
      },
      {
       "output_type": "stream",
       "stream": "stdout",
       "text": [
        "\n",
        "('iteration:', 470, 'Kplus:', 5, 'shape of Z', (100, 5), 'alpha:', 1.0505941048545364, 'sigmaX', 0.503871016515347)"
       ]
      },
      {
       "output_type": "stream",
       "stream": "stdout",
       "text": [
        "\n",
        "('iteration:', 471, 'Kplus:', 4, 'shape of Z', (100, 4), 'alpha:', 0.45244129112447923, 'sigmaX', 0.5033966735561598)"
       ]
      },
      {
       "output_type": "stream",
       "stream": "stdout",
       "text": [
        "\n",
        "('iteration:', 472, 'Kplus:', 4, 'shape of Z', (100, 4), 'alpha:', 0.6294169713536645, 'sigmaX', 0.5033966735561598)"
       ]
      },
      {
       "output_type": "stream",
       "stream": "stdout",
       "text": [
        "\n",
        "('iteration:', 473, 'Kplus:', 4, 'shape of Z', (100, 4), 'alpha:', 1.0034227293397873, 'sigmaX', 0.5033966735561598)"
       ]
      },
      {
       "output_type": "stream",
       "stream": "stdout",
       "text": [
        "\n",
        "('iteration:', 474, 'Kplus:', 4, 'shape of Z', (100, 4), 'alpha:', 1.1383116852023725, 'sigmaX', 0.5033966735561598)"
       ]
      },
      {
       "output_type": "stream",
       "stream": "stdout",
       "text": [
        "\n",
        "('iteration:', 475, 'Kplus:', 4, 'shape of Z', (100, 4), 'alpha:', 0.8625385975154292, 'sigmaX', 0.5033966735561598)"
       ]
      },
      {
       "output_type": "stream",
       "stream": "stdout",
       "text": [
        "\n",
        "('iteration:', 476, 'Kplus:', 4, 'shape of Z', (100, 4), 'alpha:', 1.0113569952046548, 'sigmaX', 0.5033966735561598)"
       ]
      },
      {
       "output_type": "stream",
       "stream": "stdout",
       "text": [
        "\n",
        "('iteration:', 477, 'Kplus:', 5, 'shape of Z', (100, 5), 'alpha:', 1.055406345528062, 'sigmaX', 0.4905038757744066)"
       ]
      },
      {
       "output_type": "stream",
       "stream": "stdout",
       "text": [
        "\n",
        "('iteration:', 478, 'Kplus:', 4, 'shape of Z', (100, 4), 'alpha:', 1.0540014006236071, 'sigmaX', 0.49271623250676305)"
       ]
      },
      {
       "output_type": "stream",
       "stream": "stdout",
       "text": [
        "\n",
        "('iteration:', 479, 'Kplus:', 5, 'shape of Z', (100, 5), 'alpha:', 0.5803438828933719, 'sigmaX', 0.49271623250676305)"
       ]
      },
      {
       "output_type": "stream",
       "stream": "stdout",
       "text": [
        "\n",
        "('iteration:', 480, 'Kplus:', 4, 'shape of Z', (100, 4), 'alpha:', 0.7510212315543741, 'sigmaX', 0.49271623250676305)"
       ]
      },
      {
       "output_type": "stream",
       "stream": "stdout",
       "text": [
        "\n",
        "('iteration:', 481, 'Kplus:', 5, 'shape of Z', (100, 5), 'alpha:', 0.7621368510371138, 'sigmaX', 0.49271623250676305)"
       ]
      },
      {
       "output_type": "stream",
       "stream": "stdout",
       "text": [
        "\n",
        "('iteration:', 482, 'Kplus:', 4, 'shape of Z', (100, 4), 'alpha:', 1.3652813575997822, 'sigmaX', 0.49271623250676305)"
       ]
      },
      {
       "output_type": "stream",
       "stream": "stdout",
       "text": [
        "\n",
        "('iteration:', 483, 'Kplus:', 6, 'shape of Z', (100, 6), 'alpha:', 0.8105748634383, 'sigmaX', 0.49271623250676305)"
       ]
      },
      {
       "output_type": "stream",
       "stream": "stdout",
       "text": [
        "\n",
        "('iteration:', 484, 'Kplus:', 6, 'shape of Z', (100, 6), 'alpha:', 1.40747792346763, 'sigmaX', 0.49271623250676305)"
       ]
      },
      {
       "output_type": "stream",
       "stream": "stdout",
       "text": [
        "\n",
        "('iteration:', 485, 'Kplus:', 8, 'shape of Z', (100, 8), 'alpha:', 0.9891701138455109, 'sigmaX', 0.49271623250676305)"
       ]
      },
      {
       "output_type": "stream",
       "stream": "stdout",
       "text": [
        "\n",
        "('iteration:', 486, 'Kplus:', 7, 'shape of Z', (100, 7), 'alpha:', 0.7315056568123371, 'sigmaX', 0.49271623250676305)"
       ]
      },
      {
       "output_type": "stream",
       "stream": "stdout",
       "text": [
        "\n",
        "('iteration:', 487, 'Kplus:', 6, 'shape of Z', (100, 6), 'alpha:', 0.9336539423569429, 'sigmaX', 0.49271623250676305)"
       ]
      },
      {
       "output_type": "stream",
       "stream": "stdout",
       "text": [
        "\n",
        "('iteration:', 488, 'Kplus:', 6, 'shape of Z', (100, 6), 'alpha:', 0.9407352663609561, 'sigmaX', 0.49271623250676305)"
       ]
      },
      {
       "output_type": "stream",
       "stream": "stdout",
       "text": [
        "\n",
        "('iteration:', 489, 'Kplus:', 5, 'shape of Z', (100, 5), 'alpha:', 0.8343016157397007, 'sigmaX', 0.49271623250676305)"
       ]
      },
      {
       "output_type": "stream",
       "stream": "stdout",
       "text": [
        "\n",
        "('iteration:', 490, 'Kplus:', 6, 'shape of Z', (100, 6), 'alpha:', 2.2069201982582385, 'sigmaX', 0.49271623250676305)"
       ]
      },
      {
       "output_type": "stream",
       "stream": "stdout",
       "text": [
        "\n",
        "('iteration:', 491, 'Kplus:', 7, 'shape of Z', (100, 7), 'alpha:', 0.8266515130009081, 'sigmaX', 0.4972608621884025)"
       ]
      },
      {
       "output_type": "stream",
       "stream": "stdout",
       "text": [
        "\n",
        "('iteration:', 492, 'Kplus:', 5, 'shape of Z', (100, 5), 'alpha:', 1.138692761861125, 'sigmaX', 0.4972608621884025)"
       ]
      },
      {
       "output_type": "stream",
       "stream": "stdout",
       "text": [
        "\n",
        "('iteration:', 493, 'Kplus:', 4, 'shape of Z', (100, 4), 'alpha:', 1.0823010438799965, 'sigmaX', 0.4972608621884025)"
       ]
      },
      {
       "output_type": "stream",
       "stream": "stdout",
       "text": [
        "\n",
        "('iteration:', 494, 'Kplus:', 5, 'shape of Z', (100, 5), 'alpha:', 1.3044259471889155, 'sigmaX', 0.4972608621884025)"
       ]
      },
      {
       "output_type": "stream",
       "stream": "stdout",
       "text": [
        "\n",
        "('iteration:', 495, 'Kplus:', 9, 'shape of Z', (100, 9), 'alpha:', 1.6908868955224265, 'sigmaX', 0.4972608621884025)"
       ]
      },
      {
       "output_type": "stream",
       "stream": "stdout",
       "text": [
        "\n",
        "('iteration:', 496, 'Kplus:', 9, 'shape of Z', (100, 9), 'alpha:', 1.0524326089508689, 'sigmaX', 0.4972608621884025)"
       ]
      },
      {
       "output_type": "stream",
       "stream": "stdout",
       "text": [
        "\n",
        "('iteration:', 497, 'Kplus:', 5, 'shape of Z', (100, 5), 'alpha:', 0.8032944568749564, 'sigmaX', 0.4972608621884025)"
       ]
      },
      {
       "output_type": "stream",
       "stream": "stdout",
       "text": [
        "\n",
        "('iteration:', 498, 'Kplus:', 5, 'shape of Z', (100, 5), 'alpha:', 0.4756748368535154, 'sigmaX', 0.4972608621884025)"
       ]
      },
      {
       "output_type": "stream",
       "stream": "stdout",
       "text": [
        "\n",
        "('iteration:', 499, 'Kplus:', 4, 'shape of Z', (100, 4), 'alpha:', 0.6977219654903097, 'sigmaX', 0.4972608621884025)"
       ]
      },
      {
       "output_type": "stream",
       "stream": "stdout",
       "text": [
        "\n",
        "('iteration:', 500, 'Kplus:', 4, 'shape of Z', (100, 4), 'alpha:', 1.5030136661024185, 'sigmaX', 0.4972608621884025)"
       ]
      },
      {
       "output_type": "stream",
       "stream": "stdout",
       "text": [
        "\n",
        "('iteration:', 501, 'Kplus:', 6, 'shape of Z', (100, 6), 'alpha:', 1.1473047998360144, 'sigmaX', 0.4972608621884025)"
       ]
      },
      {
       "output_type": "stream",
       "stream": "stdout",
       "text": [
        "\n",
        "('iteration:', 502, 'Kplus:', 6, 'shape of Z', (100, 6), 'alpha:', 1.331068257048221, 'sigmaX', 0.5111295102834148)"
       ]
      },
      {
       "output_type": "stream",
       "stream": "stdout",
       "text": [
        "\n",
        "('iteration:', 503, 'Kplus:', 6, 'shape of Z', (100, 6), 'alpha:', 1.4549330175022246, 'sigmaX', 0.5111295102834148)"
       ]
      },
      {
       "output_type": "stream",
       "stream": "stdout",
       "text": [
        "\n",
        "('iteration:', 504, 'Kplus:', 7, 'shape of Z', (100, 7), 'alpha:', 1.7916405235239286, 'sigmaX', 0.5111295102834148)"
       ]
      },
      {
       "output_type": "stream",
       "stream": "stdout",
       "text": [
        "\n",
        "('iteration:', 505, 'Kplus:', 6, 'shape of Z', (100, 6), 'alpha:', 1.019267523631259, 'sigmaX', 0.5111295102834148)"
       ]
      },
      {
       "output_type": "stream",
       "stream": "stdout",
       "text": [
        "\n",
        "('iteration:', 506, 'Kplus:', 4, 'shape of Z', (100, 4), 'alpha:', 0.7944733214657551, 'sigmaX', 0.5111295102834148)"
       ]
      },
      {
       "output_type": "stream",
       "stream": "stdout",
       "text": [
        "\n",
        "('iteration:', 507, 'Kplus:', 4, 'shape of Z', (100, 4), 'alpha:', 0.6154310717555598, 'sigmaX', 0.5111295102834148)"
       ]
      },
      {
       "output_type": "stream",
       "stream": "stdout",
       "text": [
        "\n",
        "('iteration:', 508, 'Kplus:', 5, 'shape of Z', (100, 5), 'alpha:', 1.1580432220170755, 'sigmaX', 0.5111295102834148)"
       ]
      },
      {
       "output_type": "stream",
       "stream": "stdout",
       "text": [
        "\n",
        "('iteration:', 509, 'Kplus:', 5, 'shape of Z', (100, 5), 'alpha:', 0.3014765596282435, 'sigmaX', 0.4947852776025908)"
       ]
      },
      {
       "output_type": "stream",
       "stream": "stdout",
       "text": [
        "\n",
        "('iteration:', 510, 'Kplus:', 5, 'shape of Z', (100, 5), 'alpha:', 1.4426258504417182, 'sigmaX', 0.4947852776025908)"
       ]
      },
      {
       "output_type": "stream",
       "stream": "stdout",
       "text": [
        "\n",
        "('iteration:', 511, 'Kplus:', 5, 'shape of Z', (100, 5), 'alpha:', 0.877911060726658, 'sigmaX', 0.4947852776025908)"
       ]
      },
      {
       "output_type": "stream",
       "stream": "stdout",
       "text": [
        "\n",
        "('iteration:', 512, 'Kplus:', 4, 'shape of Z', (100, 4), 'alpha:', 0.9318298295621217, 'sigmaX', 0.4947852776025908)"
       ]
      },
      {
       "output_type": "stream",
       "stream": "stdout",
       "text": [
        "\n",
        "('iteration:', 513, 'Kplus:', 4, 'shape of Z', (100, 4), 'alpha:', 0.7944622000817373, 'sigmaX', 0.4947852776025908)"
       ]
      },
      {
       "output_type": "stream",
       "stream": "stdout",
       "text": [
        "\n",
        "('iteration:', 514, 'Kplus:', 5, 'shape of Z', (100, 5), 'alpha:', 1.5804907203333383, 'sigmaX', 0.4947852776025908)"
       ]
      },
      {
       "output_type": "stream",
       "stream": "stdout",
       "text": [
        "\n",
        "('iteration:', 515, 'Kplus:', 6, 'shape of Z', (100, 6), 'alpha:', 1.2092136259882142, 'sigmaX', 0.4947852776025908)"
       ]
      },
      {
       "output_type": "stream",
       "stream": "stdout",
       "text": [
        "\n",
        "('iteration:', 516, 'Kplus:', 4, 'shape of Z', (100, 4), 'alpha:', 0.5398910378284231, 'sigmaX', 0.4947852776025908)"
       ]
      },
      {
       "output_type": "stream",
       "stream": "stdout",
       "text": [
        "\n",
        "('iteration:', 517, 'Kplus:', 4, 'shape of Z', (100, 4), 'alpha:', 0.6252312557102778, 'sigmaX', 0.4947852776025908)"
       ]
      },
      {
       "output_type": "stream",
       "stream": "stdout",
       "text": [
        "\n",
        "('iteration:', 518, 'Kplus:', 5, 'shape of Z', (100, 5), 'alpha:', 0.5986181737459616, 'sigmaX', 0.4947852776025908)"
       ]
      },
      {
       "output_type": "stream",
       "stream": "stdout",
       "text": [
        "\n",
        "('iteration:', 519, 'Kplus:', 4, 'shape of Z', (100, 4), 'alpha:', 0.5172020716794881, 'sigmaX', 0.4947852776025908)"
       ]
      },
      {
       "output_type": "stream",
       "stream": "stdout",
       "text": [
        "\n",
        "('iteration:', 520, 'Kplus:', 4, 'shape of Z', (100, 4), 'alpha:', 0.7857238755663796, 'sigmaX', 0.4947852776025908)"
       ]
      },
      {
       "output_type": "stream",
       "stream": "stdout",
       "text": [
        "\n",
        "('iteration:', 521, 'Kplus:', 6, 'shape of Z', (100, 6), 'alpha:', 1.4484022944189152, 'sigmaX', 0.4853594738241357)"
       ]
      },
      {
       "output_type": "stream",
       "stream": "stdout",
       "text": [
        "\n",
        "('iteration:', 522, 'Kplus:', 5, 'shape of Z', (100, 5), 'alpha:', 0.6943463282401015, 'sigmaX', 0.4853594738241357)"
       ]
      },
      {
       "output_type": "stream",
       "stream": "stdout",
       "text": [
        "\n",
        "('iteration:', 523, 'Kplus:', 5, 'shape of Z', (100, 5), 'alpha:', 0.7759451158466517, 'sigmaX', 0.4853594738241357)"
       ]
      },
      {
       "output_type": "stream",
       "stream": "stdout",
       "text": [
        "\n",
        "('iteration:', 524, 'Kplus:', 4, 'shape of Z', (100, 4), 'alpha:', 0.964193982864276, 'sigmaX', 0.4853594738241357)"
       ]
      },
      {
       "output_type": "stream",
       "stream": "stdout",
       "text": [
        "\n",
        "('iteration:', 525, 'Kplus:', 6, 'shape of Z', (100, 6), 'alpha:', 1.8993523879175203, 'sigmaX', 0.4934300298102894)"
       ]
      },
      {
       "output_type": "stream",
       "stream": "stdout",
       "text": [
        "\n",
        "('iteration:', 526, 'Kplus:', 6, 'shape of Z', (100, 6), 'alpha:', 2.0708700673122014, 'sigmaX', 0.4934300298102894)"
       ]
      },
      {
       "output_type": "stream",
       "stream": "stdout",
       "text": [
        "\n",
        "('iteration:', 527, 'Kplus:', 5, 'shape of Z', (100, 5), 'alpha:', 2.4347841298541275, 'sigmaX', 0.4934300298102894)"
       ]
      },
      {
       "output_type": "stream",
       "stream": "stdout",
       "text": [
        "\n",
        "('iteration:', 528, 'Kplus:', 7, 'shape of Z', (100, 7), 'alpha:', 0.9852621503002721, 'sigmaX', 0.4934300298102894)"
       ]
      },
      {
       "output_type": "stream",
       "stream": "stdout",
       "text": [
        "\n",
        "('iteration:', 529, 'Kplus:', 6, 'shape of Z', (100, 6), 'alpha:', 0.7979429262955884, 'sigmaX', 0.4934300298102894)"
       ]
      },
      {
       "output_type": "stream",
       "stream": "stdout",
       "text": [
        "\n",
        "('iteration:', 530, 'Kplus:', 5, 'shape of Z', (100, 5), 'alpha:', 0.6553677828310988, 'sigmaX', 0.4934300298102894)"
       ]
      },
      {
       "output_type": "stream",
       "stream": "stdout",
       "text": [
        "\n",
        "('iteration:', 531, 'Kplus:', 5, 'shape of Z', (100, 5), 'alpha:', 0.8268105188547711, 'sigmaX', 0.4934300298102894)"
       ]
      },
      {
       "output_type": "stream",
       "stream": "stdout",
       "text": [
        "\n",
        "('iteration:', 532, 'Kplus:', 6, 'shape of Z', (100, 6), 'alpha:', 1.7139507761543844, 'sigmaX', 0.4934300298102894)"
       ]
      },
      {
       "output_type": "stream",
       "stream": "stdout",
       "text": [
        "\n",
        "('iteration:', 533, 'Kplus:', 6, 'shape of Z', (100, 6), 'alpha:', 1.6140050306744798, 'sigmaX', 0.501861768750579)"
       ]
      },
      {
       "output_type": "stream",
       "stream": "stdout",
       "text": [
        "\n",
        "('iteration:', 534, 'Kplus:', 7, 'shape of Z', (100, 7), 'alpha:', 1.7239176452701752, 'sigmaX', 0.501861768750579)"
       ]
      },
      {
       "output_type": "stream",
       "stream": "stdout",
       "text": [
        "\n",
        "('iteration:', 535, 'Kplus:', 8, 'shape of Z', (100, 8), 'alpha:', 1.7424960537348815, 'sigmaX', 0.501861768750579)"
       ]
      },
      {
       "output_type": "stream",
       "stream": "stdout",
       "text": [
        "\n",
        "('iteration:', 536, 'Kplus:', 5, 'shape of Z', (100, 5), 'alpha:', 0.9317827925477051, 'sigmaX', 0.501861768750579)"
       ]
      },
      {
       "output_type": "stream",
       "stream": "stdout",
       "text": [
        "\n",
        "('iteration:', 537, 'Kplus:', 5, 'shape of Z', (100, 5), 'alpha:', 0.5842781911687165, 'sigmaX', 0.501861768750579)"
       ]
      },
      {
       "output_type": "stream",
       "stream": "stdout",
       "text": [
        "\n",
        "('iteration:', 538, 'Kplus:', 5, 'shape of Z', (100, 5), 'alpha:', 0.5878123503096334, 'sigmaX', 0.501861768750579)"
       ]
      },
      {
       "output_type": "stream",
       "stream": "stdout",
       "text": [
        "\n",
        "('iteration:', 539, 'Kplus:', 5, 'shape of Z', (100, 5), 'alpha:', 1.1820968201475799, 'sigmaX', 0.48882123738346706)"
       ]
      },
      {
       "output_type": "stream",
       "stream": "stdout",
       "text": [
        "\n",
        "('iteration:', 540, 'Kplus:', 6, 'shape of Z', (100, 6), 'alpha:', 1.3830109003790099, 'sigmaX', 0.48882123738346706)"
       ]
      },
      {
       "output_type": "stream",
       "stream": "stdout",
       "text": [
        "\n",
        "('iteration:', 541, 'Kplus:', 6, 'shape of Z', (100, 6), 'alpha:', 1.4957792692334548, 'sigmaX', 0.48882123738346706)"
       ]
      },
      {
       "output_type": "stream",
       "stream": "stdout",
       "text": [
        "\n",
        "('iteration:', 542, 'Kplus:', 7, 'shape of Z', (100, 7), 'alpha:', 1.1901432092015873, 'sigmaX', 0.48882123738346706)"
       ]
      },
      {
       "output_type": "stream",
       "stream": "stdout",
       "text": [
        "\n",
        "('iteration:', 543, 'Kplus:', 9, 'shape of Z', (100, 9), 'alpha:', 2.0420228234342646, 'sigmaX', 0.48882123738346706)"
       ]
      },
      {
       "output_type": "stream",
       "stream": "stdout",
       "text": [
        "\n",
        "('iteration:', 544, 'Kplus:', 7, 'shape of Z', (100, 7), 'alpha:', 0.654262695758314, 'sigmaX', 0.48882123738346706)"
       ]
      },
      {
       "output_type": "stream",
       "stream": "stdout",
       "text": [
        "\n",
        "('iteration:', 545, 'Kplus:', 6, 'shape of Z', (100, 6), 'alpha:', 1.9926893461260762, 'sigmaX', 0.48882123738346706)"
       ]
      },
      {
       "output_type": "stream",
       "stream": "stdout",
       "text": [
        "\n",
        "('iteration:', 546, 'Kplus:', 7, 'shape of Z', (100, 7), 'alpha:', 1.387085007339662, 'sigmaX', 0.48882123738346706)"
       ]
      },
      {
       "output_type": "stream",
       "stream": "stdout",
       "text": [
        "\n",
        "('iteration:', 547, 'Kplus:', 6, 'shape of Z', (100, 6), 'alpha:', 0.5748196736005023, 'sigmaX', 0.48882123738346706)"
       ]
      },
      {
       "output_type": "stream",
       "stream": "stdout",
       "text": [
        "\n",
        "('iteration:', 548, 'Kplus:', 6, 'shape of Z', (100, 6), 'alpha:', 1.2242900556180685, 'sigmaX', 0.49265891826612646)"
       ]
      },
      {
       "output_type": "stream",
       "stream": "stdout",
       "text": [
        "\n",
        "('iteration:', 549, 'Kplus:', 7, 'shape of Z', (100, 7), 'alpha:', 1.5813053578621585, 'sigmaX', 0.49523094210904967)"
       ]
      },
      {
       "output_type": "stream",
       "stream": "stdout",
       "text": [
        "\n",
        "('iteration:', 550, 'Kplus:', 6, 'shape of Z', (100, 6), 'alpha:', 0.9310121241121315, 'sigmaX', 0.48279470828313936)"
       ]
      },
      {
       "output_type": "stream",
       "stream": "stdout",
       "text": [
        "\n",
        "('iteration:', 551, 'Kplus:', 6, 'shape of Z', (100, 6), 'alpha:', 0.5976853834551215, 'sigmaX', 0.48279470828313936)"
       ]
      },
      {
       "output_type": "stream",
       "stream": "stdout",
       "text": [
        "\n",
        "('iteration:', 552, 'Kplus:', 5, 'shape of Z', (100, 5), 'alpha:', 0.5895172391066623, 'sigmaX', 0.48279470828313936)"
       ]
      },
      {
       "output_type": "stream",
       "stream": "stdout",
       "text": [
        "\n",
        "('iteration:', 553, 'Kplus:', 5, 'shape of Z', (100, 5), 'alpha:', 0.5680900367939383, 'sigmaX', 0.48279470828313936)"
       ]
      },
      {
       "output_type": "stream",
       "stream": "stdout",
       "text": [
        "\n",
        "('iteration:', 554, 'Kplus:', 5, 'shape of Z', (100, 5), 'alpha:', 0.683970220136613, 'sigmaX', 0.48279470828313936)"
       ]
      },
      {
       "output_type": "stream",
       "stream": "stdout",
       "text": [
        "\n",
        "('iteration:', 555, 'Kplus:', 6, 'shape of Z', (100, 6), 'alpha:', 1.1748641301239753, 'sigmaX', 0.48279470828313936)"
       ]
      },
      {
       "output_type": "stream",
       "stream": "stdout",
       "text": [
        "\n",
        "('iteration:', 556, 'Kplus:', 5, 'shape of Z', (100, 5), 'alpha:', 1.0161389065310478, 'sigmaX', 0.48727883532650573)"
       ]
      },
      {
       "output_type": "stream",
       "stream": "stdout",
       "text": [
        "\n",
        "('iteration:', 557, 'Kplus:', 4, 'shape of Z', (100, 4), 'alpha:', 0.6399454469417074, 'sigmaX', 0.48727883532650573)"
       ]
      },
      {
       "output_type": "stream",
       "stream": "stdout",
       "text": [
        "\n",
        "('iteration:', 558, 'Kplus:', 5, 'shape of Z', (100, 5), 'alpha:', 0.9350489942136637, 'sigmaX', 0.48727883532650573)"
       ]
      },
      {
       "output_type": "stream",
       "stream": "stdout",
       "text": [
        "\n",
        "('iteration:', 559, 'Kplus:', 7, 'shape of Z', (100, 7), 'alpha:', 1.5686943523315229, 'sigmaX', 0.48727883532650573)"
       ]
      },
      {
       "output_type": "stream",
       "stream": "stdout",
       "text": [
        "\n",
        "('iteration:', 560, 'Kplus:', 7, 'shape of Z', (100, 7), 'alpha:', 0.9536665202681143, 'sigmaX', 0.48727883532650573)"
       ]
      },
      {
       "output_type": "stream",
       "stream": "stdout",
       "text": [
        "\n",
        "('iteration:', 561, 'Kplus:', 7, 'shape of Z', (100, 7), 'alpha:', 1.4191539606934505, 'sigmaX', 0.48796450414912085)"
       ]
      },
      {
       "output_type": "stream",
       "stream": "stdout",
       "text": [
        "\n",
        "('iteration:', 562, 'Kplus:', 7, 'shape of Z', (100, 7), 'alpha:', 1.0707381675110765, 'sigmaX', 0.48796450414912085)"
       ]
      },
      {
       "output_type": "stream",
       "stream": "stdout",
       "text": [
        "\n",
        "('iteration:', 563, 'Kplus:', 8, 'shape of Z', (100, 8), 'alpha:', 1.1625068443784101, 'sigmaX', 0.49122126931713356)"
       ]
      },
      {
       "output_type": "stream",
       "stream": "stdout",
       "text": [
        "\n",
        "('iteration:', 564, 'Kplus:', 10, 'shape of Z', (100, 10), 'alpha:', 1.3614146270677645, 'sigmaX', 0.49122126931713356)"
       ]
      },
      {
       "output_type": "stream",
       "stream": "stdout",
       "text": [
        "\n",
        "('iteration:', 565, 'Kplus:', 6, 'shape of Z', (100, 6), 'alpha:', 2.1782682896054957, 'sigmaX', 0.49122126931713356)"
       ]
      },
      {
       "output_type": "stream",
       "stream": "stdout",
       "text": [
        "\n",
        "('iteration:', 566, 'Kplus:', 5, 'shape of Z', (100, 5), 'alpha:', 1.1593430218403522, 'sigmaX', 0.49122126931713356)"
       ]
      },
      {
       "output_type": "stream",
       "stream": "stdout",
       "text": [
        "\n",
        "('iteration:', 567, 'Kplus:', 6, 'shape of Z', (100, 6), 'alpha:', 1.4346306817994836, 'sigmaX', 0.49122126931713356)"
       ]
      },
      {
       "output_type": "stream",
       "stream": "stdout",
       "text": [
        "\n",
        "('iteration:', 568, 'Kplus:', 6, 'shape of Z', (100, 6), 'alpha:', 1.4881151429023047, 'sigmaX', 0.5013717988614451)"
       ]
      },
      {
       "output_type": "stream",
       "stream": "stdout",
       "text": [
        "\n",
        "('iteration:', 569, 'Kplus:', 4, 'shape of Z', (100, 4), 'alpha:', 0.45799771321902893, 'sigmaX', 0.5013717988614451)"
       ]
      },
      {
       "output_type": "stream",
       "stream": "stdout",
       "text": [
        "\n",
        "('iteration:', 570, 'Kplus:', 4, 'shape of Z', (100, 4), 'alpha:', 0.5337102505011178, 'sigmaX', 0.5013717988614451)"
       ]
      },
      {
       "output_type": "stream",
       "stream": "stdout",
       "text": [
        "\n",
        "('iteration:', 571, 'Kplus:', 4, 'shape of Z', (100, 4), 'alpha:', 0.49012615250022107, 'sigmaX', 0.5013717988614451)"
       ]
      },
      {
       "output_type": "stream",
       "stream": "stdout",
       "text": [
        "\n",
        "('iteration:', 572, 'Kplus:', 4, 'shape of Z', (100, 4), 'alpha:', 0.8714745701382275, 'sigmaX', 0.5013717988614451)"
       ]
      },
      {
       "output_type": "stream",
       "stream": "stdout",
       "text": [
        "\n",
        "('iteration:', 573, 'Kplus:', 5, 'shape of Z', (100, 5), 'alpha:', 1.5455591867354466, 'sigmaX', 0.5013717988614451)"
       ]
      },
      {
       "output_type": "stream",
       "stream": "stdout",
       "text": [
        "\n",
        "('iteration:', 574, 'Kplus:', 6, 'shape of Z', (100, 6), 'alpha:', 1.1841119290393078, 'sigmaX', 0.5013717988614451)"
       ]
      },
      {
       "output_type": "stream",
       "stream": "stdout",
       "text": [
        "\n",
        "('iteration:', 575, 'Kplus:', 6, 'shape of Z', (100, 6), 'alpha:', 1.1169800058100208, 'sigmaX', 0.5013717988614451)"
       ]
      },
      {
       "output_type": "stream",
       "stream": "stdout",
       "text": [
        "\n",
        "('iteration:', 576, 'Kplus:', 4, 'shape of Z', (100, 4), 'alpha:', 0.39101174899465074, 'sigmaX', 0.5013717988614451)"
       ]
      },
      {
       "output_type": "stream",
       "stream": "stdout",
       "text": [
        "\n",
        "('iteration:', 577, 'Kplus:', 4, 'shape of Z', (100, 4), 'alpha:', 0.5650595805869983, 'sigmaX', 0.5013717988614451)"
       ]
      },
      {
       "output_type": "stream",
       "stream": "stdout",
       "text": [
        "\n",
        "('iteration:', 578, 'Kplus:', 4, 'shape of Z', (100, 4), 'alpha:', 1.0247660355665986, 'sigmaX', 0.5013717988614451)"
       ]
      },
      {
       "output_type": "stream",
       "stream": "stdout",
       "text": [
        "\n",
        "('iteration:', 579, 'Kplus:', 6, 'shape of Z', (100, 6), 'alpha:', 0.4420928629692612, 'sigmaX', 0.4889419591434424)"
       ]
      },
      {
       "output_type": "stream",
       "stream": "stdout",
       "text": [
        "\n",
        "('iteration:', 580, 'Kplus:', 5, 'shape of Z', (100, 5), 'alpha:', 1.1395960704881662, 'sigmaX', 0.4889419591434424)"
       ]
      },
      {
       "output_type": "stream",
       "stream": "stdout",
       "text": [
        "\n",
        "('iteration:', 581, 'Kplus:', 5, 'shape of Z', (100, 5), 'alpha:', 0.8560025887100154, 'sigmaX', 0.4889419591434424)"
       ]
      },
      {
       "output_type": "stream",
       "stream": "stdout",
       "text": [
        "\n",
        "('iteration:', 582, 'Kplus:', 5, 'shape of Z', (100, 5), 'alpha:', 0.8558339431963784, 'sigmaX', 0.4889419591434424)"
       ]
      },
      {
       "output_type": "stream",
       "stream": "stdout",
       "text": [
        "\n",
        "('iteration:', 583, 'Kplus:', 6, 'shape of Z', (100, 6), 'alpha:', 1.224154575841391, 'sigmaX', 0.5022179069801302)"
       ]
      },
      {
       "output_type": "stream",
       "stream": "stdout",
       "text": [
        "\n",
        "('iteration:', 584, 'Kplus:', 5, 'shape of Z', (100, 5), 'alpha:', 1.5423884956955412, 'sigmaX', 0.5022179069801302)"
       ]
      },
      {
       "output_type": "stream",
       "stream": "stdout",
       "text": [
        "\n",
        "('iteration:', 585, 'Kplus:', 5, 'shape of Z', (100, 5), 'alpha:', 0.6977394057748489, 'sigmaX', 0.5081567224789906)"
       ]
      },
      {
       "output_type": "stream",
       "stream": "stdout",
       "text": [
        "\n",
        "('iteration:', 586, 'Kplus:', 5, 'shape of Z', (100, 5), 'alpha:', 1.3377424383727108, 'sigmaX', 0.5081567224789906)"
       ]
      },
      {
       "output_type": "stream",
       "stream": "stdout",
       "text": [
        "\n",
        "('iteration:', 587, 'Kplus:', 4, 'shape of Z', (100, 4), 'alpha:', 1.3650101562908232, 'sigmaX', 0.5081567224789906)"
       ]
      },
      {
       "output_type": "stream",
       "stream": "stdout",
       "text": [
        "\n",
        "('iteration:', 588, 'Kplus:', 5, 'shape of Z', (100, 5), 'alpha:', 1.5564866961699804, 'sigmaX', 0.5081567224789906)"
       ]
      },
      {
       "output_type": "stream",
       "stream": "stdout",
       "text": [
        "\n",
        "('iteration:', 589, 'Kplus:', 7, 'shape of Z', (100, 7), 'alpha:', 0.6788359334330548, 'sigmaX', 0.5081567224789906)"
       ]
      },
      {
       "output_type": "stream",
       "stream": "stdout",
       "text": [
        "\n",
        "('iteration:', 590, 'Kplus:', 6, 'shape of Z', (100, 6), 'alpha:', 1.4709332955970609, 'sigmaX', 0.5081567224789906)"
       ]
      },
      {
       "output_type": "stream",
       "stream": "stdout",
       "text": [
        "\n",
        "('iteration:', 591, 'Kplus:', 4, 'shape of Z', (100, 4), 'alpha:', 0.5271104466940294, 'sigmaX', 0.5081567224789906)"
       ]
      },
      {
       "output_type": "stream",
       "stream": "stdout",
       "text": [
        "\n",
        "('iteration:', 592, 'Kplus:', 5, 'shape of Z', (100, 5), 'alpha:', 0.8749174954419153, 'sigmaX', 0.48565249387494164)"
       ]
      },
      {
       "output_type": "stream",
       "stream": "stdout",
       "text": [
        "\n",
        "('iteration:', 593, 'Kplus:', 6, 'shape of Z', (100, 6), 'alpha:', 0.5703299541861918, 'sigmaX', 0.48565249387494164)"
       ]
      },
      {
       "output_type": "stream",
       "stream": "stdout",
       "text": [
        "\n",
        "('iteration:', 594, 'Kplus:', 5, 'shape of Z', (100, 5), 'alpha:', 1.0399205539065863, 'sigmaX', 0.48565249387494164)"
       ]
      },
      {
       "output_type": "stream",
       "stream": "stdout",
       "text": [
        "\n",
        "('iteration:', 595, 'Kplus:', 5, 'shape of Z', (100, 5), 'alpha:', 0.563970191285529, 'sigmaX', 0.48565249387494164)"
       ]
      },
      {
       "output_type": "stream",
       "stream": "stdout",
       "text": [
        "\n",
        "('iteration:', 596, 'Kplus:', 7, 'shape of Z', (100, 7), 'alpha:', 1.1465225860221073, 'sigmaX', 0.48565249387494164)"
       ]
      },
      {
       "output_type": "stream",
       "stream": "stdout",
       "text": [
        "\n",
        "('iteration:', 597, 'Kplus:', 5, 'shape of Z', (100, 5), 'alpha:', 0.4467931628841889, 'sigmaX', 0.48565249387494164)"
       ]
      },
      {
       "output_type": "stream",
       "stream": "stdout",
       "text": [
        "\n",
        "('iteration:', 598, 'Kplus:', 4, 'shape of Z', (100, 4), 'alpha:', 0.46112061106009034, 'sigmaX', 0.48565249387494164)"
       ]
      },
      {
       "output_type": "stream",
       "stream": "stdout",
       "text": [
        "\n",
        "('iteration:', 599, 'Kplus:', 4, 'shape of Z', (100, 4), 'alpha:', 1.0532563687876126, 'sigmaX', 0.48565249387494164)"
       ]
      },
      {
       "output_type": "stream",
       "stream": "stdout",
       "text": [
        "\n",
        "('iteration:', 600, 'Kplus:', 4, 'shape of Z', (100, 4), 'alpha:', 0.6253998035015468, 'sigmaX', 0.48565249387494164)"
       ]
      },
      {
       "output_type": "stream",
       "stream": "stdout",
       "text": [
        "\n",
        "('iteration:', 601, 'Kplus:', 4, 'shape of Z', (100, 4), 'alpha:', 0.837684429135134, 'sigmaX', 0.48565249387494164)"
       ]
      },
      {
       "output_type": "stream",
       "stream": "stdout",
       "text": [
        "\n",
        "('iteration:', 602, 'Kplus:', 5, 'shape of Z', (100, 5), 'alpha:', 1.174775449197001, 'sigmaX', 0.48565249387494164)"
       ]
      },
      {
       "output_type": "stream",
       "stream": "stdout",
       "text": [
        "\n",
        "('iteration:', 603, 'Kplus:', 6, 'shape of Z', (100, 6), 'alpha:', 1.1284232598883108, 'sigmaX', 0.48565249387494164)"
       ]
      },
      {
       "output_type": "stream",
       "stream": "stdout",
       "text": [
        "\n",
        "('iteration:', 604, 'Kplus:', 8, 'shape of Z', (100, 8), 'alpha:', 1.0504479447679476, 'sigmaX', 0.48565249387494164)"
       ]
      },
      {
       "output_type": "stream",
       "stream": "stdout",
       "text": [
        "\n",
        "('iteration:', 605, 'Kplus:', 7, 'shape of Z', (100, 7), 'alpha:', 0.9765683223151372, 'sigmaX', 0.48565249387494164)"
       ]
      },
      {
       "output_type": "stream",
       "stream": "stdout",
       "text": [
        "\n",
        "('iteration:', 606, 'Kplus:', 9, 'shape of Z', (100, 9), 'alpha:', 1.5508781496258808, 'sigmaX', 0.48565249387494164)"
       ]
      },
      {
       "output_type": "stream",
       "stream": "stdout",
       "text": [
        "\n",
        "('iteration:', 607, 'Kplus:', 7, 'shape of Z', (100, 7), 'alpha:', 0.9217703672180645, 'sigmaX', 0.4777250776479478)"
       ]
      },
      {
       "output_type": "stream",
       "stream": "stdout",
       "text": [
        "\n",
        "('iteration:', 608, 'Kplus:', 5, 'shape of Z', (100, 5), 'alpha:', 0.6630344176198615, 'sigmaX', 0.49422869223593)"
       ]
      },
      {
       "output_type": "stream",
       "stream": "stdout",
       "text": [
        "\n",
        "('iteration:', 609, 'Kplus:', 4, 'shape of Z', (100, 4), 'alpha:', 0.8707386476624164, 'sigmaX', 0.49422869223593)"
       ]
      },
      {
       "output_type": "stream",
       "stream": "stdout",
       "text": [
        "\n",
        "('iteration:', 610, 'Kplus:', 4, 'shape of Z', (100, 4), 'alpha:', 0.5855222754092826, 'sigmaX', 0.49422869223593)"
       ]
      },
      {
       "output_type": "stream",
       "stream": "stdout",
       "text": [
        "\n",
        "('iteration:', 611, 'Kplus:', 4, 'shape of Z', (100, 4), 'alpha:', 0.6305114721138584, 'sigmaX', 0.49422869223593)"
       ]
      },
      {
       "output_type": "stream",
       "stream": "stdout",
       "text": [
        "\n",
        "('iteration:', 612, 'Kplus:', 4, 'shape of Z', (100, 4), 'alpha:', 1.1352379254077838, 'sigmaX', 0.49422869223593)"
       ]
      },
      {
       "output_type": "stream",
       "stream": "stdout",
       "text": [
        "\n",
        "('iteration:', 613, 'Kplus:', 4, 'shape of Z', (100, 4), 'alpha:', 1.4733344075415948, 'sigmaX', 0.5029834400899376)"
       ]
      },
      {
       "output_type": "stream",
       "stream": "stdout",
       "text": [
        "\n",
        "('iteration:', 614, 'Kplus:', 6, 'shape of Z', (100, 6), 'alpha:', 1.4623591272373402, 'sigmaX', 0.4931187241978562)"
       ]
      },
      {
       "output_type": "stream",
       "stream": "stdout",
       "text": [
        "\n",
        "('iteration:', 615, 'Kplus:', 4, 'shape of Z', (100, 4), 'alpha:', 1.1513687277144886, 'sigmaX', 0.4931187241978562)"
       ]
      },
      {
       "output_type": "stream",
       "stream": "stdout",
       "text": [
        "\n",
        "('iteration:', 616, 'Kplus:', 4, 'shape of Z', (100, 4), 'alpha:', 0.7006255117562122, 'sigmaX', 0.4931187241978562)"
       ]
      },
      {
       "output_type": "stream",
       "stream": "stdout",
       "text": [
        "\n",
        "('iteration:', 617, 'Kplus:', 7, 'shape of Z', (100, 7), 'alpha:', 1.4288114000396588, 'sigmaX', 0.4920691941667764)"
       ]
      },
      {
       "output_type": "stream",
       "stream": "stdout",
       "text": [
        "\n",
        "('iteration:', 618, 'Kplus:', 5, 'shape of Z', (100, 5), 'alpha:', 0.3549151079780628, 'sigmaX', 0.4920691941667764)"
       ]
      },
      {
       "output_type": "stream",
       "stream": "stdout",
       "text": [
        "\n",
        "('iteration:', 619, 'Kplus:', 4, 'shape of Z', (100, 4), 'alpha:', 0.8260356996512418, 'sigmaX', 0.4920691941667764)"
       ]
      },
      {
       "output_type": "stream",
       "stream": "stdout",
       "text": [
        "\n",
        "('iteration:', 620, 'Kplus:', 5, 'shape of Z', (100, 5), 'alpha:', 0.6451355665101798, 'sigmaX', 0.4979537247700582)"
       ]
      },
      {
       "output_type": "stream",
       "stream": "stdout",
       "text": [
        "\n",
        "('iteration:', 621, 'Kplus:', 4, 'shape of Z', (100, 4), 'alpha:', 0.9750258913989558, 'sigmaX', 0.4979537247700582)"
       ]
      },
      {
       "output_type": "stream",
       "stream": "stdout",
       "text": [
        "\n",
        "('iteration:', 622, 'Kplus:', 5, 'shape of Z', (100, 5), 'alpha:', 0.40921502212341304, 'sigmaX', 0.4979537247700582)"
       ]
      },
      {
       "output_type": "stream",
       "stream": "stdout",
       "text": [
        "\n",
        "('iteration:', 623, 'Kplus:', 4, 'shape of Z', (100, 4), 'alpha:', 1.2176587437787285, 'sigmaX', 0.4979537247700582)"
       ]
      },
      {
       "output_type": "stream",
       "stream": "stdout",
       "text": [
        "\n",
        "('iteration:', 624, 'Kplus:', 4, 'shape of Z', (100, 4), 'alpha:', 1.2985343970646244, 'sigmaX', 0.4979537247700582)"
       ]
      },
      {
       "output_type": "stream",
       "stream": "stdout",
       "text": [
        "\n",
        "('iteration:', 625, 'Kplus:', 5, 'shape of Z', (100, 5), 'alpha:', 0.8579979223034551, 'sigmaX', 0.4979537247700582)"
       ]
      },
      {
       "output_type": "stream",
       "stream": "stdout",
       "text": [
        "\n",
        "('iteration:', 626, 'Kplus:', 5, 'shape of Z', (100, 5), 'alpha:', 0.7313333289976465, 'sigmaX', 0.4979537247700582)"
       ]
      },
      {
       "output_type": "stream",
       "stream": "stdout",
       "text": [
        "\n",
        "('iteration:', 627, 'Kplus:', 5, 'shape of Z', (100, 5), 'alpha:', 0.7038806440391138, 'sigmaX', 0.4979537247700582)"
       ]
      },
      {
       "output_type": "stream",
       "stream": "stdout",
       "text": [
        "\n",
        "('iteration:', 628, 'Kplus:', 6, 'shape of Z', (100, 6), 'alpha:', 1.092882808656871, 'sigmaX', 0.4979537247700582)"
       ]
      },
      {
       "output_type": "stream",
       "stream": "stdout",
       "text": [
        "\n",
        "('iteration:', 629, 'Kplus:', 6, 'shape of Z', (100, 6), 'alpha:', 1.0646341986816394, 'sigmaX', 0.4902108971635817)"
       ]
      },
      {
       "output_type": "stream",
       "stream": "stdout",
       "text": [
        "\n",
        "('iteration:', 630, 'Kplus:', 4, 'shape of Z', (100, 4), 'alpha:', 1.3619740262035054, 'sigmaX', 0.4902108971635817)"
       ]
      },
      {
       "output_type": "stream",
       "stream": "stdout",
       "text": [
        "\n",
        "('iteration:', 631, 'Kplus:', 6, 'shape of Z', (100, 6), 'alpha:', 0.5124907009037167, 'sigmaX', 0.4902108971635817)"
       ]
      },
      {
       "output_type": "stream",
       "stream": "stdout",
       "text": [
        "\n",
        "('iteration:', 632, 'Kplus:', 4, 'shape of Z', (100, 4), 'alpha:', 0.8213934017240753, 'sigmaX', 0.4902108971635817)"
       ]
      },
      {
       "output_type": "stream",
       "stream": "stdout",
       "text": [
        "\n",
        "('iteration:', 633, 'Kplus:', 5, 'shape of Z', (100, 5), 'alpha:', 0.730500180225537, 'sigmaX', 0.4902108971635817)"
       ]
      },
      {
       "output_type": "stream",
       "stream": "stdout",
       "text": [
        "\n",
        "('iteration:', 634, 'Kplus:', 5, 'shape of Z', (100, 5), 'alpha:', 0.6815208103510718, 'sigmaX', 0.4902108971635817)"
       ]
      },
      {
       "output_type": "stream",
       "stream": "stdout",
       "text": [
        "\n",
        "('iteration:', 635, 'Kplus:', 4, 'shape of Z', (100, 4), 'alpha:', 0.641207325621523, 'sigmaX', 0.4902108971635817)"
       ]
      },
      {
       "output_type": "stream",
       "stream": "stdout",
       "text": [
        "\n",
        "('iteration:', 636, 'Kplus:', 5, 'shape of Z', (100, 5), 'alpha:', 2.1590815826522927, 'sigmaX', 0.4902108971635817)"
       ]
      },
      {
       "output_type": "stream",
       "stream": "stdout",
       "text": [
        "\n",
        "('iteration:', 637, 'Kplus:', 5, 'shape of Z', (100, 5), 'alpha:', 1.1522769837999833, 'sigmaX', 0.4902108971635817)"
       ]
      },
      {
       "output_type": "stream",
       "stream": "stdout",
       "text": [
        "\n",
        "('iteration:', 638, 'Kplus:', 5, 'shape of Z', (100, 5), 'alpha:', 0.40535707994808234, 'sigmaX', 0.4902108971635817)"
       ]
      },
      {
       "output_type": "stream",
       "stream": "stdout",
       "text": [
        "\n",
        "('iteration:', 639, 'Kplus:', 5, 'shape of Z', (100, 5), 'alpha:', 1.0109986073100117, 'sigmaX', 0.4902108971635817)"
       ]
      },
      {
       "output_type": "stream",
       "stream": "stdout",
       "text": [
        "\n",
        "('iteration:', 640, 'Kplus:', 6, 'shape of Z', (100, 6), 'alpha:', 1.3756167038390321, 'sigmaX', 0.4902108971635817)"
       ]
      },
      {
       "output_type": "stream",
       "stream": "stdout",
       "text": [
        "\n",
        "('iteration:', 641, 'Kplus:', 7, 'shape of Z', (100, 7), 'alpha:', 1.9174298052892114, 'sigmaX', 0.4933120088033123)"
       ]
      },
      {
       "output_type": "stream",
       "stream": "stdout",
       "text": [
        "\n",
        "('iteration:', 642, 'Kplus:', 5, 'shape of Z', (100, 5), 'alpha:', 0.4237337455270841, 'sigmaX', 0.4933120088033123)"
       ]
      },
      {
       "output_type": "stream",
       "stream": "stdout",
       "text": [
        "\n",
        "('iteration:', 643, 'Kplus:', 5, 'shape of Z', (100, 5), 'alpha:', 0.21346952722748627, 'sigmaX', 0.4933120088033123)"
       ]
      },
      {
       "output_type": "stream",
       "stream": "stdout",
       "text": [
        "\n",
        "('iteration:', 644, 'Kplus:', 4, 'shape of Z', (100, 4), 'alpha:', 0.9528192167024342, 'sigmaX', 0.4933120088033123)"
       ]
      },
      {
       "output_type": "stream",
       "stream": "stdout",
       "text": [
        "\n",
        "('iteration:', 645, 'Kplus:', 4, 'shape of Z', (100, 4), 'alpha:', 1.1369544379022956, 'sigmaX', 0.4933120088033123)"
       ]
      },
      {
       "output_type": "stream",
       "stream": "stdout",
       "text": [
        "\n",
        "('iteration:', 646, 'Kplus:', 5, 'shape of Z', (100, 5), 'alpha:', 0.6528760579793587, 'sigmaX', 0.49423960727609484)"
       ]
      },
      {
       "output_type": "stream",
       "stream": "stdout",
       "text": [
        "\n",
        "('iteration:', 647, 'Kplus:', 4, 'shape of Z', (100, 4), 'alpha:', 0.5136521682553707, 'sigmaX', 0.49423960727609484)"
       ]
      },
      {
       "output_type": "stream",
       "stream": "stdout",
       "text": [
        "\n",
        "('iteration:', 648, 'Kplus:', 5, 'shape of Z', (100, 5), 'alpha:', 1.0244061503292756, 'sigmaX', 0.49423960727609484)"
       ]
      },
      {
       "output_type": "stream",
       "stream": "stdout",
       "text": [
        "\n",
        "('iteration:', 649, 'Kplus:', 5, 'shape of Z', (100, 5), 'alpha:', 1.325210011835133, 'sigmaX', 0.49423960727609484)"
       ]
      },
      {
       "output_type": "stream",
       "stream": "stdout",
       "text": [
        "\n",
        "('iteration:', 650, 'Kplus:', 4, 'shape of Z', (100, 4), 'alpha:', 1.3890446523506277, 'sigmaX', 0.49423960727609484)"
       ]
      },
      {
       "output_type": "stream",
       "stream": "stdout",
       "text": [
        "\n",
        "('iteration:', 651, 'Kplus:', 5, 'shape of Z', (100, 5), 'alpha:', 0.6477723746157832, 'sigmaX', 0.49423960727609484)"
       ]
      },
      {
       "output_type": "stream",
       "stream": "stdout",
       "text": [
        "\n",
        "('iteration:', 652, 'Kplus:', 4, 'shape of Z', (100, 4), 'alpha:', 0.478586197207345, 'sigmaX', 0.5027086705285178)"
       ]
      },
      {
       "output_type": "stream",
       "stream": "stdout",
       "text": [
        "\n",
        "('iteration:', 653, 'Kplus:', 4, 'shape of Z', (100, 4), 'alpha:', 0.7898562994076952, 'sigmaX', 0.5027086705285178)"
       ]
      },
      {
       "output_type": "stream",
       "stream": "stdout",
       "text": [
        "\n",
        "('iteration:', 654, 'Kplus:', 6, 'shape of Z', (100, 6), 'alpha:', 1.1940935678451925, 'sigmaX', 0.5027086705285178)"
       ]
      },
      {
       "output_type": "stream",
       "stream": "stdout",
       "text": [
        "\n",
        "('iteration:', 655, 'Kplus:', 4, 'shape of Z', (100, 4), 'alpha:', 0.5871869442724692, 'sigmaX', 0.5027086705285178)"
       ]
      },
      {
       "output_type": "stream",
       "stream": "stdout",
       "text": [
        "\n",
        "('iteration:', 656, 'Kplus:', 4, 'shape of Z', (100, 4), 'alpha:', 0.509757752020528, 'sigmaX', 0.5027086705285178)"
       ]
      },
      {
       "output_type": "stream",
       "stream": "stdout",
       "text": [
        "\n",
        "('iteration:', 657, 'Kplus:', 4, 'shape of Z', (100, 4), 'alpha:', 0.22349482888625785, 'sigmaX', 0.5027086705285178)"
       ]
      },
      {
       "output_type": "stream",
       "stream": "stdout",
       "text": [
        "\n",
        "('iteration:', 658, 'Kplus:', 4, 'shape of Z', (100, 4), 'alpha:', 0.9333864241000067, 'sigmaX', 0.4996630483158063)"
       ]
      },
      {
       "output_type": "stream",
       "stream": "stdout",
       "text": [
        "\n",
        "('iteration:', 659, 'Kplus:', 4, 'shape of Z', (100, 4), 'alpha:', 0.7111039467806045, 'sigmaX', 0.4996630483158063)"
       ]
      },
      {
       "output_type": "stream",
       "stream": "stdout",
       "text": [
        "\n",
        "('iteration:', 660, 'Kplus:', 4, 'shape of Z', (100, 4), 'alpha:', 1.3838942737898068, 'sigmaX', 0.4996630483158063)"
       ]
      },
      {
       "output_type": "stream",
       "stream": "stdout",
       "text": [
        "\n",
        "('iteration:', 661, 'Kplus:', 4, 'shape of Z', (100, 4), 'alpha:', 0.7396853660875938, 'sigmaX', 0.4996630483158063)"
       ]
      },
      {
       "output_type": "stream",
       "stream": "stdout",
       "text": [
        "\n",
        "('iteration:', 662, 'Kplus:', 4, 'shape of Z', (100, 4), 'alpha:', 1.0933238130362988, 'sigmaX', 0.4996630483158063)"
       ]
      },
      {
       "output_type": "stream",
       "stream": "stdout",
       "text": [
        "\n",
        "('iteration:', 663, 'Kplus:', 4, 'shape of Z', (100, 4), 'alpha:', 0.4064687656793185, 'sigmaX', 0.4996630483158063)"
       ]
      },
      {
       "output_type": "stream",
       "stream": "stdout",
       "text": [
        "\n",
        "('iteration:', 664, 'Kplus:', 4, 'shape of Z', (100, 4), 'alpha:', 1.0077789684195673, 'sigmaX', 0.4996630483158063)"
       ]
      },
      {
       "output_type": "stream",
       "stream": "stdout",
       "text": [
        "\n",
        "('iteration:', 665, 'Kplus:', 6, 'shape of Z', (100, 6), 'alpha:', 1.041498256649327, 'sigmaX', 0.5037817101206488)"
       ]
      },
      {
       "output_type": "stream",
       "stream": "stdout",
       "text": [
        "\n",
        "('iteration:', 666, 'Kplus:', 4, 'shape of Z', (100, 4), 'alpha:', 0.30314650777363034, 'sigmaX', 0.5037817101206488)"
       ]
      },
      {
       "output_type": "stream",
       "stream": "stdout",
       "text": [
        "\n",
        "('iteration:', 667, 'Kplus:', 4, 'shape of Z', (100, 4), 'alpha:', 1.0285448757346463, 'sigmaX', 0.5037817101206488)"
       ]
      },
      {
       "output_type": "stream",
       "stream": "stdout",
       "text": [
        "\n",
        "('iteration:', 668, 'Kplus:', 4, 'shape of Z', (100, 4), 'alpha:', 0.7165579728198548, 'sigmaX', 0.49282589501906787)"
       ]
      },
      {
       "output_type": "stream",
       "stream": "stdout",
       "text": [
        "\n",
        "('iteration:', 669, 'Kplus:', 5, 'shape of Z', (100, 5), 'alpha:', 0.9457900001998799, 'sigmaX', 0.49048356630190504)"
       ]
      },
      {
       "output_type": "stream",
       "stream": "stdout",
       "text": [
        "\n",
        "('iteration:', 670, 'Kplus:', 5, 'shape of Z', (100, 5), 'alpha:', 0.9402401850432608, 'sigmaX', 0.5026179754671016)"
       ]
      },
      {
       "output_type": "stream",
       "stream": "stdout",
       "text": [
        "\n",
        "('iteration:', 671, 'Kplus:', 4, 'shape of Z', (100, 4), 'alpha:', 0.7318855817463502, 'sigmaX', 0.5026179754671016)"
       ]
      },
      {
       "output_type": "stream",
       "stream": "stdout",
       "text": [
        "\n",
        "('iteration:', 672, 'Kplus:', 5, 'shape of Z', (100, 5), 'alpha:', 1.3214645330091155, 'sigmaX', 0.5026179754671016)"
       ]
      },
      {
       "output_type": "stream",
       "stream": "stdout",
       "text": [
        "\n",
        "('iteration:', 673, 'Kplus:', 8, 'shape of Z', (100, 8), 'alpha:', 1.8292327878932246, 'sigmaX', 0.5026179754671016)"
       ]
      },
      {
       "output_type": "stream",
       "stream": "stdout",
       "text": [
        "\n",
        "('iteration:', 674, 'Kplus:', 7, 'shape of Z', (100, 7), 'alpha:', 1.2948965224599627, 'sigmaX', 0.5026179754671016)"
       ]
      },
      {
       "output_type": "stream",
       "stream": "stdout",
       "text": [
        "\n",
        "('iteration:', 675, 'Kplus:', 6, 'shape of Z', (100, 6), 'alpha:', 0.6904105931470577, 'sigmaX', 0.4978391738328477)"
       ]
      },
      {
       "output_type": "stream",
       "stream": "stdout",
       "text": [
        "\n",
        "('iteration:', 676, 'Kplus:', 6, 'shape of Z', (100, 6), 'alpha:', 0.929402066168066, 'sigmaX', 0.49986095272045)"
       ]
      },
      {
       "output_type": "stream",
       "stream": "stdout",
       "text": [
        "\n",
        "('iteration:', 677, 'Kplus:', 4, 'shape of Z', (100, 4), 'alpha:', 1.5629335851294677, 'sigmaX', 0.49986095272045)"
       ]
      },
      {
       "output_type": "stream",
       "stream": "stdout",
       "text": [
        "\n",
        "('iteration:', 678, 'Kplus:', 6, 'shape of Z', (100, 6), 'alpha:', 1.3672679225711124, 'sigmaX', 0.4965669310413794)"
       ]
      },
      {
       "output_type": "stream",
       "stream": "stdout",
       "text": [
        "\n",
        "('iteration:', 679, 'Kplus:', 6, 'shape of Z', (100, 6), 'alpha:', 1.1742691410489459, 'sigmaX', 0.4965669310413794)"
       ]
      },
      {
       "output_type": "stream",
       "stream": "stdout",
       "text": [
        "\n",
        "('iteration:', 680, 'Kplus:', 6, 'shape of Z', (100, 6), 'alpha:', 1.2325678016168393, 'sigmaX', 0.4965669310413794)"
       ]
      },
      {
       "output_type": "stream",
       "stream": "stdout",
       "text": [
        "\n",
        "('iteration:', 681, 'Kplus:', 5, 'shape of Z', (100, 5), 'alpha:', 0.47103578155290754, 'sigmaX', 0.4965669310413794)"
       ]
      },
      {
       "output_type": "stream",
       "stream": "stdout",
       "text": [
        "\n",
        "('iteration:', 682, 'Kplus:', 5, 'shape of Z', (100, 5), 'alpha:', 0.9582618371581282, 'sigmaX', 0.4965669310413794)"
       ]
      },
      {
       "output_type": "stream",
       "stream": "stdout",
       "text": [
        "\n",
        "('iteration:', 683, 'Kplus:', 4, 'shape of Z', (100, 4), 'alpha:', 1.2581168916560477, 'sigmaX', 0.49176048770577696)"
       ]
      },
      {
       "output_type": "stream",
       "stream": "stdout",
       "text": [
        "\n",
        "('iteration:', 684, 'Kplus:', 5, 'shape of Z', (100, 5), 'alpha:', 0.8765899629850868, 'sigmaX', 0.49176048770577696)"
       ]
      },
      {
       "output_type": "stream",
       "stream": "stdout",
       "text": [
        "\n",
        "('iteration:', 685, 'Kplus:', 4, 'shape of Z', (100, 4), 'alpha:', 0.7524817673250833, 'sigmaX', 0.49176048770577696)"
       ]
      },
      {
       "output_type": "stream",
       "stream": "stdout",
       "text": [
        "\n",
        "('iteration:', 686, 'Kplus:', 5, 'shape of Z', (100, 5), 'alpha:', 1.0591922396300384, 'sigmaX', 0.49176048770577696)"
       ]
      },
      {
       "output_type": "stream",
       "stream": "stdout",
       "text": [
        "\n",
        "('iteration:', 687, 'Kplus:', 7, 'shape of Z', (100, 7), 'alpha:', 1.6264491492158615, 'sigmaX', 0.49176048770577696)"
       ]
      },
      {
       "output_type": "stream",
       "stream": "stdout",
       "text": [
        "\n",
        "('iteration:', 688, 'Kplus:', 7, 'shape of Z', (100, 7), 'alpha:', 1.1552237496551854, 'sigmaX', 0.49176048770577696)"
       ]
      },
      {
       "output_type": "stream",
       "stream": "stdout",
       "text": [
        "\n",
        "('iteration:', 689, 'Kplus:', 6, 'shape of Z', (100, 6), 'alpha:', 0.73988589055307, 'sigmaX', 0.49176048770577696)"
       ]
      },
      {
       "output_type": "stream",
       "stream": "stdout",
       "text": [
        "\n",
        "('iteration:', 690, 'Kplus:', 5, 'shape of Z', (100, 5), 'alpha:', 0.4286804049856889, 'sigmaX', 0.49380845213292784)"
       ]
      },
      {
       "output_type": "stream",
       "stream": "stdout",
       "text": [
        "\n",
        "('iteration:', 691, 'Kplus:', 4, 'shape of Z', (100, 4), 'alpha:', 0.7655289122262244, 'sigmaX', 0.49380845213292784)"
       ]
      },
      {
       "output_type": "stream",
       "stream": "stdout",
       "text": [
        "\n",
        "('iteration:', 692, 'Kplus:', 4, 'shape of Z', (100, 4), 'alpha:', 0.2507673455630388, 'sigmaX', 0.49380845213292784)"
       ]
      },
      {
       "output_type": "stream",
       "stream": "stdout",
       "text": [
        "\n",
        "('iteration:', 693, 'Kplus:', 4, 'shape of Z', (100, 4), 'alpha:', 0.8653721660179865, 'sigmaX', 0.49380845213292784)"
       ]
      },
      {
       "output_type": "stream",
       "stream": "stdout",
       "text": [
        "\n",
        "('iteration:', 694, 'Kplus:', 5, 'shape of Z', (100, 5), 'alpha:', 0.7092455468092032, 'sigmaX', 0.49380845213292784)"
       ]
      },
      {
       "output_type": "stream",
       "stream": "stdout",
       "text": [
        "\n",
        "('iteration:', 695, 'Kplus:', 5, 'shape of Z', (100, 5), 'alpha:', 0.8990730007974925, 'sigmaX', 0.49380845213292784)"
       ]
      },
      {
       "output_type": "stream",
       "stream": "stdout",
       "text": [
        "\n",
        "('iteration:', 696, 'Kplus:', 5, 'shape of Z', (100, 5), 'alpha:', 1.0149858448785958, 'sigmaX', 0.49380845213292784)"
       ]
      },
      {
       "output_type": "stream",
       "stream": "stdout",
       "text": [
        "\n",
        "('iteration:', 697, 'Kplus:', 7, 'shape of Z', (100, 7), 'alpha:', 1.5833900253752713, 'sigmaX', 0.49380845213292784)"
       ]
      },
      {
       "output_type": "stream",
       "stream": "stdout",
       "text": [
        "\n",
        "('iteration:', 698, 'Kplus:', 8, 'shape of Z', (100, 8), 'alpha:', 1.0714954360333013, 'sigmaX', 0.49380845213292784)"
       ]
      },
      {
       "output_type": "stream",
       "stream": "stdout",
       "text": [
        "\n",
        "('iteration:', 699, 'Kplus:', 5, 'shape of Z', (100, 5), 'alpha:', 2.03823446280603, 'sigmaX', 0.4982563129317457)"
       ]
      },
      {
       "output_type": "stream",
       "stream": "stdout",
       "text": [
        "\n",
        "('iteration:', 700, 'Kplus:', 5, 'shape of Z', (100, 5), 'alpha:', 0.7737084140381963, 'sigmaX', 0.4982563129317457)"
       ]
      },
      {
       "output_type": "stream",
       "stream": "stdout",
       "text": [
        "\n",
        "('iteration:', 701, 'Kplus:', 4, 'shape of Z', (100, 4), 'alpha:', 1.2420389242262235, 'sigmaX', 0.4982563129317457)"
       ]
      },
      {
       "output_type": "stream",
       "stream": "stdout",
       "text": [
        "\n",
        "('iteration:', 702, 'Kplus:', 4, 'shape of Z', (100, 4), 'alpha:', 0.8805255318438714, 'sigmaX', 0.4982563129317457)"
       ]
      },
      {
       "output_type": "stream",
       "stream": "stdout",
       "text": [
        "\n",
        "('iteration:', 703, 'Kplus:', 5, 'shape of Z', (100, 5), 'alpha:', 0.7363742473607267, 'sigmaX', 0.4982563129317457)"
       ]
      },
      {
       "output_type": "stream",
       "stream": "stdout",
       "text": [
        "\n",
        "('iteration:', 704, 'Kplus:', 5, 'shape of Z', (100, 5), 'alpha:', 0.6120288471271011, 'sigmaX', 0.4990284957162335)"
       ]
      },
      {
       "output_type": "stream",
       "stream": "stdout",
       "text": [
        "\n",
        "('iteration:', 705, 'Kplus:', 4, 'shape of Z', (100, 4), 'alpha:', 0.670508021405293, 'sigmaX', 0.4990284957162335)"
       ]
      },
      {
       "output_type": "stream",
       "stream": "stdout",
       "text": [
        "\n",
        "('iteration:', 706, 'Kplus:', 4, 'shape of Z', (100, 4), 'alpha:', 0.8271240570357126, 'sigmaX', 0.4990284957162335)"
       ]
      },
      {
       "output_type": "stream",
       "stream": "stdout",
       "text": [
        "\n",
        "('iteration:', 707, 'Kplus:', 5, 'shape of Z', (100, 5), 'alpha:', 0.8033653122820594, 'sigmaX', 0.5011157137465098)"
       ]
      },
      {
       "output_type": "stream",
       "stream": "stdout",
       "text": [
        "\n",
        "('iteration:', 708, 'Kplus:', 5, 'shape of Z', (100, 5), 'alpha:', 1.0542561206765682, 'sigmaX', 0.5011157137465098)"
       ]
      },
      {
       "output_type": "stream",
       "stream": "stdout",
       "text": [
        "\n",
        "('iteration:', 709, 'Kplus:', 5, 'shape of Z', (100, 5), 'alpha:', 0.3023414029785521, 'sigmaX', 0.49170657799904377)"
       ]
      },
      {
       "output_type": "stream",
       "stream": "stdout",
       "text": [
        "\n",
        "('iteration:', 710, 'Kplus:', 4, 'shape of Z', (100, 4), 'alpha:', 0.9558998327122494, 'sigmaX', 0.49170657799904377)"
       ]
      },
      {
       "output_type": "stream",
       "stream": "stdout",
       "text": [
        "\n",
        "('iteration:', 711, 'Kplus:', 5, 'shape of Z', (100, 5), 'alpha:', 0.9604854398398939, 'sigmaX', 0.49170657799904377)"
       ]
      },
      {
       "output_type": "stream",
       "stream": "stdout",
       "text": [
        "\n",
        "('iteration:', 712, 'Kplus:', 5, 'shape of Z', (100, 5), 'alpha:', 0.8981330346822548, 'sigmaX', 0.49170657799904377)"
       ]
      },
      {
       "output_type": "stream",
       "stream": "stdout",
       "text": [
        "\n",
        "('iteration:', 713, 'Kplus:', 4, 'shape of Z', (100, 4), 'alpha:', 0.9478445986308833, 'sigmaX', 0.49170657799904377)"
       ]
      },
      {
       "output_type": "stream",
       "stream": "stdout",
       "text": [
        "\n",
        "('iteration:', 714, 'Kplus:', 5, 'shape of Z', (100, 5), 'alpha:', 0.7450339645401679, 'sigmaX', 0.49170657799904377)"
       ]
      },
      {
       "output_type": "stream",
       "stream": "stdout",
       "text": [
        "\n",
        "('iteration:', 715, 'Kplus:', 5, 'shape of Z', (100, 5), 'alpha:', 0.9234070175080111, 'sigmaX', 0.49170657799904377)"
       ]
      },
      {
       "output_type": "stream",
       "stream": "stdout",
       "text": [
        "\n",
        "('iteration:', 716, 'Kplus:', 7, 'shape of Z', (100, 7), 'alpha:', 1.1617895957632967, 'sigmaX', 0.49170657799904377)"
       ]
      },
      {
       "output_type": "stream",
       "stream": "stdout",
       "text": [
        "\n",
        "('iteration:', 717, 'Kplus:', 5, 'shape of Z', (100, 5), 'alpha:', 0.5104379902808911, 'sigmaX', 0.49170657799904377)"
       ]
      },
      {
       "output_type": "stream",
       "stream": "stdout",
       "text": [
        "\n",
        "('iteration:', 718, 'Kplus:', 6, 'shape of Z', (100, 6), 'alpha:', 2.139396262830576, 'sigmaX', 0.49170657799904377)"
       ]
      },
      {
       "output_type": "stream",
       "stream": "stdout",
       "text": [
        "\n",
        "('iteration:', 719, 'Kplus:', 5, 'shape of Z', (100, 5), 'alpha:', 0.8992548955594071, 'sigmaX', 0.49170657799904377)"
       ]
      },
      {
       "output_type": "stream",
       "stream": "stdout",
       "text": [
        "\n",
        "('iteration:', 720, 'Kplus:', 6, 'shape of Z', (100, 6), 'alpha:', 1.286187468899568, 'sigmaX', 0.49170657799904377)"
       ]
      },
      {
       "output_type": "stream",
       "stream": "stdout",
       "text": [
        "\n",
        "('iteration:', 721, 'Kplus:', 6, 'shape of Z', (100, 6), 'alpha:', 0.69480052584453, 'sigmaX', 0.49170657799904377)"
       ]
      },
      {
       "output_type": "stream",
       "stream": "stdout",
       "text": [
        "\n",
        "('iteration:', 722, 'Kplus:', 5, 'shape of Z', (100, 5), 'alpha:', 0.6398032794635012, 'sigmaX', 0.49170657799904377)"
       ]
      },
      {
       "output_type": "stream",
       "stream": "stdout",
       "text": [
        "\n",
        "('iteration:', 723, 'Kplus:', 4, 'shape of Z', (100, 4), 'alpha:', 0.7338479945519273, 'sigmaX', 0.49170657799904377)"
       ]
      },
      {
       "output_type": "stream",
       "stream": "stdout",
       "text": [
        "\n",
        "('iteration:', 724, 'Kplus:', 5, 'shape of Z', (100, 5), 'alpha:', 0.7630709343603401, 'sigmaX', 0.49170657799904377)"
       ]
      },
      {
       "output_type": "stream",
       "stream": "stdout",
       "text": [
        "\n",
        "('iteration:', 725, 'Kplus:', 5, 'shape of Z', (100, 5), 'alpha:', 2.057554231821466, 'sigmaX', 0.49170657799904377)"
       ]
      },
      {
       "output_type": "stream",
       "stream": "stdout",
       "text": [
        "\n",
        "('iteration:', 726, 'Kplus:', 7, 'shape of Z', (100, 7), 'alpha:', 1.0887578388055605, 'sigmaX', 0.49170657799904377)"
       ]
      },
      {
       "output_type": "stream",
       "stream": "stdout",
       "text": [
        "\n",
        "('iteration:', 727, 'Kplus:', 5, 'shape of Z', (100, 5), 'alpha:', 0.8759003885600752, 'sigmaX', 0.49170657799904377)"
       ]
      },
      {
       "output_type": "stream",
       "stream": "stdout",
       "text": [
        "\n",
        "('iteration:', 728, 'Kplus:', 5, 'shape of Z', (100, 5), 'alpha:', 1.0469543044030194, 'sigmaX', 0.49170657799904377)"
       ]
      },
      {
       "output_type": "stream",
       "stream": "stdout",
       "text": [
        "\n",
        "('iteration:', 729, 'Kplus:', 4, 'shape of Z', (100, 4), 'alpha:', 0.2811329673475105, 'sigmaX', 0.5003762489425245)"
       ]
      },
      {
       "output_type": "stream",
       "stream": "stdout",
       "text": [
        "\n",
        "('iteration:', 730, 'Kplus:', 4, 'shape of Z', (100, 4), 'alpha:', 0.6984568222524502, 'sigmaX', 0.4890580601605883)"
       ]
      },
      {
       "output_type": "stream",
       "stream": "stdout",
       "text": [
        "\n",
        "('iteration:', 731, 'Kplus:', 4, 'shape of Z', (100, 4), 'alpha:', 1.039751105629663, 'sigmaX', 0.4890580601605883)"
       ]
      },
      {
       "output_type": "stream",
       "stream": "stdout",
       "text": [
        "\n",
        "('iteration:', 732, 'Kplus:', 4, 'shape of Z', (100, 4), 'alpha:', 1.519355655951264, 'sigmaX', 0.4890580601605883)"
       ]
      },
      {
       "output_type": "stream",
       "stream": "stdout",
       "text": [
        "\n",
        "('iteration:', 733, 'Kplus:', 5, 'shape of Z', (100, 5), 'alpha:', 1.4528450908704311, 'sigmaX', 0.4890580601605883)"
       ]
      },
      {
       "output_type": "stream",
       "stream": "stdout",
       "text": [
        "\n",
        "('iteration:', 734, 'Kplus:', 5, 'shape of Z', (100, 5), 'alpha:', 0.8077349566173482, 'sigmaX', 0.4890580601605883)"
       ]
      },
      {
       "output_type": "stream",
       "stream": "stdout",
       "text": [
        "\n",
        "('iteration:', 735, 'Kplus:', 5, 'shape of Z', (100, 5), 'alpha:', 1.0236957178141641, 'sigmaX', 0.4890580601605883)"
       ]
      },
      {
       "output_type": "stream",
       "stream": "stdout",
       "text": [
        "\n",
        "('iteration:', 736, 'Kplus:', 5, 'shape of Z', (100, 5), 'alpha:', 0.5448473938125264, 'sigmaX', 0.4890580601605883)"
       ]
      },
      {
       "output_type": "stream",
       "stream": "stdout",
       "text": [
        "\n",
        "('iteration:', 737, 'Kplus:', 5, 'shape of Z', (100, 5), 'alpha:', 2.0648662646650213, 'sigmaX', 0.4890580601605883)"
       ]
      },
      {
       "output_type": "stream",
       "stream": "stdout",
       "text": [
        "\n",
        "('iteration:', 738, 'Kplus:', 5, 'shape of Z', (100, 5), 'alpha:', 0.5393659378491623, 'sigmaX', 0.4890580601605883)"
       ]
      },
      {
       "output_type": "stream",
       "stream": "stdout",
       "text": [
        "\n",
        "('iteration:', 739, 'Kplus:', 8, 'shape of Z', (100, 8), 'alpha:', 1.7394793115552747, 'sigmaX', 0.4890580601605883)"
       ]
      },
      {
       "output_type": "stream",
       "stream": "stdout",
       "text": [
        "\n",
        "('iteration:', 740, 'Kplus:', 5, 'shape of Z', (100, 5), 'alpha:', 1.6035603882144531, 'sigmaX', 0.4890580601605883)"
       ]
      },
      {
       "output_type": "stream",
       "stream": "stdout",
       "text": [
        "\n",
        "('iteration:', 741, 'Kplus:', 6, 'shape of Z', (100, 6), 'alpha:', 0.9702967979686181, 'sigmaX', 0.4881189067999292)"
       ]
      },
      {
       "output_type": "stream",
       "stream": "stdout",
       "text": [
        "\n",
        "('iteration:', 742, 'Kplus:', 4, 'shape of Z', (100, 4), 'alpha:', 0.4377860218528764, 'sigmaX', 0.4881189067999292)"
       ]
      },
      {
       "output_type": "stream",
       "stream": "stdout",
       "text": [
        "\n",
        "('iteration:', 743, 'Kplus:', 4, 'shape of Z', (100, 4), 'alpha:', 0.33313222043135904, 'sigmaX', 0.5161440335915796)"
       ]
      },
      {
       "output_type": "stream",
       "stream": "stdout",
       "text": [
        "\n",
        "('iteration:', 744, 'Kplus:', 4, 'shape of Z', (100, 4), 'alpha:', 0.42589008435077264, 'sigmaX', 0.5161440335915796)"
       ]
      },
      {
       "output_type": "stream",
       "stream": "stdout",
       "text": [
        "\n",
        "('iteration:', 745, 'Kplus:', 4, 'shape of Z', (100, 4), 'alpha:', 0.8325016206278709, 'sigmaX', 0.5145138549192492)"
       ]
      },
      {
       "output_type": "stream",
       "stream": "stdout",
       "text": [
        "\n",
        "('iteration:', 746, 'Kplus:', 5, 'shape of Z', (100, 5), 'alpha:', 0.5572873694466653, 'sigmaX', 0.49032239788353166)"
       ]
      },
      {
       "output_type": "stream",
       "stream": "stdout",
       "text": [
        "\n",
        "('iteration:', 747, 'Kplus:', 5, 'shape of Z', (100, 5), 'alpha:', 1.0353548551499465, 'sigmaX', 0.49032239788353166)"
       ]
      },
      {
       "output_type": "stream",
       "stream": "stdout",
       "text": [
        "\n",
        "('iteration:', 748, 'Kplus:', 5, 'shape of Z', (100, 5), 'alpha:', 0.6975676049474103, 'sigmaX', 0.4980041187490622)"
       ]
      },
      {
       "output_type": "stream",
       "stream": "stdout",
       "text": [
        "\n",
        "('iteration:', 749, 'Kplus:', 4, 'shape of Z', (100, 4), 'alpha:', 1.7235423835644201, 'sigmaX', 0.4922925814361771)"
       ]
      },
      {
       "output_type": "stream",
       "stream": "stdout",
       "text": [
        "\n",
        "('iteration:', 750, 'Kplus:', 5, 'shape of Z', (100, 5), 'alpha:', 1.171463039577942, 'sigmaX', 0.4922925814361771)"
       ]
      },
      {
       "output_type": "stream",
       "stream": "stdout",
       "text": [
        "\n",
        "('iteration:', 751, 'Kplus:', 5, 'shape of Z', (100, 5), 'alpha:', 1.2794228322132812, 'sigmaX', 0.4922925814361771)"
       ]
      },
      {
       "output_type": "stream",
       "stream": "stdout",
       "text": [
        "\n",
        "('iteration:', 752, 'Kplus:', 4, 'shape of Z', (100, 4), 'alpha:', 0.4346429327768878, 'sigmaX', 0.4922925814361771)"
       ]
      },
      {
       "output_type": "stream",
       "stream": "stdout",
       "text": [
        "\n",
        "('iteration:', 753, 'Kplus:', 4, 'shape of Z', (100, 4), 'alpha:', 0.7517773569871437, 'sigmaX', 0.4922925814361771)"
       ]
      },
      {
       "output_type": "stream",
       "stream": "stdout",
       "text": [
        "\n",
        "('iteration:', 754, 'Kplus:', 5, 'shape of Z', (100, 5), 'alpha:', 0.865078281383621, 'sigmaX', 0.4922925814361771)"
       ]
      },
      {
       "output_type": "stream",
       "stream": "stdout",
       "text": [
        "\n",
        "('iteration:', 755, 'Kplus:', 4, 'shape of Z', (100, 4), 'alpha:', 0.24395227458285304, 'sigmaX', 0.4922925814361771)"
       ]
      },
      {
       "output_type": "stream",
       "stream": "stdout",
       "text": [
        "\n",
        "('iteration:', 756, 'Kplus:', 4, 'shape of Z', (100, 4), 'alpha:', 0.5603606701804378, 'sigmaX', 0.4922925814361771)"
       ]
      },
      {
       "output_type": "stream",
       "stream": "stdout",
       "text": [
        "\n",
        "('iteration:', 757, 'Kplus:', 4, 'shape of Z', (100, 4), 'alpha:', 0.6473581749812888, 'sigmaX', 0.4922925814361771)"
       ]
      },
      {
       "output_type": "stream",
       "stream": "stdout",
       "text": [
        "\n",
        "('iteration:', 758, 'Kplus:', 6, 'shape of Z', (100, 6), 'alpha:', 0.8486825073416192, 'sigmaX', 0.4972695860736935)"
       ]
      },
      {
       "output_type": "stream",
       "stream": "stdout",
       "text": [
        "\n",
        "('iteration:', 759, 'Kplus:', 6, 'shape of Z', (100, 6), 'alpha:', 0.7006819182161405, 'sigmaX', 0.495113809866231)"
       ]
      },
      {
       "output_type": "stream",
       "stream": "stdout",
       "text": [
        "\n",
        "('iteration:', 760, 'Kplus:', 7, 'shape of Z', (100, 7), 'alpha:', 0.6485420575707262, 'sigmaX', 0.495113809866231)"
       ]
      },
      {
       "output_type": "stream",
       "stream": "stdout",
       "text": [
        "\n",
        "('iteration:', 761, 'Kplus:', 6, 'shape of Z', (100, 6), 'alpha:', 1.055870016867398, 'sigmaX', 0.495113809866231)"
       ]
      },
      {
       "output_type": "stream",
       "stream": "stdout",
       "text": [
        "\n",
        "('iteration:', 762, 'Kplus:', 5, 'shape of Z', (100, 5), 'alpha:', 1.2483790721306323, 'sigmaX', 0.495113809866231)"
       ]
      },
      {
       "output_type": "stream",
       "stream": "stdout",
       "text": [
        "\n",
        "('iteration:', 763, 'Kplus:', 6, 'shape of Z', (100, 6), 'alpha:', 0.8254792277933062, 'sigmaX', 0.495113809866231)"
       ]
      },
      {
       "output_type": "stream",
       "stream": "stdout",
       "text": [
        "\n",
        "('iteration:', 764, 'Kplus:', 6, 'shape of Z', (100, 6), 'alpha:', 0.8112011556161974, 'sigmaX', 0.49521165561471414)"
       ]
      },
      {
       "output_type": "stream",
       "stream": "stdout",
       "text": [
        "\n",
        "('iteration:', 765, 'Kplus:', 4, 'shape of Z', (100, 4), 'alpha:', 0.6949452787316146, 'sigmaX', 0.49521165561471414)"
       ]
      },
      {
       "output_type": "stream",
       "stream": "stdout",
       "text": [
        "\n",
        "('iteration:', 766, 'Kplus:', 4, 'shape of Z', (100, 4), 'alpha:', 0.46785912290922904, 'sigmaX', 0.49521165561471414)"
       ]
      },
      {
       "output_type": "stream",
       "stream": "stdout",
       "text": [
        "\n",
        "('iteration:', 767, 'Kplus:', 5, 'shape of Z', (100, 5), 'alpha:', 1.2528786680363235, 'sigmaX', 0.49521165561471414)"
       ]
      },
      {
       "output_type": "stream",
       "stream": "stdout",
       "text": [
        "\n",
        "('iteration:', 768, 'Kplus:', 6, 'shape of Z', (100, 6), 'alpha:', 1.544392202481016, 'sigmaX', 0.49521165561471414)"
       ]
      },
      {
       "output_type": "stream",
       "stream": "stdout",
       "text": [
        "\n",
        "('iteration:', 769, 'Kplus:', 8, 'shape of Z', (100, 8), 'alpha:', 1.3251000367766705, 'sigmaX', 0.49521165561471414)"
       ]
      },
      {
       "output_type": "stream",
       "stream": "stdout",
       "text": [
        "\n",
        "('iteration:', 770, 'Kplus:', 5, 'shape of Z', (100, 5), 'alpha:', 0.6259151563733601, 'sigmaX', 0.49521165561471414)"
       ]
      },
      {
       "output_type": "stream",
       "stream": "stdout",
       "text": [
        "\n",
        "('iteration:', 771, 'Kplus:', 5, 'shape of Z', (100, 5), 'alpha:', 0.42027651406850847, 'sigmaX', 0.49521165561471414)"
       ]
      },
      {
       "output_type": "stream",
       "stream": "stdout",
       "text": [
        "\n",
        "('iteration:', 772, 'Kplus:', 4, 'shape of Z', (100, 4), 'alpha:', 1.114317205025111, 'sigmaX', 0.49521165561471414)"
       ]
      },
      {
       "output_type": "stream",
       "stream": "stdout",
       "text": [
        "\n",
        "('iteration:', 773, 'Kplus:', 6, 'shape of Z', (100, 6), 'alpha:', 1.2628162935968026, 'sigmaX', 0.49521165561471414)"
       ]
      },
      {
       "output_type": "stream",
       "stream": "stdout",
       "text": [
        "\n",
        "('iteration:', 774, 'Kplus:', 4, 'shape of Z', (100, 4), 'alpha:', 0.9648523759408993, 'sigmaX', 0.5035776508614416)"
       ]
      },
      {
       "output_type": "stream",
       "stream": "stdout",
       "text": [
        "\n",
        "('iteration:', 775, 'Kplus:', 4, 'shape of Z', (100, 4), 'alpha:', 0.7803407843490737, 'sigmaX', 0.4934736356669083)"
       ]
      },
      {
       "output_type": "stream",
       "stream": "stdout",
       "text": [
        "\n",
        "('iteration:', 776, 'Kplus:', 5, 'shape of Z', (100, 5), 'alpha:', 0.4489969133772308, 'sigmaX', 0.4934736356669083)"
       ]
      },
      {
       "output_type": "stream",
       "stream": "stdout",
       "text": [
        "\n",
        "('iteration:', 777, 'Kplus:', 5, 'shape of Z', (100, 5), 'alpha:', 0.5896394130683624, 'sigmaX', 0.4934736356669083)"
       ]
      },
      {
       "output_type": "stream",
       "stream": "stdout",
       "text": [
        "\n",
        "('iteration:', 778, 'Kplus:', 6, 'shape of Z', (100, 6), 'alpha:', 0.307610006365636, 'sigmaX', 0.4934736356669083)"
       ]
      },
      {
       "output_type": "stream",
       "stream": "stdout",
       "text": [
        "\n",
        "('iteration:', 779, 'Kplus:', 5, 'shape of Z', (100, 5), 'alpha:', 0.8717425178452608, 'sigmaX', 0.4934736356669083)"
       ]
      },
      {
       "output_type": "stream",
       "stream": "stdout",
       "text": [
        "\n",
        "('iteration:', 780, 'Kplus:', 6, 'shape of Z', (100, 6), 'alpha:', 0.4593952108044236, 'sigmaX', 0.4934736356669083)"
       ]
      },
      {
       "output_type": "stream",
       "stream": "stdout",
       "text": [
        "\n",
        "('iteration:', 781, 'Kplus:', 5, 'shape of Z', (100, 5), 'alpha:', 0.8394056960513708, 'sigmaX', 0.4934736356669083)"
       ]
      },
      {
       "output_type": "stream",
       "stream": "stdout",
       "text": [
        "\n",
        "('iteration:', 782, 'Kplus:', 4, 'shape of Z', (100, 4), 'alpha:', 0.6664149337657084, 'sigmaX', 0.4934736356669083)"
       ]
      },
      {
       "output_type": "stream",
       "stream": "stdout",
       "text": [
        "\n",
        "('iteration:', 783, 'Kplus:', 4, 'shape of Z', (100, 4), 'alpha:', 0.4252797186273634, 'sigmaX', 0.4934736356669083)"
       ]
      },
      {
       "output_type": "stream",
       "stream": "stdout",
       "text": [
        "\n",
        "('iteration:', 784, 'Kplus:', 5, 'shape of Z', (100, 5), 'alpha:', 1.3244538756697628, 'sigmaX', 0.4934736356669083)"
       ]
      },
      {
       "output_type": "stream",
       "stream": "stdout",
       "text": [
        "\n",
        "('iteration:', 785, 'Kplus:', 7, 'shape of Z', (100, 7), 'alpha:', 0.9676251110137644, 'sigmaX', 0.4934736356669083)"
       ]
      },
      {
       "output_type": "stream",
       "stream": "stdout",
       "text": [
        "\n",
        "('iteration:', 786, 'Kplus:', 7, 'shape of Z', (100, 7), 'alpha:', 1.5524780849142612, 'sigmaX', 0.49460577213331974)"
       ]
      },
      {
       "output_type": "stream",
       "stream": "stdout",
       "text": [
        "\n",
        "('iteration:', 787, 'Kplus:', 6, 'shape of Z', (100, 6), 'alpha:', 0.9844797734854804, 'sigmaX', 0.49460577213331974)"
       ]
      },
      {
       "output_type": "stream",
       "stream": "stdout",
       "text": [
        "\n",
        "('iteration:', 788, 'Kplus:', 6, 'shape of Z', (100, 6), 'alpha:', 0.8214028190371697, 'sigmaX', 0.49460577213331974)"
       ]
      },
      {
       "output_type": "stream",
       "stream": "stdout",
       "text": [
        "\n",
        "('iteration:', 789, 'Kplus:', 5, 'shape of Z', (100, 5), 'alpha:', 0.29653534152183336, 'sigmaX', 0.49460577213331974)"
       ]
      },
      {
       "output_type": "stream",
       "stream": "stdout",
       "text": [
        "\n",
        "('iteration:', 790, 'Kplus:', 4, 'shape of Z', (100, 4), 'alpha:', 0.6433235848277198, 'sigmaX', 0.49460577213331974)"
       ]
      },
      {
       "output_type": "stream",
       "stream": "stdout",
       "text": [
        "\n",
        "('iteration:', 791, 'Kplus:', 4, 'shape of Z', (100, 4), 'alpha:', 1.1902044065842967, 'sigmaX', 0.4976935602520837)"
       ]
      },
      {
       "output_type": "stream",
       "stream": "stdout",
       "text": [
        "\n",
        "('iteration:', 792, 'Kplus:', 5, 'shape of Z', (100, 5), 'alpha:', 0.9427122149676151, 'sigmaX', 0.4976935602520837)"
       ]
      },
      {
       "output_type": "stream",
       "stream": "stdout",
       "text": [
        "\n",
        "('iteration:', 793, 'Kplus:', 4, 'shape of Z', (100, 4), 'alpha:', 0.3913345082970218, 'sigmaX', 0.4976935602520837)"
       ]
      },
      {
       "output_type": "stream",
       "stream": "stdout",
       "text": [
        "\n",
        "('iteration:', 794, 'Kplus:', 4, 'shape of Z', (100, 4), 'alpha:', 0.8033641125474535, 'sigmaX', 0.4976935602520837)"
       ]
      },
      {
       "output_type": "stream",
       "stream": "stdout",
       "text": [
        "\n",
        "('iteration:', 795, 'Kplus:', 4, 'shape of Z', (100, 4), 'alpha:', 0.5361193261566017, 'sigmaX', 0.4976935602520837)"
       ]
      },
      {
       "output_type": "stream",
       "stream": "stdout",
       "text": [
        "\n",
        "('iteration:', 796, 'Kplus:', 5, 'shape of Z', (100, 5), 'alpha:', 0.6475498547337922, 'sigmaX', 0.4976935602520837)"
       ]
      },
      {
       "output_type": "stream",
       "stream": "stdout",
       "text": [
        "\n",
        "('iteration:', 797, 'Kplus:', 4, 'shape of Z', (100, 4), 'alpha:', 0.6210166076642109, 'sigmaX', 0.4976935602520837)"
       ]
      },
      {
       "output_type": "stream",
       "stream": "stdout",
       "text": [
        "\n",
        "('iteration:', 798, 'Kplus:', 4, 'shape of Z', (100, 4), 'alpha:', 0.514622926034219, 'sigmaX', 0.4976935602520837)"
       ]
      },
      {
       "output_type": "stream",
       "stream": "stdout",
       "text": [
        "\n",
        "('iteration:', 799, 'Kplus:', 4, 'shape of Z', (100, 4), 'alpha:', 1.6375752445937721, 'sigmaX', 0.4994095611883304)"
       ]
      },
      {
       "output_type": "stream",
       "stream": "stdout",
       "text": [
        "\n",
        "('iteration:', 800, 'Kplus:', 5, 'shape of Z', (100, 5), 'alpha:', 0.4232603095255687, 'sigmaX', 0.4994095611883304)"
       ]
      },
      {
       "output_type": "stream",
       "stream": "stdout",
       "text": [
        "\n",
        "('iteration:', 801, 'Kplus:', 5, 'shape of Z', (100, 5), 'alpha:', 1.5901278542847759, 'sigmaX', 0.4994095611883304)"
       ]
      },
      {
       "output_type": "stream",
       "stream": "stdout",
       "text": [
        "\n",
        "('iteration:', 802, 'Kplus:', 6, 'shape of Z', (100, 6), 'alpha:', 1.1059981241926544, 'sigmaX', 0.4983793949482555)"
       ]
      },
      {
       "output_type": "stream",
       "stream": "stdout",
       "text": [
        "\n",
        "('iteration:', 803, 'Kplus:', 5, 'shape of Z', (100, 5), 'alpha:', 1.1388897589314686, 'sigmaX', 0.4983793949482555)"
       ]
      },
      {
       "output_type": "stream",
       "stream": "stdout",
       "text": [
        "\n",
        "('iteration:', 804, 'Kplus:', 7, 'shape of Z', (100, 7), 'alpha:', 1.4408231823305497, 'sigmaX', 0.4983793949482555)"
       ]
      },
      {
       "output_type": "stream",
       "stream": "stdout",
       "text": [
        "\n",
        "('iteration:', 805, 'Kplus:', 6, 'shape of Z', (100, 6), 'alpha:', 1.3753047429280099, 'sigmaX', 0.4983793949482555)"
       ]
      },
      {
       "output_type": "stream",
       "stream": "stdout",
       "text": [
        "\n",
        "('iteration:', 806, 'Kplus:', 5, 'shape of Z', (100, 5), 'alpha:', 1.147832711654403, 'sigmaX', 0.4983793949482555)"
       ]
      },
      {
       "output_type": "stream",
       "stream": "stdout",
       "text": [
        "\n",
        "('iteration:', 807, 'Kplus:', 6, 'shape of Z', (100, 6), 'alpha:', 0.590289234972389, 'sigmaX', 0.4983793949482555)"
       ]
      },
      {
       "output_type": "stream",
       "stream": "stdout",
       "text": [
        "\n",
        "('iteration:', 808, 'Kplus:', 4, 'shape of Z', (100, 4), 'alpha:', 0.5553334620354506, 'sigmaX', 0.4983793949482555)"
       ]
      },
      {
       "output_type": "stream",
       "stream": "stdout",
       "text": [
        "\n",
        "('iteration:', 809, 'Kplus:', 4, 'shape of Z', (100, 4), 'alpha:', 1.2384893554895626, 'sigmaX', 0.4983793949482555)"
       ]
      },
      {
       "output_type": "stream",
       "stream": "stdout",
       "text": [
        "\n",
        "('iteration:', 810, 'Kplus:', 6, 'shape of Z', (100, 6), 'alpha:', 1.104857665981213, 'sigmaX', 0.503423971136552)"
       ]
      },
      {
       "output_type": "stream",
       "stream": "stdout",
       "text": [
        "\n",
        "('iteration:', 811, 'Kplus:', 5, 'shape of Z', (100, 5), 'alpha:', 0.8636281263956396, 'sigmaX', 0.503423971136552)"
       ]
      },
      {
       "output_type": "stream",
       "stream": "stdout",
       "text": [
        "\n",
        "('iteration:', 812, 'Kplus:', 5, 'shape of Z', (100, 5), 'alpha:', 0.7465192728817619, 'sigmaX', 0.503423971136552)"
       ]
      },
      {
       "output_type": "stream",
       "stream": "stdout",
       "text": [
        "\n",
        "('iteration:', 813, 'Kplus:', 5, 'shape of Z', (100, 5), 'alpha:', 0.8056596057033035, 'sigmaX', 0.503423971136552)"
       ]
      },
      {
       "output_type": "stream",
       "stream": "stdout",
       "text": [
        "\n",
        "('iteration:', 814, 'Kplus:', 4, 'shape of Z', (100, 4), 'alpha:', 0.6473843618707288, 'sigmaX', 0.503423971136552)"
       ]
      },
      {
       "output_type": "stream",
       "stream": "stdout",
       "text": [
        "\n",
        "('iteration:', 815, 'Kplus:', 4, 'shape of Z', (100, 4), 'alpha:', 0.629944089813232, 'sigmaX', 0.503423971136552)"
       ]
      },
      {
       "output_type": "stream",
       "stream": "stdout",
       "text": [
        "\n",
        "('iteration:', 816, 'Kplus:', 5, 'shape of Z', (100, 5), 'alpha:', 0.5697123699850861, 'sigmaX', 0.496447537363152)"
       ]
      },
      {
       "output_type": "stream",
       "stream": "stdout",
       "text": [
        "\n",
        "('iteration:', 817, 'Kplus:', 4, 'shape of Z', (100, 4), 'alpha:', 0.397657326940519, 'sigmaX', 0.496447537363152)"
       ]
      },
      {
       "output_type": "stream",
       "stream": "stdout",
       "text": [
        "\n",
        "('iteration:', 818, 'Kplus:', 4, 'shape of Z', (100, 4), 'alpha:', 0.8256689647831946, 'sigmaX', 0.4986783536992095)"
       ]
      },
      {
       "output_type": "stream",
       "stream": "stdout",
       "text": [
        "\n",
        "('iteration:', 819, 'Kplus:', 4, 'shape of Z', (100, 4), 'alpha:', 1.3352444729798714, 'sigmaX', 0.4986783536992095)"
       ]
      },
      {
       "output_type": "stream",
       "stream": "stdout",
       "text": [
        "\n",
        "('iteration:', 820, 'Kplus:', 6, 'shape of Z', (100, 6), 'alpha:', 1.552665443063954, 'sigmaX', 0.4986783536992095)"
       ]
      },
      {
       "output_type": "stream",
       "stream": "stdout",
       "text": [
        "\n",
        "('iteration:', 821, 'Kplus:', 5, 'shape of Z', (100, 5), 'alpha:', 1.2151334082473542, 'sigmaX', 0.4986783536992095)"
       ]
      },
      {
       "output_type": "stream",
       "stream": "stdout",
       "text": [
        "\n",
        "('iteration:', 822, 'Kplus:', 6, 'shape of Z', (100, 6), 'alpha:', 0.9257077740060622, 'sigmaX', 0.4986783536992095)"
       ]
      },
      {
       "output_type": "stream",
       "stream": "stdout",
       "text": [
        "\n",
        "('iteration:', 823, 'Kplus:', 5, 'shape of Z', (100, 5), 'alpha:', 1.3057699783195393, 'sigmaX', 0.4986783536992095)"
       ]
      },
      {
       "output_type": "stream",
       "stream": "stdout",
       "text": [
        "\n",
        "('iteration:', 824, 'Kplus:', 5, 'shape of Z', (100, 5), 'alpha:', 0.7765317001273684, 'sigmaX', 0.4986783536992095)"
       ]
      },
      {
       "output_type": "stream",
       "stream": "stdout",
       "text": [
        "\n",
        "('iteration:', 825, 'Kplus:', 5, 'shape of Z', (100, 5), 'alpha:', 1.2231518258508993, 'sigmaX', 0.4986783536992095)"
       ]
      },
      {
       "output_type": "stream",
       "stream": "stdout",
       "text": [
        "\n",
        "('iteration:', 826, 'Kplus:', 6, 'shape of Z', (100, 6), 'alpha:', 0.7029825438829816, 'sigmaX', 0.4986783536992095)"
       ]
      },
      {
       "output_type": "stream",
       "stream": "stdout",
       "text": [
        "\n",
        "('iteration:', 827, 'Kplus:', 4, 'shape of Z', (100, 4), 'alpha:', 0.8232217766569843, 'sigmaX', 0.4986783536992095)"
       ]
      },
      {
       "output_type": "stream",
       "stream": "stdout",
       "text": [
        "\n",
        "('iteration:', 828, 'Kplus:', 4, 'shape of Z', (100, 4), 'alpha:', 0.34504955802785314, 'sigmaX', 0.4986783536992095)"
       ]
      },
      {
       "output_type": "stream",
       "stream": "stdout",
       "text": [
        "\n",
        "('iteration:', 829, 'Kplus:', 4, 'shape of Z', (100, 4), 'alpha:', 0.9395416197114814, 'sigmaX', 0.4986783536992095)"
       ]
      },
      {
       "output_type": "stream",
       "stream": "stdout",
       "text": [
        "\n",
        "('iteration:', 830, 'Kplus:', 5, 'shape of Z', (100, 5), 'alpha:', 0.7901947422751975, 'sigmaX', 0.4986783536992095)"
       ]
      },
      {
       "output_type": "stream",
       "stream": "stdout",
       "text": [
        "\n",
        "('iteration:', 831, 'Kplus:', 5, 'shape of Z', (100, 5), 'alpha:', 0.8618189273106227, 'sigmaX', 0.4986783536992095)"
       ]
      },
      {
       "output_type": "stream",
       "stream": "stdout",
       "text": [
        "\n",
        "('iteration:', 832, 'Kplus:', 4, 'shape of Z', (100, 4), 'alpha:', 0.5322640777137838, 'sigmaX', 0.4986783536992095)"
       ]
      },
      {
       "output_type": "stream",
       "stream": "stdout",
       "text": [
        "\n",
        "('iteration:', 833, 'Kplus:', 4, 'shape of Z', (100, 4), 'alpha:', 0.4154866861233072, 'sigmaX', 0.4986783536992095)"
       ]
      },
      {
       "output_type": "stream",
       "stream": "stdout",
       "text": [
        "\n",
        "('iteration:', 834, 'Kplus:', 5, 'shape of Z', (100, 5), 'alpha:', 1.6804796443955952, 'sigmaX', 0.4986783536992095)"
       ]
      },
      {
       "output_type": "stream",
       "stream": "stdout",
       "text": [
        "\n",
        "('iteration:', 835, 'Kplus:', 7, 'shape of Z', (100, 7), 'alpha:', 1.7362592202962703, 'sigmaX', 0.4916721647024929)"
       ]
      },
      {
       "output_type": "stream",
       "stream": "stdout",
       "text": [
        "\n",
        "('iteration:', 836, 'Kplus:', 6, 'shape of Z', (100, 6), 'alpha:', 0.8754310014242532, 'sigmaX', 0.4916721647024929)"
       ]
      },
      {
       "output_type": "stream",
       "stream": "stdout",
       "text": [
        "\n",
        "('iteration:', 837, 'Kplus:', 4, 'shape of Z', (100, 4), 'alpha:', 0.6529400410109241, 'sigmaX', 0.4916721647024929)"
       ]
      },
      {
       "output_type": "stream",
       "stream": "stdout",
       "text": [
        "\n",
        "('iteration:', 838, 'Kplus:', 6, 'shape of Z', (100, 6), 'alpha:', 0.9009268861552273, 'sigmaX', 0.4916721647024929)"
       ]
      },
      {
       "output_type": "stream",
       "stream": "stdout",
       "text": [
        "\n",
        "('iteration:', 839, 'Kplus:', 6, 'shape of Z', (100, 6), 'alpha:', 1.396167425020328, 'sigmaX', 0.4916721647024929)"
       ]
      },
      {
       "output_type": "stream",
       "stream": "stdout",
       "text": [
        "\n",
        "('iteration:', 840, 'Kplus:', 5, 'shape of Z', (100, 5), 'alpha:', 0.831797095655262, 'sigmaX', 0.4916721647024929)"
       ]
      },
      {
       "output_type": "stream",
       "stream": "stdout",
       "text": [
        "\n",
        "('iteration:', 841, 'Kplus:', 4, 'shape of Z', (100, 4), 'alpha:', 0.4683697897632515, 'sigmaX', 0.4916721647024929)"
       ]
      },
      {
       "output_type": "stream",
       "stream": "stdout",
       "text": [
        "\n",
        "('iteration:', 842, 'Kplus:', 4, 'shape of Z', (100, 4), 'alpha:', 1.0474281714131937, 'sigmaX', 0.4916721647024929)"
       ]
      },
      {
       "output_type": "stream",
       "stream": "stdout",
       "text": [
        "\n",
        "('iteration:', 843, 'Kplus:', 5, 'shape of Z', (100, 5), 'alpha:', 0.741152222624497, 'sigmaX', 0.5031573034803923)"
       ]
      },
      {
       "output_type": "stream",
       "stream": "stdout",
       "text": [
        "\n",
        "('iteration:', 844, 'Kplus:', 4, 'shape of Z', (100, 4), 'alpha:', 0.7926481189315455, 'sigmaX', 0.5031573034803923)"
       ]
      },
      {
       "output_type": "stream",
       "stream": "stdout",
       "text": [
        "\n",
        "('iteration:', 845, 'Kplus:', 5, 'shape of Z', (100, 5), 'alpha:', 1.2827747532039713, 'sigmaX', 0.5031573034803923)"
       ]
      },
      {
       "output_type": "stream",
       "stream": "stdout",
       "text": [
        "\n",
        "('iteration:', 846, 'Kplus:', 5, 'shape of Z', (100, 5), 'alpha:', 1.7044268769361075, 'sigmaX', 0.5031573034803923)"
       ]
      },
      {
       "output_type": "stream",
       "stream": "stdout",
       "text": [
        "\n",
        "('iteration:', 847, 'Kplus:', 7, 'shape of Z', (100, 7), 'alpha:', 0.5026390506454104, 'sigmaX', 0.5031573034803923)"
       ]
      },
      {
       "output_type": "stream",
       "stream": "stdout",
       "text": [
        "\n",
        "('iteration:', 848, 'Kplus:', 7, 'shape of Z', (100, 7), 'alpha:', 1.3893357982239996, 'sigmaX', 0.5031573034803923)"
       ]
      },
      {
       "output_type": "stream",
       "stream": "stdout",
       "text": [
        "\n",
        "('iteration:', 849, 'Kplus:', 6, 'shape of Z', (100, 6), 'alpha:', 1.3575401582731657, 'sigmaX', 0.5031573034803923)"
       ]
      },
      {
       "output_type": "stream",
       "stream": "stdout",
       "text": [
        "\n",
        "('iteration:', 850, 'Kplus:', 5, 'shape of Z', (100, 5), 'alpha:', 0.9216310458833497, 'sigmaX', 0.5031573034803923)"
       ]
      },
      {
       "output_type": "stream",
       "stream": "stdout",
       "text": [
        "\n",
        "('iteration:', 851, 'Kplus:', 5, 'shape of Z', (100, 5), 'alpha:', 0.9448529072545389, 'sigmaX', 0.5031573034803923)"
       ]
      },
      {
       "output_type": "stream",
       "stream": "stdout",
       "text": [
        "\n",
        "('iteration:', 852, 'Kplus:', 6, 'shape of Z', (100, 6), 'alpha:', 1.802523336583924, 'sigmaX', 0.5031573034803923)"
       ]
      },
      {
       "output_type": "stream",
       "stream": "stdout",
       "text": [
        "\n",
        "('iteration:', 853, 'Kplus:', 5, 'shape of Z', (100, 5), 'alpha:', 0.7034576467939295, 'sigmaX', 0.5031573034803923)"
       ]
      },
      {
       "output_type": "stream",
       "stream": "stdout",
       "text": [
        "\n",
        "('iteration:', 854, 'Kplus:', 5, 'shape of Z', (100, 5), 'alpha:', 1.144578092385072, 'sigmaX', 0.5031573034803923)"
       ]
      },
      {
       "output_type": "stream",
       "stream": "stdout",
       "text": [
        "\n",
        "('iteration:', 855, 'Kplus:', 5, 'shape of Z', (100, 5), 'alpha:', 1.2067707749816599, 'sigmaX', 0.5010442279919831)"
       ]
      },
      {
       "output_type": "stream",
       "stream": "stdout",
       "text": [
        "\n",
        "('iteration:', 856, 'Kplus:', 5, 'shape of Z', (100, 5), 'alpha:', 1.3960774259161475, 'sigmaX', 0.5006277691971045)"
       ]
      },
      {
       "output_type": "stream",
       "stream": "stdout",
       "text": [
        "\n",
        "('iteration:', 857, 'Kplus:', 6, 'shape of Z', (100, 6), 'alpha:', 0.4859271781880408, 'sigmaX', 0.5006277691971045)"
       ]
      },
      {
       "output_type": "stream",
       "stream": "stdout",
       "text": [
        "\n",
        "('iteration:', 858, 'Kplus:', 4, 'shape of Z', (100, 4), 'alpha:', 0.9236936966251478, 'sigmaX', 0.4952780984036493)"
       ]
      },
      {
       "output_type": "stream",
       "stream": "stdout",
       "text": [
        "\n",
        "('iteration:', 859, 'Kplus:', 5, 'shape of Z', (100, 5), 'alpha:', 0.7184414871779438, 'sigmaX', 0.4952780984036493)"
       ]
      },
      {
       "output_type": "stream",
       "stream": "stdout",
       "text": [
        "\n",
        "('iteration:', 860, 'Kplus:', 5, 'shape of Z', (100, 5), 'alpha:', 0.666391516181733, 'sigmaX', 0.4952780984036493)"
       ]
      },
      {
       "output_type": "stream",
       "stream": "stdout",
       "text": [
        "\n",
        "('iteration:', 861, 'Kplus:', 4, 'shape of Z', (100, 4), 'alpha:', 0.7013252505639695, 'sigmaX', 0.49688045621729915)"
       ]
      },
      {
       "output_type": "stream",
       "stream": "stdout",
       "text": [
        "\n",
        "('iteration:', 862, 'Kplus:', 5, 'shape of Z', (100, 5), 'alpha:', 0.9301582461710791, 'sigmaX', 0.49688045621729915)"
       ]
      },
      {
       "output_type": "stream",
       "stream": "stdout",
       "text": [
        "\n",
        "('iteration:', 863, 'Kplus:', 5, 'shape of Z', (100, 5), 'alpha:', 1.2379326574272547, 'sigmaX', 0.49688045621729915)"
       ]
      },
      {
       "output_type": "stream",
       "stream": "stdout",
       "text": [
        "\n",
        "('iteration:', 864, 'Kplus:', 6, 'shape of Z', (100, 6), 'alpha:', 1.0711462760461736, 'sigmaX', 0.49688045621729915)"
       ]
      },
      {
       "output_type": "stream",
       "stream": "stdout",
       "text": [
        "\n",
        "('iteration:', 865, 'Kplus:', 6, 'shape of Z', (100, 6), 'alpha:', 1.4204334578632185, 'sigmaX', 0.48631246570983033)"
       ]
      },
      {
       "output_type": "stream",
       "stream": "stdout",
       "text": [
        "\n",
        "('iteration:', 866, 'Kplus:', 8, 'shape of Z', (100, 8), 'alpha:', 1.92782062720583, 'sigmaX', 0.48631246570983033)"
       ]
      },
      {
       "output_type": "stream",
       "stream": "stdout",
       "text": [
        "\n",
        "('iteration:', 867, 'Kplus:', 10, 'shape of Z', (100, 10), 'alpha:', 2.1126747093557436, 'sigmaX', 0.48631246570983033)"
       ]
      },
      {
       "output_type": "stream",
       "stream": "stdout",
       "text": [
        "\n",
        "('iteration:', 868, 'Kplus:', 8, 'shape of Z', (100, 8), 'alpha:', 1.5821538250015108, 'sigmaX', 0.48631246570983033)"
       ]
      },
      {
       "output_type": "stream",
       "stream": "stdout",
       "text": [
        "\n",
        "('iteration:', 869, 'Kplus:', 7, 'shape of Z', (100, 7), 'alpha:', 2.332665746037823, 'sigmaX', 0.48631246570983033)"
       ]
      },
      {
       "output_type": "stream",
       "stream": "stdout",
       "text": [
        "\n",
        "('iteration:', 870, 'Kplus:', 6, 'shape of Z', (100, 6), 'alpha:', 0.7318553802708307, 'sigmaX', 0.48631246570983033)"
       ]
      },
      {
       "output_type": "stream",
       "stream": "stdout",
       "text": [
        "\n",
        "('iteration:', 871, 'Kplus:', 4, 'shape of Z', (100, 4), 'alpha:', 0.5956313686820657, 'sigmaX', 0.5109465867214611)"
       ]
      },
      {
       "output_type": "stream",
       "stream": "stdout",
       "text": [
        "\n",
        "('iteration:', 872, 'Kplus:', 4, 'shape of Z', (100, 4), 'alpha:', 0.7845351560627642, 'sigmaX', 0.5069840875399373)"
       ]
      },
      {
       "output_type": "stream",
       "stream": "stdout",
       "text": [
        "\n",
        "('iteration:', 873, 'Kplus:', 4, 'shape of Z', (100, 4), 'alpha:', 1.4282297703927915, 'sigmaX', 0.5030446490972783)"
       ]
      },
      {
       "output_type": "stream",
       "stream": "stdout",
       "text": [
        "\n",
        "('iteration:', 874, 'Kplus:', 4, 'shape of Z', (100, 4), 'alpha:', 0.6575101486103848, 'sigmaX', 0.5030446490972783)"
       ]
      },
      {
       "output_type": "stream",
       "stream": "stdout",
       "text": [
        "\n",
        "('iteration:', 875, 'Kplus:', 6, 'shape of Z', (100, 6), 'alpha:', 0.862658615053404, 'sigmaX', 0.5030446490972783)"
       ]
      },
      {
       "output_type": "stream",
       "stream": "stdout",
       "text": [
        "\n",
        "('iteration:', 876, 'Kplus:', 6, 'shape of Z', (100, 6), 'alpha:', 1.5943010903830688, 'sigmaX', 0.5030446490972783)"
       ]
      },
      {
       "output_type": "stream",
       "stream": "stdout",
       "text": [
        "\n",
        "('iteration:', 877, 'Kplus:', 4, 'shape of Z', (100, 4), 'alpha:', 0.6257414448345654, 'sigmaX', 0.5030446490972783)"
       ]
      },
      {
       "output_type": "stream",
       "stream": "stdout",
       "text": [
        "\n",
        "('iteration:', 878, 'Kplus:', 4, 'shape of Z', (100, 4), 'alpha:', 0.40582124737232095, 'sigmaX', 0.5030446490972783)"
       ]
      },
      {
       "output_type": "stream",
       "stream": "stdout",
       "text": [
        "\n",
        "('iteration:', 879, 'Kplus:', 5, 'shape of Z', (100, 5), 'alpha:', 1.803417434544249, 'sigmaX', 0.5030446490972783)"
       ]
      },
      {
       "output_type": "stream",
       "stream": "stdout",
       "text": [
        "\n",
        "('iteration:', 880, 'Kplus:', 4, 'shape of Z', (100, 4), 'alpha:', 0.5566345680391463, 'sigmaX', 0.5063544173324689)"
       ]
      },
      {
       "output_type": "stream",
       "stream": "stdout",
       "text": [
        "\n",
        "('iteration:', 881, 'Kplus:', 4, 'shape of Z', (100, 4), 'alpha:', 0.5136791444802351, 'sigmaX', 0.4962464042601872)"
       ]
      },
      {
       "output_type": "stream",
       "stream": "stdout",
       "text": [
        "\n",
        "('iteration:', 882, 'Kplus:', 4, 'shape of Z', (100, 4), 'alpha:', 0.25850850316878216, 'sigmaX', 0.4962464042601872)"
       ]
      },
      {
       "output_type": "stream",
       "stream": "stdout",
       "text": [
        "\n",
        "('iteration:', 883, 'Kplus:', 4, 'shape of Z', (100, 4), 'alpha:', 1.0988408154823155, 'sigmaX', 0.4962464042601872)"
       ]
      },
      {
       "output_type": "stream",
       "stream": "stdout",
       "text": [
        "\n",
        "('iteration:', 884, 'Kplus:', 7, 'shape of Z', (100, 7), 'alpha:', 1.0103373611813475, 'sigmaX', 0.4818275034038918)"
       ]
      },
      {
       "output_type": "stream",
       "stream": "stdout",
       "text": [
        "\n",
        "('iteration:', 885, 'Kplus:', 6, 'shape of Z', (100, 6), 'alpha:', 0.6153213054687271, 'sigmaX', 0.4818275034038918)"
       ]
      },
      {
       "output_type": "stream",
       "stream": "stdout",
       "text": [
        "\n",
        "('iteration:', 886, 'Kplus:', 6, 'shape of Z', (100, 6), 'alpha:', 0.9971711753974218, 'sigmaX', 0.4818275034038918)"
       ]
      },
      {
       "output_type": "stream",
       "stream": "stdout",
       "text": [
        "\n",
        "('iteration:', 887, 'Kplus:', 7, 'shape of Z', (100, 7), 'alpha:', 1.7647660931646265, 'sigmaX', 0.4818275034038918)"
       ]
      },
      {
       "output_type": "stream",
       "stream": "stdout",
       "text": [
        "\n",
        "('iteration:', 888, 'Kplus:', 8, 'shape of Z', (100, 8), 'alpha:', 1.4742604810567013, 'sigmaX', 0.4818275034038918)"
       ]
      },
      {
       "output_type": "stream",
       "stream": "stdout",
       "text": [
        "\n",
        "('iteration:', 889, 'Kplus:', 8, 'shape of Z', (100, 8), 'alpha:', 1.4039074205539581, 'sigmaX', 0.4818275034038918)"
       ]
      },
      {
       "output_type": "stream",
       "stream": "stdout",
       "text": [
        "\n",
        "('iteration:', 890, 'Kplus:', 7, 'shape of Z', (100, 7), 'alpha:', 0.8361564926377079, 'sigmaX', 0.4818275034038918)"
       ]
      },
      {
       "output_type": "stream",
       "stream": "stdout",
       "text": [
        "\n",
        "('iteration:', 891, 'Kplus:', 5, 'shape of Z', (100, 5), 'alpha:', 0.7150289981963659, 'sigmaX', 0.4818275034038918)"
       ]
      },
      {
       "output_type": "stream",
       "stream": "stdout",
       "text": [
        "\n",
        "('iteration:', 892, 'Kplus:', 5, 'shape of Z', (100, 5), 'alpha:', 1.5208251456872124, 'sigmaX', 0.4818275034038918)"
       ]
      },
      {
       "output_type": "stream",
       "stream": "stdout",
       "text": [
        "\n",
        "('iteration:', 893, 'Kplus:', 4, 'shape of Z', (100, 4), 'alpha:', 1.062550173677266, 'sigmaX', 0.4818275034038918)"
       ]
      },
      {
       "output_type": "stream",
       "stream": "stdout",
       "text": [
        "\n",
        "('iteration:', 894, 'Kplus:', 4, 'shape of Z', (100, 4), 'alpha:', 0.564030515759296, 'sigmaX', 0.48445101430411425)"
       ]
      },
      {
       "output_type": "stream",
       "stream": "stdout",
       "text": [
        "\n",
        "('iteration:', 895, 'Kplus:', 5, 'shape of Z', (100, 5), 'alpha:', 0.8694670125588684, 'sigmaX', 0.48445101430411425)"
       ]
      },
      {
       "output_type": "stream",
       "stream": "stdout",
       "text": [
        "\n",
        "('iteration:', 896, 'Kplus:', 5, 'shape of Z', (100, 5), 'alpha:', 1.3488621393565834, 'sigmaX', 0.4970315000833975)"
       ]
      },
      {
       "output_type": "stream",
       "stream": "stdout",
       "text": [
        "\n",
        "('iteration:', 897, 'Kplus:', 5, 'shape of Z', (100, 5), 'alpha:', 0.8414539062482809, 'sigmaX', 0.4970315000833975)"
       ]
      },
      {
       "output_type": "stream",
       "stream": "stdout",
       "text": [
        "\n",
        "('iteration:', 898, 'Kplus:', 6, 'shape of Z', (100, 6), 'alpha:', 0.8203905995277387, 'sigmaX', 0.4970315000833975)"
       ]
      },
      {
       "output_type": "stream",
       "stream": "stdout",
       "text": [
        "\n",
        "('iteration:', 899, 'Kplus:', 7, 'shape of Z', (100, 7), 'alpha:', 1.8904735377135238, 'sigmaX', 0.4970315000833975)"
       ]
      },
      {
       "output_type": "stream",
       "stream": "stdout",
       "text": [
        "\n",
        "('iteration:', 900, 'Kplus:', 9, 'shape of Z', (100, 9), 'alpha:', 1.647853403922455, 'sigmaX', 0.49576014224679144)"
       ]
      },
      {
       "output_type": "stream",
       "stream": "stdout",
       "text": [
        "\n",
        "('iteration:', 901, 'Kplus:', 6, 'shape of Z', (100, 6), 'alpha:', 0.9151251339106625, 'sigmaX', 0.49576014224679144)"
       ]
      },
      {
       "output_type": "stream",
       "stream": "stdout",
       "text": [
        "\n",
        "('iteration:', 902, 'Kplus:', 5, 'shape of Z', (100, 5), 'alpha:', 0.6516809743982132, 'sigmaX', 0.49576014224679144)"
       ]
      },
      {
       "output_type": "stream",
       "stream": "stdout",
       "text": [
        "\n",
        "('iteration:', 903, 'Kplus:', 4, 'shape of Z', (100, 4), 'alpha:', 1.5729788041061905, 'sigmaX', 0.49576014224679144)"
       ]
      },
      {
       "output_type": "stream",
       "stream": "stdout",
       "text": [
        "\n",
        "('iteration:', 904, 'Kplus:', 6, 'shape of Z', (100, 6), 'alpha:', 0.5429305666025293, 'sigmaX', 0.49576014224679144)"
       ]
      },
      {
       "output_type": "stream",
       "stream": "stdout",
       "text": [
        "\n",
        "('iteration:', 905, 'Kplus:', 5, 'shape of Z', (100, 5), 'alpha:', 0.3227591610941818, 'sigmaX', 0.49576014224679144)"
       ]
      },
      {
       "output_type": "stream",
       "stream": "stdout",
       "text": [
        "\n",
        "('iteration:', 906, 'Kplus:', 5, 'shape of Z', (100, 5), 'alpha:', 0.5734538823039159, 'sigmaX', 0.49576014224679144)"
       ]
      },
      {
       "output_type": "stream",
       "stream": "stdout",
       "text": [
        "\n",
        "('iteration:', 907, 'Kplus:', 5, 'shape of Z', (100, 5), 'alpha:', 0.9038686651247935, 'sigmaX', 0.49576014224679144)"
       ]
      },
      {
       "output_type": "stream",
       "stream": "stdout",
       "text": [
        "\n",
        "('iteration:', 908, 'Kplus:', 5, 'shape of Z', (100, 5), 'alpha:', 1.4033932659019672, 'sigmaX', 0.49576014224679144)"
       ]
      },
      {
       "output_type": "stream",
       "stream": "stdout",
       "text": [
        "\n",
        "('iteration:', 909, 'Kplus:', 6, 'shape of Z', (100, 6), 'alpha:', 0.682812126413958, 'sigmaX', 0.4953349444440491)"
       ]
      },
      {
       "output_type": "stream",
       "stream": "stdout",
       "text": [
        "\n",
        "('iteration:', 910, 'Kplus:', 7, 'shape of Z', (100, 7), 'alpha:', 0.6245496946426122, 'sigmaX', 0.4898063125387494)"
       ]
      },
      {
       "output_type": "stream",
       "stream": "stdout",
       "text": [
        "\n",
        "('iteration:', 911, 'Kplus:', 5, 'shape of Z', (100, 5), 'alpha:', 0.836035973982074, 'sigmaX', 0.4898063125387494)"
       ]
      },
      {
       "output_type": "stream",
       "stream": "stdout",
       "text": [
        "\n",
        "('iteration:', 912, 'Kplus:', 6, 'shape of Z', (100, 6), 'alpha:', 1.200037049454042, 'sigmaX', 0.4898063125387494)"
       ]
      },
      {
       "output_type": "stream",
       "stream": "stdout",
       "text": [
        "\n",
        "('iteration:', 913, 'Kplus:', 4, 'shape of Z', (100, 4), 'alpha:', 0.3460049457483566, 'sigmaX', 0.4898063125387494)"
       ]
      },
      {
       "output_type": "stream",
       "stream": "stdout",
       "text": [
        "\n",
        "('iteration:', 914, 'Kplus:', 4, 'shape of Z', (100, 4), 'alpha:', 1.044093171630906, 'sigmaX', 0.4898063125387494)"
       ]
      },
      {
       "output_type": "stream",
       "stream": "stdout",
       "text": [
        "\n",
        "('iteration:', 915, 'Kplus:', 4, 'shape of Z', (100, 4), 'alpha:', 0.7879776364062675, 'sigmaX', 0.4898063125387494)"
       ]
      },
      {
       "output_type": "stream",
       "stream": "stdout",
       "text": [
        "\n",
        "('iteration:', 916, 'Kplus:', 4, 'shape of Z', (100, 4), 'alpha:', 0.45390742676424206, 'sigmaX', 0.4898063125387494)"
       ]
      },
      {
       "output_type": "stream",
       "stream": "stdout",
       "text": [
        "\n",
        "('iteration:', 917, 'Kplus:', 4, 'shape of Z', (100, 4), 'alpha:', 0.7419782724834115, 'sigmaX', 0.49418161462994925)"
       ]
      },
      {
       "output_type": "stream",
       "stream": "stdout",
       "text": [
        "\n",
        "('iteration:', 918, 'Kplus:', 5, 'shape of Z', (100, 5), 'alpha:', 0.3482109018469852, 'sigmaX', 0.49418161462994925)"
       ]
      },
      {
       "output_type": "stream",
       "stream": "stdout",
       "text": [
        "\n",
        "('iteration:', 919, 'Kplus:', 4, 'shape of Z', (100, 4), 'alpha:', 0.4142131786088749, 'sigmaX', 0.49418161462994925)"
       ]
      },
      {
       "output_type": "stream",
       "stream": "stdout",
       "text": [
        "\n",
        "('iteration:', 920, 'Kplus:', 4, 'shape of Z', (100, 4), 'alpha:', 0.6985145826511907, 'sigmaX', 0.49418161462994925)"
       ]
      },
      {
       "output_type": "stream",
       "stream": "stdout",
       "text": [
        "\n",
        "('iteration:', 921, 'Kplus:', 5, 'shape of Z', (100, 5), 'alpha:', 0.9310199494163576, 'sigmaX', 0.49418161462994925)"
       ]
      },
      {
       "output_type": "stream",
       "stream": "stdout",
       "text": [
        "\n",
        "('iteration:', 922, 'Kplus:', 6, 'shape of Z', (100, 6), 'alpha:', 1.416509598557056, 'sigmaX', 0.49418161462994925)"
       ]
      },
      {
       "output_type": "stream",
       "stream": "stdout",
       "text": [
        "\n",
        "('iteration:', 923, 'Kplus:', 6, 'shape of Z', (100, 6), 'alpha:', 1.6693946733218428, 'sigmaX', 0.49418161462994925)"
       ]
      },
      {
       "output_type": "stream",
       "stream": "stdout",
       "text": [
        "\n",
        "('iteration:', 924, 'Kplus:', 6, 'shape of Z', (100, 6), 'alpha:', 0.5019373688900282, 'sigmaX', 0.49418161462994925)"
       ]
      },
      {
       "output_type": "stream",
       "stream": "stdout",
       "text": [
        "\n",
        "('iteration:', 925, 'Kplus:', 6, 'shape of Z', (100, 6), 'alpha:', 1.935470627224393, 'sigmaX', 0.49418161462994925)"
       ]
      },
      {
       "output_type": "stream",
       "stream": "stdout",
       "text": [
        "\n",
        "('iteration:', 926, 'Kplus:', 7, 'shape of Z', (100, 7), 'alpha:', 1.3445145033559562, 'sigmaX', 0.49418161462994925)"
       ]
      },
      {
       "output_type": "stream",
       "stream": "stdout",
       "text": [
        "\n",
        "('iteration:', 927, 'Kplus:', 7, 'shape of Z', (100, 7), 'alpha:', 1.8448052479286141, 'sigmaX', 0.49418161462994925)"
       ]
      },
      {
       "output_type": "stream",
       "stream": "stdout",
       "text": [
        "\n",
        "('iteration:', 928, 'Kplus:', 5, 'shape of Z', (100, 5), 'alpha:', 1.2204088200379402, 'sigmaX', 0.49418161462994925)"
       ]
      },
      {
       "output_type": "stream",
       "stream": "stdout",
       "text": [
        "\n",
        "('iteration:', 929, 'Kplus:', 5, 'shape of Z', (100, 5), 'alpha:', 0.523227617441726, 'sigmaX', 0.49418161462994925)"
       ]
      },
      {
       "output_type": "stream",
       "stream": "stdout",
       "text": [
        "\n",
        "('iteration:', 930, 'Kplus:', 6, 'shape of Z', (100, 6), 'alpha:', 1.0931477811161574, 'sigmaX', 0.49418161462994925)"
       ]
      },
      {
       "output_type": "stream",
       "stream": "stdout",
       "text": [
        "\n",
        "('iteration:', 931, 'Kplus:', 5, 'shape of Z', (100, 5), 'alpha:', 0.8268823083495426, 'sigmaX', 0.49418161462994925)"
       ]
      },
      {
       "output_type": "stream",
       "stream": "stdout",
       "text": [
        "\n",
        "('iteration:', 932, 'Kplus:', 5, 'shape of Z', (100, 5), 'alpha:', 0.6809460628615179, 'sigmaX', 0.49418161462994925)"
       ]
      },
      {
       "output_type": "stream",
       "stream": "stdout",
       "text": [
        "\n",
        "('iteration:', 933, 'Kplus:', 5, 'shape of Z', (100, 5), 'alpha:', 0.6122836223936664, 'sigmaX', 0.49418161462994925)"
       ]
      },
      {
       "output_type": "stream",
       "stream": "stdout",
       "text": [
        "\n",
        "('iteration:', 934, 'Kplus:', 5, 'shape of Z', (100, 5), 'alpha:', 1.1897458633017801, 'sigmaX', 0.4971804841054343)"
       ]
      },
      {
       "output_type": "stream",
       "stream": "stdout",
       "text": [
        "\n",
        "('iteration:', 935, 'Kplus:', 6, 'shape of Z', (100, 6), 'alpha:', 1.4148474293206785, 'sigmaX', 0.4971804841054343)"
       ]
      },
      {
       "output_type": "stream",
       "stream": "stdout",
       "text": [
        "\n",
        "('iteration:', 936, 'Kplus:', 6, 'shape of Z', (100, 6), 'alpha:', 1.0801516183131965, 'sigmaX', 0.4971804841054343)"
       ]
      },
      {
       "output_type": "stream",
       "stream": "stdout",
       "text": [
        "\n",
        "('iteration:', 937, 'Kplus:', 6, 'shape of Z', (100, 6), 'alpha:', 1.0374637464815906, 'sigmaX', 0.4971804841054343)"
       ]
      },
      {
       "output_type": "stream",
       "stream": "stdout",
       "text": [
        "\n",
        "('iteration:', 938, 'Kplus:', 6, 'shape of Z', (100, 6), 'alpha:', 1.4338645963314691, 'sigmaX', 0.4971804841054343)"
       ]
      },
      {
       "output_type": "stream",
       "stream": "stdout",
       "text": [
        "\n",
        "('iteration:', 939, 'Kplus:', 6, 'shape of Z', (100, 6), 'alpha:', 0.6616912029358827, 'sigmaX', 0.4971804841054343)"
       ]
      },
      {
       "output_type": "stream",
       "stream": "stdout",
       "text": [
        "\n",
        "('iteration:', 940, 'Kplus:', 5, 'shape of Z', (100, 5), 'alpha:', 0.6312338341173396, 'sigmaX', 0.4971804841054343)"
       ]
      },
      {
       "output_type": "stream",
       "stream": "stdout",
       "text": [
        "\n",
        "('iteration:', 941, 'Kplus:', 5, 'shape of Z', (100, 5), 'alpha:', 1.3700889477227756, 'sigmaX', 0.4971804841054343)"
       ]
      },
      {
       "output_type": "stream",
       "stream": "stdout",
       "text": [
        "\n",
        "('iteration:', 942, 'Kplus:', 6, 'shape of Z', (100, 6), 'alpha:', 0.8813568811262796, 'sigmaX', 0.502016500114849)"
       ]
      },
      {
       "output_type": "stream",
       "stream": "stdout",
       "text": [
        "\n",
        "('iteration:', 943, 'Kplus:', 6, 'shape of Z', (100, 6), 'alpha:', 1.604377325753112, 'sigmaX', 0.5067787750299321)"
       ]
      },
      {
       "output_type": "stream",
       "stream": "stdout",
       "text": [
        "\n",
        "('iteration:', 944, 'Kplus:', 5, 'shape of Z', (100, 5), 'alpha:', 1.0583576369470764, 'sigmaX', 0.5067787750299321)"
       ]
      },
      {
       "output_type": "stream",
       "stream": "stdout",
       "text": [
        "\n",
        "('iteration:', 945, 'Kplus:', 6, 'shape of Z', (100, 6), 'alpha:', 0.8516881719103887, 'sigmaX', 0.4804476444865593)"
       ]
      },
      {
       "output_type": "stream",
       "stream": "stdout",
       "text": [
        "\n",
        "('iteration:', 946, 'Kplus:', 6, 'shape of Z', (100, 6), 'alpha:', 1.547828978798927, 'sigmaX', 0.4804476444865593)"
       ]
      },
      {
       "output_type": "stream",
       "stream": "stdout",
       "text": [
        "\n",
        "('iteration:', 947, 'Kplus:', 8, 'shape of Z', (100, 8), 'alpha:', 1.3136391384564916, 'sigmaX', 0.4804476444865593)"
       ]
      },
      {
       "output_type": "stream",
       "stream": "stdout",
       "text": [
        "\n",
        "('iteration:', 948, 'Kplus:', 7, 'shape of Z', (100, 7), 'alpha:', 1.0746374322796284, 'sigmaX', 0.4804476444865593)"
       ]
      },
      {
       "output_type": "stream",
       "stream": "stdout",
       "text": [
        "\n",
        "('iteration:', 949, 'Kplus:', 6, 'shape of Z', (100, 6), 'alpha:', 1.136104741238823, 'sigmaX', 0.4804476444865593)"
       ]
      },
      {
       "output_type": "stream",
       "stream": "stdout",
       "text": [
        "\n",
        "('iteration:', 950, 'Kplus:', 6, 'shape of Z', (100, 6), 'alpha:', 2.0672786951497946, 'sigmaX', 0.4804476444865593)"
       ]
      },
      {
       "output_type": "stream",
       "stream": "stdout",
       "text": [
        "\n",
        "('iteration:', 951, 'Kplus:', 9, 'shape of Z', (100, 9), 'alpha:', 1.5383192747389558, 'sigmaX', 0.4804476444865593)"
       ]
      },
      {
       "output_type": "stream",
       "stream": "stdout",
       "text": [
        "\n",
        "('iteration:', 952, 'Kplus:', 7, 'shape of Z', (100, 7), 'alpha:', 0.472355036467705, 'sigmaX', 0.4804476444865593)"
       ]
      },
      {
       "output_type": "stream",
       "stream": "stdout",
       "text": [
        "\n",
        "('iteration:', 953, 'Kplus:', 7, 'shape of Z', (100, 7), 'alpha:', 1.3466707746238455, 'sigmaX', 0.4804476444865593)"
       ]
      },
      {
       "output_type": "stream",
       "stream": "stdout",
       "text": [
        "\n",
        "('iteration:', 954, 'Kplus:', 7, 'shape of Z', (100, 7), 'alpha:', 1.6552082267375732, 'sigmaX', 0.4804476444865593)"
       ]
      },
      {
       "output_type": "stream",
       "stream": "stdout",
       "text": [
        "\n",
        "('iteration:', 955, 'Kplus:', 9, 'shape of Z', (100, 9), 'alpha:', 1.4741533220728296, 'sigmaX', 0.4804476444865593)"
       ]
      },
      {
       "output_type": "stream",
       "stream": "stdout",
       "text": [
        "\n",
        "('iteration:', 956, 'Kplus:', 6, 'shape of Z', (100, 6), 'alpha:', 1.1659124574642448, 'sigmaX', 0.4804476444865593)"
       ]
      },
      {
       "output_type": "stream",
       "stream": "stdout",
       "text": [
        "\n",
        "('iteration:', 957, 'Kplus:', 5, 'shape of Z', (100, 5), 'alpha:', 1.339686408799886, 'sigmaX', 0.4804476444865593)"
       ]
      },
      {
       "output_type": "stream",
       "stream": "stdout",
       "text": [
        "\n",
        "('iteration:', 958, 'Kplus:', 5, 'shape of Z', (100, 5), 'alpha:', 0.9939959481897052, 'sigmaX', 0.4804476444865593)"
       ]
      },
      {
       "output_type": "stream",
       "stream": "stdout",
       "text": [
        "\n",
        "('iteration:', 959, 'Kplus:', 6, 'shape of Z', (100, 6), 'alpha:', 1.5009081335965657, 'sigmaX', 0.48080766904640143)"
       ]
      },
      {
       "output_type": "stream",
       "stream": "stdout",
       "text": [
        "\n",
        "('iteration:', 960, 'Kplus:', 5, 'shape of Z', (100, 5), 'alpha:', 1.153045130688027, 'sigmaX', 0.49956618872944814)"
       ]
      },
      {
       "output_type": "stream",
       "stream": "stdout",
       "text": [
        "\n",
        "('iteration:', 961, 'Kplus:', 6, 'shape of Z', (100, 6), 'alpha:', 1.270194516758611, 'sigmaX', 0.49956618872944814)"
       ]
      },
      {
       "output_type": "stream",
       "stream": "stdout",
       "text": [
        "\n",
        "('iteration:', 962, 'Kplus:', 5, 'shape of Z', (100, 5), 'alpha:', 0.8792338292760163, 'sigmaX', 0.5005696436634086)"
       ]
      },
      {
       "output_type": "stream",
       "stream": "stdout",
       "text": [
        "\n",
        "('iteration:', 963, 'Kplus:', 6, 'shape of Z', (100, 6), 'alpha:', 0.8881131488624077, 'sigmaX', 0.5005696436634086)"
       ]
      },
      {
       "output_type": "stream",
       "stream": "stdout",
       "text": [
        "\n",
        "('iteration:', 964, 'Kplus:', 8, 'shape of Z', (100, 8), 'alpha:', 1.0730269066785865, 'sigmaX', 0.5005696436634086)"
       ]
      },
      {
       "output_type": "stream",
       "stream": "stdout",
       "text": [
        "\n",
        "('iteration:', 965, 'Kplus:', 8, 'shape of Z', (100, 8), 'alpha:', 1.013607913097693, 'sigmaX', 0.5005696436634086)"
       ]
      },
      {
       "output_type": "stream",
       "stream": "stdout",
       "text": [
        "\n",
        "('iteration:', 966, 'Kplus:', 5, 'shape of Z', (100, 5), 'alpha:', 0.8537654694529826, 'sigmaX', 0.5005696436634086)"
       ]
      },
      {
       "output_type": "stream",
       "stream": "stdout",
       "text": [
        "\n",
        "('iteration:', 967, 'Kplus:', 5, 'shape of Z', (100, 5), 'alpha:', 0.5514261191370822, 'sigmaX', 0.5005696436634086)"
       ]
      },
      {
       "output_type": "stream",
       "stream": "stdout",
       "text": [
        "\n",
        "('iteration:', 968, 'Kplus:', 5, 'shape of Z', (100, 5), 'alpha:', 0.8642624270900353, 'sigmaX', 0.5012605311645327)"
       ]
      },
      {
       "output_type": "stream",
       "stream": "stdout",
       "text": [
        "\n",
        "('iteration:', 969, 'Kplus:', 5, 'shape of Z', (100, 5), 'alpha:', 1.1885829571966215, 'sigmaX', 0.5012605311645327)"
       ]
      },
      {
       "output_type": "stream",
       "stream": "stdout",
       "text": [
        "\n",
        "('iteration:', 970, 'Kplus:', 6, 'shape of Z', (100, 6), 'alpha:', 0.8996306129243584, 'sigmaX', 0.5012605311645327)"
       ]
      },
      {
       "output_type": "stream",
       "stream": "stdout",
       "text": [
        "\n",
        "('iteration:', 971, 'Kplus:', 6, 'shape of Z', (100, 6), 'alpha:', 0.4451697428218937, 'sigmaX', 0.5012605311645327)"
       ]
      },
      {
       "output_type": "stream",
       "stream": "stdout",
       "text": [
        "\n",
        "('iteration:', 972, 'Kplus:', 5, 'shape of Z', (100, 5), 'alpha:', 0.38634919877605645, 'sigmaX', 0.5020558523321706)"
       ]
      },
      {
       "output_type": "stream",
       "stream": "stdout",
       "text": [
        "\n",
        "('iteration:', 973, 'Kplus:', 5, 'shape of Z', (100, 5), 'alpha:', 0.5402552043797263, 'sigmaX', 0.5020558523321706)"
       ]
      },
      {
       "output_type": "stream",
       "stream": "stdout",
       "text": [
        "\n",
        "('iteration:', 974, 'Kplus:', 4, 'shape of Z', (100, 4), 'alpha:', 0.5239206823078508, 'sigmaX', 0.5020558523321706)"
       ]
      },
      {
       "output_type": "stream",
       "stream": "stdout",
       "text": [
        "\n",
        "('iteration:', 975, 'Kplus:', 5, 'shape of Z', (100, 5), 'alpha:', 0.43035631727269785, 'sigmaX', 0.5020558523321706)"
       ]
      },
      {
       "output_type": "stream",
       "stream": "stdout",
       "text": [
        "\n",
        "('iteration:', 976, 'Kplus:', 4, 'shape of Z', (100, 4), 'alpha:', 0.31871058799906204, 'sigmaX', 0.5020558523321706)"
       ]
      },
      {
       "output_type": "stream",
       "stream": "stdout",
       "text": [
        "\n",
        "('iteration:', 977, 'Kplus:', 4, 'shape of Z', (100, 4), 'alpha:', 0.4842808280086959, 'sigmaX', 0.4994840699842208)"
       ]
      },
      {
       "output_type": "stream",
       "stream": "stdout",
       "text": [
        "\n",
        "('iteration:', 978, 'Kplus:', 4, 'shape of Z', (100, 4), 'alpha:', 0.8625631030750622, 'sigmaX', 0.4994840699842208)"
       ]
      },
      {
       "output_type": "stream",
       "stream": "stdout",
       "text": [
        "\n",
        "('iteration:', 979, 'Kplus:', 5, 'shape of Z', (100, 5), 'alpha:', 0.5583171609710322, 'sigmaX', 0.4994840699842208)"
       ]
      },
      {
       "output_type": "stream",
       "stream": "stdout",
       "text": [
        "\n",
        "('iteration:', 980, 'Kplus:', 5, 'shape of Z', (100, 5), 'alpha:', 0.8054364388240575, 'sigmaX', 0.4994840699842208)"
       ]
      },
      {
       "output_type": "stream",
       "stream": "stdout",
       "text": [
        "\n",
        "('iteration:', 981, 'Kplus:', 5, 'shape of Z', (100, 5), 'alpha:', 0.7978209041797867, 'sigmaX', 0.4942370494991165)"
       ]
      },
      {
       "output_type": "stream",
       "stream": "stdout",
       "text": [
        "\n",
        "('iteration:', 982, 'Kplus:', 5, 'shape of Z', (100, 5), 'alpha:', 0.7717344626238565, 'sigmaX', 0.4942370494991165)"
       ]
      },
      {
       "output_type": "stream",
       "stream": "stdout",
       "text": [
        "\n",
        "('iteration:', 983, 'Kplus:', 5, 'shape of Z', (100, 5), 'alpha:', 0.8279720514015756, 'sigmaX', 0.4942370494991165)"
       ]
      },
      {
       "output_type": "stream",
       "stream": "stdout",
       "text": [
        "\n",
        "('iteration:', 984, 'Kplus:', 5, 'shape of Z', (100, 5), 'alpha:', 0.7438489590324413, 'sigmaX', 0.4942370494991165)"
       ]
      },
      {
       "output_type": "stream",
       "stream": "stdout",
       "text": [
        "\n",
        "('iteration:', 985, 'Kplus:', 6, 'shape of Z', (100, 6), 'alpha:', 0.8310922389494932, 'sigmaX', 0.4942370494991165)"
       ]
      },
      {
       "output_type": "stream",
       "stream": "stdout",
       "text": [
        "\n",
        "('iteration:', 986, 'Kplus:', 6, 'shape of Z', (100, 6), 'alpha:', 0.5400283883306684, 'sigmaX', 0.4942370494991165)"
       ]
      },
      {
       "output_type": "stream",
       "stream": "stdout",
       "text": [
        "\n",
        "('iteration:', 987, 'Kplus:', 4, 'shape of Z', (100, 4), 'alpha:', 1.219949632027746, 'sigmaX', 0.4922805001387093)"
       ]
      },
      {
       "output_type": "stream",
       "stream": "stdout",
       "text": [
        "\n",
        "('iteration:', 988, 'Kplus:', 6, 'shape of Z', (100, 6), 'alpha:', 1.6751005551180025, 'sigmaX', 0.4856410256238629)"
       ]
      },
      {
       "output_type": "stream",
       "stream": "stdout",
       "text": [
        "\n",
        "('iteration:', 989, 'Kplus:', 7, 'shape of Z', (100, 7), 'alpha:', 0.9409448538528439, 'sigmaX', 0.4856410256238629)"
       ]
      },
      {
       "output_type": "stream",
       "stream": "stdout",
       "text": [
        "\n",
        "('iteration:', 990, 'Kplus:', 5, 'shape of Z', (100, 5), 'alpha:', 1.6365294802453425, 'sigmaX', 0.4856410256238629)"
       ]
      },
      {
       "output_type": "stream",
       "stream": "stdout",
       "text": [
        "\n",
        "('iteration:', 991, 'Kplus:', 7, 'shape of Z', (100, 7), 'alpha:', 0.7081401743049389, 'sigmaX', 0.4856410256238629)"
       ]
      },
      {
       "output_type": "stream",
       "stream": "stdout",
       "text": [
        "\n",
        "('iteration:', 992, 'Kplus:', 6, 'shape of Z', (100, 6), 'alpha:', 1.4031667323963484, 'sigmaX', 0.4856410256238629)"
       ]
      },
      {
       "output_type": "stream",
       "stream": "stdout",
       "text": [
        "\n",
        "('iteration:', 993, 'Kplus:', 6, 'shape of Z', (100, 6), 'alpha:', 1.1940463841418227, 'sigmaX', 0.4856410256238629)"
       ]
      },
      {
       "output_type": "stream",
       "stream": "stdout",
       "text": [
        "\n",
        "('iteration:', 994, 'Kplus:', 6, 'shape of Z', (100, 6), 'alpha:', 0.4321475216669848, 'sigmaX', 0.4856410256238629)"
       ]
      },
      {
       "output_type": "stream",
       "stream": "stdout",
       "text": [
        "\n",
        "('iteration:', 995, 'Kplus:', 7, 'shape of Z', (100, 7), 'alpha:', 1.0965479246647127, 'sigmaX', 0.4856410256238629)"
       ]
      },
      {
       "output_type": "stream",
       "stream": "stdout",
       "text": [
        "\n",
        "('iteration:', 996, 'Kplus:', 7, 'shape of Z', (100, 7), 'alpha:', 1.474007324016451, 'sigmaX', 0.48089817744488167)"
       ]
      },
      {
       "output_type": "stream",
       "stream": "stdout",
       "text": [
        "\n",
        "('iteration:', 997, 'Kplus:', 6, 'shape of Z', (100, 6), 'alpha:', 1.6002211584893598, 'sigmaX', 0.48089817744488167)"
       ]
      },
      {
       "output_type": "stream",
       "stream": "stdout",
       "text": [
        "\n",
        "('iteration:', 998, 'Kplus:', 9, 'shape of Z', (100, 9), 'alpha:', 2.4381802407123256, 'sigmaX', 0.48871002371706085)"
       ]
      },
      {
       "output_type": "stream",
       "stream": "stdout",
       "text": [
        "\n",
        "('iteration:', 999, 'Kplus:', 8, 'shape of Z', (100, 8), 'alpha:', 2.2705734083508307, 'sigmaX', 0.48871002371706085)"
       ]
      },
      {
       "output_type": "stream",
       "stream": "stdout",
       "text": [
        "\n"
       ]
      }
     ],
     "prompt_number": 591
    },
    {
     "cell_type": "code",
     "collapsed": false,
     "input": [
      "print timeElapsed"
     ],
     "language": "python",
     "metadata": {},
     "outputs": [
      {
       "output_type": "stream",
       "stream": "stdout",
       "text": [
        "475.614187002\n"
       ]
      }
     ],
     "prompt_number": 592
    },
    {
     "cell_type": "code",
     "collapsed": false,
     "input": [
      "sigmaXZ=chain_Z[SAMPLE_SIZE-1,:,0:10].reshape(100,10)\n",
      "sigma_X=chain_sigma_X[SAMPLE_SIZE-1]\n",
      "sigma_A=chain_sigma_A[SAMPLE_SIZE-1]\n",
      "A_inf=np.dot(np.dot(np.linalg.inv((np.dot(Z.T,Z)+(sigma_X/sigma_A)*np.eye(10))),Z.T),X)"
     ],
     "language": "python",
     "metadata": {},
     "outputs": [
      {
       "metadata": {},
       "output_type": "pyout",
       "prompt_number": 491,
       "text": [
        "0.48984263159208197"
       ]
      }
     ],
     "prompt_number": 491
    },
    {
     "cell_type": "code",
     "collapsed": false,
     "input": [
      "plt.figure(num=None, figsize=(12,3), dpi=80, facecolor='w', edgecolor='k')\n",
      "plt.subplot(141)\n",
      "plt.pcolormesh(A_inf[3,:].reshape(6,6),cmap=plt.cm.gray)     \n",
      "plt.subplot(142)\n",
      "plt.pcolormesh(A_inf[0,:].reshape(6,6),cmap=plt.cm.gray)  \n",
      "plt.subplot(143)\n",
      "plt.pcolormesh(A_inf[1,:].reshape(6,6),cmap=plt.cm.gray)  \n",
      "plt.subplot(144)\n",
      "plt.pcolormesh(A_inf[2,:].reshape(6,6),cmap=plt.cm.gray)"
     ],
     "language": "python",
     "metadata": {},
     "outputs": []
    },
    {
     "cell_type": "code",
     "collapsed": false,
     "input": [
      "plt.plot(chain_K)\n",
      "np.mean(chain_K)\n",
      "np.sum(chain_K[200:999]==4)"
     ],
     "language": "python",
     "metadata": {},
     "outputs": []
    },
    {
     "cell_type": "code",
     "collapsed": false,
     "input": [
      "plt.plot(chain_alpha)\n",
      "np.mean(chain_alpha)"
     ],
     "language": "python",
     "metadata": {},
     "outputs": []
    },
    {
     "cell_type": "code",
     "collapsed": false,
     "input": [
      "plt.plot(chain_sigma_X)\n",
      "np.mean(chain_sigma_X)"
     ],
     "language": "python",
     "metadata": {},
     "outputs": []
    },
    {
     "cell_type": "code",
     "collapsed": false,
     "input": [
      "plt.plot(chain_sigma_A)\n",
      "np.mean(chain_sigma_A)"
     ],
     "language": "python",
     "metadata": {},
     "outputs": []
    },
    {
     "cell_type": "code",
     "collapsed": false,
     "input": [],
     "language": "python",
     "metadata": {},
     "outputs": []
    },
    {
     "cell_type": "code",
     "collapsed": false,
     "input": [],
     "language": "python",
     "metadata": {},
     "outputs": []
    },
    {
     "cell_type": "code",
     "collapsed": false,
     "input": [],
     "language": "python",
     "metadata": {},
     "outputs": []
    },
    {
     "cell_type": "code",
     "collapsed": false,
     "input": [],
     "language": "python",
     "metadata": {},
     "outputs": []
    },
    {
     "cell_type": "code",
     "collapsed": false,
     "input": [],
     "language": "python",
     "metadata": {},
     "outputs": []
    },
    {
     "cell_type": "heading",
     "level": 3,
     "metadata": {},
     "source": [
      "Unit testing"
     ]
    },
    {
     "cell_type": "markdown",
     "metadata": {},
     "source": [
      "To check if the code is working properly some of the unit testings I've come up with so far are:\n",
      "* Probabilities calculated for the presence of feature have to be between 0 and 1.\n",
      "* "
     ]
    }
   ],
   "metadata": {}
  }
 ]
}