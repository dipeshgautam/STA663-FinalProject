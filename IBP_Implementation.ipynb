{
 "metadata": {
  "name": "",
  "signature": "sha256:0196f0942627f9d09a78ea7d2ee0e8cecdad807b6faeb20afce6bebe5db06218"
 },
 "nbformat": 3,
 "nbformat_minor": 0,
 "worksheets": [
  {
   "cells": [
    {
     "cell_type": "heading",
     "level": 2,
     "metadata": {},
     "source": [
      "Implementation of Infinite Latent Feature Models and the Indian Buffet Process"
     ]
    },
    {
     "cell_type": "markdown",
     "metadata": {},
     "source": [
      "**Indian Buffet Process (IBP)**\n",
      "\n",
      "The Indian Buffet is an adaptation of Chinese Buffett Process where each object instead of being associated with a single latent class can  be associated with multiple classes. This is particularly useful when each object has multile latent features and by associating objects with a single class we cannot partition them into homogeneous subsets.\n",
      "\n",
      "In the Indian buffet process, $N$ customers enter a restaurant one after another. Each customer encounters a buffet \n",
      "consisting of infinitely many dishes arranged in a line. The first customer starts at the left of the buffet and \n",
      "takes a serving from each dish, stopping after a Poisson($\\alpha$) number of dishes. The $i$th customer moves along the buffet, \n",
      "sampling dishes in proportion to their popularity, taking dish $k$ with probability $\\frac{m_k}{i}$ , where $m_k$ is the number of \n",
      "previous customers who have sampled that dish. Having reached the end of all previous sampled dishes, the $i$th customer \n",
      "then tries a Poisson($\\frac{\\alpha}{i}$) number of new dishes. Which costumer chose which dishes is indicated using a binary matrix **Z** with $N$ rows and infinitely many columns(corresponding to the infinitely many selection of dished), where $z_{ik}$ = 1 if the $i$th costumer sampled $k$th dish.\n",
      "\n",
      "IBP can be used as a prior in models for unsupervised learning. An example of which is presentd in the paper by Griffiths and Ghahramani, where IBP is used as a prior in linear-Gaussian binary latent feature model."
     ]
    },
    {
     "cell_type": "heading",
     "level": 3,
     "metadata": {},
     "source": [
      "Algorithm"
     ]
    },
    {
     "cell_type": "markdown",
     "metadata": {},
     "source": [
      "* Gamma prior for $\\alpha$\n",
      "$$\n",
      "\\alpha \\sim Gamma(1,1)\n",
      "$$\n",
      "* Prior on **Z** is obtained by IBP as:\n",
      "$$\n",
      "P(z_{ik}=1|\\textbf{z}_{-i,k}) = \\frac{n_{-i,k}}{N}\n",
      "$$\n",
      "\n",
      "* Likelihood is given by\n",
      "\\begin{equation}\n",
      "P(X|Z,\\sigma_X, \\sigma_A) = \\frac{1}{(2 \\pi)^{ND/2} (\\sigma_X)^{(N-K)D}(\\sigma_A)^{KD}(|Z^TZ+\\frac{\\sigma_X^2}{\\sigma_A^2}I|)^{D/2}}exp\\{-\\frac{1}{2\\sigma_X^2}tr(X^T(I-Z(Z^TZ+\\frac{\\sigma_X^2}{\\sigma_A^2}I)^{-1}Z^T)X)\\}\n",
      "\\end{equation}\n",
      "\n",
      "After we have the likelihood and the prior given by IBP,\n",
      "\n",
      "* full conditional posterior for **Z** can be calculated as:\n",
      "$$\n",
      "P(z_{ik}|X,Z_{-(i,k)},\\sigma_X,\\sigma_A) \\propto  P(X|Z,\\sigma_X, \\sigma_A) * P(z_{ik}=1|\\textbf{z}_{-i,k}) \n",
      "$$\n",
      "\n",
      "To sample the number of new features for observation $i$, we use a truncated distribution, computing probabilities for a range of values $K_1^{(i)}$ up to an upper bound (say 4). The prior on number of features is given by $Poisson(\\frac{\\alpha}{N})$.\n",
      "Using this prior and the likelihood, we sample the nummber of new features.\n",
      "\n",
      "* Full conditional posterior for $\\alpha$ is given by:\n",
      "$$\n",
      "P(\\alpha|Z) \\sim Gamma(1+K_+,1+\\sum_{i=1}^{N} H_i)\n",
      "$$\n",
      "\n",
      "* For $\\sigma_X$ and $\\sigma_A$, we use MH algorithm as follows:\n",
      "\\begin{eqnarray}\n",
      "\\epsilon \\sim Uniform(-.05,.05)\\\\\n",
      "\\sigma_X^{*} =  \\sigma_X +\\epsilon\\\\\n",
      "\\end{eqnarray}\n",
      "Accept this new $\\sigma_X$ with probability given by:\n",
      "$$\n",
      "AR = min\\{1,\\frac{Likelihood(X|\\sigma_X^{*},...)}{Likelihood(X|\\sigma_X,...)}\\}\\\\\n",
      "$$\n",
      "Where AR is the acceptance ratio. We use similar algorithm to sample $\\sigma_A$"
     ]
    },
    {
     "cell_type": "heading",
     "level": 4,
     "metadata": {},
     "source": [
      "Pseudo-code for a single iteration of Gibbs and MH combined algorigthm"
     ]
    },
    {
     "cell_type": "code",
     "collapsed": false,
     "input": [
      "import numpy as np\n",
      "import scipy as sp\n",
      "import math\n",
      "from __future__ import division"
     ],
     "language": "python",
     "metadata": {},
     "outputs": [],
     "prompt_number": 460
    },
    {
     "cell_type": "heading",
     "level": 6,
     "metadata": {},
     "source": [
      "Simulate data"
     ]
    },
    {
     "cell_type": "code",
     "collapsed": false,
     "input": [
      "np.random.seed(1)\n",
      "\n",
      "N = 100 #number of objects\n",
      "K = 4 #true number of features\n",
      "D = 36 # dimension of feature\n",
      "\n",
      "\n",
      "sigmaX0 = .5;\n",
      "A = np.array((0, 1, 0, 0, 0, 0, 1, 1, 1, 0, 0, 0, 0, 1, 0, 0, 0, 0, 0, 0, 0, 0, 0, 0, 0, 0, 0, 0, 0, 0, 0, 0, 0, 0, 0, 0, \\\n",
      "             0, 0, 0, 1, 1, 1, 0, 0, 0, 1, 0, 1, 0, 0, 0, 1, 1, 1, 0, 0, 0, 0, 0, 0, 0, 0, 0, 0, 0, 0, 0, 0, 0, 0, 0, 0, \\\n",
      "             0, 0, 0, 0, 0, 0, 0, 0, 0, 0, 0, 0, 0, 0, 0, 0, 0, 0, 1, 0, 0, 0, 0, 0, 1, 1, 0, 0, 0, 0, 1, 1, 1, 0, 0, 0, \\\n",
      "             0, 0, 0, 0, 0, 0, 0, 0, 0, 0, 0, 0, 0, 0, 0, 0, 0, 0, 0, 0, 0, 1, 1, 1, 0, 0, 0, 0, 1, 0, 0, 0, 0, 0, 1, 0)).reshape(4, D)\n",
      "\n",
      "\n",
      "I = sigmaX0*np.identity(D)\n",
      "Z0 = np.zeros((100, K))\n",
      "X = np.zeros((N, D))\n",
      "for i in range(N):\n",
      "    Z0[i,:] = (np.random.uniform(0,1,K) > .5).astype(int)\n",
      "    while (np.sum(Z0[i,:]) == 0):\n",
      "        Z0[i,:] = (np.random.uniform(0,1,K) > .5).astype(int)\n",
      "    #X[i,:] = np.random.multivariate_normal(Z0[i,:].dot(A), I)\n",
      "    X[i,:] = np.random.normal(0,1, (1,D)).dot(I)+Z0[i,:].dot(A)"
     ],
     "language": "python",
     "metadata": {},
     "outputs": [],
     "prompt_number": 470
    },
    {
     "cell_type": "heading",
     "level": 6,
     "metadata": {},
     "source": [
      "Set initial numbers, dimensions and features"
     ]
    },
    {
     "cell_type": "heading",
     "level": 6,
     "metadata": {},
     "source": [
      "Sample prior"
     ]
    },
    {
     "cell_type": "code",
     "collapsed": false,
     "input": [
      "np.random.seed(1)\n",
      "def sampleIBP(alpha, N):\n",
      "    result = np.zeros((N, 1000))\n",
      "    t = np.random.poisson(alpha)\n",
      "    result[0,0:t] = np.ones(t)\n",
      "    Kplus = t\n",
      "    for i in range(1,N):\n",
      "        for j in range(Kplus):\n",
      "            p = np.zeros(2)\n",
      "            p[0] = np.sum(result[0:i,j])/(i+1)\n",
      "            p[1] = (i+1-np.sum(result[0:i,j]))/(i+1)\n",
      "            #print p\n",
      "            if np.random.uniform(0,1) < p[0]:\n",
      "                result[i,j] = 1\n",
      "            else:\n",
      "                result[i,j] = 0\n",
      "        t = np.random.poisson(alpha/i)\n",
      "        result[i,Kplus:Kplus+t] = np.ones(t)\n",
      "        Kplus = Kplus+t\n",
      "    result = result[:,0:Kplus]\n",
      "    return np.array((result, Kplus))\n",
      "\n",
      "Z, Kplus = sampleIBP(1, 100)\n",
      "# Kplus = Z.shape[1]\n",
      "#np.random.poisson(1)\n",
      "print Z, Kplus"
     ],
     "language": "python",
     "metadata": {},
     "outputs": [
      {
       "output_type": "stream",
       "stream": "stdout",
       "text": [
        "[[ 1.  0.  0.  0.]\n",
        " [ 1.  0.  0.  0.]\n",
        " [ 1.  0.  0.  0.]\n",
        " [ 1.  0.  0.  0.]\n",
        " [ 1.  0.  0.  0.]\n",
        " [ 1.  0.  0.  0.]\n",
        " [ 1.  1.  0.  0.]\n",
        " [ 1.  0.  0.  0.]\n",
        " [ 1.  0.  0.  0.]\n",
        " [ 0.  0.  0.  0.]\n",
        " [ 0.  0.  0.  0.]\n",
        " [ 1.  0.  0.  0.]\n",
        " [ 1.  0.  1.  0.]\n",
        " [ 1.  0.  0.  0.]\n",
        " [ 1.  0.  0.  0.]\n",
        " [ 1.  0.  0.  0.]\n",
        " [ 0.  0.  0.  0.]\n",
        " [ 1.  0.  0.  0.]\n",
        " [ 1.  0.  0.  0.]\n",
        " [ 1.  0.  0.  0.]\n",
        " [ 1.  0.  0.  0.]\n",
        " [ 1.  0.  0.  0.]\n",
        " [ 0.  0.  0.  0.]\n",
        " [ 1.  0.  0.  0.]\n",
        " [ 1.  0.  0.  0.]\n",
        " [ 1.  0.  0.  0.]\n",
        " [ 1.  0.  0.  0.]\n",
        " [ 1.  0.  0.  0.]\n",
        " [ 1.  0.  0.  0.]\n",
        " [ 1.  0.  0.  0.]\n",
        " [ 0.  0.  0.  0.]\n",
        " [ 1.  0.  0.  1.]\n",
        " [ 1.  0.  0.  0.]\n",
        " [ 1.  0.  0.  0.]\n",
        " [ 1.  1.  0.  0.]\n",
        " [ 1.  0.  0.  0.]\n",
        " [ 0.  0.  1.  0.]\n",
        " [ 1.  0.  0.  0.]\n",
        " [ 1.  0.  0.  0.]\n",
        " [ 1.  0.  0.  1.]\n",
        " [ 0.  0.  0.  0.]\n",
        " [ 1.  0.  0.  0.]\n",
        " [ 1.  0.  0.  0.]\n",
        " [ 1.  0.  0.  0.]\n",
        " [ 0.  0.  0.  0.]\n",
        " [ 1.  0.  0.  0.]\n",
        " [ 1.  0.  0.  0.]\n",
        " [ 1.  0.  0.  0.]\n",
        " [ 1.  0.  0.  0.]\n",
        " [ 1.  0.  0.  0.]\n",
        " [ 1.  0.  0.  0.]\n",
        " [ 1.  0.  0.  0.]\n",
        " [ 0.  0.  0.  0.]\n",
        " [ 1.  0.  0.  1.]\n",
        " [ 1.  0.  0.  0.]\n",
        " [ 1.  0.  0.  0.]\n",
        " [ 1.  0.  0.  0.]\n",
        " [ 1.  0.  0.  0.]\n",
        " [ 0.  0.  0.  0.]\n",
        " [ 1.  0.  0.  0.]\n",
        " [ 0.  0.  0.  0.]\n",
        " [ 1.  0.  0.  0.]\n",
        " [ 0.  0.  0.  0.]\n",
        " [ 1.  0.  0.  0.]\n",
        " [ 1.  0.  0.  0.]\n",
        " [ 1.  0.  0.  0.]\n",
        " [ 0.  0.  0.  0.]\n",
        " [ 1.  0.  0.  0.]\n",
        " [ 1.  0.  0.  0.]\n",
        " [ 1.  0.  0.  0.]\n",
        " [ 0.  0.  0.  0.]\n",
        " [ 1.  0.  0.  0.]\n",
        " [ 0.  0.  0.  0.]\n",
        " [ 1.  0.  0.  0.]\n",
        " [ 1.  0.  0.  0.]\n",
        " [ 1.  0.  0.  0.]\n",
        " [ 1.  0.  0.  0.]\n",
        " [ 1.  0.  0.  0.]\n",
        " [ 0.  0.  0.  0.]\n",
        " [ 1.  0.  0.  1.]\n",
        " [ 1.  0.  0.  0.]\n",
        " [ 0.  0.  0.  0.]\n",
        " [ 1.  0.  0.  0.]\n",
        " [ 0.  0.  0.  0.]\n",
        " [ 1.  0.  0.  1.]\n",
        " [ 0.  0.  0.  0.]\n",
        " [ 1.  0.  0.  0.]\n",
        " [ 1.  0.  0.  0.]\n",
        " [ 0.  0.  0.  0.]\n",
        " [ 1.  0.  0.  0.]\n",
        " [ 0.  0.  0.  0.]\n",
        " [ 1.  0.  0.  0.]\n",
        " [ 1.  0.  0.  0.]\n",
        " [ 0.  0.  0.  0.]\n",
        " [ 1.  1.  0.  0.]\n",
        " [ 1.  0.  0.  0.]\n",
        " [ 1.  0.  0.  0.]\n",
        " [ 0.  0.  0.  0.]\n",
        " [ 1.  0.  1.  0.]\n",
        " [ 0.  0.  0.  0.]] 4\n"
       ]
      }
     ],
     "prompt_number": 473
    },
    {
     "cell_type": "code",
     "collapsed": false,
     "input": [
      "sum(Z[:,0])"
     ],
     "language": "python",
     "metadata": {},
     "outputs": [
      {
       "metadata": {},
       "output_type": "pyout",
       "prompt_number": 474,
       "text": [
        "76.0"
       ]
      }
     ],
     "prompt_number": 474
    },
    {
     "cell_type": "code",
     "collapsed": false,
     "input": [
      "# function [result K_plus] = sampleIBP(alpha, num_objects)\n",
      "\n",
      "# result = zeros(num_objects, 1000);\n",
      "# t = poissrnd(alpha);\n",
      "# result(1,1:t) = ones(1,t);\n",
      "# K_plus = t;\n",
      "# for i=2:num_objects\n",
      "#     for j=1:K_plus\n",
      "#         p(1) = log(sum(result(1:i,j)))-log(i);\n",
      "#         p(2) = log(i - sum(result(1:i,j))) - log(i);\n",
      "#         p = exp(p-max(p));\n",
      "#         if rand < p(1)/sum(p)\n",
      "#             result(i,j) = 1;\n",
      "#         else\n",
      "#             result(i,j) = 0;\n",
      "#         end;\n",
      "#     end;\n",
      "#     t = poissrnd(alpha/i);\n",
      "#     result(i,K_plus+1:K_plus+t) = ones(1,t);\n",
      "#     K_plus = K_plus+t;\n",
      "# end;\n",
      "\n",
      "# result = result(:,1:K_plus);\n"
     ],
     "language": "python",
     "metadata": {},
     "outputs": [
      {
       "ename": "SyntaxError",
       "evalue": "invalid syntax (<ipython-input-420-ddf4397c4f77>, line 1)",
       "output_type": "pyerr",
       "traceback": [
        "\u001b[1;36m  File \u001b[1;32m\"<ipython-input-420-ddf4397c4f77>\"\u001b[1;36m, line \u001b[1;32m1\u001b[0m\n\u001b[1;33m    function [result K_plus] = sampleIBP(alpha, num_objects)\u001b[0m\n\u001b[1;37m                          ^\u001b[0m\n\u001b[1;31mSyntaxError\u001b[0m\u001b[1;31m:\u001b[0m invalid syntax\n"
       ]
      }
     ],
     "prompt_number": 420
    },
    {
     "cell_type": "heading",
     "level": 5,
     "metadata": {},
     "source": [
      "Likelihood function"
     ]
    },
    {
     "cell_type": "code",
     "collapsed": false,
     "input": [
      "# define a log likelihood function \n",
      "def ll(X, Z, sigmaX, sigmaA, K, D, N):\n",
      "    #M = Z[:,0:K].T.dot(Z[:,0:K])+sigmaX**2/sigmaA**2*np.identity(K)\n",
      "    M = Z.T.dot(Z)+(sigmaX**2/sigmaA**2)*np.identity(K)\n",
      "    return (-1)*np.log(2*np.pi)*N*D*.5 - np.log(sigmaX)*(N-K)*D - np.log(sigmaA)*K*D - .5*D*np.log(np.linalg.det(M)) \\\n",
      "        -.5/(sigmaX**2)*np.trace( (X.T.dot( np.identity(N)-Z.dot(np.linalg.inv(M).dot(Z.T)) )).dot(X) )"
     ],
     "language": "python",
     "metadata": {},
     "outputs": [],
     "prompt_number": 475
    },
    {
     "cell_type": "code",
     "collapsed": false,
     "input": [
      "np.random.seed(1)\n",
      "def ll(X, Z,sigma_X, sigma_A, K_plus, num_objects, object_dim):\n",
      "    #M = Z.T.dot(Z)+sigma_X**2/sigma_A**2*np.identity(K_plus)\n",
      "    #print M.shape\n",
      "    log_ll=(-1)*num_objects*object_dim*0.5*np.log(2*np.pi)-1*(num_objects-K_plus)*object_dim*np.log(sigma_X)+\\\n",
      "    K_plus*object_dim*np.log(sigma_A)-object_dim*.5*np.log(np.linalg.det((np.dot(Z.T,Z) + np.dot((sigma_X**2/sigma_A**2),np.eye(K_plus)))))+\\\n",
      "    (-1/(2*sigma_X**2))*np.trace(np.dot(np.dot(X.T,(np.eye(num_objects)-np.dot(np.dot(Z,M),Z.T))),X))\n",
      "    return log_ll\n"
     ],
     "language": "python",
     "metadata": {},
     "outputs": [],
     "prompt_number": 464
    },
    {
     "cell_type": "code",
     "collapsed": false,
     "input": [
      "HN = 0.\n",
      "for i in range(1,N+1):\n",
      "    HN += 1./i\n",
      "    \n",
      "#Kplus = 4 #current number of features with at least one object\n",
      "niter = 1000\n",
      "sigmaX = 1\n",
      "sigmaA = 1\n",
      "alpha = 1"
     ],
     "language": "python",
     "metadata": {},
     "outputs": [],
     "prompt_number": 492
    },
    {
     "cell_type": "code",
     "collapsed": false,
     "input": [
      "np.random.seed(1)\n",
      "Z, Kplus = sampleIBP(alpha, N)\n",
      "#update z\n",
      "for j in range(niter):\n",
      "    print(\"iteration:\",j ,  \"Kplus:\",Kplus,  \"alpha:\", alpha)\n",
      "    for i in range(N):\n",
      "        for k in range(Kplus):\n",
      "            #print k\n",
      "            if (k+1)>=Kplus:\n",
      "                break            \n",
      "            if Z[i,k] > 0:\n",
      "            # Take care of singular features by removing them\n",
      "#                 if Kplus==1:\n",
      "#                         continue\n",
      "                if (np.sum(Z[:,k])- 1) <=0:\n",
      "                    #print \"in\"\n",
      "                    #Z[i,k] = 0\n",
      "                    Z[:,k:(Kplus-1)] = Z[:,(k+1):Kplus] #shift everything one column to the left\n",
      "                    Kplus = Kplus-1\n",
      "                    Z = Z[:,0:Kplus] # remove the last column as it is redundent\n",
      "                    continue #We're no longer looking at this feature, so move to another one               \n",
      "        \n",
      "            P = np.zeros(2)\n",
      "            #set Z[i,k] = 0 and calculate posterior probability\n",
      "            Z[i,k] = 0\n",
      "            P[0] = ll(X, Z, sigmaX, sigmaA, Kplus, D, N) + np.log(N-np.sum(Z[:,k])) - np.log(N)\n",
      "        \n",
      "            #set Z[i,k] = 1 and calculate posterior probability\n",
      "            Z[i,k] = 1\n",
      "            P[1] = ll(X, Z,sigmaX, sigmaA, Kplus, D, N)  + np.log(np.sum(Z[:,k])- 1) - np.log(N)\n",
      "        \n",
      "            P = np.exp(P - max(P))\n",
      "            #P = np.exp(P)/sum(P)\n",
      "            #print P\n",
      "            U = np.random.uniform(0,1)\n",
      "            if U<(P[1]/(np.sum(P))):\n",
      "                Z[i,k] = 1\n",
      "            else:\n",
      "                Z[i,k] = 0   \n",
      "    \n",
      "    \n",
      "        #Sample number of new features\n",
      "        prob = np.zeros(4)\n",
      "        alphaN = alpha/N\n",
      "        #print alphaN\n",
      "        for kNew in range(4): # max new features is 3\n",
      "            Z_temp = Z\n",
      "            if kNew>0:\n",
      "                addCols = np.zeros(N*kNew).reshape(N,kNew)\n",
      "                addCols[i,:] = 1\n",
      "                Z_temp = np.hstack((Z_temp, addCols))\n",
      "            pois = kNew*np.log(alphaN) - alphaN - np.log(math.factorial(kNew))\n",
      "            #np.log(np.random.poisson(alphaN))\n",
      "            lik = ll(X = X, Z = Z_temp, sigmaX = sigmaX, sigmaA = sigmaA, K=(Kplus+kNew), D= D, N= N)\n",
      "            #print kNew, pois\n",
      "            prob[kNew] = pois + lik\n",
      "            #print ll(X = X, Z = Z_temp, sigmaX = sigmaX, sigmaA = sigmaA, K=(Kplus+kNew), D= D, N= N)\n",
      "\n",
      "        #normalize prob\n",
      "        #print prob\n",
      "        prob = np.exp(prob - max(prob))\n",
      "        #print prob\n",
      "        prob = prob/sum(prob)\n",
      "        \n",
      "        U = np.random.uniform(0,1,1)\n",
      "        p = 0\n",
      "        kNew=0\n",
      "        for new in range(4):\n",
      "            p = p+prob[new]\n",
      "            if U<p:\n",
      "                kNew = new\n",
      "                #print kNew\n",
      "                break\n",
      "     \n",
      "        #Add kNew new columns to Z and set the values at ith row to 1 for all of them\n",
      "        addCols = np.zeros((N,kNew))\n",
      "        addCols[i,:] = 1\n",
      "        Z = np.hstack((Z, addCols))\n",
      "        Kplus = Kplus + kNew \n",
      "    \n",
      "    llCurrent = ll(X, Z, sigmaX, sigmaA, Kplus, D, N )\n",
      "    #update sigmaX\n",
      "    #epsX = np.random.uniform(0,1)\n",
      "    sigmaX_new = sigmaX +np.random.uniform(-0.05,0.05)\n",
      "#     if epsX < .5:\n",
      "#         sigmaX_new = sigmaX - epsX/20\n",
      "#     else:\n",
      "#         sigmaX_new = sigmaX + epsX/20\n",
      "    \n",
      "    #print sigmaX\n",
      "    \n",
      "#     epsX = np.random.uniform(-.05,.05)\n",
      "#     sigmaX_new = sigmaX+epsX\n",
      "    #llCurrent = ll(X, Z, sigmaX, sigmaA, Kplus, D, N )\n",
      "    llNew = ll(X, Z, sigmaX_new, sigmaA, Kplus, D, N)\n",
      "\n",
      "    arX = np.exp(min(0,llNew-llCurrent))\n",
      "    U = np.random.uniform(0,1)\n",
      "    if U < arX:\n",
      "        #print a\n",
      "        sigmaX = sigmaX_new\n",
      "    \n",
      "    #print \"sigmaX\", sigmaX\n",
      "    #update sigma_A\n",
      "    \n",
      "    \n",
      "    epsA = np.random.uniform(0,1)\n",
      "    if epsA < .5:\n",
      "        sigmaA_new = sigmaA - epsA/20\n",
      "    else:\n",
      "        sigmaA_new = sigmaA + epsA/20\n",
      "    \n",
      "    \n",
      "#     epsA = np.random.uniform(-.05,.05)\n",
      "#     sigmaA_new = sigmaA+epsA\n",
      "    #llCurrent = ll(X, Z, sigmaX, sigmaA, Kplus, D, N )\n",
      "    llNew = ll(X, Z, sigmaX, sigmaA_new, Kplus, D, N)\n",
      "\n",
      "    arA = np.exp(min(0,llNew-llCurrent))\n",
      "\n",
      "    U = np.random.uniform(0,1)\n",
      "    if U < arA:\n",
      "        sigmaA = sigmaA_new\n",
      "        \n",
      "    #print \"sigmaA\", sigmaA\n",
      "    #update alpha\n",
      "    alpha = np.random.gamma(1+Kplus, 1/(1+HN))\n",
      "    #print"
     ],
     "language": "python",
     "metadata": {},
     "outputs": [
      {
       "output_type": "stream",
       "stream": "stdout",
       "text": [
        "('iteration:', 0, 'Kplus:', 4, 'alpha:', 1)\n",
        "('iteration:', 1, 'Kplus:', 2, 'alpha:', 0.20916912270748897)"
       ]
      },
      {
       "output_type": "stream",
       "stream": "stdout",
       "text": [
        "\n",
        "('iteration:', 2, 'Kplus:', 2, 'alpha:', 0.5200770293746821)"
       ]
      },
      {
       "output_type": "stream",
       "stream": "stdout",
       "text": [
        "\n",
        "('iteration:', 3, 'Kplus:', 2, 'alpha:', 0.2406585161416506)"
       ]
      },
      {
       "output_type": "stream",
       "stream": "stdout",
       "text": [
        "\n",
        "('iteration:', 4, 'Kplus:', 2, 'alpha:', 0.6124390051480478)"
       ]
      },
      {
       "output_type": "stream",
       "stream": "stdout",
       "text": [
        "\n",
        "('iteration:', 5, 'Kplus:', 2, 'alpha:', 0.59198230558426)"
       ]
      },
      {
       "output_type": "stream",
       "stream": "stdout",
       "text": [
        "\n",
        "('iteration:', 6, 'Kplus:', 2, 'alpha:', 0.3168713456050725)"
       ]
      },
      {
       "output_type": "stream",
       "stream": "stdout",
       "text": [
        "\n",
        "('iteration:', 7, 'Kplus:', 2, 'alpha:', 0.39598568469484907)"
       ]
      },
      {
       "output_type": "stream",
       "stream": "stdout",
       "text": [
        "\n",
        "('iteration:', 8, 'Kplus:', 2, 'alpha:', 0.1611974992733941)"
       ]
      },
      {
       "output_type": "stream",
       "stream": "stdout",
       "text": [
        "\n",
        "('iteration:', 9, 'Kplus:', 2, 'alpha:', 0.35675455488953356)"
       ]
      },
      {
       "output_type": "stream",
       "stream": "stdout",
       "text": [
        "\n",
        "('iteration:', 10, 'Kplus:', 2, 'alpha:', 0.5108090507739158)"
       ]
      },
      {
       "output_type": "stream",
       "stream": "stdout",
       "text": [
        "\n",
        "('iteration:', 11, 'Kplus:', 2, 'alpha:', 0.20300982235728882)"
       ]
      },
      {
       "output_type": "stream",
       "stream": "stdout",
       "text": [
        "\n",
        "('iteration:', 12, 'Kplus:', 2, 'alpha:', 0.8047432083199689)"
       ]
      },
      {
       "output_type": "stream",
       "stream": "stdout",
       "text": [
        "\n",
        "('iteration:', 13, 'Kplus:', 2, 'alpha:', 0.8418508671380682)"
       ]
      },
      {
       "output_type": "stream",
       "stream": "stdout",
       "text": [
        "\n",
        "('iteration:', 14, 'Kplus:', 2, 'alpha:', 0.7948290719702656)"
       ]
      },
      {
       "output_type": "stream",
       "stream": "stdout",
       "text": [
        "\n",
        "('iteration:', 15, 'Kplus:', 2, 'alpha:', 0.42214410525443524)"
       ]
      },
      {
       "output_type": "stream",
       "stream": "stdout",
       "text": [
        "\n",
        "('iteration:', 16, 'Kplus:', 2, 'alpha:', 0.40911834148349935)"
       ]
      },
      {
       "output_type": "stream",
       "stream": "stdout",
       "text": [
        "\n",
        "('iteration:', 17, 'Kplus:', 2, 'alpha:', 0.6343464970581796)"
       ]
      },
      {
       "output_type": "stream",
       "stream": "stdout",
       "text": [
        "\n",
        "('iteration:', 18, 'Kplus:', 2, 'alpha:', 0.9913536510138737)"
       ]
      },
      {
       "output_type": "stream",
       "stream": "stdout",
       "text": [
        "\n",
        "('iteration:', 19, 'Kplus:', 2, 'alpha:', 0.47470446697718677)"
       ]
      },
      {
       "output_type": "stream",
       "stream": "stdout",
       "text": [
        "\n",
        "('iteration:', 20, 'Kplus:', 2, 'alpha:', 0.3847121906973855)"
       ]
      },
      {
       "output_type": "stream",
       "stream": "stdout",
       "text": [
        "\n",
        "('iteration:', 21, 'Kplus:', 2, 'alpha:', 0.06805365242572634)"
       ]
      },
      {
       "output_type": "stream",
       "stream": "stdout",
       "text": [
        "\n",
        "('iteration:', 22, 'Kplus:', 2, 'alpha:', 1.7345536293129782)"
       ]
      },
      {
       "output_type": "stream",
       "stream": "stdout",
       "text": [
        "\n",
        "('iteration:', 23, 'Kplus:', 2, 'alpha:', 0.5352834154645507)"
       ]
      },
      {
       "output_type": "stream",
       "stream": "stdout",
       "text": [
        "\n",
        "('iteration:', 24, 'Kplus:', 2, 'alpha:', 1.0375051478511388)"
       ]
      },
      {
       "output_type": "stream",
       "stream": "stdout",
       "text": [
        "\n",
        "('iteration:', 25, 'Kplus:', 2, 'alpha:', 0.789790559962523)"
       ]
      },
      {
       "output_type": "stream",
       "stream": "stdout",
       "text": [
        "\n",
        "('iteration:', 26, 'Kplus:', 2, 'alpha:', 0.35740792757112133)"
       ]
      },
      {
       "output_type": "stream",
       "stream": "stdout",
       "text": [
        "\n",
        "('iteration:', 27, 'Kplus:', 2, 'alpha:', 0.4148683167866267)"
       ]
      },
      {
       "output_type": "stream",
       "stream": "stdout",
       "text": [
        "\n",
        "('iteration:', 28, 'Kplus:', 2, 'alpha:', 0.47676434175030347)"
       ]
      },
      {
       "output_type": "stream",
       "stream": "stdout",
       "text": [
        "\n",
        "('iteration:', 29, 'Kplus:', 2, 'alpha:', 0.38847673402092026)"
       ]
      },
      {
       "output_type": "stream",
       "stream": "stdout",
       "text": [
        "\n",
        "('iteration:', 30, 'Kplus:', 2, 'alpha:', 0.1247210512323209)"
       ]
      },
      {
       "output_type": "stream",
       "stream": "stdout",
       "text": [
        "\n",
        "('iteration:', 31, 'Kplus:', 2, 'alpha:', 0.4907637816899342)"
       ]
      },
      {
       "output_type": "stream",
       "stream": "stdout",
       "text": [
        "\n",
        "('iteration:', 32, 'Kplus:', 2, 'alpha:', 0.7914488051415326)"
       ]
      },
      {
       "output_type": "stream",
       "stream": "stdout",
       "text": [
        "\n",
        "('iteration:', 33, 'Kplus:', 2, 'alpha:', 0.20682278318889316)"
       ]
      },
      {
       "output_type": "stream",
       "stream": "stdout",
       "text": [
        "\n",
        "('iteration:', 34, 'Kplus:', 2, 'alpha:', 0.28286232362543584)"
       ]
      },
      {
       "output_type": "stream",
       "stream": "stdout",
       "text": [
        "\n",
        "('iteration:', 35, 'Kplus:', 2, 'alpha:', 0.5409065790075375)"
       ]
      },
      {
       "output_type": "stream",
       "stream": "stdout",
       "text": [
        "\n",
        "('iteration:', 36, 'Kplus:', 2, 'alpha:', 0.3043133916411095)"
       ]
      },
      {
       "output_type": "stream",
       "stream": "stdout",
       "text": [
        "\n",
        "('iteration:', 37, 'Kplus:', 2, 'alpha:', 0.6100031997703161)"
       ]
      },
      {
       "output_type": "stream",
       "stream": "stdout",
       "text": [
        "\n",
        "('iteration:', 38, 'Kplus:', 2, 'alpha:', 0.5655260159181321)"
       ]
      },
      {
       "output_type": "stream",
       "stream": "stdout",
       "text": [
        "\n",
        "('iteration:', 39, 'Kplus:', 2, 'alpha:', 0.140529622976551)"
       ]
      },
      {
       "output_type": "stream",
       "stream": "stdout",
       "text": [
        "\n",
        "('iteration:', 40, 'Kplus:', 2, 'alpha:', 0.6610655134525648)"
       ]
      },
      {
       "output_type": "stream",
       "stream": "stdout",
       "text": [
        "\n",
        "('iteration:', 41, 'Kplus:', 2, 'alpha:', 0.7589311164413702)"
       ]
      },
      {
       "output_type": "stream",
       "stream": "stdout",
       "text": [
        "\n",
        "('iteration:', 42, 'Kplus:', 2, 'alpha:', 0.3682201213245083)"
       ]
      },
      {
       "output_type": "stream",
       "stream": "stdout",
       "text": [
        "\n",
        "('iteration:', 43, 'Kplus:', 2, 'alpha:', 0.24583867429791662)"
       ]
      },
      {
       "output_type": "stream",
       "stream": "stdout",
       "text": [
        "\n",
        "('iteration:', 44, 'Kplus:', 2, 'alpha:', 0.23522766664362968)"
       ]
      },
      {
       "output_type": "stream",
       "stream": "stdout",
       "text": [
        "\n",
        "('iteration:', 45, 'Kplus:', 2, 'alpha:', 0.21786323135457825)"
       ]
      },
      {
       "output_type": "stream",
       "stream": "stdout",
       "text": [
        "\n",
        "('iteration:', 46, 'Kplus:', 2, 'alpha:', 0.20266957328764013)"
       ]
      },
      {
       "output_type": "stream",
       "stream": "stdout",
       "text": [
        "\n",
        "('iteration:', 47, 'Kplus:', 2, 'alpha:', 1.0871771683819256)"
       ]
      },
      {
       "output_type": "stream",
       "stream": "stdout",
       "text": [
        "\n",
        "('iteration:', 48, 'Kplus:', 2, 'alpha:', 0.12538677909853085)"
       ]
      },
      {
       "output_type": "stream",
       "stream": "stdout",
       "text": [
        "\n",
        "('iteration:', 49, 'Kplus:', 2, 'alpha:', 0.10401046548724611)"
       ]
      },
      {
       "output_type": "stream",
       "stream": "stdout",
       "text": [
        "\n",
        "('iteration:', 50, 'Kplus:', 2, 'alpha:', 0.5008347416404083)"
       ]
      },
      {
       "output_type": "stream",
       "stream": "stdout",
       "text": [
        "\n",
        "('iteration:', 51, 'Kplus:', 2, 'alpha:', 0.2583823785221247)"
       ]
      },
      {
       "output_type": "stream",
       "stream": "stdout",
       "text": [
        "\n",
        "('iteration:', 52, 'Kplus:', 2, 'alpha:', 0.6773617499029037)"
       ]
      },
      {
       "output_type": "stream",
       "stream": "stdout",
       "text": [
        "\n",
        "('iteration:', 53, 'Kplus:', 2, 'alpha:', 0.20957046869083898)"
       ]
      },
      {
       "output_type": "stream",
       "stream": "stdout",
       "text": [
        "\n",
        "('iteration:', 54, 'Kplus:', 2, 'alpha:', 0.401605373226736)"
       ]
      },
      {
       "output_type": "stream",
       "stream": "stdout",
       "text": [
        "\n",
        "('iteration:', 55, 'Kplus:', 2, 'alpha:', 0.6364629797429568)"
       ]
      },
      {
       "output_type": "stream",
       "stream": "stdout",
       "text": [
        "\n",
        "('iteration:', 56, 'Kplus:', 2, 'alpha:', 0.5338443791809098)"
       ]
      },
      {
       "output_type": "stream",
       "stream": "stdout",
       "text": [
        "\n",
        "('iteration:', 57, 'Kplus:', 2, 'alpha:', 0.25305350531303206)"
       ]
      },
      {
       "output_type": "stream",
       "stream": "stdout",
       "text": [
        "\n",
        "('iteration:', 58, 'Kplus:', 2, 'alpha:', 0.12665980015454348)"
       ]
      },
      {
       "output_type": "stream",
       "stream": "stdout",
       "text": [
        "\n",
        "('iteration:', 59, 'Kplus:', 2, 'alpha:', 0.5345603045432668)"
       ]
      },
      {
       "output_type": "stream",
       "stream": "stdout",
       "text": [
        "\n",
        "('iteration:', 60, 'Kplus:', 2, 'alpha:', 0.3908206347926889)"
       ]
      },
      {
       "output_type": "stream",
       "stream": "stdout",
       "text": [
        "\n",
        "('iteration:', 61, 'Kplus:', 2, 'alpha:', 0.36260821011523414)"
       ]
      },
      {
       "output_type": "stream",
       "stream": "stdout",
       "text": [
        "\n",
        "('iteration:', 62, 'Kplus:', 2, 'alpha:', 0.6720927876918935)"
       ]
      },
      {
       "output_type": "stream",
       "stream": "stdout",
       "text": [
        "\n",
        "('iteration:', 63, 'Kplus:', 2, 'alpha:', 0.48941310569208546)"
       ]
      },
      {
       "output_type": "stream",
       "stream": "stdout",
       "text": [
        "\n",
        "('iteration:', 64, 'Kplus:', 2, 'alpha:', 0.033938787389667865)"
       ]
      },
      {
       "output_type": "stream",
       "stream": "stdout",
       "text": [
        "\n",
        "('iteration:', 65, 'Kplus:', 2, 'alpha:', 0.9024424237587667)"
       ]
      },
      {
       "output_type": "stream",
       "stream": "stdout",
       "text": [
        "\n",
        "('iteration:', 66, 'Kplus:', 2, 'alpha:', 0.6789812320560384)"
       ]
      },
      {
       "output_type": "stream",
       "stream": "stdout",
       "text": [
        "\n",
        "('iteration:', 67, 'Kplus:', 2, 'alpha:', 0.6701329209533144)"
       ]
      },
      {
       "output_type": "stream",
       "stream": "stdout",
       "text": [
        "\n",
        "('iteration:', 68, 'Kplus:', 2, 'alpha:', 0.43181794708223364)"
       ]
      },
      {
       "output_type": "stream",
       "stream": "stdout",
       "text": [
        "\n",
        "('iteration:', 69, 'Kplus:', 2, 'alpha:', 0.6477750127791012)"
       ]
      },
      {
       "output_type": "stream",
       "stream": "stdout",
       "text": [
        "\n",
        "('iteration:', 70, 'Kplus:', 2, 'alpha:', 0.19622093440922697)"
       ]
      },
      {
       "output_type": "stream",
       "stream": "stdout",
       "text": [
        "\n",
        "('iteration:', 71, 'Kplus:', 2, 'alpha:', 0.3581772699991881)"
       ]
      },
      {
       "output_type": "stream",
       "stream": "stdout",
       "text": [
        "\n",
        "('iteration:', 72, 'Kplus:', 2, 'alpha:', 0.3144937828957618)"
       ]
      },
      {
       "output_type": "stream",
       "stream": "stdout",
       "text": [
        "\n",
        "('iteration:', 73, 'Kplus:', 2, 'alpha:', 0.23334805573395223)"
       ]
      },
      {
       "output_type": "stream",
       "stream": "stdout",
       "text": [
        "\n",
        "('iteration:', 74, 'Kplus:', 2, 'alpha:', 0.6998638912214912)"
       ]
      },
      {
       "output_type": "stream",
       "stream": "stdout",
       "text": [
        "\n",
        "('iteration:', 75, 'Kplus:', 2, 'alpha:', 0.8002257580085074)"
       ]
      },
      {
       "output_type": "stream",
       "stream": "stdout",
       "text": [
        "\n",
        "('iteration:', 76, 'Kplus:', 2, 'alpha:', 0.8198805776942432)"
       ]
      },
      {
       "output_type": "stream",
       "stream": "stdout",
       "text": [
        "\n",
        "('iteration:', 77, 'Kplus:', 2, 'alpha:', 0.37304262669362886)"
       ]
      },
      {
       "output_type": "stream",
       "stream": "stdout",
       "text": [
        "\n",
        "('iteration:', 78, 'Kplus:', 2, 'alpha:', 0.3884727996488257)"
       ]
      },
      {
       "output_type": "stream",
       "stream": "stdout",
       "text": [
        "\n",
        "('iteration:', 79, 'Kplus:', 2, 'alpha:', 0.2899619875646229)"
       ]
      },
      {
       "output_type": "stream",
       "stream": "stdout",
       "text": [
        "\n",
        "('iteration:', 80, 'Kplus:', 2, 'alpha:', 0.38365385484733255)"
       ]
      },
      {
       "output_type": "stream",
       "stream": "stdout",
       "text": [
        "\n",
        "('iteration:', 81, 'Kplus:', 2, 'alpha:', 0.3104383435081775)"
       ]
      },
      {
       "output_type": "stream",
       "stream": "stdout",
       "text": [
        "\n",
        "('iteration:', 82, 'Kplus:', 2, 'alpha:', 0.40786848015009713)"
       ]
      },
      {
       "output_type": "stream",
       "stream": "stdout",
       "text": [
        "\n",
        "('iteration:', 83, 'Kplus:', 2, 'alpha:', 0.6604830844489399)"
       ]
      },
      {
       "output_type": "stream",
       "stream": "stdout",
       "text": [
        "\n",
        "('iteration:', 84, 'Kplus:', 2, 'alpha:', 0.7642032826652444)"
       ]
      },
      {
       "output_type": "stream",
       "stream": "stdout",
       "text": [
        "\n",
        "('iteration:', 85, 'Kplus:', 2, 'alpha:', 0.23402794043827893)"
       ]
      },
      {
       "output_type": "stream",
       "stream": "stdout",
       "text": [
        "\n",
        "('iteration:', 86, 'Kplus:', 2, 'alpha:', 0.5536846065993736)"
       ]
      },
      {
       "output_type": "stream",
       "stream": "stdout",
       "text": [
        "\n",
        "('iteration:', 87, 'Kplus:', 2, 'alpha:', 0.5900978134030223)"
       ]
      },
      {
       "output_type": "stream",
       "stream": "stdout",
       "text": [
        "\n",
        "('iteration:', 88, 'Kplus:', 2, 'alpha:', 0.5789561252897032)"
       ]
      },
      {
       "output_type": "stream",
       "stream": "stdout",
       "text": [
        "\n",
        "('iteration:', 89, 'Kplus:', 2, 'alpha:', 0.19819436469698906)"
       ]
      },
      {
       "output_type": "stream",
       "stream": "stdout",
       "text": [
        "\n",
        "('iteration:', 90, 'Kplus:', 2, 'alpha:', 0.45157411229088323)"
       ]
      },
      {
       "output_type": "stream",
       "stream": "stdout",
       "text": [
        "\n",
        "('iteration:', 91, 'Kplus:', 2, 'alpha:', 0.9859716750397858)"
       ]
      },
      {
       "output_type": "stream",
       "stream": "stdout",
       "text": [
        "\n",
        "('iteration:', 92, 'Kplus:', 2, 'alpha:', 1.0295833268085226)"
       ]
      },
      {
       "output_type": "stream",
       "stream": "stdout",
       "text": [
        "\n",
        "('iteration:', 93, 'Kplus:', 2, 'alpha:', 0.3249616547240208)"
       ]
      },
      {
       "output_type": "stream",
       "stream": "stdout",
       "text": [
        "\n",
        "('iteration:', 94, 'Kplus:', 2, 'alpha:', 0.8113820406321401)"
       ]
      },
      {
       "output_type": "stream",
       "stream": "stdout",
       "text": [
        "\n",
        "('iteration:', 95, 'Kplus:', 2, 'alpha:', 0.192722087059528)"
       ]
      },
      {
       "output_type": "stream",
       "stream": "stdout",
       "text": [
        "\n",
        "('iteration:', 96, 'Kplus:', 2, 'alpha:', 0.13314291189412994)"
       ]
      },
      {
       "output_type": "stream",
       "stream": "stdout",
       "text": [
        "\n",
        "('iteration:', 97, 'Kplus:', 2, 'alpha:', 0.33503814910660873)"
       ]
      },
      {
       "output_type": "stream",
       "stream": "stdout",
       "text": [
        "\n",
        "('iteration:', 98, 'Kplus:', 2, 'alpha:', 0.5485188323666831)"
       ]
      },
      {
       "output_type": "stream",
       "stream": "stdout",
       "text": [
        "\n",
        "('iteration:', 99, 'Kplus:', 2, 'alpha:', 0.5197245228088087)"
       ]
      },
      {
       "output_type": "stream",
       "stream": "stdout",
       "text": [
        "\n",
        "('iteration:', 100, 'Kplus:', 2, 'alpha:', 0.6321362491429144)"
       ]
      },
      {
       "output_type": "stream",
       "stream": "stdout",
       "text": [
        "\n",
        "('iteration:', 101, 'Kplus:', 2, 'alpha:', 0.6430574353556029)"
       ]
      },
      {
       "output_type": "stream",
       "stream": "stdout",
       "text": [
        "\n",
        "('iteration:', 102, 'Kplus:', 2, 'alpha:', 0.46783956172779684)"
       ]
      },
      {
       "output_type": "stream",
       "stream": "stdout",
       "text": [
        "\n",
        "('iteration:', 103, 'Kplus:', 2, 'alpha:', 1.3417134961557267)"
       ]
      },
      {
       "output_type": "stream",
       "stream": "stdout",
       "text": [
        "\n",
        "('iteration:', 104, 'Kplus:', 2, 'alpha:', 0.1857137364039578)"
       ]
      },
      {
       "output_type": "stream",
       "stream": "stdout",
       "text": [
        "\n",
        "('iteration:', 105, 'Kplus:', 2, 'alpha:', 0.41843843310851797)"
       ]
      },
      {
       "output_type": "stream",
       "stream": "stdout",
       "text": [
        "\n",
        "('iteration:', 106, 'Kplus:', 2, 'alpha:', 0.28435602084129846)"
       ]
      },
      {
       "output_type": "stream",
       "stream": "stdout",
       "text": [
        "\n",
        "('iteration:', 107, 'Kplus:', 2, 'alpha:', 0.5301513080449555)"
       ]
      },
      {
       "output_type": "stream",
       "stream": "stdout",
       "text": [
        "\n",
        "('iteration:', 108, 'Kplus:', 2, 'alpha:', 0.3166703731274256)"
       ]
      },
      {
       "output_type": "stream",
       "stream": "stdout",
       "text": [
        "\n",
        "('iteration:', 109, 'Kplus:', 2, 'alpha:', 0.4425909586531552)"
       ]
      },
      {
       "output_type": "stream",
       "stream": "stdout",
       "text": [
        "\n",
        "('iteration:', 110, 'Kplus:', 2, 'alpha:', 0.22030964074472276)"
       ]
      },
      {
       "output_type": "stream",
       "stream": "stdout",
       "text": [
        "\n",
        "('iteration:', 111, 'Kplus:', 2, 'alpha:', 0.6830975078381146)"
       ]
      },
      {
       "output_type": "stream",
       "stream": "stdout",
       "text": [
        "\n",
        "('iteration:', 112, 'Kplus:', 2, 'alpha:', 0.45016313476668446)"
       ]
      },
      {
       "output_type": "stream",
       "stream": "stdout",
       "text": [
        "\n",
        "('iteration:', 113, 'Kplus:', 2, 'alpha:', 0.11067558192335228)"
       ]
      },
      {
       "output_type": "stream",
       "stream": "stdout",
       "text": [
        "\n",
        "('iteration:', 114, 'Kplus:', 2, 'alpha:', 0.456033885714062)"
       ]
      },
      {
       "output_type": "stream",
       "stream": "stdout",
       "text": [
        "\n",
        "('iteration:', 115, 'Kplus:', 2, 'alpha:', 0.649721005376412)"
       ]
      },
      {
       "output_type": "stream",
       "stream": "stdout",
       "text": [
        "\n",
        "('iteration:', 116, 'Kplus:', 2, 'alpha:', 0.8241959341162436)"
       ]
      },
      {
       "output_type": "stream",
       "stream": "stdout",
       "text": [
        "\n",
        "('iteration:', 117, 'Kplus:', 2, 'alpha:', 0.3626298416150098)"
       ]
      },
      {
       "output_type": "stream",
       "stream": "stdout",
       "text": [
        "\n",
        "('iteration:', 118, 'Kplus:', 2, 'alpha:', 0.3531216458453551)"
       ]
      },
      {
       "output_type": "stream",
       "stream": "stdout",
       "text": [
        "\n",
        "('iteration:', 119, 'Kplus:', 2, 'alpha:', 0.1814256539967016)"
       ]
      },
      {
       "output_type": "stream",
       "stream": "stdout",
       "text": [
        "\n",
        "('iteration:', 120, 'Kplus:', 2, 'alpha:', 0.3939067942123981)"
       ]
      },
      {
       "output_type": "stream",
       "stream": "stdout",
       "text": [
        "\n",
        "('iteration:', 121, 'Kplus:', 2, 'alpha:', 0.04416821010822643)"
       ]
      },
      {
       "output_type": "stream",
       "stream": "stdout",
       "text": [
        "\n",
        "('iteration:', 122, 'Kplus:', 2, 'alpha:', 1.2603783086399492)"
       ]
      },
      {
       "output_type": "stream",
       "stream": "stdout",
       "text": [
        "\n",
        "('iteration:', 123, 'Kplus:', 2, 'alpha:', 0.1840128828043964)"
       ]
      },
      {
       "output_type": "stream",
       "stream": "stdout",
       "text": [
        "\n",
        "('iteration:', 124, 'Kplus:', 2, 'alpha:', 0.4508622944694528)"
       ]
      },
      {
       "output_type": "stream",
       "stream": "stdout",
       "text": [
        "\n",
        "('iteration:', 125, 'Kplus:', 2, 'alpha:', 0.45709585723589147)"
       ]
      },
      {
       "output_type": "stream",
       "stream": "stdout",
       "text": [
        "\n",
        "('iteration:', 126, 'Kplus:', 2, 'alpha:', 0.2473454488180304)"
       ]
      },
      {
       "output_type": "stream",
       "stream": "stdout",
       "text": [
        "\n",
        "('iteration:', 127, 'Kplus:', 2, 'alpha:', 0.6212349677004153)"
       ]
      },
      {
       "output_type": "stream",
       "stream": "stdout",
       "text": [
        "\n",
        "('iteration:', 128, 'Kplus:', 2, 'alpha:', 0.3116378501648725)"
       ]
      },
      {
       "output_type": "stream",
       "stream": "stdout",
       "text": [
        "\n",
        "('iteration:', 129, 'Kplus:', 2, 'alpha:', 1.0063571010867003)"
       ]
      },
      {
       "output_type": "stream",
       "stream": "stdout",
       "text": [
        "\n",
        "('iteration:', 130, 'Kplus:', 2, 'alpha:', 0.5742368353161574)"
       ]
      },
      {
       "output_type": "stream",
       "stream": "stdout",
       "text": [
        "\n",
        "('iteration:', 131, 'Kplus:', 2, 'alpha:', 0.25653787668619954)"
       ]
      },
      {
       "output_type": "stream",
       "stream": "stdout",
       "text": [
        "\n",
        "('iteration:', 132, 'Kplus:', 2, 'alpha:', 0.41965420754108507)"
       ]
      },
      {
       "output_type": "stream",
       "stream": "stdout",
       "text": [
        "\n",
        "('iteration:', 133, 'Kplus:', 2, 'alpha:', 0.1333223222551818)"
       ]
      },
      {
       "output_type": "stream",
       "stream": "stdout",
       "text": [
        "\n",
        "('iteration:', 134, 'Kplus:', 2, 'alpha:', 0.16609717309374433)"
       ]
      },
      {
       "output_type": "stream",
       "stream": "stdout",
       "text": [
        "\n",
        "('iteration:', 135, 'Kplus:', 2, 'alpha:', 0.5464245300213262)"
       ]
      },
      {
       "output_type": "stream",
       "stream": "stdout",
       "text": [
        "\n",
        "('iteration:', 136, 'Kplus:', 2, 'alpha:', 0.6732612311668541)"
       ]
      },
      {
       "output_type": "stream",
       "stream": "stdout",
       "text": [
        "\n",
        "('iteration:', 137, 'Kplus:', 2, 'alpha:', 0.6140450939555727)"
       ]
      },
      {
       "output_type": "stream",
       "stream": "stdout",
       "text": [
        "\n",
        "('iteration:', 138, 'Kplus:', 2, 'alpha:', 0.20238252854043182)"
       ]
      },
      {
       "output_type": "stream",
       "stream": "stdout",
       "text": [
        "\n",
        "('iteration:', 139, 'Kplus:', 2, 'alpha:', 0.35796038861370544)"
       ]
      },
      {
       "output_type": "stream",
       "stream": "stdout",
       "text": [
        "\n",
        "('iteration:', 140, 'Kplus:', 2, 'alpha:', 0.36979107626986313)"
       ]
      },
      {
       "output_type": "stream",
       "stream": "stdout",
       "text": [
        "\n",
        "('iteration:', 141, 'Kplus:', 2, 'alpha:', 0.39801859645965415)"
       ]
      },
      {
       "output_type": "stream",
       "stream": "stdout",
       "text": [
        "\n",
        "('iteration:', 142, 'Kplus:', 2, 'alpha:', 0.27197097366955186)"
       ]
      },
      {
       "output_type": "stream",
       "stream": "stdout",
       "text": [
        "\n",
        "('iteration:', 143, 'Kplus:', 2, 'alpha:', 0.3489466562608149)"
       ]
      },
      {
       "output_type": "stream",
       "stream": "stdout",
       "text": [
        "\n",
        "('iteration:', 144, 'Kplus:', 2, 'alpha:', 0.5928761451789155)"
       ]
      },
      {
       "output_type": "stream",
       "stream": "stdout",
       "text": [
        "\n",
        "('iteration:', 145, 'Kplus:', 2, 'alpha:', 0.3597931721137909)"
       ]
      },
      {
       "output_type": "stream",
       "stream": "stdout",
       "text": [
        "\n",
        "('iteration:', 146, 'Kplus:', 2, 'alpha:', 0.055082898352083465)"
       ]
      },
      {
       "output_type": "stream",
       "stream": "stdout",
       "text": [
        "\n",
        "('iteration:', 147, 'Kplus:', 2, 'alpha:', 0.18861334573398314)"
       ]
      },
      {
       "output_type": "stream",
       "stream": "stdout",
       "text": [
        "\n",
        "('iteration:', 148, 'Kplus:', 2, 'alpha:', 0.2405533270540539)"
       ]
      },
      {
       "output_type": "stream",
       "stream": "stdout",
       "text": [
        "\n",
        "('iteration:', 149, 'Kplus:', 2, 'alpha:', 1.3348071622228066)"
       ]
      },
      {
       "output_type": "stream",
       "stream": "stdout",
       "text": [
        "\n",
        "('iteration:', 150, 'Kplus:', 2, 'alpha:', 0.5316346322193696)"
       ]
      },
      {
       "output_type": "stream",
       "stream": "stdout",
       "text": [
        "\n",
        "('iteration:', 151, 'Kplus:', 2, 'alpha:', 0.6092278738669233)"
       ]
      },
      {
       "output_type": "stream",
       "stream": "stdout",
       "text": [
        "\n",
        "('iteration:', 152, 'Kplus:', 2, 'alpha:', 0.8996608477268397)"
       ]
      },
      {
       "output_type": "stream",
       "stream": "stdout",
       "text": [
        "\n",
        "('iteration:', 153, 'Kplus:', 2, 'alpha:', 0.14243307076340864)"
       ]
      },
      {
       "output_type": "stream",
       "stream": "stdout",
       "text": [
        "\n",
        "('iteration:', 154, 'Kplus:', 2, 'alpha:', 0.39239802557340303)"
       ]
      },
      {
       "output_type": "stream",
       "stream": "stdout",
       "text": [
        "\n",
        "('iteration:', 155, 'Kplus:', 2, 'alpha:', 0.21997068457478908)"
       ]
      },
      {
       "output_type": "stream",
       "stream": "stdout",
       "text": [
        "\n",
        "('iteration:', 156, 'Kplus:', 2, 'alpha:', 0.7455566074143917)"
       ]
      },
      {
       "output_type": "stream",
       "stream": "stdout",
       "text": [
        "\n",
        "('iteration:', 157, 'Kplus:', 2, 'alpha:', 0.12707507186718528)"
       ]
      },
      {
       "output_type": "stream",
       "stream": "stdout",
       "text": [
        "\n",
        "('iteration:', 158, 'Kplus:', 2, 'alpha:', 0.27400970619944065)"
       ]
      },
      {
       "output_type": "stream",
       "stream": "stdout",
       "text": [
        "\n",
        "('iteration:', 159, 'Kplus:', 2, 'alpha:', 0.35020460778137763)"
       ]
      },
      {
       "output_type": "stream",
       "stream": "stdout",
       "text": [
        "\n",
        "('iteration:', 160, 'Kplus:', 2, 'alpha:', 0.5093943089754394)"
       ]
      },
      {
       "output_type": "stream",
       "stream": "stdout",
       "text": [
        "\n",
        "('iteration:', 161, 'Kplus:', 2, 'alpha:', 0.455375503346616)"
       ]
      },
      {
       "output_type": "stream",
       "stream": "stdout",
       "text": [
        "\n",
        "('iteration:', 162, 'Kplus:', 2, 'alpha:', 0.43150607003318436)"
       ]
      },
      {
       "output_type": "stream",
       "stream": "stdout",
       "text": [
        "\n",
        "('iteration:', 163, 'Kplus:', 2, 'alpha:', 0.5297295132708948)"
       ]
      },
      {
       "output_type": "stream",
       "stream": "stdout",
       "text": [
        "\n",
        "('iteration:', 164, 'Kplus:', 2, 'alpha:', 0.3640193270091859)"
       ]
      },
      {
       "output_type": "stream",
       "stream": "stdout",
       "text": [
        "\n",
        "('iteration:', 165, 'Kplus:', 2, 'alpha:', 0.2349715040331179)"
       ]
      },
      {
       "output_type": "stream",
       "stream": "stdout",
       "text": [
        "\n",
        "('iteration:', 166, 'Kplus:', 2, 'alpha:', 0.5771143346914039)"
       ]
      },
      {
       "output_type": "stream",
       "stream": "stdout",
       "text": [
        "\n",
        "('iteration:', 167, 'Kplus:', 2, 'alpha:', 0.30797293484114546)"
       ]
      },
      {
       "output_type": "stream",
       "stream": "stdout",
       "text": [
        "\n",
        "('iteration:', 168, 'Kplus:', 2, 'alpha:', 0.6639273294757433)"
       ]
      },
      {
       "output_type": "stream",
       "stream": "stdout",
       "text": [
        "\n",
        "('iteration:', 169, 'Kplus:', 2, 'alpha:', 0.17994450405509563)"
       ]
      },
      {
       "output_type": "stream",
       "stream": "stdout",
       "text": [
        "\n",
        "('iteration:', 170, 'Kplus:', 2, 'alpha:', 0.2700570364437933)"
       ]
      },
      {
       "output_type": "stream",
       "stream": "stdout",
       "text": [
        "\n",
        "('iteration:', 171, 'Kplus:', 2, 'alpha:', 0.46931350811196204)"
       ]
      },
      {
       "output_type": "stream",
       "stream": "stdout",
       "text": [
        "\n",
        "('iteration:', 172, 'Kplus:', 2, 'alpha:', 0.8072356246974185)"
       ]
      },
      {
       "output_type": "stream",
       "stream": "stdout",
       "text": [
        "\n",
        "('iteration:', 173, 'Kplus:', 2, 'alpha:', 0.49977375766433046)"
       ]
      },
      {
       "output_type": "stream",
       "stream": "stdout",
       "text": [
        "\n",
        "('iteration:', 174, 'Kplus:', 2, 'alpha:', 0.209693678336188)"
       ]
      },
      {
       "output_type": "stream",
       "stream": "stdout",
       "text": [
        "\n",
        "('iteration:', 175, 'Kplus:', 2, 'alpha:', 1.1092188039152941)"
       ]
      },
      {
       "output_type": "stream",
       "stream": "stdout",
       "text": [
        "\n",
        "('iteration:', 176, 'Kplus:', 2, 'alpha:', 0.510660915109066)"
       ]
      },
      {
       "output_type": "stream",
       "stream": "stdout",
       "text": [
        "\n",
        "('iteration:', 177, 'Kplus:', 2, 'alpha:', 0.2107544823088317)"
       ]
      },
      {
       "output_type": "stream",
       "stream": "stdout",
       "text": [
        "\n",
        "('iteration:', 178, 'Kplus:', 2, 'alpha:', 0.301668465680624)"
       ]
      },
      {
       "output_type": "stream",
       "stream": "stdout",
       "text": [
        "\n",
        "('iteration:', 179, 'Kplus:', 2, 'alpha:', 1.1394000614300273)"
       ]
      },
      {
       "output_type": "stream",
       "stream": "stdout",
       "text": [
        "\n",
        "('iteration:', 180, 'Kplus:', 2, 'alpha:', 0.5963741056932582)"
       ]
      },
      {
       "output_type": "stream",
       "stream": "stdout",
       "text": [
        "\n",
        "('iteration:', 181, 'Kplus:', 2, 'alpha:', 0.5328468580344592)"
       ]
      },
      {
       "output_type": "stream",
       "stream": "stdout",
       "text": [
        "\n",
        "('iteration:', 182, 'Kplus:', 2, 'alpha:', 0.4284788245834945)"
       ]
      },
      {
       "output_type": "stream",
       "stream": "stdout",
       "text": [
        "\n",
        "('iteration:', 183, 'Kplus:', 2, 'alpha:', 0.7345262660556761)"
       ]
      },
      {
       "output_type": "stream",
       "stream": "stdout",
       "text": [
        "\n",
        "('iteration:', 184, 'Kplus:', 2, 'alpha:', 0.2324833632307747)"
       ]
      },
      {
       "output_type": "stream",
       "stream": "stdout",
       "text": [
        "\n",
        "('iteration:', 185, 'Kplus:', 2, 'alpha:', 0.2447486529915361)"
       ]
      },
      {
       "output_type": "stream",
       "stream": "stdout",
       "text": [
        "\n",
        "('iteration:', 186, 'Kplus:', 2, 'alpha:', 0.7079681367605344)"
       ]
      },
      {
       "output_type": "stream",
       "stream": "stdout",
       "text": [
        "\n",
        "('iteration:', 187, 'Kplus:', 3, 'alpha:', 0.3752314375550274)"
       ]
      },
      {
       "output_type": "stream",
       "stream": "stdout",
       "text": [
        "\n",
        "('iteration:', 188, 'Kplus:', 3, 'alpha:', 0.49950452024767583)"
       ]
      },
      {
       "output_type": "stream",
       "stream": "stdout",
       "text": [
        "\n",
        "('iteration:', 189, 'Kplus:', 3, 'alpha:', 0.6370414363161548)"
       ]
      },
      {
       "output_type": "stream",
       "stream": "stdout",
       "text": [
        "\n",
        "('iteration:', 190, 'Kplus:', 3, 'alpha:', 0.2404502594432441)"
       ]
      },
      {
       "output_type": "stream",
       "stream": "stdout",
       "text": [
        "\n",
        "('iteration:', 191, 'Kplus:', 3, 'alpha:', 0.4482280686768449)"
       ]
      },
      {
       "output_type": "stream",
       "stream": "stdout",
       "text": [
        "\n",
        "('iteration:', 192, 'Kplus:', 3, 'alpha:', 0.5452084120458977)"
       ]
      },
      {
       "output_type": "stream",
       "stream": "stdout",
       "text": [
        "\n",
        "('iteration:', 193, 'Kplus:', 3, 'alpha:', 0.06253493945592666)"
       ]
      },
      {
       "output_type": "stream",
       "stream": "stdout",
       "text": [
        "\n",
        "('iteration:', 194, 'Kplus:', 3, 'alpha:', 0.8641406651444054)"
       ]
      },
      {
       "output_type": "stream",
       "stream": "stdout",
       "text": [
        "\n",
        "('iteration:', 195, 'Kplus:', 3, 'alpha:', 1.2388240827077943)"
       ]
      },
      {
       "output_type": "stream",
       "stream": "stdout",
       "text": [
        "\n",
        "('iteration:', 196, 'Kplus:', 3, 'alpha:', 0.7533710341670748)"
       ]
      },
      {
       "output_type": "stream",
       "stream": "stdout",
       "text": [
        "\n",
        "('iteration:', 197, 'Kplus:', 3, 'alpha:', 0.6819356955616617)"
       ]
      },
      {
       "output_type": "stream",
       "stream": "stdout",
       "text": [
        "\n",
        "('iteration:', 198, 'Kplus:', 3, 'alpha:', 0.2108007015921712)"
       ]
      },
      {
       "output_type": "stream",
       "stream": "stdout",
       "text": [
        "\n",
        "('iteration:', 199, 'Kplus:', 3, 'alpha:', 1.8003264062601452)"
       ]
      },
      {
       "output_type": "stream",
       "stream": "stdout",
       "text": [
        "\n",
        "('iteration:', 200, 'Kplus:', 3, 'alpha:', 0.8882830611761385)"
       ]
      },
      {
       "output_type": "stream",
       "stream": "stdout",
       "text": [
        "\n",
        "('iteration:', 201, 'Kplus:', 3, 'alpha:', 0.8858809552857598)"
       ]
      },
      {
       "output_type": "stream",
       "stream": "stdout",
       "text": [
        "\n",
        "('iteration:', 202, 'Kplus:', 3, 'alpha:', 0.5550790887655633)"
       ]
      },
      {
       "output_type": "stream",
       "stream": "stdout",
       "text": [
        "\n",
        "('iteration:', 203, 'Kplus:', 3, 'alpha:', 0.4061219134645429)"
       ]
      },
      {
       "output_type": "stream",
       "stream": "stdout",
       "text": [
        "\n",
        "('iteration:', 204, 'Kplus:', 3, 'alpha:', 0.7192673229529467)"
       ]
      },
      {
       "output_type": "stream",
       "stream": "stdout",
       "text": [
        "\n",
        "('iteration:', 205, 'Kplus:', 3, 'alpha:', 0.6149852006703682)"
       ]
      },
      {
       "output_type": "stream",
       "stream": "stdout",
       "text": [
        "\n",
        "('iteration:', 206, 'Kplus:', 3, 'alpha:', 0.4314526954739513)"
       ]
      },
      {
       "output_type": "stream",
       "stream": "stdout",
       "text": [
        "\n",
        "('iteration:', 207, 'Kplus:', 5, 'alpha:', 1.5324432504665402)"
       ]
      },
      {
       "output_type": "stream",
       "stream": "stdout",
       "text": [
        "\n",
        "('iteration:', 208, 'Kplus:', 4, 'alpha:', 0.6964952717611241)"
       ]
      },
      {
       "output_type": "stream",
       "stream": "stdout",
       "text": [
        "\n",
        "('iteration:', 209, 'Kplus:', 5, 'alpha:', 0.6154451056378032)"
       ]
      },
      {
       "output_type": "stream",
       "stream": "stdout",
       "text": [
        "\n",
        "('iteration:', 210, 'Kplus:', 4, 'alpha:', 1.097303749883771)"
       ]
      },
      {
       "output_type": "stream",
       "stream": "stdout",
       "text": [
        "\n",
        "('iteration:', 211, 'Kplus:', 4, 'alpha:', 0.91015277959462)"
       ]
      },
      {
       "output_type": "stream",
       "stream": "stdout",
       "text": [
        "\n",
        "('iteration:', 212, 'Kplus:', 5, 'alpha:', 2.135760025501527)"
       ]
      },
      {
       "output_type": "stream",
       "stream": "stdout",
       "text": [
        "\n",
        "('iteration:', 213, 'Kplus:', 4, 'alpha:', 0.29100775141344754)"
       ]
      },
      {
       "output_type": "stream",
       "stream": "stdout",
       "text": [
        "\n",
        "('iteration:', 214, 'Kplus:', 4, 'alpha:', 1.616849025557447)"
       ]
      },
      {
       "output_type": "stream",
       "stream": "stdout",
       "text": [
        "\n",
        "('iteration:', 215, 'Kplus:', 5, 'alpha:', 1.2547870004786668)"
       ]
      },
      {
       "output_type": "stream",
       "stream": "stdout",
       "text": [
        "\n",
        "('iteration:', 216, 'Kplus:', 4, 'alpha:', 1.1206719698214638)"
       ]
      },
      {
       "output_type": "stream",
       "stream": "stdout",
       "text": [
        "\n",
        "('iteration:', 217, 'Kplus:', 4, 'alpha:', 1.5401766248286912)"
       ]
      },
      {
       "output_type": "stream",
       "stream": "stdout",
       "text": [
        "\n",
        "('iteration:', 218, 'Kplus:', 6, 'alpha:', 1.5516206500573397)"
       ]
      },
      {
       "output_type": "stream",
       "stream": "stdout",
       "text": [
        "\n",
        "('iteration:', 219, 'Kplus:', 5, 'alpha:', 0.9671207444654415)"
       ]
      },
      {
       "output_type": "stream",
       "stream": "stdout",
       "text": [
        "\n",
        "('iteration:', 220, 'Kplus:', 4, 'alpha:', 0.7552842436432395)"
       ]
      },
      {
       "output_type": "stream",
       "stream": "stdout",
       "text": [
        "\n",
        "('iteration:', 221, 'Kplus:', 4, 'alpha:', 0.24134221881102708)"
       ]
      },
      {
       "output_type": "stream",
       "stream": "stdout",
       "text": [
        "\n",
        "('iteration:', 222, 'Kplus:', 4, 'alpha:', 0.3431269430276564)"
       ]
      },
      {
       "output_type": "stream",
       "stream": "stdout",
       "text": [
        "\n",
        "('iteration:', 223, 'Kplus:', 4, 'alpha:', 0.4596277683779718)"
       ]
      },
      {
       "output_type": "stream",
       "stream": "stdout",
       "text": [
        "\n",
        "('iteration:', 224, 'Kplus:', 5, 'alpha:', 0.4724874453442648)"
       ]
      },
      {
       "output_type": "stream",
       "stream": "stdout",
       "text": [
        "\n",
        "('iteration:', 225, 'Kplus:', 5, 'alpha:', 0.7807150103350405)"
       ]
      },
      {
       "output_type": "stream",
       "stream": "stdout",
       "text": [
        "\n",
        "('iteration:', 226, 'Kplus:', 5, 'alpha:', 0.4351537318399731)"
       ]
      },
      {
       "output_type": "stream",
       "stream": "stdout",
       "text": [
        "\n",
        "('iteration:', 227, 'Kplus:', 5, 'alpha:', 1.0763246575306096)"
       ]
      },
      {
       "output_type": "stream",
       "stream": "stdout",
       "text": [
        "\n",
        "('iteration:', 228, 'Kplus:', 6, 'alpha:', 0.7031521993481318)"
       ]
      },
      {
       "output_type": "stream",
       "stream": "stdout",
       "text": [
        "\n",
        "('iteration:', 229, 'Kplus:', 5, 'alpha:', 1.1571311796212767)"
       ]
      },
      {
       "output_type": "stream",
       "stream": "stdout",
       "text": [
        "\n",
        "('iteration:', 230, 'Kplus:', 5, 'alpha:', 0.9971406778790719)"
       ]
      },
      {
       "output_type": "stream",
       "stream": "stdout",
       "text": [
        "\n",
        "('iteration:', 231, 'Kplus:', 6, 'alpha:', 1.5369235759306168)"
       ]
      },
      {
       "output_type": "stream",
       "stream": "stdout",
       "text": [
        "\n",
        "('iteration:', 232, 'Kplus:', 7, 'alpha:', 1.1982771804002712)"
       ]
      },
      {
       "output_type": "stream",
       "stream": "stdout",
       "text": [
        "\n",
        "('iteration:', 233, 'Kplus:', 6, 'alpha:', 1.6083617416780693)"
       ]
      },
      {
       "output_type": "stream",
       "stream": "stdout",
       "text": [
        "\n",
        "('iteration:', 234, 'Kplus:', 6, 'alpha:', 0.7770740717975103)"
       ]
      },
      {
       "output_type": "stream",
       "stream": "stdout",
       "text": [
        "\n",
        "('iteration:', 235, 'Kplus:', 6, 'alpha:', 1.7433441099575169)"
       ]
      },
      {
       "output_type": "stream",
       "stream": "stdout",
       "text": [
        "\n",
        "('iteration:', 236, 'Kplus:', 6, 'alpha:', 0.6787665520275395)"
       ]
      },
      {
       "output_type": "stream",
       "stream": "stdout",
       "text": [
        "\n",
        "('iteration:', 237, 'Kplus:', 6, 'alpha:', 0.6269018210374426)"
       ]
      },
      {
       "output_type": "stream",
       "stream": "stdout",
       "text": [
        "\n",
        "('iteration:', 238, 'Kplus:', 6, 'alpha:', 0.7395225566694723)"
       ]
      },
      {
       "output_type": "stream",
       "stream": "stdout",
       "text": [
        "\n",
        "('iteration:', 239, 'Kplus:', 6, 'alpha:', 1.1348664417083278)"
       ]
      },
      {
       "output_type": "stream",
       "stream": "stdout",
       "text": [
        "\n",
        "('iteration:', 240, 'Kplus:', 6, 'alpha:', 0.7867941735383293)"
       ]
      },
      {
       "output_type": "stream",
       "stream": "stdout",
       "text": [
        "\n",
        "('iteration:', 241, 'Kplus:', 6, 'alpha:', 1.7288396854714336)"
       ]
      },
      {
       "output_type": "stream",
       "stream": "stdout",
       "text": [
        "\n",
        "('iteration:', 242, 'Kplus:', 6, 'alpha:', 1.5336201956524762)"
       ]
      },
      {
       "output_type": "stream",
       "stream": "stdout",
       "text": [
        "\n",
        "('iteration:', 243, 'Kplus:', 7, 'alpha:', 1.3625861486592792)"
       ]
      },
      {
       "output_type": "stream",
       "stream": "stdout",
       "text": [
        "\n",
        "('iteration:', 244, 'Kplus:', 6, 'alpha:', 0.7162599706014935)"
       ]
      },
      {
       "output_type": "stream",
       "stream": "stdout",
       "text": [
        "\n",
        "('iteration:', 245, 'Kplus:', 6, 'alpha:', 2.048878291234763)"
       ]
      },
      {
       "output_type": "stream",
       "stream": "stdout",
       "text": [
        "\n",
        "('iteration:', 246, 'Kplus:', 6, 'alpha:', 0.667574625520316)"
       ]
      },
      {
       "output_type": "stream",
       "stream": "stdout",
       "text": [
        "\n",
        "('iteration:', 247, 'Kplus:', 6, 'alpha:', 0.4791126764035685)"
       ]
      },
      {
       "output_type": "stream",
       "stream": "stdout",
       "text": [
        "\n",
        "('iteration:', 248, 'Kplus:', 6, 'alpha:', 1.2249334715857683)"
       ]
      },
      {
       "output_type": "stream",
       "stream": "stdout",
       "text": [
        "\n",
        "('iteration:', 249, 'Kplus:', 6, 'alpha:', 0.9826331724065834)"
       ]
      },
      {
       "output_type": "stream",
       "stream": "stdout",
       "text": [
        "\n",
        "('iteration:', 250, 'Kplus:', 6, 'alpha:', 1.2286000388058476)"
       ]
      },
      {
       "output_type": "stream",
       "stream": "stdout",
       "text": [
        "\n",
        "('iteration:', 251, 'Kplus:', 7, 'alpha:', 0.9769485272602428)"
       ]
      },
      {
       "output_type": "stream",
       "stream": "stdout",
       "text": [
        "\n",
        "('iteration:', 252, 'Kplus:', 6, 'alpha:', 0.8874993478605816)"
       ]
      },
      {
       "output_type": "stream",
       "stream": "stdout",
       "text": [
        "\n",
        "('iteration:', 253, 'Kplus:', 6, 'alpha:', 1.2460987310847662)"
       ]
      },
      {
       "output_type": "stream",
       "stream": "stdout",
       "text": [
        "\n",
        "('iteration:', 254, 'Kplus:', 6, 'alpha:', 0.9447915974617205)"
       ]
      },
      {
       "output_type": "stream",
       "stream": "stdout",
       "text": [
        "\n",
        "('iteration:', 255, 'Kplus:', 6, 'alpha:', 0.6332856954653437)"
       ]
      },
      {
       "output_type": "stream",
       "stream": "stdout",
       "text": [
        "\n",
        "('iteration:', 256, 'Kplus:', 7, 'alpha:', 1.8334513919735616)"
       ]
      },
      {
       "output_type": "stream",
       "stream": "stdout",
       "text": [
        "\n",
        "('iteration:', 257, 'Kplus:', 7, 'alpha:', 1.3574464832753514)"
       ]
      },
      {
       "output_type": "stream",
       "stream": "stdout",
       "text": [
        "\n",
        "('iteration:', 258, 'Kplus:', 7, 'alpha:', 1.6530049122298551)"
       ]
      },
      {
       "output_type": "stream",
       "stream": "stdout",
       "text": [
        "\n",
        "('iteration:', 259, 'Kplus:', 6, 'alpha:', 1.0112485125888684)"
       ]
      },
      {
       "output_type": "stream",
       "stream": "stdout",
       "text": [
        "\n",
        "('iteration:', 260, 'Kplus:', 7, 'alpha:', 1.5986953053448782)"
       ]
      },
      {
       "output_type": "stream",
       "stream": "stdout",
       "text": [
        "\n",
        "('iteration:', 261, 'Kplus:', 7, 'alpha:', 1.926204735897477)"
       ]
      },
      {
       "output_type": "stream",
       "stream": "stdout",
       "text": [
        "\n",
        "('iteration:', 262, 'Kplus:', 7, 'alpha:', 1.6159284316475209)"
       ]
      },
      {
       "output_type": "stream",
       "stream": "stdout",
       "text": [
        "\n",
        "('iteration:', 263, 'Kplus:', 6, 'alpha:', 1.419863040855951)"
       ]
      },
      {
       "output_type": "stream",
       "stream": "stdout",
       "text": [
        "\n",
        "('iteration:', 264, 'Kplus:', 7, 'alpha:', 0.9090204331503039)"
       ]
      },
      {
       "output_type": "stream",
       "stream": "stdout",
       "text": [
        "\n",
        "('iteration:', 265, 'Kplus:', 6, 'alpha:', 1.0695670340166328)"
       ]
      },
      {
       "output_type": "stream",
       "stream": "stdout",
       "text": [
        "\n",
        "('iteration:', 266, 'Kplus:', 7, 'alpha:', 1.0700566362453483)"
       ]
      },
      {
       "output_type": "stream",
       "stream": "stdout",
       "text": [
        "\n",
        "('iteration:', 267, 'Kplus:', 6, 'alpha:', 2.8220764451278604)"
       ]
      },
      {
       "output_type": "stream",
       "stream": "stdout",
       "text": [
        "\n",
        "('iteration:', 268, 'Kplus:', 6, 'alpha:', 0.9754795051483763)"
       ]
      },
      {
       "output_type": "stream",
       "stream": "stdout",
       "text": [
        "\n",
        "('iteration:', 269, 'Kplus:', 6, 'alpha:', 0.8080057475466101)"
       ]
      },
      {
       "output_type": "stream",
       "stream": "stdout",
       "text": [
        "\n",
        "('iteration:', 270, 'Kplus:', 6, 'alpha:', 1.2173792722264771)"
       ]
      },
      {
       "output_type": "stream",
       "stream": "stdout",
       "text": [
        "\n",
        "('iteration:', 271, 'Kplus:', 6, 'alpha:', 0.7458350357511512)"
       ]
      },
      {
       "output_type": "stream",
       "stream": "stdout",
       "text": [
        "\n",
        "('iteration:', 272, 'Kplus:', 6, 'alpha:', 1.6070259468605583)"
       ]
      },
      {
       "output_type": "stream",
       "stream": "stdout",
       "text": [
        "\n",
        "('iteration:', 273, 'Kplus:', 6, 'alpha:', 1.0809359959705818)"
       ]
      },
      {
       "output_type": "stream",
       "stream": "stdout",
       "text": [
        "\n",
        "('iteration:', 274, 'Kplus:', 6, 'alpha:', 1.759929986944159)"
       ]
      },
      {
       "output_type": "stream",
       "stream": "stdout",
       "text": [
        "\n",
        "('iteration:', 275, 'Kplus:', 8, 'alpha:', 0.8665868757047246)"
       ]
      },
      {
       "output_type": "stream",
       "stream": "stdout",
       "text": [
        "\n",
        "('iteration:', 276, 'Kplus:', 7, 'alpha:', 1.058914902926454)"
       ]
      },
      {
       "output_type": "stream",
       "stream": "stdout",
       "text": [
        "\n",
        "('iteration:', 277, 'Kplus:', 6, 'alpha:', 1.0042483324821496)"
       ]
      },
      {
       "output_type": "stream",
       "stream": "stdout",
       "text": [
        "\n",
        "('iteration:', 278, 'Kplus:', 6, 'alpha:', 0.8281301310271247)"
       ]
      },
      {
       "output_type": "stream",
       "stream": "stdout",
       "text": [
        "\n",
        "('iteration:', 279, 'Kplus:', 6, 'alpha:', 0.7100055550906684)"
       ]
      },
      {
       "output_type": "stream",
       "stream": "stdout",
       "text": [
        "\n",
        "('iteration:', 280, 'Kplus:', 7, 'alpha:', 1.8111632203308055)"
       ]
      },
      {
       "output_type": "stream",
       "stream": "stdout",
       "text": [
        "\n",
        "('iteration:', 281, 'Kplus:', 8, 'alpha:', 1.0570233979452364)"
       ]
      },
      {
       "output_type": "stream",
       "stream": "stdout",
       "text": [
        "\n",
        "('iteration:', 282, 'Kplus:', 7, 'alpha:', 1.0693532822138203)"
       ]
      },
      {
       "output_type": "stream",
       "stream": "stdout",
       "text": [
        "\n",
        "('iteration:', 283, 'Kplus:', 6, 'alpha:', 0.6335466159777835)"
       ]
      },
      {
       "output_type": "stream",
       "stream": "stdout",
       "text": [
        "\n",
        "('iteration:', 284, 'Kplus:', 6, 'alpha:', 0.7728789540520108)"
       ]
      },
      {
       "output_type": "stream",
       "stream": "stdout",
       "text": [
        "\n",
        "('iteration:', 285, 'Kplus:', 6, 'alpha:', 0.8307750802016944)"
       ]
      },
      {
       "output_type": "stream",
       "stream": "stdout",
       "text": [
        "\n",
        "('iteration:', 286, 'Kplus:', 6, 'alpha:', 0.8852152290643016)"
       ]
      },
      {
       "output_type": "stream",
       "stream": "stdout",
       "text": [
        "\n",
        "('iteration:', 287, 'Kplus:', 6, 'alpha:', 0.978773094212337)"
       ]
      },
      {
       "output_type": "stream",
       "stream": "stdout",
       "text": [
        "\n",
        "('iteration:', 288, 'Kplus:', 6, 'alpha:', 0.9843791528408375)"
       ]
      },
      {
       "output_type": "stream",
       "stream": "stdout",
       "text": [
        "\n",
        "('iteration:', 289, 'Kplus:', 6, 'alpha:', 1.1751171469857062)"
       ]
      },
      {
       "output_type": "stream",
       "stream": "stdout",
       "text": [
        "\n",
        "('iteration:', 290, 'Kplus:', 7, 'alpha:', 1.4858602031215216)"
       ]
      },
      {
       "output_type": "stream",
       "stream": "stdout",
       "text": [
        "\n",
        "('iteration:', 291, 'Kplus:', 7, 'alpha:', 1.5874182133724462)"
       ]
      },
      {
       "output_type": "stream",
       "stream": "stdout",
       "text": [
        "\n",
        "('iteration:', 292, 'Kplus:', 7, 'alpha:', 1.281743899775443)"
       ]
      },
      {
       "output_type": "stream",
       "stream": "stdout",
       "text": [
        "\n",
        "('iteration:', 293, 'Kplus:', 6, 'alpha:', 1.8744369299616837)"
       ]
      },
      {
       "output_type": "stream",
       "stream": "stdout",
       "text": [
        "\n",
        "('iteration:', 294, 'Kplus:', 6, 'alpha:', 1.1281067770148097)"
       ]
      },
      {
       "output_type": "stream",
       "stream": "stdout",
       "text": [
        "\n",
        "('iteration:', 295, 'Kplus:', 6, 'alpha:', 1.1550565430897148)"
       ]
      },
      {
       "output_type": "stream",
       "stream": "stdout",
       "text": [
        "\n",
        "('iteration:', 296, 'Kplus:', 7, 'alpha:', 1.428237764664286)"
       ]
      },
      {
       "output_type": "stream",
       "stream": "stdout",
       "text": [
        "\n",
        "('iteration:', 297, 'Kplus:', 6, 'alpha:', 0.4729238736717898)"
       ]
      },
      {
       "output_type": "stream",
       "stream": "stdout",
       "text": [
        "\n",
        "('iteration:', 298, 'Kplus:', 6, 'alpha:', 1.1863132258040205)"
       ]
      },
      {
       "output_type": "stream",
       "stream": "stdout",
       "text": [
        "\n",
        "('iteration:', 299, 'Kplus:', 6, 'alpha:', 0.7808574367288527)"
       ]
      },
      {
       "output_type": "stream",
       "stream": "stdout",
       "text": [
        "\n",
        "('iteration:', 300, 'Kplus:', 6, 'alpha:', 0.7027161363420937)"
       ]
      },
      {
       "output_type": "stream",
       "stream": "stdout",
       "text": [
        "\n",
        "('iteration:', 301, 'Kplus:', 6, 'alpha:', 1.0856705352875398)"
       ]
      },
      {
       "output_type": "stream",
       "stream": "stdout",
       "text": [
        "\n",
        "('iteration:', 302, 'Kplus:', 6, 'alpha:', 0.8833060877430429)"
       ]
      },
      {
       "output_type": "stream",
       "stream": "stdout",
       "text": [
        "\n",
        "('iteration:', 303, 'Kplus:', 6, 'alpha:', 1.266087346956014)"
       ]
      },
      {
       "output_type": "stream",
       "stream": "stdout",
       "text": [
        "\n",
        "('iteration:', 304, 'Kplus:', 6, 'alpha:', 0.7948673040520919)"
       ]
      },
      {
       "output_type": "stream",
       "stream": "stdout",
       "text": [
        "\n",
        "('iteration:', 305, 'Kplus:', 6, 'alpha:', 1.4941221070081758)"
       ]
      },
      {
       "output_type": "stream",
       "stream": "stdout",
       "text": [
        "\n",
        "('iteration:', 306, 'Kplus:', 6, 'alpha:', 1.939491601477327)"
       ]
      },
      {
       "output_type": "stream",
       "stream": "stdout",
       "text": [
        "\n",
        "('iteration:', 307, 'Kplus:', 7, 'alpha:', 0.6804284852308438)"
       ]
      },
      {
       "output_type": "stream",
       "stream": "stdout",
       "text": [
        "\n",
        "('iteration:', 308, 'Kplus:', 6, 'alpha:', 0.8433355868307888)"
       ]
      },
      {
       "output_type": "stream",
       "stream": "stdout",
       "text": [
        "\n",
        "('iteration:', 309, 'Kplus:', 6, 'alpha:', 1.0769670231635904)"
       ]
      },
      {
       "output_type": "stream",
       "stream": "stdout",
       "text": [
        "\n",
        "('iteration:', 310, 'Kplus:', 6, 'alpha:', 0.7667304722256988)"
       ]
      },
      {
       "output_type": "stream",
       "stream": "stdout",
       "text": [
        "\n",
        "('iteration:', 311, 'Kplus:', 7, 'alpha:', 1.579769922830974)"
       ]
      },
      {
       "output_type": "stream",
       "stream": "stdout",
       "text": [
        "\n",
        "('iteration:', 312, 'Kplus:', 7, 'alpha:', 1.5388766016877329)"
       ]
      },
      {
       "output_type": "stream",
       "stream": "stdout",
       "text": [
        "\n",
        "('iteration:', 313, 'Kplus:', 6, 'alpha:', 1.3734620696563888)"
       ]
      },
      {
       "output_type": "stream",
       "stream": "stdout",
       "text": [
        "\n",
        "('iteration:', 314, 'Kplus:', 6, 'alpha:', 0.6250672831488153)"
       ]
      },
      {
       "output_type": "stream",
       "stream": "stdout",
       "text": [
        "\n",
        "('iteration:', 315, 'Kplus:', 7, 'alpha:', 1.700776988235516)"
       ]
      },
      {
       "output_type": "stream",
       "stream": "stdout",
       "text": [
        "\n",
        "('iteration:', 316, 'Kplus:', 6, 'alpha:', 0.9250944421375628)"
       ]
      },
      {
       "output_type": "stream",
       "stream": "stdout",
       "text": [
        "\n",
        "('iteration:', 317, 'Kplus:', 6, 'alpha:', 0.5426089290780384)"
       ]
      },
      {
       "output_type": "stream",
       "stream": "stdout",
       "text": [
        "\n",
        "('iteration:', 318, 'Kplus:', 6, 'alpha:', 1.7523601176786505)"
       ]
      },
      {
       "output_type": "stream",
       "stream": "stdout",
       "text": [
        "\n",
        "('iteration:', 319, 'Kplus:', 8, 'alpha:', 1.1942366458926115)"
       ]
      },
      {
       "output_type": "stream",
       "stream": "stdout",
       "text": [
        "\n",
        "('iteration:', 320, 'Kplus:', 7, 'alpha:', 0.6124619609797741)"
       ]
      },
      {
       "output_type": "stream",
       "stream": "stdout",
       "text": [
        "\n",
        "('iteration:', 321, 'Kplus:', 6, 'alpha:', 1.4649143843359123)"
       ]
      },
      {
       "output_type": "stream",
       "stream": "stdout",
       "text": [
        "\n",
        "('iteration:', 322, 'Kplus:', 7, 'alpha:', 0.6063275648067359)"
       ]
      },
      {
       "output_type": "stream",
       "stream": "stdout",
       "text": [
        "\n",
        "('iteration:', 323, 'Kplus:', 6, 'alpha:', 1.2713300253952955)"
       ]
      },
      {
       "output_type": "stream",
       "stream": "stdout",
       "text": [
        "\n",
        "('iteration:', 324, 'Kplus:', 7, 'alpha:', 1.4788033123973425)"
       ]
      },
      {
       "output_type": "stream",
       "stream": "stdout",
       "text": [
        "\n",
        "('iteration:', 325, 'Kplus:', 7, 'alpha:', 1.4142423713381778)"
       ]
      },
      {
       "output_type": "stream",
       "stream": "stdout",
       "text": [
        "\n",
        "('iteration:', 326, 'Kplus:', 6, 'alpha:', 1.2996901160021204)"
       ]
      },
      {
       "output_type": "stream",
       "stream": "stdout",
       "text": [
        "\n",
        "('iteration:', 327, 'Kplus:', 6, 'alpha:', 1.2438143419181988)"
       ]
      },
      {
       "output_type": "stream",
       "stream": "stdout",
       "text": [
        "\n",
        "('iteration:', 328, 'Kplus:', 6, 'alpha:', 1.373142568440607)"
       ]
      },
      {
       "output_type": "stream",
       "stream": "stdout",
       "text": [
        "\n",
        "('iteration:', 329, 'Kplus:', 6, 'alpha:', 0.7413204184040117)"
       ]
      },
      {
       "output_type": "stream",
       "stream": "stdout",
       "text": [
        "\n",
        "('iteration:', 330, 'Kplus:', 6, 'alpha:', 0.9582846782462252)"
       ]
      },
      {
       "output_type": "stream",
       "stream": "stdout",
       "text": [
        "\n",
        "('iteration:', 331, 'Kplus:', 6, 'alpha:', 0.9739882920622817)"
       ]
      },
      {
       "output_type": "stream",
       "stream": "stdout",
       "text": [
        "\n",
        "('iteration:', 332, 'Kplus:', 6, 'alpha:', 0.23757076496678348)"
       ]
      },
      {
       "output_type": "stream",
       "stream": "stdout",
       "text": [
        "\n",
        "('iteration:', 333, 'Kplus:', 6, 'alpha:', 1.3112082830040044)"
       ]
      },
      {
       "output_type": "stream",
       "stream": "stdout",
       "text": [
        "\n",
        "('iteration:', 334, 'Kplus:', 6, 'alpha:', 0.8606138285762138)"
       ]
      },
      {
       "output_type": "stream",
       "stream": "stdout",
       "text": [
        "\n",
        "('iteration:', 335, 'Kplus:', 7, 'alpha:', 2.107464773130865)"
       ]
      },
      {
       "output_type": "stream",
       "stream": "stdout",
       "text": [
        "\n",
        "('iteration:', 336, 'Kplus:', 7, 'alpha:', 1.876529686966837)"
       ]
      },
      {
       "output_type": "stream",
       "stream": "stdout",
       "text": [
        "\n",
        "('iteration:', 337, 'Kplus:', 6, 'alpha:', 0.6835391010816874)"
       ]
      },
      {
       "output_type": "stream",
       "stream": "stdout",
       "text": [
        "\n",
        "('iteration:', 338, 'Kplus:', 6, 'alpha:', 1.3729608076873903)"
       ]
      },
      {
       "output_type": "stream",
       "stream": "stdout",
       "text": [
        "\n",
        "('iteration:', 339, 'Kplus:', 7, 'alpha:', 1.0295995399777313)"
       ]
      },
      {
       "output_type": "stream",
       "stream": "stdout",
       "text": [
        "\n",
        "('iteration:', 340, 'Kplus:', 7, 'alpha:', 0.7581093562215703)"
       ]
      },
      {
       "output_type": "stream",
       "stream": "stdout",
       "text": [
        "\n",
        "('iteration:', 341, 'Kplus:', 6, 'alpha:', 1.1218178128392986)"
       ]
      },
      {
       "output_type": "stream",
       "stream": "stdout",
       "text": [
        "\n",
        "('iteration:', 342, 'Kplus:', 6, 'alpha:', 0.6430681314070205)"
       ]
      },
      {
       "output_type": "stream",
       "stream": "stdout",
       "text": [
        "\n",
        "('iteration:', 343, 'Kplus:', 6, 'alpha:', 1.8449897389193801)"
       ]
      },
      {
       "output_type": "stream",
       "stream": "stdout",
       "text": [
        "\n",
        "('iteration:', 344, 'Kplus:', 6, 'alpha:', 1.808364116192118)"
       ]
      },
      {
       "output_type": "stream",
       "stream": "stdout",
       "text": [
        "\n",
        "('iteration:', 345, 'Kplus:', 7, 'alpha:', 0.616499805463936)"
       ]
      },
      {
       "output_type": "stream",
       "stream": "stdout",
       "text": [
        "\n",
        "('iteration:', 346, 'Kplus:', 6, 'alpha:', 1.0809421837081443)"
       ]
      },
      {
       "output_type": "stream",
       "stream": "stdout",
       "text": [
        "\n",
        "('iteration:', 347, 'Kplus:', 6, 'alpha:', 0.9662982324650877)"
       ]
      },
      {
       "output_type": "stream",
       "stream": "stdout",
       "text": [
        "\n",
        "('iteration:', 348, 'Kplus:', 6, 'alpha:', 0.97972766914339)"
       ]
      },
      {
       "output_type": "stream",
       "stream": "stdout",
       "text": [
        "\n",
        "('iteration:', 349, 'Kplus:', 7, 'alpha:', 1.7388665693955851)"
       ]
      },
      {
       "output_type": "stream",
       "stream": "stdout",
       "text": [
        "\n",
        "('iteration:', 350, 'Kplus:', 7, 'alpha:', 1.2227309707789364)"
       ]
      },
      {
       "output_type": "stream",
       "stream": "stdout",
       "text": [
        "\n",
        "('iteration:', 351, 'Kplus:', 6, 'alpha:', 0.6799149851374415)"
       ]
      },
      {
       "output_type": "stream",
       "stream": "stdout",
       "text": [
        "\n",
        "('iteration:', 352, 'Kplus:', 6, 'alpha:', 0.5273332664354343)"
       ]
      },
      {
       "output_type": "stream",
       "stream": "stdout",
       "text": [
        "\n",
        "('iteration:', 353, 'Kplus:', 6, 'alpha:', 1.2322653511996697)"
       ]
      },
      {
       "output_type": "stream",
       "stream": "stdout",
       "text": [
        "\n",
        "('iteration:', 354, 'Kplus:', 6, 'alpha:', 1.2356554933436497)"
       ]
      },
      {
       "output_type": "stream",
       "stream": "stdout",
       "text": [
        "\n",
        "('iteration:', 355, 'Kplus:', 6, 'alpha:', 0.8576459488611826)"
       ]
      },
      {
       "output_type": "stream",
       "stream": "stdout",
       "text": [
        "\n",
        "('iteration:', 356, 'Kplus:', 6, 'alpha:', 1.3774199934498976)"
       ]
      },
      {
       "output_type": "stream",
       "stream": "stdout",
       "text": [
        "\n",
        "('iteration:', 357, 'Kplus:', 6, 'alpha:', 1.0073363040479781)"
       ]
      },
      {
       "output_type": "stream",
       "stream": "stdout",
       "text": [
        "\n",
        "('iteration:', 358, 'Kplus:', 6, 'alpha:', 1.5025078969997723)"
       ]
      },
      {
       "output_type": "stream",
       "stream": "stdout",
       "text": [
        "\n",
        "('iteration:', 359, 'Kplus:', 7, 'alpha:', 1.9592456051523806)"
       ]
      },
      {
       "output_type": "stream",
       "stream": "stdout",
       "text": [
        "\n",
        "('iteration:', 360, 'Kplus:', 6, 'alpha:', 0.9097716568800915)"
       ]
      },
      {
       "output_type": "stream",
       "stream": "stdout",
       "text": [
        "\n",
        "('iteration:', 361, 'Kplus:', 6, 'alpha:', 0.7820186716703212)"
       ]
      },
      {
       "output_type": "stream",
       "stream": "stdout",
       "text": [
        "\n",
        "('iteration:', 362, 'Kplus:', 7, 'alpha:', 1.3551741036597673)"
       ]
      },
      {
       "output_type": "stream",
       "stream": "stdout",
       "text": [
        "\n",
        "('iteration:', 363, 'Kplus:', 6, 'alpha:', 0.39713778869153865)"
       ]
      },
      {
       "output_type": "stream",
       "stream": "stdout",
       "text": [
        "\n",
        "('iteration:', 364, 'Kplus:', 6, 'alpha:', 0.9472081995652866)"
       ]
      },
      {
       "output_type": "stream",
       "stream": "stdout",
       "text": [
        "\n",
        "('iteration:', 365, 'Kplus:', 6, 'alpha:', 0.9623643235136827)"
       ]
      },
      {
       "output_type": "stream",
       "stream": "stdout",
       "text": [
        "\n",
        "('iteration:', 366, 'Kplus:', 6, 'alpha:', 1.4305893850084945)"
       ]
      },
      {
       "output_type": "stream",
       "stream": "stdout",
       "text": [
        "\n",
        "('iteration:', 367, 'Kplus:', 7, 'alpha:', 0.7515854837003147)"
       ]
      },
      {
       "output_type": "stream",
       "stream": "stdout",
       "text": [
        "\n",
        "('iteration:', 368, 'Kplus:', 6, 'alpha:', 0.9429794844657745)"
       ]
      },
      {
       "output_type": "stream",
       "stream": "stdout",
       "text": [
        "\n",
        "('iteration:', 369, 'Kplus:', 6, 'alpha:', 0.9612431640394585)"
       ]
      },
      {
       "output_type": "stream",
       "stream": "stdout",
       "text": [
        "\n",
        "('iteration:', 370, 'Kplus:', 6, 'alpha:', 1.340449589867949)"
       ]
      },
      {
       "output_type": "stream",
       "stream": "stdout",
       "text": [
        "\n",
        "('iteration:', 371, 'Kplus:', 6, 'alpha:', 1.6087621840124848)"
       ]
      },
      {
       "output_type": "stream",
       "stream": "stdout",
       "text": [
        "\n",
        "('iteration:', 372, 'Kplus:', 6, 'alpha:', 1.4689443355156053)"
       ]
      },
      {
       "output_type": "stream",
       "stream": "stdout",
       "text": [
        "\n",
        "('iteration:', 373, 'Kplus:', 7, 'alpha:', 1.7103442792237091)"
       ]
      },
      {
       "output_type": "stream",
       "stream": "stdout",
       "text": [
        "\n",
        "('iteration:', 374, 'Kplus:', 7, 'alpha:', 1.5784231455661693)"
       ]
      },
      {
       "output_type": "stream",
       "stream": "stdout",
       "text": [
        "\n",
        "('iteration:', 375, 'Kplus:', 6, 'alpha:', 0.8520723991733284)"
       ]
      },
      {
       "output_type": "stream",
       "stream": "stdout",
       "text": [
        "\n",
        "('iteration:', 376, 'Kplus:', 6, 'alpha:', 1.2074078991859034)"
       ]
      },
      {
       "output_type": "stream",
       "stream": "stdout",
       "text": [
        "\n",
        "('iteration:', 377, 'Kplus:', 6, 'alpha:', 0.6128714387222964)"
       ]
      },
      {
       "output_type": "stream",
       "stream": "stdout",
       "text": [
        "\n",
        "('iteration:', 378, 'Kplus:', 6, 'alpha:', 1.0640374616643113)"
       ]
      },
      {
       "output_type": "stream",
       "stream": "stdout",
       "text": [
        "\n",
        "('iteration:', 379, 'Kplus:', 6, 'alpha:', 1.331607143426995)"
       ]
      },
      {
       "output_type": "stream",
       "stream": "stdout",
       "text": [
        "\n",
        "('iteration:', 380, 'Kplus:', 6, 'alpha:', 0.532880722171866)"
       ]
      },
      {
       "output_type": "stream",
       "stream": "stdout",
       "text": [
        "\n",
        "('iteration:', 381, 'Kplus:', 7, 'alpha:', 1.3733268721942782)"
       ]
      },
      {
       "output_type": "stream",
       "stream": "stdout",
       "text": [
        "\n",
        "('iteration:', 382, 'Kplus:', 7, 'alpha:', 1.3433970937253297)"
       ]
      },
      {
       "output_type": "stream",
       "stream": "stdout",
       "text": [
        "\n",
        "('iteration:', 383, 'Kplus:', 6, 'alpha:', 1.196353176604664)"
       ]
      },
      {
       "output_type": "stream",
       "stream": "stdout",
       "text": [
        "\n",
        "('iteration:', 384, 'Kplus:', 6, 'alpha:', 1.648252416289028)"
       ]
      },
      {
       "output_type": "stream",
       "stream": "stdout",
       "text": [
        "\n",
        "('iteration:', 385, 'Kplus:', 6, 'alpha:', 1.2785373911227582)"
       ]
      },
      {
       "output_type": "stream",
       "stream": "stdout",
       "text": [
        "\n",
        "('iteration:', 386, 'Kplus:', 7, 'alpha:', 0.6993411707326187)"
       ]
      },
      {
       "output_type": "stream",
       "stream": "stdout",
       "text": [
        "\n",
        "('iteration:', 387, 'Kplus:', 7, 'alpha:', 1.324264179955763)"
       ]
      },
      {
       "output_type": "stream",
       "stream": "stdout",
       "text": [
        "\n",
        "('iteration:', 388, 'Kplus:', 6, 'alpha:', 1.4184663879994033)"
       ]
      },
      {
       "output_type": "stream",
       "stream": "stdout",
       "text": [
        "\n",
        "('iteration:', 389, 'Kplus:', 6, 'alpha:', 0.8287746602887371)"
       ]
      },
      {
       "output_type": "stream",
       "stream": "stdout",
       "text": [
        "\n",
        "('iteration:', 390, 'Kplus:', 6, 'alpha:', 1.2839643474772635)"
       ]
      },
      {
       "output_type": "stream",
       "stream": "stdout",
       "text": [
        "\n",
        "('iteration:', 391, 'Kplus:', 6, 'alpha:', 0.9892756414137055)"
       ]
      },
      {
       "output_type": "stream",
       "stream": "stdout",
       "text": [
        "\n",
        "('iteration:', 392, 'Kplus:', 6, 'alpha:', 1.3476891325246996)"
       ]
      },
      {
       "output_type": "stream",
       "stream": "stdout",
       "text": [
        "\n",
        "('iteration:', 393, 'Kplus:', 7, 'alpha:', 2.41603537073813)"
       ]
      },
      {
       "output_type": "stream",
       "stream": "stdout",
       "text": [
        "\n",
        "('iteration:', 394, 'Kplus:', 8, 'alpha:', 1.272893969617967)"
       ]
      },
      {
       "output_type": "stream",
       "stream": "stdout",
       "text": [
        "\n",
        "('iteration:', 395, 'Kplus:', 6, 'alpha:', 0.9560766990383099)"
       ]
      },
      {
       "output_type": "stream",
       "stream": "stdout",
       "text": [
        "\n",
        "('iteration:', 396, 'Kplus:', 6, 'alpha:', 1.9299802221263653)"
       ]
      },
      {
       "output_type": "stream",
       "stream": "stdout",
       "text": [
        "\n",
        "('iteration:', 397, 'Kplus:', 8, 'alpha:', 1.8759753950101767)"
       ]
      },
      {
       "output_type": "stream",
       "stream": "stdout",
       "text": [
        "\n",
        "('iteration:', 398, 'Kplus:', 6, 'alpha:', 0.958412262779392)"
       ]
      },
      {
       "output_type": "stream",
       "stream": "stdout",
       "text": [
        "\n",
        "('iteration:', 399, 'Kplus:', 6, 'alpha:', 0.3989736111114352)"
       ]
      },
      {
       "output_type": "stream",
       "stream": "stdout",
       "text": [
        "\n",
        "('iteration:', 400, 'Kplus:', 7, 'alpha:', 1.4493051200247513)"
       ]
      },
      {
       "output_type": "stream",
       "stream": "stdout",
       "text": [
        "\n",
        "('iteration:', 401, 'Kplus:', 6, 'alpha:', 2.6273178490750184)"
       ]
      },
      {
       "output_type": "stream",
       "stream": "stdout",
       "text": [
        "\n",
        "('iteration:', 402, 'Kplus:', 7, 'alpha:', 1.681955675244199)"
       ]
      },
      {
       "output_type": "stream",
       "stream": "stdout",
       "text": [
        "\n",
        "('iteration:', 403, 'Kplus:', 7, 'alpha:', 1.993633002743828)"
       ]
      },
      {
       "output_type": "stream",
       "stream": "stdout",
       "text": [
        "\n",
        "('iteration:', 404, 'Kplus:', 7, 'alpha:', 1.0011945915936078)"
       ]
      },
      {
       "output_type": "stream",
       "stream": "stdout",
       "text": [
        "\n",
        "('iteration:', 405, 'Kplus:', 6, 'alpha:', 0.35944989369831354)"
       ]
      },
      {
       "output_type": "stream",
       "stream": "stdout",
       "text": [
        "\n",
        "('iteration:', 406, 'Kplus:', 6, 'alpha:', 1.7643189209934922)"
       ]
      },
      {
       "output_type": "stream",
       "stream": "stdout",
       "text": [
        "\n",
        "('iteration:', 407, 'Kplus:', 6, 'alpha:', 1.37685049550359)"
       ]
      },
      {
       "output_type": "stream",
       "stream": "stdout",
       "text": [
        "\n",
        "('iteration:', 408, 'Kplus:', 7, 'alpha:', 1.69433599207042)"
       ]
      },
      {
       "output_type": "stream",
       "stream": "stdout",
       "text": [
        "\n",
        "('iteration:', 409, 'Kplus:', 7, 'alpha:', 1.8307796392689113)"
       ]
      },
      {
       "output_type": "stream",
       "stream": "stdout",
       "text": [
        "\n",
        "('iteration:', 410, 'Kplus:', 6, 'alpha:', 1.1434521707223486)"
       ]
      },
      {
       "output_type": "stream",
       "stream": "stdout",
       "text": [
        "\n",
        "('iteration:', 411, 'Kplus:', 6, 'alpha:', 0.9464333852034128)"
       ]
      },
      {
       "output_type": "stream",
       "stream": "stdout",
       "text": [
        "\n",
        "('iteration:', 412, 'Kplus:', 6, 'alpha:', 1.3162637500480983)"
       ]
      },
      {
       "output_type": "stream",
       "stream": "stdout",
       "text": [
        "\n",
        "('iteration:', 413, 'Kplus:', 7, 'alpha:', 1.8590734989026998)"
       ]
      },
      {
       "output_type": "stream",
       "stream": "stdout",
       "text": [
        "\n",
        "('iteration:', 414, 'Kplus:', 7, 'alpha:', 1.8945521591837053)"
       ]
      },
      {
       "output_type": "stream",
       "stream": "stdout",
       "text": [
        "\n",
        "('iteration:', 415, 'Kplus:', 6, 'alpha:', 1.330400400268352)"
       ]
      },
      {
       "output_type": "stream",
       "stream": "stdout",
       "text": [
        "\n",
        "('iteration:', 416, 'Kplus:', 6, 'alpha:', 1.216533030447708)"
       ]
      },
      {
       "output_type": "stream",
       "stream": "stdout",
       "text": [
        "\n",
        "('iteration:', 417, 'Kplus:', 7, 'alpha:', 1.31950050742349)"
       ]
      },
      {
       "output_type": "stream",
       "stream": "stdout",
       "text": [
        "\n",
        "('iteration:', 418, 'Kplus:', 7, 'alpha:', 0.6612629236887951)"
       ]
      },
      {
       "output_type": "stream",
       "stream": "stdout",
       "text": [
        "\n",
        "('iteration:', 419, 'Kplus:', 6, 'alpha:', 0.9335389691257368)"
       ]
      },
      {
       "output_type": "stream",
       "stream": "stdout",
       "text": [
        "\n",
        "('iteration:', 420, 'Kplus:', 6, 'alpha:', 1.3182101052025335)"
       ]
      },
      {
       "output_type": "stream",
       "stream": "stdout",
       "text": [
        "\n",
        "('iteration:', 421, 'Kplus:', 6, 'alpha:', 0.74913311387673)"
       ]
      },
      {
       "output_type": "stream",
       "stream": "stdout",
       "text": [
        "\n",
        "('iteration:', 422, 'Kplus:', 6, 'alpha:', 1.5333135846316563)"
       ]
      },
      {
       "output_type": "stream",
       "stream": "stdout",
       "text": [
        "\n",
        "('iteration:', 423, 'Kplus:', 6, 'alpha:', 0.6026543906097881)"
       ]
      },
      {
       "output_type": "stream",
       "stream": "stdout",
       "text": [
        "\n",
        "('iteration:', 424, 'Kplus:', 6, 'alpha:', 0.5990817052939644)"
       ]
      },
      {
       "output_type": "stream",
       "stream": "stdout",
       "text": [
        "\n",
        "('iteration:', 425, 'Kplus:', 7, 'alpha:', 1.175604239605869)"
       ]
      },
      {
       "output_type": "stream",
       "stream": "stdout",
       "text": [
        "\n",
        "('iteration:', 426, 'Kplus:', 6, 'alpha:', 0.8082028496446771)"
       ]
      },
      {
       "output_type": "stream",
       "stream": "stdout",
       "text": [
        "\n",
        "('iteration:', 427, 'Kplus:', 6, 'alpha:', 0.7730552831513648)"
       ]
      },
      {
       "output_type": "stream",
       "stream": "stdout",
       "text": [
        "\n",
        "('iteration:', 428, 'Kplus:', 6, 'alpha:', 1.4081611855562928)"
       ]
      },
      {
       "output_type": "stream",
       "stream": "stdout",
       "text": [
        "\n",
        "('iteration:', 429, 'Kplus:', 6, 'alpha:', 0.7309791540053764)"
       ]
      },
      {
       "output_type": "stream",
       "stream": "stdout",
       "text": [
        "\n",
        "('iteration:', 430, 'Kplus:', 6, 'alpha:', 1.1345962204198636)"
       ]
      },
      {
       "output_type": "stream",
       "stream": "stdout",
       "text": [
        "\n",
        "('iteration:', 431, 'Kplus:', 6, 'alpha:', 1.3556077854645032)"
       ]
      },
      {
       "output_type": "stream",
       "stream": "stdout",
       "text": [
        "\n",
        "('iteration:', 432, 'Kplus:', 6, 'alpha:', 1.140186152921495)"
       ]
      },
      {
       "output_type": "stream",
       "stream": "stdout",
       "text": [
        "\n",
        "('iteration:', 433, 'Kplus:', 6, 'alpha:', 0.3184027121989894)"
       ]
      },
      {
       "output_type": "stream",
       "stream": "stdout",
       "text": [
        "\n",
        "('iteration:', 434, 'Kplus:', 6, 'alpha:', 0.7106961692442653)"
       ]
      },
      {
       "output_type": "stream",
       "stream": "stdout",
       "text": [
        "\n",
        "('iteration:', 435, 'Kplus:', 7, 'alpha:', 1.6506227425583686)"
       ]
      },
      {
       "output_type": "stream",
       "stream": "stdout",
       "text": [
        "\n",
        "('iteration:', 436, 'Kplus:', 7, 'alpha:', 1.0910697138773373)"
       ]
      },
      {
       "output_type": "stream",
       "stream": "stdout",
       "text": [
        "\n",
        "('iteration:', 437, 'Kplus:', 7, 'alpha:', 1.564677969007272)"
       ]
      },
      {
       "output_type": "stream",
       "stream": "stdout",
       "text": [
        "\n",
        "('iteration:', 438, 'Kplus:', 7, 'alpha:', 1.0591284815806352)"
       ]
      },
      {
       "output_type": "stream",
       "stream": "stdout",
       "text": [
        "\n",
        "('iteration:', 439, 'Kplus:', 7, 'alpha:', 1.2620512757893159)"
       ]
      },
      {
       "output_type": "stream",
       "stream": "stdout",
       "text": [
        "\n",
        "('iteration:', 440, 'Kplus:', 7, 'alpha:', 1.2625355760879482)"
       ]
      },
      {
       "output_type": "stream",
       "stream": "stdout",
       "text": [
        "\n",
        "('iteration:', 441, 'Kplus:', 7, 'alpha:', 1.7617704841162918)"
       ]
      },
      {
       "output_type": "stream",
       "stream": "stdout",
       "text": [
        "\n",
        "('iteration:', 442, 'Kplus:', 8, 'alpha:', 0.7673651726079371)"
       ]
      },
      {
       "output_type": "stream",
       "stream": "stdout",
       "text": [
        "\n",
        "('iteration:', 443, 'Kplus:', 7, 'alpha:', 0.7677023166148826)"
       ]
      },
      {
       "output_type": "stream",
       "stream": "stdout",
       "text": [
        "\n",
        "('iteration:', 444, 'Kplus:', 7, 'alpha:', 1.269906645524017)"
       ]
      },
      {
       "output_type": "stream",
       "stream": "stdout",
       "text": [
        "\n",
        "('iteration:', 445, 'Kplus:', 6, 'alpha:', 1.1125203805483048)"
       ]
      },
      {
       "output_type": "stream",
       "stream": "stdout",
       "text": [
        "\n",
        "('iteration:', 446, 'Kplus:', 6, 'alpha:', 1.0479284552255854)"
       ]
      },
      {
       "output_type": "stream",
       "stream": "stdout",
       "text": [
        "\n",
        "('iteration:', 447, 'Kplus:', 6, 'alpha:', 1.5850243859505826)"
       ]
      },
      {
       "output_type": "stream",
       "stream": "stdout",
       "text": [
        "\n",
        "('iteration:', 448, 'Kplus:', 7, 'alpha:', 0.9739258848320311)"
       ]
      },
      {
       "output_type": "stream",
       "stream": "stdout",
       "text": [
        "\n",
        "('iteration:', 449, 'Kplus:', 6, 'alpha:', 1.1892999148718029)"
       ]
      },
      {
       "output_type": "stream",
       "stream": "stdout",
       "text": [
        "\n",
        "('iteration:', 450, 'Kplus:', 7, 'alpha:', 0.6492930840090884)"
       ]
      },
      {
       "output_type": "stream",
       "stream": "stdout",
       "text": [
        "\n",
        "('iteration:', 451, 'Kplus:', 7, 'alpha:', 0.9867440715759326)"
       ]
      },
      {
       "output_type": "stream",
       "stream": "stdout",
       "text": [
        "\n",
        "('iteration:', 452, 'Kplus:', 7, 'alpha:', 0.939562614383577)"
       ]
      },
      {
       "output_type": "stream",
       "stream": "stdout",
       "text": [
        "\n",
        "('iteration:', 453, 'Kplus:', 6, 'alpha:', 0.63868850857507)"
       ]
      },
      {
       "output_type": "stream",
       "stream": "stdout",
       "text": [
        "\n",
        "('iteration:', 454, 'Kplus:', 6, 'alpha:', 1.7211276885509539)"
       ]
      },
      {
       "output_type": "stream",
       "stream": "stdout",
       "text": [
        "\n",
        "('iteration:', 455, 'Kplus:', 7, 'alpha:', 1.539148685473621)"
       ]
      },
      {
       "output_type": "stream",
       "stream": "stdout",
       "text": [
        "\n",
        "('iteration:', 456, 'Kplus:', 6, 'alpha:', 1.1561123816251024)"
       ]
      },
      {
       "output_type": "stream",
       "stream": "stdout",
       "text": [
        "\n",
        "('iteration:', 457, 'Kplus:', 6, 'alpha:', 1.1746129520027762)"
       ]
      },
      {
       "output_type": "stream",
       "stream": "stdout",
       "text": [
        "\n",
        "('iteration:', 458, 'Kplus:', 6, 'alpha:', 1.290299912745608)"
       ]
      },
      {
       "output_type": "stream",
       "stream": "stdout",
       "text": [
        "\n",
        "('iteration:', 459, 'Kplus:', 6, 'alpha:', 0.577136113925599)"
       ]
      },
      {
       "output_type": "stream",
       "stream": "stdout",
       "text": [
        "\n",
        "('iteration:', 460, 'Kplus:', 6, 'alpha:', 0.5518282804347253)"
       ]
      },
      {
       "output_type": "stream",
       "stream": "stdout",
       "text": [
        "\n",
        "('iteration:', 461, 'Kplus:', 6, 'alpha:', 1.1956290831954)"
       ]
      },
      {
       "output_type": "stream",
       "stream": "stdout",
       "text": [
        "\n",
        "('iteration:', 462, 'Kplus:', 6, 'alpha:', 0.737418828652098)"
       ]
      },
      {
       "output_type": "stream",
       "stream": "stdout",
       "text": [
        "\n",
        "('iteration:', 463, 'Kplus:', 6, 'alpha:', 0.5833951616796323)"
       ]
      },
      {
       "output_type": "stream",
       "stream": "stdout",
       "text": [
        "\n",
        "('iteration:', 464, 'Kplus:', 6, 'alpha:', 0.891654765752389)"
       ]
      },
      {
       "output_type": "stream",
       "stream": "stdout",
       "text": [
        "\n",
        "('iteration:', 465, 'Kplus:', 6, 'alpha:', 0.6088729099880158)"
       ]
      },
      {
       "output_type": "stream",
       "stream": "stdout",
       "text": [
        "\n",
        "('iteration:', 466, 'Kplus:', 6, 'alpha:', 1.2552184377714282)"
       ]
      },
      {
       "output_type": "stream",
       "stream": "stdout",
       "text": [
        "\n",
        "('iteration:', 467, 'Kplus:', 6, 'alpha:', 0.6194994055922501)"
       ]
      },
      {
       "output_type": "stream",
       "stream": "stdout",
       "text": [
        "\n",
        "('iteration:', 468, 'Kplus:', 6, 'alpha:', 1.7203806472889491)"
       ]
      },
      {
       "output_type": "stream",
       "stream": "stdout",
       "text": [
        "\n",
        "('iteration:', 469, 'Kplus:', 7, 'alpha:', 1.9428623027949636)"
       ]
      },
      {
       "output_type": "stream",
       "stream": "stdout",
       "text": [
        "\n",
        "('iteration:', 470, 'Kplus:', 8, 'alpha:', 1.1862730800266843)"
       ]
      },
      {
       "output_type": "stream",
       "stream": "stdout",
       "text": [
        "\n",
        "('iteration:', 471, 'Kplus:', 6, 'alpha:', 1.1064572445286893)"
       ]
      },
      {
       "output_type": "stream",
       "stream": "stdout",
       "text": [
        "\n",
        "('iteration:', 472, 'Kplus:', 7, 'alpha:', 0.5460618896708892)"
       ]
      },
      {
       "output_type": "stream",
       "stream": "stdout",
       "text": [
        "\n",
        "('iteration:', 473, 'Kplus:', 6, 'alpha:', 0.764533908833601)"
       ]
      },
      {
       "output_type": "stream",
       "stream": "stdout",
       "text": [
        "\n",
        "('iteration:', 474, 'Kplus:', 6, 'alpha:', 0.7876889246724975)"
       ]
      },
      {
       "output_type": "stream",
       "stream": "stdout",
       "text": [
        "\n",
        "('iteration:', 475, 'Kplus:', 6, 'alpha:', 1.1904640401982518)"
       ]
      },
      {
       "output_type": "stream",
       "stream": "stdout",
       "text": [
        "\n",
        "('iteration:', 476, 'Kplus:', 7, 'alpha:', 1.922874652231329)"
       ]
      },
      {
       "output_type": "stream",
       "stream": "stdout",
       "text": [
        "\n",
        "('iteration:', 477, 'Kplus:', 8, 'alpha:', 2.2020005413782338)"
       ]
      },
      {
       "output_type": "stream",
       "stream": "stdout",
       "text": [
        "\n",
        "('iteration:', 478, 'Kplus:', 6, 'alpha:', 1.6112784541138723)"
       ]
      },
      {
       "output_type": "stream",
       "stream": "stdout",
       "text": [
        "\n",
        "('iteration:', 479, 'Kplus:', 6, 'alpha:', 0.8190724266437381)"
       ]
      },
      {
       "output_type": "stream",
       "stream": "stdout",
       "text": [
        "\n",
        "('iteration:', 480, 'Kplus:', 6, 'alpha:', 0.470592445872972)"
       ]
      },
      {
       "output_type": "stream",
       "stream": "stdout",
       "text": [
        "\n",
        "('iteration:', 481, 'Kplus:', 6, 'alpha:', 1.1354455985688119)"
       ]
      },
      {
       "output_type": "stream",
       "stream": "stdout",
       "text": [
        "\n",
        "('iteration:', 482, 'Kplus:', 8, 'alpha:', 2.9339799823739754)"
       ]
      },
      {
       "output_type": "stream",
       "stream": "stdout",
       "text": [
        "\n",
        "('iteration:', 483, 'Kplus:', 8, 'alpha:', 1.1245913988533867)"
       ]
      },
      {
       "output_type": "stream",
       "stream": "stdout",
       "text": [
        "\n",
        "('iteration:', 484, 'Kplus:', 6, 'alpha:', 1.372777928923399)"
       ]
      },
      {
       "output_type": "stream",
       "stream": "stdout",
       "text": [
        "\n",
        "('iteration:', 485, 'Kplus:', 6, 'alpha:', 1.4432149735239521)"
       ]
      },
      {
       "output_type": "stream",
       "stream": "stdout",
       "text": [
        "\n",
        "('iteration:', 486, 'Kplus:', 8, 'alpha:', 1.1017483428424129)"
       ]
      },
      {
       "output_type": "stream",
       "stream": "stdout",
       "text": [
        "\n",
        "('iteration:', 487, 'Kplus:', 6, 'alpha:', 1.032924092358533)"
       ]
      },
      {
       "output_type": "stream",
       "stream": "stdout",
       "text": [
        "\n",
        "('iteration:', 488, 'Kplus:', 9, 'alpha:', 2.4360969847223477)"
       ]
      },
      {
       "output_type": "stream",
       "stream": "stdout",
       "text": [
        "\n",
        "('iteration:', 489, 'Kplus:', 7, 'alpha:', 0.7986847371570451)"
       ]
      },
      {
       "output_type": "stream",
       "stream": "stdout",
       "text": [
        "\n",
        "('iteration:', 490, 'Kplus:', 6, 'alpha:', 2.4588200850207995)"
       ]
      },
      {
       "output_type": "stream",
       "stream": "stdout",
       "text": [
        "\n",
        "('iteration:', 491, 'Kplus:', 6, 'alpha:', 0.5648092212478858)"
       ]
      },
      {
       "output_type": "stream",
       "stream": "stdout",
       "text": [
        "\n",
        "('iteration:', 492, 'Kplus:', 6, 'alpha:', 0.5539526857867281)"
       ]
      },
      {
       "output_type": "stream",
       "stream": "stdout",
       "text": [
        "\n",
        "('iteration:', 493, 'Kplus:', 6, 'alpha:', 1.6684484544716818)"
       ]
      },
      {
       "output_type": "stream",
       "stream": "stdout",
       "text": [
        "\n",
        "('iteration:', 494, 'Kplus:', 6, 'alpha:', 1.010862803044866)"
       ]
      },
      {
       "output_type": "stream",
       "stream": "stdout",
       "text": [
        "\n",
        "('iteration:', 495, 'Kplus:', 7, 'alpha:', 1.5415849472482144)"
       ]
      },
      {
       "output_type": "stream",
       "stream": "stdout",
       "text": [
        "\n",
        "('iteration:', 496, 'Kplus:', 6, 'alpha:', 1.0246029968693762)"
       ]
      },
      {
       "output_type": "stream",
       "stream": "stdout",
       "text": [
        "\n",
        "('iteration:', 497, 'Kplus:', 6, 'alpha:', 0.5499441873022249)"
       ]
      },
      {
       "output_type": "stream",
       "stream": "stdout",
       "text": [
        "\n",
        "('iteration:', 498, 'Kplus:', 6, 'alpha:', 0.92491903755753)"
       ]
      },
      {
       "output_type": "stream",
       "stream": "stdout",
       "text": [
        "\n",
        "('iteration:', 499, 'Kplus:', 6, 'alpha:', 0.801044454124372)"
       ]
      },
      {
       "output_type": "stream",
       "stream": "stdout",
       "text": [
        "\n",
        "('iteration:', 500, 'Kplus:', 7, 'alpha:', 1.506022997674278)"
       ]
      },
      {
       "output_type": "stream",
       "stream": "stdout",
       "text": [
        "\n",
        "('iteration:', 501, 'Kplus:', 7, 'alpha:', 1.4177643072235626)"
       ]
      },
      {
       "output_type": "stream",
       "stream": "stdout",
       "text": [
        "\n",
        "('iteration:', 502, 'Kplus:', 6, 'alpha:', 1.3725433252909562)"
       ]
      },
      {
       "output_type": "stream",
       "stream": "stdout",
       "text": [
        "\n",
        "('iteration:', 503, 'Kplus:', 6, 'alpha:', 1.2252129167218233)"
       ]
      },
      {
       "output_type": "stream",
       "stream": "stdout",
       "text": [
        "\n",
        "('iteration:', 504, 'Kplus:', 6, 'alpha:', 1.255427230254039)"
       ]
      },
      {
       "output_type": "stream",
       "stream": "stdout",
       "text": [
        "\n",
        "('iteration:', 505, 'Kplus:', 7, 'alpha:', 0.8597832782783689)"
       ]
      },
      {
       "output_type": "stream",
       "stream": "stdout",
       "text": [
        "\n",
        "('iteration:', 506, 'Kplus:', 6, 'alpha:', 0.8130141609249398)"
       ]
      },
      {
       "output_type": "stream",
       "stream": "stdout",
       "text": [
        "\n",
        "('iteration:', 507, 'Kplus:', 6, 'alpha:', 1.245196344355166)"
       ]
      },
      {
       "output_type": "stream",
       "stream": "stdout",
       "text": [
        "\n",
        "('iteration:', 508, 'Kplus:', 8, 'alpha:', 1.2037936125438318)"
       ]
      },
      {
       "output_type": "stream",
       "stream": "stdout",
       "text": [
        "\n",
        "('iteration:', 509, 'Kplus:', 6, 'alpha:', 0.7545704386920786)"
       ]
      },
      {
       "output_type": "stream",
       "stream": "stdout",
       "text": [
        "\n",
        "('iteration:', 510, 'Kplus:', 6, 'alpha:', 0.653908132382365)"
       ]
      },
      {
       "output_type": "stream",
       "stream": "stdout",
       "text": [
        "\n",
        "('iteration:', 511, 'Kplus:', 7, 'alpha:', 1.3455973878366725)"
       ]
      },
      {
       "output_type": "stream",
       "stream": "stdout",
       "text": [
        "\n",
        "('iteration:', 512, 'Kplus:', 6, 'alpha:', 1.444283963780313)"
       ]
      },
      {
       "output_type": "stream",
       "stream": "stdout",
       "text": [
        "\n",
        "('iteration:', 513, 'Kplus:', 7, 'alpha:', 1.166660104672467)"
       ]
      },
      {
       "output_type": "stream",
       "stream": "stdout",
       "text": [
        "\n",
        "('iteration:', 514, 'Kplus:', 6, 'alpha:', 1.4008391749362894)"
       ]
      },
      {
       "output_type": "stream",
       "stream": "stdout",
       "text": [
        "\n",
        "('iteration:', 515, 'Kplus:', 6, 'alpha:', 1.480030156541835)"
       ]
      },
      {
       "output_type": "stream",
       "stream": "stdout",
       "text": [
        "\n",
        "('iteration:', 516, 'Kplus:', 7, 'alpha:', 1.4200070586428803)"
       ]
      },
      {
       "output_type": "stream",
       "stream": "stdout",
       "text": [
        "\n",
        "('iteration:', 517, 'Kplus:', 7, 'alpha:', 1.256537971698938)"
       ]
      },
      {
       "output_type": "stream",
       "stream": "stdout",
       "text": [
        "\n",
        "('iteration:', 518, 'Kplus:', 6, 'alpha:', 0.9354412594297916)"
       ]
      },
      {
       "output_type": "stream",
       "stream": "stdout",
       "text": [
        "\n",
        "('iteration:', 519, 'Kplus:', 7, 'alpha:', 1.625469486540279)"
       ]
      },
      {
       "output_type": "stream",
       "stream": "stdout",
       "text": [
        "\n",
        "('iteration:', 520, 'Kplus:', 8, 'alpha:', 1.5148892633897095)"
       ]
      },
      {
       "output_type": "stream",
       "stream": "stdout",
       "text": [
        "\n",
        "('iteration:', 521, 'Kplus:', 8, 'alpha:', 1.6713666719963503)"
       ]
      },
      {
       "output_type": "stream",
       "stream": "stdout",
       "text": [
        "\n",
        "('iteration:', 522, 'Kplus:', 6, 'alpha:', 0.6961399049178877)"
       ]
      },
      {
       "output_type": "stream",
       "stream": "stdout",
       "text": [
        "\n",
        "('iteration:', 523, 'Kplus:', 6, 'alpha:', 0.8922855100472552)"
       ]
      },
      {
       "output_type": "stream",
       "stream": "stdout",
       "text": [
        "\n",
        "('iteration:', 524, 'Kplus:', 6, 'alpha:', 1.8735089654483545)"
       ]
      },
      {
       "output_type": "stream",
       "stream": "stdout",
       "text": [
        "\n",
        "('iteration:', 525, 'Kplus:', 7, 'alpha:', 0.6204785128101136)"
       ]
      },
      {
       "output_type": "stream",
       "stream": "stdout",
       "text": [
        "\n",
        "('iteration:', 526, 'Kplus:', 6, 'alpha:', 0.7058757434638513)"
       ]
      },
      {
       "output_type": "stream",
       "stream": "stdout",
       "text": [
        "\n",
        "('iteration:', 527, 'Kplus:', 6, 'alpha:', 1.6039982773659807)"
       ]
      },
      {
       "output_type": "stream",
       "stream": "stdout",
       "text": [
        "\n",
        "('iteration:', 528, 'Kplus:', 6, 'alpha:', 0.7988231516737893)"
       ]
      },
      {
       "output_type": "stream",
       "stream": "stdout",
       "text": [
        "\n",
        "('iteration:', 529, 'Kplus:', 6, 'alpha:', 1.4220498215343331)"
       ]
      },
      {
       "output_type": "stream",
       "stream": "stdout",
       "text": [
        "\n",
        "('iteration:', 530, 'Kplus:', 8, 'alpha:', 2.6351773481784107)"
       ]
      },
      {
       "output_type": "stream",
       "stream": "stdout",
       "text": [
        "\n",
        "('iteration:', 531, 'Kplus:', 8, 'alpha:', 1.8235893710886562)"
       ]
      },
      {
       "output_type": "stream",
       "stream": "stdout",
       "text": [
        "\n",
        "('iteration:', 532, 'Kplus:', 7, 'alpha:', 1.0363085267991756)"
       ]
      },
      {
       "output_type": "stream",
       "stream": "stdout",
       "text": [
        "\n",
        "('iteration:', 533, 'Kplus:', 6, 'alpha:', 1.2349954173906454)"
       ]
      },
      {
       "output_type": "stream",
       "stream": "stdout",
       "text": [
        "\n",
        "('iteration:', 534, 'Kplus:', 7, 'alpha:', 0.8222941143850723)"
       ]
      },
      {
       "output_type": "stream",
       "stream": "stdout",
       "text": [
        "\n",
        "('iteration:', 535, 'Kplus:', 6, 'alpha:', 1.0438695874973145)"
       ]
      },
      {
       "output_type": "stream",
       "stream": "stdout",
       "text": [
        "\n",
        "('iteration:', 536, 'Kplus:', 6, 'alpha:', 1.0986571823891838)"
       ]
      },
      {
       "output_type": "stream",
       "stream": "stdout",
       "text": [
        "\n",
        "('iteration:', 537, 'Kplus:', 6, 'alpha:', 0.7330306454112868)"
       ]
      },
      {
       "output_type": "stream",
       "stream": "stdout",
       "text": [
        "\n",
        "('iteration:', 538, 'Kplus:', 6, 'alpha:', 1.3456573353391519)"
       ]
      },
      {
       "output_type": "stream",
       "stream": "stdout",
       "text": [
        "\n",
        "('iteration:', 539, 'Kplus:', 6, 'alpha:', 0.4721894130745085)"
       ]
      },
      {
       "output_type": "stream",
       "stream": "stdout",
       "text": [
        "\n",
        "('iteration:', 540, 'Kplus:', 6, 'alpha:', 1.2610018527758724)"
       ]
      },
      {
       "output_type": "stream",
       "stream": "stdout",
       "text": [
        "\n",
        "('iteration:', 541, 'Kplus:', 7, 'alpha:', 1.0557491627678761)"
       ]
      },
      {
       "output_type": "stream",
       "stream": "stdout",
       "text": [
        "\n",
        "('iteration:', 542, 'Kplus:', 7, 'alpha:', 1.5415836723229956)"
       ]
      },
      {
       "output_type": "stream",
       "stream": "stdout",
       "text": [
        "\n",
        "('iteration:', 543, 'Kplus:', 6, 'alpha:', 0.9058696961531183)"
       ]
      },
      {
       "output_type": "stream",
       "stream": "stdout",
       "text": [
        "\n",
        "('iteration:', 544, 'Kplus:', 6, 'alpha:', 0.7521522937334498)"
       ]
      },
      {
       "output_type": "stream",
       "stream": "stdout",
       "text": [
        "\n",
        "('iteration:', 545, 'Kplus:', 7, 'alpha:', 1.3172850439199295)"
       ]
      },
      {
       "output_type": "stream",
       "stream": "stdout",
       "text": [
        "\n",
        "('iteration:', 546, 'Kplus:', 7, 'alpha:', 1.9042606515402323)"
       ]
      },
      {
       "output_type": "stream",
       "stream": "stdout",
       "text": [
        "\n",
        "('iteration:', 547, 'Kplus:', 7, 'alpha:', 1.6631855718350494)"
       ]
      },
      {
       "output_type": "stream",
       "stream": "stdout",
       "text": [
        "\n",
        "('iteration:', 548, 'Kplus:', 7, 'alpha:', 1.5102423494304267)"
       ]
      },
      {
       "output_type": "stream",
       "stream": "stdout",
       "text": [
        "\n",
        "('iteration:', 549, 'Kplus:', 7, 'alpha:', 1.0504177013539713)"
       ]
      },
      {
       "output_type": "stream",
       "stream": "stdout",
       "text": [
        "\n",
        "('iteration:', 550, 'Kplus:', 7, 'alpha:', 0.8676210948820241)"
       ]
      },
      {
       "output_type": "stream",
       "stream": "stdout",
       "text": [
        "\n",
        "('iteration:', 551, 'Kplus:', 6, 'alpha:', 0.9326199506742526)"
       ]
      },
      {
       "output_type": "stream",
       "stream": "stdout",
       "text": [
        "\n",
        "('iteration:', 552, 'Kplus:', 6, 'alpha:', 2.8607343933924287)"
       ]
      },
      {
       "output_type": "stream",
       "stream": "stdout",
       "text": [
        "\n",
        "('iteration:', 553, 'Kplus:', 6, 'alpha:', 0.35059766462004616)"
       ]
      },
      {
       "output_type": "stream",
       "stream": "stdout",
       "text": [
        "\n",
        "('iteration:', 554, 'Kplus:', 6, 'alpha:', 0.5739966306953721)"
       ]
      },
      {
       "output_type": "stream",
       "stream": "stdout",
       "text": [
        "\n",
        "('iteration:', 555, 'Kplus:', 6, 'alpha:', 0.8005540093564742)"
       ]
      },
      {
       "output_type": "stream",
       "stream": "stdout",
       "text": [
        "\n",
        "('iteration:', 556, 'Kplus:', 6, 'alpha:', 1.0959003703985375)"
       ]
      },
      {
       "output_type": "stream",
       "stream": "stdout",
       "text": [
        "\n",
        "('iteration:', 557, 'Kplus:', 6, 'alpha:', 1.1383621011345249)"
       ]
      },
      {
       "output_type": "stream",
       "stream": "stdout",
       "text": [
        "\n",
        "('iteration:', 558, 'Kplus:', 8, 'alpha:', 2.1463707166882684)"
       ]
      },
      {
       "output_type": "stream",
       "stream": "stdout",
       "text": [
        "\n",
        "('iteration:', 559, 'Kplus:', 7, 'alpha:', 1.0691273613597405)"
       ]
      },
      {
       "output_type": "stream",
       "stream": "stdout",
       "text": [
        "\n",
        "('iteration:', 560, 'Kplus:', 7, 'alpha:', 1.0230715199035285)"
       ]
      },
      {
       "output_type": "stream",
       "stream": "stdout",
       "text": [
        "\n",
        "('iteration:', 561, 'Kplus:', 7, 'alpha:', 0.7329464570515173)"
       ]
      },
      {
       "output_type": "stream",
       "stream": "stdout",
       "text": [
        "\n",
        "('iteration:', 562, 'Kplus:', 7, 'alpha:', 1.0378537088888415)"
       ]
      },
      {
       "output_type": "stream",
       "stream": "stdout",
       "text": [
        "\n",
        "('iteration:', 563, 'Kplus:', 7, 'alpha:', 1.0173678981238954)"
       ]
      },
      {
       "output_type": "stream",
       "stream": "stdout",
       "text": [
        "\n",
        "('iteration:', 564, 'Kplus:', 8, 'alpha:', 1.5780056091367738)"
       ]
      },
      {
       "output_type": "stream",
       "stream": "stdout",
       "text": [
        "\n",
        "('iteration:', 565, 'Kplus:', 7, 'alpha:', 0.9274430160743486)"
       ]
      },
      {
       "output_type": "stream",
       "stream": "stdout",
       "text": [
        "\n",
        "('iteration:', 566, 'Kplus:', 6, 'alpha:', 1.6840211682546276)"
       ]
      },
      {
       "output_type": "stream",
       "stream": "stdout",
       "text": [
        "\n",
        "('iteration:', 567, 'Kplus:', 6, 'alpha:', 0.3716637356033653)"
       ]
      },
      {
       "output_type": "stream",
       "stream": "stdout",
       "text": [
        "\n",
        "('iteration:', 568, 'Kplus:', 8, 'alpha:', 1.2323713896344586)"
       ]
      },
      {
       "output_type": "stream",
       "stream": "stdout",
       "text": [
        "\n",
        "('iteration:', 569, 'Kplus:', 7, 'alpha:', 1.0881282585989862)"
       ]
      },
      {
       "output_type": "stream",
       "stream": "stdout",
       "text": [
        "\n",
        "('iteration:', 570, 'Kplus:', 7, 'alpha:', 0.6944717635279427)"
       ]
      },
      {
       "output_type": "stream",
       "stream": "stdout",
       "text": [
        "\n",
        "('iteration:', 571, 'Kplus:', 6, 'alpha:', 0.8668343672131594)"
       ]
      },
      {
       "output_type": "stream",
       "stream": "stdout",
       "text": [
        "\n",
        "('iteration:', 572, 'Kplus:', 6, 'alpha:', 1.2243073437870144)"
       ]
      },
      {
       "output_type": "stream",
       "stream": "stdout",
       "text": [
        "\n",
        "('iteration:', 573, 'Kplus:', 6, 'alpha:', 1.7077280936840395)"
       ]
      },
      {
       "output_type": "stream",
       "stream": "stdout",
       "text": [
        "\n",
        "('iteration:', 574, 'Kplus:', 6, 'alpha:', 0.7074630043663298)"
       ]
      },
      {
       "output_type": "stream",
       "stream": "stdout",
       "text": [
        "\n",
        "('iteration:', 575, 'Kplus:', 6, 'alpha:', 0.9776920238925941)"
       ]
      },
      {
       "output_type": "stream",
       "stream": "stdout",
       "text": [
        "\n",
        "('iteration:', 576, 'Kplus:', 6, 'alpha:', 0.6864557940509874)"
       ]
      },
      {
       "output_type": "stream",
       "stream": "stdout",
       "text": [
        "\n",
        "('iteration:', 577, 'Kplus:', 6, 'alpha:', 1.1415780560929791)"
       ]
      },
      {
       "output_type": "stream",
       "stream": "stdout",
       "text": [
        "\n",
        "('iteration:', 578, 'Kplus:', 7, 'alpha:', 1.2236632003024162)"
       ]
      },
      {
       "output_type": "stream",
       "stream": "stdout",
       "text": [
        "\n",
        "('iteration:', 579, 'Kplus:', 6, 'alpha:', 1.2890018307634068)"
       ]
      },
      {
       "output_type": "stream",
       "stream": "stdout",
       "text": [
        "\n",
        "('iteration:', 580, 'Kplus:', 7, 'alpha:', 0.6793078016453079)"
       ]
      },
      {
       "output_type": "stream",
       "stream": "stdout",
       "text": [
        "\n",
        "('iteration:', 581, 'Kplus:', 6, 'alpha:', 0.5384328328229492)"
       ]
      },
      {
       "output_type": "stream",
       "stream": "stdout",
       "text": [
        "\n",
        "('iteration:', 582, 'Kplus:', 6, 'alpha:', 0.9944921840530953)"
       ]
      },
      {
       "output_type": "stream",
       "stream": "stdout",
       "text": [
        "\n",
        "('iteration:', 583, 'Kplus:', 6, 'alpha:', 0.9250596737945449)"
       ]
      },
      {
       "output_type": "stream",
       "stream": "stdout",
       "text": [
        "\n",
        "('iteration:', 584, 'Kplus:', 6, 'alpha:', 0.8081595866723451)"
       ]
      },
      {
       "output_type": "stream",
       "stream": "stdout",
       "text": [
        "\n",
        "('iteration:', 585, 'Kplus:', 6, 'alpha:', 1.1096084895027714)"
       ]
      },
      {
       "output_type": "stream",
       "stream": "stdout",
       "text": [
        "\n",
        "('iteration:', 586, 'Kplus:', 6, 'alpha:', 1.4106685067584286)"
       ]
      },
      {
       "output_type": "stream",
       "stream": "stdout",
       "text": [
        "\n",
        "('iteration:', 587, 'Kplus:', 6, 'alpha:', 0.8942429573481561)"
       ]
      },
      {
       "output_type": "stream",
       "stream": "stdout",
       "text": [
        "\n",
        "('iteration:', 588, 'Kplus:', 7, 'alpha:', 0.5787332685450307)"
       ]
      },
      {
       "output_type": "stream",
       "stream": "stdout",
       "text": [
        "\n",
        "('iteration:', 589, 'Kplus:', 6, 'alpha:', 1.3736917382181297)"
       ]
      },
      {
       "output_type": "stream",
       "stream": "stdout",
       "text": [
        "\n",
        "('iteration:', 590, 'Kplus:', 6, 'alpha:', 1.368464702809896)"
       ]
      },
      {
       "output_type": "stream",
       "stream": "stdout",
       "text": [
        "\n",
        "('iteration:', 591, 'Kplus:', 6, 'alpha:', 1.5352660901078905)"
       ]
      },
      {
       "output_type": "stream",
       "stream": "stdout",
       "text": [
        "\n",
        "('iteration:', 592, 'Kplus:', 6, 'alpha:', 0.5660463439332345)"
       ]
      },
      {
       "output_type": "stream",
       "stream": "stdout",
       "text": [
        "\n",
        "('iteration:', 593, 'Kplus:', 6, 'alpha:', 1.5366969055795845)"
       ]
      },
      {
       "output_type": "stream",
       "stream": "stdout",
       "text": [
        "\n",
        "('iteration:', 594, 'Kplus:', 6, 'alpha:', 1.5832376740915604)"
       ]
      },
      {
       "output_type": "stream",
       "stream": "stdout",
       "text": [
        "\n",
        "('iteration:', 595, 'Kplus:', 6, 'alpha:', 0.6990658463049211)"
       ]
      },
      {
       "output_type": "stream",
       "stream": "stdout",
       "text": [
        "\n",
        "('iteration:', 596, 'Kplus:', 6, 'alpha:', 1.8449506868658943)"
       ]
      },
      {
       "output_type": "stream",
       "stream": "stdout",
       "text": [
        "\n",
        "('iteration:', 597, 'Kplus:', 7, 'alpha:', 1.171823632552394)"
       ]
      },
      {
       "output_type": "stream",
       "stream": "stdout",
       "text": [
        "\n",
        "('iteration:', 598, 'Kplus:', 6, 'alpha:', 0.7207182875897908)"
       ]
      },
      {
       "output_type": "stream",
       "stream": "stdout",
       "text": [
        "\n",
        "('iteration:', 599, 'Kplus:', 6, 'alpha:', 1.792181109844785)"
       ]
      },
      {
       "output_type": "stream",
       "stream": "stdout",
       "text": [
        "\n",
        "('iteration:', 600, 'Kplus:', 6, 'alpha:', 1.6812306121399803)"
       ]
      },
      {
       "output_type": "stream",
       "stream": "stdout",
       "text": [
        "\n",
        "('iteration:', 601, 'Kplus:', 6, 'alpha:', 0.8358536556733687)"
       ]
      },
      {
       "output_type": "stream",
       "stream": "stdout",
       "text": [
        "\n",
        "('iteration:', 602, 'Kplus:', 6, 'alpha:', 1.467816492864354)"
       ]
      },
      {
       "output_type": "stream",
       "stream": "stdout",
       "text": [
        "\n",
        "('iteration:', 603, 'Kplus:', 6, 'alpha:', 1.0259894350102152)"
       ]
      },
      {
       "output_type": "stream",
       "stream": "stdout",
       "text": [
        "\n",
        "('iteration:', 604, 'Kplus:', 6, 'alpha:', 1.3406323710450183)"
       ]
      },
      {
       "output_type": "stream",
       "stream": "stdout",
       "text": [
        "\n",
        "('iteration:', 605, 'Kplus:', 7, 'alpha:', 1.5161621287641232)"
       ]
      },
      {
       "output_type": "stream",
       "stream": "stdout",
       "text": [
        "\n",
        "('iteration:', 606, 'Kplus:', 7, 'alpha:', 1.7322253315864116)"
       ]
      },
      {
       "output_type": "stream",
       "stream": "stdout",
       "text": [
        "\n",
        "('iteration:', 607, 'Kplus:', 6, 'alpha:', 0.9681390264689993)"
       ]
      },
      {
       "output_type": "stream",
       "stream": "stdout",
       "text": [
        "\n",
        "('iteration:', 608, 'Kplus:', 6, 'alpha:', 1.0299401392410195)"
       ]
      },
      {
       "output_type": "stream",
       "stream": "stdout",
       "text": [
        "\n",
        "('iteration:', 609, 'Kplus:', 7, 'alpha:', 1.470351743164437)"
       ]
      },
      {
       "output_type": "stream",
       "stream": "stdout",
       "text": [
        "\n",
        "('iteration:', 610, 'Kplus:', 7, 'alpha:', 1.2371709441428789)"
       ]
      },
      {
       "output_type": "stream",
       "stream": "stdout",
       "text": [
        "\n",
        "('iteration:', 611, 'Kplus:', 6, 'alpha:', 1.4461848897954328)"
       ]
      },
      {
       "output_type": "stream",
       "stream": "stdout",
       "text": [
        "\n",
        "('iteration:', 612, 'Kplus:', 7, 'alpha:', 0.9557120837035579)"
       ]
      },
      {
       "output_type": "stream",
       "stream": "stdout",
       "text": [
        "\n",
        "('iteration:', 613, 'Kplus:', 9, 'alpha:', 1.4658496935362895)"
       ]
      },
      {
       "output_type": "stream",
       "stream": "stdout",
       "text": [
        "\n",
        "('iteration:', 614, 'Kplus:', 8, 'alpha:', 0.8405209645977761)"
       ]
      },
      {
       "output_type": "stream",
       "stream": "stdout",
       "text": [
        "\n",
        "('iteration:', 615, 'Kplus:', 6, 'alpha:', 0.7651267370465635)"
       ]
      },
      {
       "output_type": "stream",
       "stream": "stdout",
       "text": [
        "\n",
        "('iteration:', 616, 'Kplus:', 7, 'alpha:', 0.7130605784205197)"
       ]
      },
      {
       "output_type": "stream",
       "stream": "stdout",
       "text": [
        "\n",
        "('iteration:', 617, 'Kplus:', 6, 'alpha:', 2.25483437778269)"
       ]
      },
      {
       "output_type": "stream",
       "stream": "stdout",
       "text": [
        "\n",
        "('iteration:', 618, 'Kplus:', 7, 'alpha:', 1.2728894100244437)"
       ]
      },
      {
       "output_type": "stream",
       "stream": "stdout",
       "text": [
        "\n",
        "('iteration:', 619, 'Kplus:', 6, 'alpha:', 1.0924890179387312)"
       ]
      },
      {
       "output_type": "stream",
       "stream": "stdout",
       "text": [
        "\n",
        "('iteration:', 620, 'Kplus:', 8, 'alpha:', 1.4677863874598447)"
       ]
      },
      {
       "output_type": "stream",
       "stream": "stdout",
       "text": [
        "\n",
        "('iteration:', 621, 'Kplus:', 6, 'alpha:', 0.5050727134986372)"
       ]
      },
      {
       "output_type": "stream",
       "stream": "stdout",
       "text": [
        "\n",
        "('iteration:', 622, 'Kplus:', 6, 'alpha:', 1.1098489999427341)"
       ]
      },
      {
       "output_type": "stream",
       "stream": "stdout",
       "text": [
        "\n",
        "('iteration:', 623, 'Kplus:', 7, 'alpha:', 1.1528969859277398)"
       ]
      },
      {
       "output_type": "stream",
       "stream": "stdout",
       "text": [
        "\n",
        "('iteration:', 624, 'Kplus:', 6, 'alpha:', 1.2017411530718733)"
       ]
      },
      {
       "output_type": "stream",
       "stream": "stdout",
       "text": [
        "\n",
        "('iteration:', 625, 'Kplus:', 6, 'alpha:', 1.212839940231023)"
       ]
      },
      {
       "output_type": "stream",
       "stream": "stdout",
       "text": [
        "\n",
        "('iteration:', 626, 'Kplus:', 6, 'alpha:', 1.4725753535189319)"
       ]
      },
      {
       "output_type": "stream",
       "stream": "stdout",
       "text": [
        "\n",
        "('iteration:', 627, 'Kplus:', 7, 'alpha:', 0.9845555910346471)"
       ]
      },
      {
       "output_type": "stream",
       "stream": "stdout",
       "text": [
        "\n",
        "('iteration:', 628, 'Kplus:', 6, 'alpha:', 0.8191861141036103)"
       ]
      },
      {
       "output_type": "stream",
       "stream": "stdout",
       "text": [
        "\n",
        "('iteration:', 629, 'Kplus:', 6, 'alpha:', 1.5228175236035266)"
       ]
      },
      {
       "output_type": "stream",
       "stream": "stdout",
       "text": [
        "\n",
        "('iteration:', 630, 'Kplus:', 8, 'alpha:', 1.1685683739687631)"
       ]
      },
      {
       "output_type": "stream",
       "stream": "stdout",
       "text": [
        "\n",
        "('iteration:', 631, 'Kplus:', 7, 'alpha:', 1.3644937074171042)"
       ]
      },
      {
       "output_type": "stream",
       "stream": "stdout",
       "text": [
        "\n",
        "('iteration:', 632, 'Kplus:', 7, 'alpha:', 1.346224681371959)"
       ]
      },
      {
       "output_type": "stream",
       "stream": "stdout",
       "text": [
        "\n",
        "('iteration:', 633, 'Kplus:', 7, 'alpha:', 2.1817772023076514)"
       ]
      },
      {
       "output_type": "stream",
       "stream": "stdout",
       "text": [
        "\n",
        "('iteration:', 634, 'Kplus:', 7, 'alpha:', 1.156743573784416)"
       ]
      },
      {
       "output_type": "stream",
       "stream": "stdout",
       "text": [
        "\n",
        "('iteration:', 635, 'Kplus:', 6, 'alpha:', 0.5041747903568132)"
       ]
      },
      {
       "output_type": "stream",
       "stream": "stdout",
       "text": [
        "\n",
        "('iteration:', 636, 'Kplus:', 6, 'alpha:', 0.7864376294993072)"
       ]
      },
      {
       "output_type": "stream",
       "stream": "stdout",
       "text": [
        "\n",
        "('iteration:', 637, 'Kplus:', 7, 'alpha:', 1.0027891920766474)"
       ]
      },
      {
       "output_type": "stream",
       "stream": "stdout",
       "text": [
        "\n",
        "('iteration:', 638, 'Kplus:', 7, 'alpha:', 0.4950859249661954)"
       ]
      },
      {
       "output_type": "stream",
       "stream": "stdout",
       "text": [
        "\n",
        "('iteration:', 639, 'Kplus:', 7, 'alpha:', 0.7851753730862698)"
       ]
      },
      {
       "output_type": "stream",
       "stream": "stdout",
       "text": [
        "\n",
        "('iteration:', 640, 'Kplus:', 6, 'alpha:', 1.6942210659092012)"
       ]
      },
      {
       "output_type": "stream",
       "stream": "stdout",
       "text": [
        "\n",
        "('iteration:', 641, 'Kplus:', 7, 'alpha:', 1.7000576539823145)"
       ]
      },
      {
       "output_type": "stream",
       "stream": "stdout",
       "text": [
        "\n",
        "('iteration:', 642, 'Kplus:', 8, 'alpha:', 1.430136640486068)"
       ]
      },
      {
       "output_type": "stream",
       "stream": "stdout",
       "text": [
        "\n",
        "('iteration:', 643, 'Kplus:', 7, 'alpha:', 1.620213472510069)"
       ]
      },
      {
       "output_type": "stream",
       "stream": "stdout",
       "text": [
        "\n",
        "('iteration:', 644, 'Kplus:', 7, 'alpha:', 1.0544356439868836)"
       ]
      },
      {
       "output_type": "stream",
       "stream": "stdout",
       "text": [
        "\n",
        "('iteration:', 645, 'Kplus:', 8, 'alpha:', 0.6167333579165585)"
       ]
      },
      {
       "output_type": "stream",
       "stream": "stdout",
       "text": [
        "\n",
        "('iteration:', 646, 'Kplus:', 7, 'alpha:', 1.7685461359676735)"
       ]
      },
      {
       "output_type": "stream",
       "stream": "stdout",
       "text": [
        "\n",
        "('iteration:', 647, 'Kplus:', 7, 'alpha:', 1.5720205295592584)"
       ]
      },
      {
       "output_type": "stream",
       "stream": "stdout",
       "text": [
        "\n",
        "('iteration:', 648, 'Kplus:', 7, 'alpha:', 1.248067548619079)"
       ]
      },
      {
       "output_type": "stream",
       "stream": "stdout",
       "text": [
        "\n",
        "('iteration:', 649, 'Kplus:', 6, 'alpha:', 1.8282968020129577)"
       ]
      },
      {
       "output_type": "stream",
       "stream": "stdout",
       "text": [
        "\n",
        "('iteration:', 650, 'Kplus:', 7, 'alpha:', 1.3595525646685118)"
       ]
      },
      {
       "output_type": "stream",
       "stream": "stdout",
       "text": [
        "\n",
        "('iteration:', 651, 'Kplus:', 6, 'alpha:', 1.991502072020152)"
       ]
      },
      {
       "output_type": "stream",
       "stream": "stdout",
       "text": [
        "\n",
        "('iteration:', 652, 'Kplus:', 6, 'alpha:', 0.7622551183052071)"
       ]
      },
      {
       "output_type": "stream",
       "stream": "stdout",
       "text": [
        "\n",
        "('iteration:', 653, 'Kplus:', 6, 'alpha:', 0.7816897100741753)"
       ]
      },
      {
       "output_type": "stream",
       "stream": "stdout",
       "text": [
        "\n",
        "('iteration:', 654, 'Kplus:', 7, 'alpha:', 2.130632284372367)"
       ]
      },
      {
       "output_type": "stream",
       "stream": "stdout",
       "text": [
        "\n",
        "('iteration:', 655, 'Kplus:', 7, 'alpha:', 1.583838434687527)"
       ]
      },
      {
       "output_type": "stream",
       "stream": "stdout",
       "text": [
        "\n",
        "('iteration:', 656, 'Kplus:', 6, 'alpha:', 1.0527957805049586)"
       ]
      },
      {
       "output_type": "stream",
       "stream": "stdout",
       "text": [
        "\n",
        "('iteration:', 657, 'Kplus:', 7, 'alpha:', 1.565100123728459)"
       ]
      },
      {
       "output_type": "stream",
       "stream": "stdout",
       "text": [
        "\n",
        "('iteration:', 658, 'Kplus:', 6, 'alpha:', 1.0865612630503225)"
       ]
      },
      {
       "output_type": "stream",
       "stream": "stdout",
       "text": [
        "\n",
        "('iteration:', 659, 'Kplus:', 6, 'alpha:', 0.823375560667865)"
       ]
      },
      {
       "output_type": "stream",
       "stream": "stdout",
       "text": [
        "\n",
        "('iteration:', 660, 'Kplus:', 6, 'alpha:', 1.2928451326459207)"
       ]
      },
      {
       "output_type": "stream",
       "stream": "stdout",
       "text": [
        "\n",
        "('iteration:', 661, 'Kplus:', 6, 'alpha:', 1.0086561304182482)"
       ]
      },
      {
       "output_type": "stream",
       "stream": "stdout",
       "text": [
        "\n",
        "('iteration:', 662, 'Kplus:', 6, 'alpha:', 1.425461734137031)"
       ]
      },
      {
       "output_type": "stream",
       "stream": "stdout",
       "text": [
        "\n",
        "('iteration:', 663, 'Kplus:', 6, 'alpha:', 0.865235293664213)"
       ]
      },
      {
       "output_type": "stream",
       "stream": "stdout",
       "text": [
        "\n",
        "('iteration:', 664, 'Kplus:', 6, 'alpha:', 0.8944158225689784)"
       ]
      },
      {
       "output_type": "stream",
       "stream": "stdout",
       "text": [
        "\n",
        "('iteration:', 665, 'Kplus:', 6, 'alpha:', 0.7860548123285246)"
       ]
      },
      {
       "output_type": "stream",
       "stream": "stdout",
       "text": [
        "\n",
        "('iteration:', 666, 'Kplus:', 6, 'alpha:', 0.6596617162384396)"
       ]
      },
      {
       "output_type": "stream",
       "stream": "stdout",
       "text": [
        "\n",
        "('iteration:', 667, 'Kplus:', 6, 'alpha:', 1.5144804720393705)"
       ]
      },
      {
       "output_type": "stream",
       "stream": "stdout",
       "text": [
        "\n",
        "('iteration:', 668, 'Kplus:', 6, 'alpha:', 1.1709835085162876)"
       ]
      },
      {
       "output_type": "stream",
       "stream": "stdout",
       "text": [
        "\n",
        "('iteration:', 669, 'Kplus:', 7, 'alpha:', 1.8118083148779858)"
       ]
      },
      {
       "output_type": "stream",
       "stream": "stdout",
       "text": [
        "\n",
        "('iteration:', 670, 'Kplus:', 6, 'alpha:', 0.845464705061832)"
       ]
      },
      {
       "output_type": "stream",
       "stream": "stdout",
       "text": [
        "\n",
        "('iteration:', 671, 'Kplus:', 6, 'alpha:', 1.4071286844972066)"
       ]
      },
      {
       "output_type": "stream",
       "stream": "stdout",
       "text": [
        "\n",
        "('iteration:', 672, 'Kplus:', 7, 'alpha:', 1.6231391281999765)"
       ]
      },
      {
       "output_type": "stream",
       "stream": "stdout",
       "text": [
        "\n",
        "('iteration:', 673, 'Kplus:', 7, 'alpha:', 1.4849417513321954)"
       ]
      },
      {
       "output_type": "stream",
       "stream": "stdout",
       "text": [
        "\n",
        "('iteration:', 674, 'Kplus:', 6, 'alpha:', 1.2022759197469686)"
       ]
      },
      {
       "output_type": "stream",
       "stream": "stdout",
       "text": [
        "\n",
        "('iteration:', 675, 'Kplus:', 6, 'alpha:', 0.8054633959178755)"
       ]
      },
      {
       "output_type": "stream",
       "stream": "stdout",
       "text": [
        "\n",
        "('iteration:', 676, 'Kplus:', 6, 'alpha:', 1.0219827288114252)"
       ]
      },
      {
       "output_type": "stream",
       "stream": "stdout",
       "text": [
        "\n",
        "('iteration:', 677, 'Kplus:', 8, 'alpha:', 1.3988702712998755)"
       ]
      },
      {
       "output_type": "stream",
       "stream": "stdout",
       "text": [
        "\n",
        "('iteration:', 678, 'Kplus:', 8, 'alpha:', 1.2551124128178395)"
       ]
      },
      {
       "output_type": "stream",
       "stream": "stdout",
       "text": [
        "\n",
        "('iteration:', 679, 'Kplus:', 7, 'alpha:', 0.9044121243067736)"
       ]
      },
      {
       "output_type": "stream",
       "stream": "stdout",
       "text": [
        "\n",
        "('iteration:', 680, 'Kplus:', 6, 'alpha:', 1.62112449364421)"
       ]
      },
      {
       "output_type": "stream",
       "stream": "stdout",
       "text": [
        "\n",
        "('iteration:', 681, 'Kplus:', 7, 'alpha:', 0.9851132264567312)"
       ]
      },
      {
       "output_type": "stream",
       "stream": "stdout",
       "text": [
        "\n",
        "('iteration:', 682, 'Kplus:', 7, 'alpha:', 0.40010950520103217)"
       ]
      },
      {
       "output_type": "stream",
       "stream": "stdout",
       "text": [
        "\n",
        "('iteration:', 683, 'Kplus:', 6, 'alpha:', 0.809809051906546)"
       ]
      },
      {
       "output_type": "stream",
       "stream": "stdout",
       "text": [
        "\n",
        "('iteration:', 684, 'Kplus:', 7, 'alpha:', 1.7177750235203995)"
       ]
      },
      {
       "output_type": "stream",
       "stream": "stdout",
       "text": [
        "\n",
        "('iteration:', 685, 'Kplus:', 6, 'alpha:', 1.6345810197059856)"
       ]
      },
      {
       "output_type": "stream",
       "stream": "stdout",
       "text": [
        "\n",
        "('iteration:', 686, 'Kplus:', 6, 'alpha:', 1.1783512592476695)"
       ]
      },
      {
       "output_type": "stream",
       "stream": "stdout",
       "text": [
        "\n",
        "('iteration:', 687, 'Kplus:', 6, 'alpha:', 1.0460304780594416)"
       ]
      },
      {
       "output_type": "stream",
       "stream": "stdout",
       "text": [
        "\n",
        "('iteration:', 688, 'Kplus:', 6, 'alpha:', 0.6007217183278919)"
       ]
      },
      {
       "output_type": "stream",
       "stream": "stdout",
       "text": [
        "\n",
        "('iteration:', 689, 'Kplus:', 6, 'alpha:', 0.681416095332496)"
       ]
      },
      {
       "output_type": "stream",
       "stream": "stdout",
       "text": [
        "\n",
        "('iteration:', 690, 'Kplus:', 6, 'alpha:', 1.4042501442697153)"
       ]
      },
      {
       "output_type": "stream",
       "stream": "stdout",
       "text": [
        "\n",
        "('iteration:', 691, 'Kplus:', 6, 'alpha:', 0.6152468043569719)"
       ]
      },
      {
       "output_type": "stream",
       "stream": "stdout",
       "text": [
        "\n",
        "('iteration:', 692, 'Kplus:', 6, 'alpha:', 1.2337491130779423)"
       ]
      },
      {
       "output_type": "stream",
       "stream": "stdout",
       "text": [
        "\n",
        "('iteration:', 693, 'Kplus:', 6, 'alpha:', 0.8718318790936594)"
       ]
      },
      {
       "output_type": "stream",
       "stream": "stdout",
       "text": [
        "\n",
        "('iteration:', 694, 'Kplus:', 6, 'alpha:', 0.667006791184873)"
       ]
      },
      {
       "output_type": "stream",
       "stream": "stdout",
       "text": [
        "\n",
        "('iteration:', 695, 'Kplus:', 6, 'alpha:', 1.3897390170234978)"
       ]
      },
      {
       "output_type": "stream",
       "stream": "stdout",
       "text": [
        "\n",
        "('iteration:', 696, 'Kplus:', 8, 'alpha:', 1.3238709760625524)"
       ]
      },
      {
       "output_type": "stream",
       "stream": "stdout",
       "text": [
        "\n",
        "('iteration:', 697, 'Kplus:', 7, 'alpha:', 1.2288714640549958)"
       ]
      },
      {
       "output_type": "stream",
       "stream": "stdout",
       "text": [
        "\n",
        "('iteration:', 698, 'Kplus:', 6, 'alpha:', 1.0468206367807529)"
       ]
      },
      {
       "output_type": "stream",
       "stream": "stdout",
       "text": [
        "\n",
        "('iteration:', 699, 'Kplus:', 6, 'alpha:', 0.7703966398399483)"
       ]
      },
      {
       "output_type": "stream",
       "stream": "stdout",
       "text": [
        "\n",
        "('iteration:', 700, 'Kplus:', 6, 'alpha:', 1.171346269248299)"
       ]
      },
      {
       "output_type": "stream",
       "stream": "stdout",
       "text": [
        "\n",
        "('iteration:', 701, 'Kplus:', 6, 'alpha:', 1.351486674001144)"
       ]
      },
      {
       "output_type": "stream",
       "stream": "stdout",
       "text": [
        "\n",
        "('iteration:', 702, 'Kplus:', 8, 'alpha:', 1.039706427648091)"
       ]
      },
      {
       "output_type": "stream",
       "stream": "stdout",
       "text": [
        "\n",
        "('iteration:', 703, 'Kplus:', 7, 'alpha:', 0.9378938692062971)"
       ]
      },
      {
       "output_type": "stream",
       "stream": "stdout",
       "text": [
        "\n",
        "('iteration:', 704, 'Kplus:', 8, 'alpha:', 0.9281855798562874)"
       ]
      },
      {
       "output_type": "stream",
       "stream": "stdout",
       "text": [
        "\n",
        "('iteration:', 705, 'Kplus:', 7, 'alpha:', 0.8111709996324572)"
       ]
      },
      {
       "output_type": "stream",
       "stream": "stdout",
       "text": [
        "\n",
        "('iteration:', 706, 'Kplus:', 6, 'alpha:', 1.0684406744877044)"
       ]
      },
      {
       "output_type": "stream",
       "stream": "stdout",
       "text": [
        "\n",
        "('iteration:', 707, 'Kplus:', 7, 'alpha:', 1.423872996130944)"
       ]
      },
      {
       "output_type": "stream",
       "stream": "stdout",
       "text": [
        "\n",
        "('iteration:', 708, 'Kplus:', 6, 'alpha:', 0.9238206515747701)"
       ]
      },
      {
       "output_type": "stream",
       "stream": "stdout",
       "text": [
        "\n",
        "('iteration:', 709, 'Kplus:', 7, 'alpha:', 0.7443276558875347)"
       ]
      },
      {
       "output_type": "stream",
       "stream": "stdout",
       "text": [
        "\n",
        "('iteration:', 710, 'Kplus:', 6, 'alpha:', 1.3746107365139517)"
       ]
      },
      {
       "output_type": "stream",
       "stream": "stdout",
       "text": [
        "\n",
        "('iteration:', 711, 'Kplus:', 6, 'alpha:', 0.9283723682501457)"
       ]
      },
      {
       "output_type": "stream",
       "stream": "stdout",
       "text": [
        "\n",
        "('iteration:', 712, 'Kplus:', 6, 'alpha:', 0.6961560590494332)"
       ]
      },
      {
       "output_type": "stream",
       "stream": "stdout",
       "text": [
        "\n",
        "('iteration:', 713, 'Kplus:', 6, 'alpha:', 2.028197634314868)"
       ]
      },
      {
       "output_type": "stream",
       "stream": "stdout",
       "text": [
        "\n",
        "('iteration:', 714, 'Kplus:', 7, 'alpha:', 2.5486188952525684)"
       ]
      },
      {
       "output_type": "stream",
       "stream": "stdout",
       "text": [
        "\n",
        "('iteration:', 715, 'Kplus:', 7, 'alpha:', 1.667849339392243)"
       ]
      },
      {
       "output_type": "stream",
       "stream": "stdout",
       "text": [
        "\n",
        "('iteration:', 716, 'Kplus:', 7, 'alpha:', 0.8354909836745839)"
       ]
      },
      {
       "output_type": "stream",
       "stream": "stdout",
       "text": [
        "\n",
        "('iteration:', 717, 'Kplus:', 6, 'alpha:', 1.0420498293430163)"
       ]
      },
      {
       "output_type": "stream",
       "stream": "stdout",
       "text": [
        "\n",
        "('iteration:', 718, 'Kplus:', 6, 'alpha:', 1.1788014157930415)"
       ]
      },
      {
       "output_type": "stream",
       "stream": "stdout",
       "text": [
        "\n",
        "('iteration:', 719, 'Kplus:', 6, 'alpha:', 1.4804966517154114)"
       ]
      },
      {
       "output_type": "stream",
       "stream": "stdout",
       "text": [
        "\n",
        "('iteration:', 720, 'Kplus:', 7, 'alpha:', 1.3754648129854998)"
       ]
      },
      {
       "output_type": "stream",
       "stream": "stdout",
       "text": [
        "\n",
        "('iteration:', 721, 'Kplus:', 6, 'alpha:', 1.1827242411737688)"
       ]
      },
      {
       "output_type": "stream",
       "stream": "stdout",
       "text": [
        "\n",
        "('iteration:', 722, 'Kplus:', 6, 'alpha:', 1.6429228755504928)"
       ]
      },
      {
       "output_type": "stream",
       "stream": "stdout",
       "text": [
        "\n",
        "('iteration:', 723, 'Kplus:', 6, 'alpha:', 1.4367043305359795)"
       ]
      },
      {
       "output_type": "stream",
       "stream": "stdout",
       "text": [
        "\n",
        "('iteration:', 724, 'Kplus:', 6, 'alpha:', 0.9287573559433588)"
       ]
      },
      {
       "output_type": "stream",
       "stream": "stdout",
       "text": [
        "\n",
        "('iteration:', 725, 'Kplus:', 7, 'alpha:', 1.1338852265927999)"
       ]
      },
      {
       "output_type": "stream",
       "stream": "stdout",
       "text": [
        "\n",
        "('iteration:', 726, 'Kplus:', 7, 'alpha:', 0.7720661023224482)"
       ]
      },
      {
       "output_type": "stream",
       "stream": "stdout",
       "text": [
        "\n",
        "('iteration:', 727, 'Kplus:', 6, 'alpha:', 1.1427750526477676)"
       ]
      },
      {
       "output_type": "stream",
       "stream": "stdout",
       "text": [
        "\n",
        "('iteration:', 728, 'Kplus:', 6, 'alpha:', 1.0207438727835478)"
       ]
      },
      {
       "output_type": "stream",
       "stream": "stdout",
       "text": [
        "\n",
        "('iteration:', 729, 'Kplus:', 8, 'alpha:', 0.9755582442574169)"
       ]
      },
      {
       "output_type": "stream",
       "stream": "stdout",
       "text": [
        "\n",
        "('iteration:', 730, 'Kplus:', 8, 'alpha:', 1.4277091256879435)"
       ]
      },
      {
       "output_type": "stream",
       "stream": "stdout",
       "text": [
        "\n",
        "('iteration:', 731, 'Kplus:', 6, 'alpha:', 0.6987730790054303)"
       ]
      },
      {
       "output_type": "stream",
       "stream": "stdout",
       "text": [
        "\n",
        "('iteration:', 732, 'Kplus:', 8, 'alpha:', 1.357987636155112)"
       ]
      },
      {
       "output_type": "stream",
       "stream": "stdout",
       "text": [
        "\n",
        "('iteration:', 733, 'Kplus:', 7, 'alpha:', 0.8194612832279747)"
       ]
      },
      {
       "output_type": "stream",
       "stream": "stdout",
       "text": [
        "\n",
        "('iteration:', 734, 'Kplus:', 6, 'alpha:', 0.9041791843125981)"
       ]
      },
      {
       "output_type": "stream",
       "stream": "stdout",
       "text": [
        "\n",
        "('iteration:', 735, 'Kplus:', 6, 'alpha:', 1.4540346041491208)"
       ]
      },
      {
       "output_type": "stream",
       "stream": "stdout",
       "text": [
        "\n",
        "('iteration:', 736, 'Kplus:', 6, 'alpha:', 0.7063558638295441)"
       ]
      },
      {
       "output_type": "stream",
       "stream": "stdout",
       "text": [
        "\n",
        "('iteration:', 737, 'Kplus:', 6, 'alpha:', 0.9277218300994229)"
       ]
      },
      {
       "output_type": "stream",
       "stream": "stdout",
       "text": [
        "\n",
        "('iteration:', 738, 'Kplus:', 6, 'alpha:', 1.2367685316914725)"
       ]
      },
      {
       "output_type": "stream",
       "stream": "stdout",
       "text": [
        "\n",
        "('iteration:', 739, 'Kplus:', 6, 'alpha:', 0.9218971787382096)"
       ]
      },
      {
       "output_type": "stream",
       "stream": "stdout",
       "text": [
        "\n",
        "('iteration:', 740, 'Kplus:', 6, 'alpha:', 0.8363713235491044)"
       ]
      },
      {
       "output_type": "stream",
       "stream": "stdout",
       "text": [
        "\n",
        "('iteration:', 741, 'Kplus:', 6, 'alpha:', 1.0851987986288634)"
       ]
      },
      {
       "output_type": "stream",
       "stream": "stdout",
       "text": [
        "\n",
        "('iteration:', 742, 'Kplus:', 6, 'alpha:', 0.9191330047049261)"
       ]
      },
      {
       "output_type": "stream",
       "stream": "stdout",
       "text": [
        "\n",
        "('iteration:', 743, 'Kplus:', 7, 'alpha:', 1.7749097967745497)"
       ]
      },
      {
       "output_type": "stream",
       "stream": "stdout",
       "text": [
        "\n",
        "('iteration:', 744, 'Kplus:', 8, 'alpha:', 2.084378739402281)"
       ]
      },
      {
       "output_type": "stream",
       "stream": "stdout",
       "text": [
        "\n",
        "('iteration:', 745, 'Kplus:', 6, 'alpha:', 1.3723902256471758)"
       ]
      },
      {
       "output_type": "stream",
       "stream": "stdout",
       "text": [
        "\n",
        "('iteration:', 746, 'Kplus:', 6, 'alpha:', 0.5135469346392761)"
       ]
      },
      {
       "output_type": "stream",
       "stream": "stdout",
       "text": [
        "\n",
        "('iteration:', 747, 'Kplus:', 7, 'alpha:', 0.5176938236520571)"
       ]
      },
      {
       "output_type": "stream",
       "stream": "stdout",
       "text": [
        "\n",
        "('iteration:', 748, 'Kplus:', 6, 'alpha:', 1.316890136865378)"
       ]
      },
      {
       "output_type": "stream",
       "stream": "stdout",
       "text": [
        "\n",
        "('iteration:', 749, 'Kplus:', 6, 'alpha:', 1.5906880966260921)"
       ]
      },
      {
       "output_type": "stream",
       "stream": "stdout",
       "text": [
        "\n",
        "('iteration:', 750, 'Kplus:', 6, 'alpha:', 1.1121542440603)"
       ]
      },
      {
       "output_type": "stream",
       "stream": "stdout",
       "text": [
        "\n",
        "('iteration:', 751, 'Kplus:', 6, 'alpha:', 1.8488811463724366)"
       ]
      },
      {
       "output_type": "stream",
       "stream": "stdout",
       "text": [
        "\n",
        "('iteration:', 752, 'Kplus:', 6, 'alpha:', 0.3553419173169988)"
       ]
      },
      {
       "output_type": "stream",
       "stream": "stdout",
       "text": [
        "\n",
        "('iteration:', 753, 'Kplus:', 6, 'alpha:', 0.8957162061949645)"
       ]
      },
      {
       "output_type": "stream",
       "stream": "stdout",
       "text": [
        "\n",
        "('iteration:', 754, 'Kplus:', 6, 'alpha:', 0.8484470883522665)"
       ]
      },
      {
       "output_type": "stream",
       "stream": "stdout",
       "text": [
        "\n",
        "('iteration:', 755, 'Kplus:', 6, 'alpha:', 0.954710808983659)"
       ]
      },
      {
       "output_type": "stream",
       "stream": "stdout",
       "text": [
        "\n",
        "('iteration:', 756, 'Kplus:', 6, 'alpha:', 1.9698299293915216)"
       ]
      },
      {
       "output_type": "stream",
       "stream": "stdout",
       "text": [
        "\n",
        "('iteration:', 757, 'Kplus:', 7, 'alpha:', 1.1533790433400444)"
       ]
      },
      {
       "output_type": "stream",
       "stream": "stdout",
       "text": [
        "\n",
        "('iteration:', 758, 'Kplus:', 7, 'alpha:', 1.165101906991103)"
       ]
      },
      {
       "output_type": "stream",
       "stream": "stdout",
       "text": [
        "\n",
        "('iteration:', 759, 'Kplus:', 7, 'alpha:', 0.5205017282590918)"
       ]
      },
      {
       "output_type": "stream",
       "stream": "stdout",
       "text": [
        "\n",
        "('iteration:', 760, 'Kplus:', 6, 'alpha:', 0.7685763062898052)"
       ]
      },
      {
       "output_type": "stream",
       "stream": "stdout",
       "text": [
        "\n",
        "('iteration:', 761, 'Kplus:', 6, 'alpha:', 0.828565842712724)"
       ]
      },
      {
       "output_type": "stream",
       "stream": "stdout",
       "text": [
        "\n",
        "('iteration:', 762, 'Kplus:', 7, 'alpha:', 1.1050742279024732)"
       ]
      },
      {
       "output_type": "stream",
       "stream": "stdout",
       "text": [
        "\n",
        "('iteration:', 763, 'Kplus:', 6, 'alpha:', 1.330169802967522)"
       ]
      },
      {
       "output_type": "stream",
       "stream": "stdout",
       "text": [
        "\n",
        "('iteration:', 764, 'Kplus:', 6, 'alpha:', 0.9171741489321256)"
       ]
      },
      {
       "output_type": "stream",
       "stream": "stdout",
       "text": [
        "\n",
        "('iteration:', 765, 'Kplus:', 6, 'alpha:', 0.8266530208739191)"
       ]
      },
      {
       "output_type": "stream",
       "stream": "stdout",
       "text": [
        "\n",
        "('iteration:', 766, 'Kplus:', 6, 'alpha:', 1.0549561752230527)"
       ]
      },
      {
       "output_type": "stream",
       "stream": "stdout",
       "text": [
        "\n",
        "('iteration:', 767, 'Kplus:', 6, 'alpha:', 1.4940550908988184)"
       ]
      },
      {
       "output_type": "stream",
       "stream": "stdout",
       "text": [
        "\n",
        "('iteration:', 768, 'Kplus:', 7, 'alpha:', 1.143766334116725)"
       ]
      },
      {
       "output_type": "stream",
       "stream": "stdout",
       "text": [
        "\n",
        "('iteration:', 769, 'Kplus:', 6, 'alpha:', 1.9347329901830848)"
       ]
      },
      {
       "output_type": "stream",
       "stream": "stdout",
       "text": [
        "\n",
        "('iteration:', 770, 'Kplus:', 6, 'alpha:', 0.8918800599036993)"
       ]
      },
      {
       "output_type": "stream",
       "stream": "stdout",
       "text": [
        "\n",
        "('iteration:', 771, 'Kplus:', 6, 'alpha:', 1.4175134832768925)"
       ]
      },
      {
       "output_type": "stream",
       "stream": "stdout",
       "text": [
        "\n",
        "('iteration:', 772, 'Kplus:', 8, 'alpha:', 1.5339470089152876)"
       ]
      },
      {
       "output_type": "stream",
       "stream": "stdout",
       "text": [
        "\n",
        "('iteration:', 773, 'Kplus:', 6, 'alpha:', 0.8899726419429124)"
       ]
      },
      {
       "output_type": "stream",
       "stream": "stdout",
       "text": [
        "\n",
        "('iteration:', 774, 'Kplus:', 7, 'alpha:', 0.5667967084265078)"
       ]
      },
      {
       "output_type": "stream",
       "stream": "stdout",
       "text": [
        "\n",
        "('iteration:', 775, 'Kplus:', 6, 'alpha:', 1.6533656606397273)"
       ]
      },
      {
       "output_type": "stream",
       "stream": "stdout",
       "text": [
        "\n",
        "('iteration:', 776, 'Kplus:', 6, 'alpha:', 0.6205330108248831)"
       ]
      },
      {
       "output_type": "stream",
       "stream": "stdout",
       "text": [
        "\n",
        "('iteration:', 777, 'Kplus:', 6, 'alpha:', 1.1742980510510739)"
       ]
      },
      {
       "output_type": "stream",
       "stream": "stdout",
       "text": [
        "\n",
        "('iteration:', 778, 'Kplus:', 6, 'alpha:', 1.4097551062967646)"
       ]
      },
      {
       "output_type": "stream",
       "stream": "stdout",
       "text": [
        "\n",
        "('iteration:', 779, 'Kplus:', 6, 'alpha:', 1.2928142901816224)"
       ]
      },
      {
       "output_type": "stream",
       "stream": "stdout",
       "text": [
        "\n",
        "('iteration:', 780, 'Kplus:', 6, 'alpha:', 1.4933160372750056)"
       ]
      },
      {
       "output_type": "stream",
       "stream": "stdout",
       "text": [
        "\n",
        "('iteration:', 781, 'Kplus:', 6, 'alpha:', 1.44578797032199)"
       ]
      },
      {
       "output_type": "stream",
       "stream": "stdout",
       "text": [
        "\n",
        "('iteration:', 782, 'Kplus:', 7, 'alpha:', 0.8405659600481212)"
       ]
      },
      {
       "output_type": "stream",
       "stream": "stdout",
       "text": [
        "\n",
        "('iteration:', 783, 'Kplus:', 6, 'alpha:', 0.5241931508472153)"
       ]
      },
      {
       "output_type": "stream",
       "stream": "stdout",
       "text": [
        "\n",
        "('iteration:', 784, 'Kplus:', 7, 'alpha:', 1.7654482587110727)"
       ]
      },
      {
       "output_type": "stream",
       "stream": "stdout",
       "text": [
        "\n",
        "('iteration:', 785, 'Kplus:', 7, 'alpha:', 1.0239906551500202)"
       ]
      },
      {
       "output_type": "stream",
       "stream": "stdout",
       "text": [
        "\n",
        "('iteration:', 786, 'Kplus:', 7, 'alpha:', 1.1999825365223282)"
       ]
      },
      {
       "output_type": "stream",
       "stream": "stdout",
       "text": [
        "\n",
        "('iteration:', 787, 'Kplus:', 6, 'alpha:', 1.3716826577763985)"
       ]
      },
      {
       "output_type": "stream",
       "stream": "stdout",
       "text": [
        "\n",
        "('iteration:', 788, 'Kplus:', 6, 'alpha:', 0.49612741082740314)"
       ]
      },
      {
       "output_type": "stream",
       "stream": "stdout",
       "text": [
        "\n",
        "('iteration:', 789, 'Kplus:', 6, 'alpha:', 0.8906033684345366)"
       ]
      },
      {
       "output_type": "stream",
       "stream": "stdout",
       "text": [
        "\n",
        "('iteration:', 790, 'Kplus:', 6, 'alpha:', 1.3423445956534064)"
       ]
      },
      {
       "output_type": "stream",
       "stream": "stdout",
       "text": [
        "\n",
        "('iteration:', 791, 'Kplus:', 6, 'alpha:', 2.076560680087733)"
       ]
      },
      {
       "output_type": "stream",
       "stream": "stdout",
       "text": [
        "\n",
        "('iteration:', 792, 'Kplus:', 6, 'alpha:', 1.6573740856257917)"
       ]
      },
      {
       "output_type": "stream",
       "stream": "stdout",
       "text": [
        "\n",
        "('iteration:', 793, 'Kplus:', 6, 'alpha:', 1.167372429298825)"
       ]
      },
      {
       "output_type": "stream",
       "stream": "stdout",
       "text": [
        "\n",
        "('iteration:', 794, 'Kplus:', 7, 'alpha:', 1.294826695927597)"
       ]
      },
      {
       "output_type": "stream",
       "stream": "stdout",
       "text": [
        "\n",
        "('iteration:', 795, 'Kplus:', 6, 'alpha:', 1.9359271961151858)"
       ]
      },
      {
       "output_type": "stream",
       "stream": "stdout",
       "text": [
        "\n",
        "('iteration:', 796, 'Kplus:', 7, 'alpha:', 0.9894410542541686)"
       ]
      },
      {
       "output_type": "stream",
       "stream": "stdout",
       "text": [
        "\n",
        "('iteration:', 797, 'Kplus:', 6, 'alpha:', 1.363965747652512)"
       ]
      },
      {
       "output_type": "stream",
       "stream": "stdout",
       "text": [
        "\n",
        "('iteration:', 798, 'Kplus:', 6, 'alpha:', 1.1689309804543915)"
       ]
      },
      {
       "output_type": "stream",
       "stream": "stdout",
       "text": [
        "\n",
        "('iteration:', 799, 'Kplus:', 6, 'alpha:', 0.9337568723825636)"
       ]
      },
      {
       "output_type": "stream",
       "stream": "stdout",
       "text": [
        "\n",
        "('iteration:', 800, 'Kplus:', 8, 'alpha:', 2.4587044742278743)"
       ]
      },
      {
       "output_type": "stream",
       "stream": "stdout",
       "text": [
        "\n",
        "('iteration:', 801, 'Kplus:', 6, 'alpha:', 2.4083845607611316)"
       ]
      },
      {
       "output_type": "stream",
       "stream": "stdout",
       "text": [
        "\n",
        "('iteration:', 802, 'Kplus:', 9, 'alpha:', 1.997627613468755)"
       ]
      },
      {
       "output_type": "stream",
       "stream": "stdout",
       "text": [
        "\n",
        "('iteration:', 803, 'Kplus:', 7, 'alpha:', 1.0506695398120884)"
       ]
      },
      {
       "output_type": "stream",
       "stream": "stdout",
       "text": [
        "\n",
        "('iteration:', 804, 'Kplus:', 7, 'alpha:', 0.9370885733197531)"
       ]
      },
      {
       "output_type": "stream",
       "stream": "stdout",
       "text": [
        "\n",
        "('iteration:', 805, 'Kplus:', 6, 'alpha:', 1.4030870484250257)"
       ]
      },
      {
       "output_type": "stream",
       "stream": "stdout",
       "text": [
        "\n",
        "('iteration:', 806, 'Kplus:', 6, 'alpha:', 2.1611054604073368)"
       ]
      },
      {
       "output_type": "stream",
       "stream": "stdout",
       "text": [
        "\n",
        "('iteration:', 807, 'Kplus:', 7, 'alpha:', 1.6154867423048802)"
       ]
      },
      {
       "output_type": "stream",
       "stream": "stdout",
       "text": [
        "\n",
        "('iteration:', 808, 'Kplus:', 7, 'alpha:', 0.9647698171440093)"
       ]
      },
      {
       "output_type": "stream",
       "stream": "stdout",
       "text": [
        "\n",
        "('iteration:', 809, 'Kplus:', 7, 'alpha:', 1.3204009944023662)"
       ]
      },
      {
       "output_type": "stream",
       "stream": "stdout",
       "text": [
        "\n",
        "('iteration:', 810, 'Kplus:', 7, 'alpha:', 1.0403741371576598)"
       ]
      },
      {
       "output_type": "stream",
       "stream": "stdout",
       "text": [
        "\n",
        "('iteration:', 811, 'Kplus:', 8, 'alpha:', 1.1479131461590801)"
       ]
      },
      {
       "output_type": "stream",
       "stream": "stdout",
       "text": [
        "\n",
        "('iteration:', 812, 'Kplus:', 7, 'alpha:', 0.9856801797042587)"
       ]
      },
      {
       "output_type": "stream",
       "stream": "stdout",
       "text": [
        "\n",
        "('iteration:', 813, 'Kplus:', 7, 'alpha:', 1.6420584649085483)"
       ]
      },
      {
       "output_type": "stream",
       "stream": "stdout",
       "text": [
        "\n",
        "('iteration:', 814, 'Kplus:', 8, 'alpha:', 1.5254754649186288)"
       ]
      },
      {
       "output_type": "stream",
       "stream": "stdout",
       "text": [
        "\n",
        "('iteration:', 815, 'Kplus:', 7, 'alpha:', 1.2803017221901747)"
       ]
      },
      {
       "output_type": "stream",
       "stream": "stdout",
       "text": [
        "\n",
        "('iteration:', 816, 'Kplus:', 6, 'alpha:', 1.442883708699963)"
       ]
      },
      {
       "output_type": "stream",
       "stream": "stdout",
       "text": [
        "\n",
        "('iteration:', 817, 'Kplus:', 6, 'alpha:', 1.2968001108061362)"
       ]
      },
      {
       "output_type": "stream",
       "stream": "stdout",
       "text": [
        "\n",
        "('iteration:', 818, 'Kplus:', 6, 'alpha:', 0.7223887328020717)"
       ]
      },
      {
       "output_type": "stream",
       "stream": "stdout",
       "text": [
        "\n",
        "('iteration:', 819, 'Kplus:', 6, 'alpha:', 1.8300555599502488)"
       ]
      },
      {
       "output_type": "stream",
       "stream": "stdout",
       "text": [
        "\n",
        "('iteration:', 820, 'Kplus:', 6, 'alpha:', 1.6551900794013015)"
       ]
      },
      {
       "output_type": "stream",
       "stream": "stdout",
       "text": [
        "\n",
        "('iteration:', 821, 'Kplus:', 7, 'alpha:', 1.7629414203944023)"
       ]
      },
      {
       "output_type": "stream",
       "stream": "stdout",
       "text": [
        "\n",
        "('iteration:', 822, 'Kplus:', 6, 'alpha:', 0.6207391009683801)"
       ]
      },
      {
       "output_type": "stream",
       "stream": "stdout",
       "text": [
        "\n",
        "('iteration:', 823, 'Kplus:', 6, 'alpha:', 1.2364712939120057)"
       ]
      },
      {
       "output_type": "stream",
       "stream": "stdout",
       "text": [
        "\n",
        "('iteration:', 824, 'Kplus:', 6, 'alpha:', 1.1318865314780835)"
       ]
      },
      {
       "output_type": "stream",
       "stream": "stdout",
       "text": [
        "\n",
        "('iteration:', 825, 'Kplus:', 8, 'alpha:', 1.0101035804908387)"
       ]
      },
      {
       "output_type": "stream",
       "stream": "stdout",
       "text": [
        "\n",
        "('iteration:', 826, 'Kplus:', 6, 'alpha:', 0.892846776860319)"
       ]
      },
      {
       "output_type": "stream",
       "stream": "stdout",
       "text": [
        "\n",
        "('iteration:', 827, 'Kplus:', 7, 'alpha:', 2.3052094393442073)"
       ]
      },
      {
       "output_type": "stream",
       "stream": "stdout",
       "text": [
        "\n",
        "('iteration:', 828, 'Kplus:', 6, 'alpha:', 1.2919205245428198)"
       ]
      },
      {
       "output_type": "stream",
       "stream": "stdout",
       "text": [
        "\n",
        "('iteration:', 829, 'Kplus:', 6, 'alpha:', 1.659181076137328)"
       ]
      },
      {
       "output_type": "stream",
       "stream": "stdout",
       "text": [
        "\n",
        "('iteration:', 830, 'Kplus:', 6, 'alpha:', 1.2773409363620767)"
       ]
      },
      {
       "output_type": "stream",
       "stream": "stdout",
       "text": [
        "\n",
        "('iteration:', 831, 'Kplus:', 6, 'alpha:', 0.9060004081112024)"
       ]
      },
      {
       "output_type": "stream",
       "stream": "stdout",
       "text": [
        "\n",
        "('iteration:', 832, 'Kplus:', 6, 'alpha:', 1.1314666281675305)"
       ]
      },
      {
       "output_type": "stream",
       "stream": "stdout",
       "text": [
        "\n",
        "('iteration:', 833, 'Kplus:', 6, 'alpha:', 1.4392931251279182)"
       ]
      },
      {
       "output_type": "stream",
       "stream": "stdout",
       "text": [
        "\n",
        "('iteration:', 834, 'Kplus:', 6, 'alpha:', 1.4816064703170975)"
       ]
      },
      {
       "output_type": "stream",
       "stream": "stdout",
       "text": [
        "\n",
        "('iteration:', 835, 'Kplus:', 6, 'alpha:', 1.1658718333862321)"
       ]
      },
      {
       "output_type": "stream",
       "stream": "stdout",
       "text": [
        "\n",
        "('iteration:', 836, 'Kplus:', 6, 'alpha:', 1.5988405435756794)"
       ]
      },
      {
       "output_type": "stream",
       "stream": "stdout",
       "text": [
        "\n",
        "('iteration:', 837, 'Kplus:', 6, 'alpha:', 0.8107245409962529)"
       ]
      },
      {
       "output_type": "stream",
       "stream": "stdout",
       "text": [
        "\n",
        "('iteration:', 838, 'Kplus:', 6, 'alpha:', 0.7147527675391449)"
       ]
      },
      {
       "output_type": "stream",
       "stream": "stdout",
       "text": [
        "\n",
        "('iteration:', 839, 'Kplus:', 6, 'alpha:', 1.53368804169615)"
       ]
      },
      {
       "output_type": "stream",
       "stream": "stdout",
       "text": [
        "\n",
        "('iteration:', 840, 'Kplus:', 6, 'alpha:', 1.342008302613731)"
       ]
      },
      {
       "output_type": "stream",
       "stream": "stdout",
       "text": [
        "\n",
        "('iteration:', 841, 'Kplus:', 6, 'alpha:', 1.2028088518302575)"
       ]
      },
      {
       "output_type": "stream",
       "stream": "stdout",
       "text": [
        "\n",
        "('iteration:', 842, 'Kplus:', 7, 'alpha:', 0.640183918501284)"
       ]
      },
      {
       "output_type": "stream",
       "stream": "stdout",
       "text": [
        "\n",
        "('iteration:', 843, 'Kplus:', 6, 'alpha:', 0.8152700492107003)"
       ]
      },
      {
       "output_type": "stream",
       "stream": "stdout",
       "text": [
        "\n",
        "('iteration:', 844, 'Kplus:', 6, 'alpha:', 0.6958943817107043)"
       ]
      },
      {
       "output_type": "stream",
       "stream": "stdout",
       "text": [
        "\n",
        "('iteration:', 845, 'Kplus:', 6, 'alpha:', 1.020655870508083)"
       ]
      },
      {
       "output_type": "stream",
       "stream": "stdout",
       "text": [
        "\n",
        "('iteration:', 846, 'Kplus:', 6, 'alpha:', 1.100050616310117)"
       ]
      },
      {
       "output_type": "stream",
       "stream": "stdout",
       "text": [
        "\n",
        "('iteration:', 847, 'Kplus:', 6, 'alpha:', 1.6101769976225786)"
       ]
      },
      {
       "output_type": "stream",
       "stream": "stdout",
       "text": [
        "\n",
        "('iteration:', 848, 'Kplus:', 6, 'alpha:', 0.8016083139193623)"
       ]
      },
      {
       "output_type": "stream",
       "stream": "stdout",
       "text": [
        "\n",
        "('iteration:', 849, 'Kplus:', 7, 'alpha:', 0.9093833488809347)"
       ]
      },
      {
       "output_type": "stream",
       "stream": "stdout",
       "text": [
        "\n",
        "('iteration:', 850, 'Kplus:', 6, 'alpha:', 1.5361122862524565)"
       ]
      },
      {
       "output_type": "stream",
       "stream": "stdout",
       "text": [
        "\n",
        "('iteration:', 851, 'Kplus:', 6, 'alpha:', 1.132763312322142)"
       ]
      },
      {
       "output_type": "stream",
       "stream": "stdout",
       "text": [
        "\n",
        "('iteration:', 852, 'Kplus:', 6, 'alpha:', 1.5726268445594764)"
       ]
      },
      {
       "output_type": "stream",
       "stream": "stdout",
       "text": [
        "\n",
        "('iteration:', 853, 'Kplus:', 6, 'alpha:', 1.5049948168745886)"
       ]
      },
      {
       "output_type": "stream",
       "stream": "stdout",
       "text": [
        "\n",
        "('iteration:', 854, 'Kplus:', 7, 'alpha:', 1.486839186861873)"
       ]
      },
      {
       "output_type": "stream",
       "stream": "stdout",
       "text": [
        "\n",
        "('iteration:', 855, 'Kplus:', 6, 'alpha:', 0.6608196548368521)"
       ]
      },
      {
       "output_type": "stream",
       "stream": "stdout",
       "text": [
        "\n",
        "('iteration:', 856, 'Kplus:', 6, 'alpha:', 0.9248906771807062)"
       ]
      },
      {
       "output_type": "stream",
       "stream": "stdout",
       "text": [
        "\n",
        "('iteration:', 857, 'Kplus:', 6, 'alpha:', 1.2313830090526672)"
       ]
      },
      {
       "output_type": "stream",
       "stream": "stdout",
       "text": [
        "\n",
        "('iteration:', 858, 'Kplus:', 7, 'alpha:', 1.489846225732675)"
       ]
      },
      {
       "output_type": "stream",
       "stream": "stdout",
       "text": [
        "\n",
        "('iteration:', 859, 'Kplus:', 7, 'alpha:', 1.2208507765936667)"
       ]
      },
      {
       "output_type": "stream",
       "stream": "stdout",
       "text": [
        "\n",
        "('iteration:', 860, 'Kplus:', 6, 'alpha:', 0.8815866120237091)"
       ]
      },
      {
       "output_type": "stream",
       "stream": "stdout",
       "text": [
        "\n",
        "('iteration:', 861, 'Kplus:', 6, 'alpha:', 1.1313010277760767)"
       ]
      },
      {
       "output_type": "stream",
       "stream": "stdout",
       "text": [
        "\n",
        "('iteration:', 862, 'Kplus:', 6, 'alpha:', 0.9486949419500459)"
       ]
      },
      {
       "output_type": "stream",
       "stream": "stdout",
       "text": [
        "\n",
        "('iteration:', 863, 'Kplus:', 6, 'alpha:', 0.9382105084282395)"
       ]
      },
      {
       "output_type": "stream",
       "stream": "stdout",
       "text": [
        "\n",
        "('iteration:', 864, 'Kplus:', 6, 'alpha:', 1.8403231500412631)"
       ]
      },
      {
       "output_type": "stream",
       "stream": "stdout",
       "text": [
        "\n",
        "('iteration:', 865, 'Kplus:', 6, 'alpha:', 0.3024863815535796)"
       ]
      },
      {
       "output_type": "stream",
       "stream": "stdout",
       "text": [
        "\n",
        "('iteration:', 866, 'Kplus:', 6, 'alpha:', 1.0811280621907136)"
       ]
      },
      {
       "output_type": "stream",
       "stream": "stdout",
       "text": [
        "\n",
        "('iteration:', 867, 'Kplus:', 6, 'alpha:', 0.8227965150290094)"
       ]
      },
      {
       "output_type": "stream",
       "stream": "stdout",
       "text": [
        "\n",
        "('iteration:', 868, 'Kplus:', 7, 'alpha:', 0.8462660071984731)"
       ]
      },
      {
       "output_type": "stream",
       "stream": "stdout",
       "text": [
        "\n",
        "('iteration:', 869, 'Kplus:', 6, 'alpha:', 1.237256694926617)"
       ]
      },
      {
       "output_type": "stream",
       "stream": "stdout",
       "text": [
        "\n",
        "('iteration:', 870, 'Kplus:', 8, 'alpha:', 1.66580799639179)"
       ]
      },
      {
       "output_type": "stream",
       "stream": "stdout",
       "text": [
        "\n",
        "('iteration:', 871, 'Kplus:', 7, 'alpha:', 1.6968700724872638)"
       ]
      },
      {
       "output_type": "stream",
       "stream": "stdout",
       "text": [
        "\n",
        "('iteration:', 872, 'Kplus:', 7, 'alpha:', 1.7434571142371322)"
       ]
      },
      {
       "output_type": "stream",
       "stream": "stdout",
       "text": [
        "\n",
        "('iteration:', 873, 'Kplus:', 6, 'alpha:', 0.9381589257998463)"
       ]
      },
      {
       "output_type": "stream",
       "stream": "stdout",
       "text": [
        "\n",
        "('iteration:', 874, 'Kplus:', 6, 'alpha:', 0.9047842713408374)"
       ]
      },
      {
       "output_type": "stream",
       "stream": "stdout",
       "text": [
        "\n",
        "('iteration:', 875, 'Kplus:', 7, 'alpha:', 1.9096565614224084)"
       ]
      },
      {
       "output_type": "stream",
       "stream": "stdout",
       "text": [
        "\n",
        "('iteration:', 876, 'Kplus:', 6, 'alpha:', 1.2710155331398563)"
       ]
      },
      {
       "output_type": "stream",
       "stream": "stdout",
       "text": [
        "\n",
        "('iteration:', 877, 'Kplus:', 6, 'alpha:', 2.4054870471852414)"
       ]
      },
      {
       "output_type": "stream",
       "stream": "stdout",
       "text": [
        "\n",
        "('iteration:', 878, 'Kplus:', 6, 'alpha:', 1.1660840259668699)"
       ]
      },
      {
       "output_type": "stream",
       "stream": "stdout",
       "text": [
        "\n",
        "('iteration:', 879, 'Kplus:', 6, 'alpha:', 1.050314566196387)"
       ]
      },
      {
       "output_type": "stream",
       "stream": "stdout",
       "text": [
        "\n",
        "('iteration:', 880, 'Kplus:', 6, 'alpha:', 1.2766257530296656)"
       ]
      },
      {
       "output_type": "stream",
       "stream": "stdout",
       "text": [
        "\n",
        "('iteration:', 881, 'Kplus:', 6, 'alpha:', 1.0114559513645638)"
       ]
      },
      {
       "output_type": "stream",
       "stream": "stdout",
       "text": [
        "\n",
        "('iteration:', 882, 'Kplus:', 7, 'alpha:', 0.8532487724187238)"
       ]
      },
      {
       "output_type": "stream",
       "stream": "stdout",
       "text": [
        "\n",
        "('iteration:', 883, 'Kplus:', 7, 'alpha:', 1.4870014619611893)"
       ]
      },
      {
       "output_type": "stream",
       "stream": "stdout",
       "text": [
        "\n",
        "('iteration:', 884, 'Kplus:', 8, 'alpha:', 1.6583398266783207)"
       ]
      },
      {
       "output_type": "stream",
       "stream": "stdout",
       "text": [
        "\n",
        "('iteration:', 885, 'Kplus:', 7, 'alpha:', 1.2020167256419851)"
       ]
      },
      {
       "output_type": "stream",
       "stream": "stdout",
       "text": [
        "\n",
        "('iteration:', 886, 'Kplus:', 6, 'alpha:', 0.9790813461121703)"
       ]
      },
      {
       "output_type": "stream",
       "stream": "stdout",
       "text": [
        "\n",
        "('iteration:', 887, 'Kplus:', 6, 'alpha:', 0.6029413727548648)"
       ]
      },
      {
       "output_type": "stream",
       "stream": "stdout",
       "text": [
        "\n",
        "('iteration:', 888, 'Kplus:', 6, 'alpha:', 2.176838818234019)"
       ]
      },
      {
       "output_type": "stream",
       "stream": "stdout",
       "text": [
        "\n",
        "('iteration:', 889, 'Kplus:', 7, 'alpha:', 1.2677674393823393)"
       ]
      },
      {
       "output_type": "stream",
       "stream": "stdout",
       "text": [
        "\n",
        "('iteration:', 890, 'Kplus:', 6, 'alpha:', 0.5075381223039198)"
       ]
      },
      {
       "output_type": "stream",
       "stream": "stdout",
       "text": [
        "\n",
        "('iteration:', 891, 'Kplus:', 6, 'alpha:', 1.318173516437362)"
       ]
      },
      {
       "output_type": "stream",
       "stream": "stdout",
       "text": [
        "\n",
        "('iteration:', 892, 'Kplus:', 6, 'alpha:', 0.7242591694888675)"
       ]
      },
      {
       "output_type": "stream",
       "stream": "stdout",
       "text": [
        "\n",
        "('iteration:', 893, 'Kplus:', 6, 'alpha:', 1.3717884442087216)"
       ]
      },
      {
       "output_type": "stream",
       "stream": "stdout",
       "text": [
        "\n",
        "('iteration:', 894, 'Kplus:', 6, 'alpha:', 1.032731559193651)"
       ]
      },
      {
       "output_type": "stream",
       "stream": "stdout",
       "text": [
        "\n",
        "('iteration:', 895, 'Kplus:', 7, 'alpha:', 0.7958070682255547)"
       ]
      },
      {
       "output_type": "stream",
       "stream": "stdout",
       "text": [
        "\n",
        "('iteration:', 896, 'Kplus:', 6, 'alpha:', 0.38738879242225915)"
       ]
      },
      {
       "output_type": "stream",
       "stream": "stdout",
       "text": [
        "\n",
        "('iteration:', 897, 'Kplus:', 6, 'alpha:', 1.0587073303845598)"
       ]
      },
      {
       "output_type": "stream",
       "stream": "stdout",
       "text": [
        "\n",
        "('iteration:', 898, 'Kplus:', 6, 'alpha:', 1.453464976536801)"
       ]
      },
      {
       "output_type": "stream",
       "stream": "stdout",
       "text": [
        "\n",
        "('iteration:', 899, 'Kplus:', 7, 'alpha:', 0.7643456748197213)"
       ]
      },
      {
       "output_type": "stream",
       "stream": "stdout",
       "text": [
        "\n",
        "('iteration:', 900, 'Kplus:', 6, 'alpha:', 1.5359173345798034)"
       ]
      },
      {
       "output_type": "stream",
       "stream": "stdout",
       "text": [
        "\n",
        "('iteration:', 901, 'Kplus:', 6, 'alpha:', 0.6390920220369831)"
       ]
      },
      {
       "output_type": "stream",
       "stream": "stdout",
       "text": [
        "\n",
        "('iteration:', 902, 'Kplus:', 6, 'alpha:', 1.1250728044266844)"
       ]
      },
      {
       "output_type": "stream",
       "stream": "stdout",
       "text": [
        "\n",
        "('iteration:', 903, 'Kplus:', 6, 'alpha:', 1.5628635168122031)"
       ]
      },
      {
       "output_type": "stream",
       "stream": "stdout",
       "text": [
        "\n",
        "('iteration:', 904, 'Kplus:', 6, 'alpha:', 1.0351170087236594)"
       ]
      },
      {
       "output_type": "stream",
       "stream": "stdout",
       "text": [
        "\n",
        "('iteration:', 905, 'Kplus:', 7, 'alpha:', 1.2359845939140366)"
       ]
      },
      {
       "output_type": "stream",
       "stream": "stdout",
       "text": [
        "\n",
        "('iteration:', 906, 'Kplus:', 6, 'alpha:', 1.0744573628339023)"
       ]
      },
      {
       "output_type": "stream",
       "stream": "stdout",
       "text": [
        "\n",
        "('iteration:', 907, 'Kplus:', 7, 'alpha:', 0.8929589959263274)"
       ]
      },
      {
       "output_type": "stream",
       "stream": "stdout",
       "text": [
        "\n",
        "('iteration:', 908, 'Kplus:', 7, 'alpha:', 0.4940307983912867)"
       ]
      },
      {
       "output_type": "stream",
       "stream": "stdout",
       "text": [
        "\n",
        "('iteration:', 909, 'Kplus:', 6, 'alpha:', 0.7879739899564717)"
       ]
      },
      {
       "output_type": "stream",
       "stream": "stdout",
       "text": [
        "\n",
        "('iteration:', 910, 'Kplus:', 7, 'alpha:', 1.1201364897296953)"
       ]
      },
      {
       "output_type": "stream",
       "stream": "stdout",
       "text": [
        "\n",
        "('iteration:', 911, 'Kplus:', 6, 'alpha:', 2.045757202554683)"
       ]
      },
      {
       "output_type": "stream",
       "stream": "stdout",
       "text": [
        "\n",
        "('iteration:', 912, 'Kplus:', 8, 'alpha:', 1.8418749659688125)"
       ]
      },
      {
       "output_type": "stream",
       "stream": "stdout",
       "text": [
        "\n",
        "('iteration:', 913, 'Kplus:', 7, 'alpha:', 1.3422015370014633)"
       ]
      },
      {
       "output_type": "stream",
       "stream": "stdout",
       "text": [
        "\n",
        "('iteration:', 914, 'Kplus:', 6, 'alpha:', 0.8810544900388803)"
       ]
      },
      {
       "output_type": "stream",
       "stream": "stdout",
       "text": [
        "\n",
        "('iteration:', 915, 'Kplus:', 6, 'alpha:', 0.9827877312576786)"
       ]
      },
      {
       "output_type": "stream",
       "stream": "stdout",
       "text": [
        "\n",
        "('iteration:', 916, 'Kplus:', 7, 'alpha:', 0.8228780897744223)"
       ]
      },
      {
       "output_type": "stream",
       "stream": "stdout",
       "text": [
        "\n",
        "('iteration:', 917, 'Kplus:', 6, 'alpha:', 1.0051209824072407)"
       ]
      },
      {
       "output_type": "stream",
       "stream": "stdout",
       "text": [
        "\n",
        "('iteration:', 918, 'Kplus:', 6, 'alpha:', 0.9837040047959085)"
       ]
      },
      {
       "output_type": "stream",
       "stream": "stdout",
       "text": [
        "\n",
        "('iteration:', 919, 'Kplus:', 6, 'alpha:', 1.6659980835136223)"
       ]
      },
      {
       "output_type": "stream",
       "stream": "stdout",
       "text": [
        "\n",
        "('iteration:', 920, 'Kplus:', 6, 'alpha:', 0.5236989261531615)"
       ]
      },
      {
       "output_type": "stream",
       "stream": "stdout",
       "text": [
        "\n",
        "('iteration:', 921, 'Kplus:', 6, 'alpha:', 0.2668350423551152)"
       ]
      },
      {
       "output_type": "stream",
       "stream": "stdout",
       "text": [
        "\n",
        "('iteration:', 922, 'Kplus:', 6, 'alpha:', 1.1237412036888401)"
       ]
      },
      {
       "output_type": "stream",
       "stream": "stdout",
       "text": [
        "\n",
        "('iteration:', 923, 'Kplus:', 6, 'alpha:', 0.9344779475312525)"
       ]
      },
      {
       "output_type": "stream",
       "stream": "stdout",
       "text": [
        "\n",
        "('iteration:', 924, 'Kplus:', 6, 'alpha:', 2.740613164999422)"
       ]
      },
      {
       "output_type": "stream",
       "stream": "stdout",
       "text": [
        "\n",
        "('iteration:', 925, 'Kplus:', 9, 'alpha:', 1.997806095995355)"
       ]
      },
      {
       "output_type": "stream",
       "stream": "stdout",
       "text": [
        "\n",
        "('iteration:', 926, 'Kplus:', 6, 'alpha:', 1.997583110292606)"
       ]
      },
      {
       "output_type": "stream",
       "stream": "stdout",
       "text": [
        "\n",
        "('iteration:', 927, 'Kplus:', 7, 'alpha:', 1.060423448849984)"
       ]
      },
      {
       "output_type": "stream",
       "stream": "stdout",
       "text": [
        "\n",
        "('iteration:', 928, 'Kplus:', 6, 'alpha:', 0.9847735559765243)"
       ]
      },
      {
       "output_type": "stream",
       "stream": "stdout",
       "text": [
        "\n",
        "('iteration:', 929, 'Kplus:', 6, 'alpha:', 0.45494604956166157)"
       ]
      },
      {
       "output_type": "stream",
       "stream": "stdout",
       "text": [
        "\n",
        "('iteration:', 930, 'Kplus:', 6, 'alpha:', 0.7282806603885682)"
       ]
      },
      {
       "output_type": "stream",
       "stream": "stdout",
       "text": [
        "\n",
        "('iteration:', 931, 'Kplus:', 6, 'alpha:', 1.3630125020462605)"
       ]
      },
      {
       "output_type": "stream",
       "stream": "stdout",
       "text": [
        "\n",
        "('iteration:', 932, 'Kplus:', 6, 'alpha:', 1.6958764829326582)"
       ]
      },
      {
       "output_type": "stream",
       "stream": "stdout",
       "text": [
        "\n",
        "('iteration:', 933, 'Kplus:', 8, 'alpha:', 2.2903917418434903)"
       ]
      },
      {
       "output_type": "stream",
       "stream": "stdout",
       "text": [
        "\n",
        "('iteration:', 934, 'Kplus:', 6, 'alpha:', 1.0779254946460413)"
       ]
      },
      {
       "output_type": "stream",
       "stream": "stdout",
       "text": [
        "\n",
        "('iteration:', 935, 'Kplus:', 6, 'alpha:', 0.788064546199216)"
       ]
      },
      {
       "output_type": "stream",
       "stream": "stdout",
       "text": [
        "\n",
        "('iteration:', 936, 'Kplus:', 6, 'alpha:', 0.34571896698773374)"
       ]
      },
      {
       "output_type": "stream",
       "stream": "stdout",
       "text": [
        "\n",
        "('iteration:', 937, 'Kplus:', 6, 'alpha:', 0.8182633556402189)"
       ]
      },
      {
       "output_type": "stream",
       "stream": "stdout",
       "text": [
        "\n",
        "('iteration:', 938, 'Kplus:', 7, 'alpha:', 0.7908461450150363)"
       ]
      },
      {
       "output_type": "stream",
       "stream": "stdout",
       "text": [
        "\n",
        "('iteration:', 939, 'Kplus:', 7, 'alpha:', 1.5524157858469856)"
       ]
      },
      {
       "output_type": "stream",
       "stream": "stdout",
       "text": [
        "\n",
        "('iteration:', 940, 'Kplus:', 7, 'alpha:', 1.1512938666374997)"
       ]
      },
      {
       "output_type": "stream",
       "stream": "stdout",
       "text": [
        "\n",
        "('iteration:', 941, 'Kplus:', 6, 'alpha:', 1.1568659360378375)"
       ]
      },
      {
       "output_type": "stream",
       "stream": "stdout",
       "text": [
        "\n",
        "('iteration:', 942, 'Kplus:', 6, 'alpha:', 1.7396955429744787)"
       ]
      },
      {
       "output_type": "stream",
       "stream": "stdout",
       "text": [
        "\n",
        "('iteration:', 943, 'Kplus:', 6, 'alpha:', 1.8729131387484288)"
       ]
      },
      {
       "output_type": "stream",
       "stream": "stdout",
       "text": [
        "\n",
        "('iteration:', 944, 'Kplus:', 6, 'alpha:', 1.4961251729410316)"
       ]
      },
      {
       "output_type": "stream",
       "stream": "stdout",
       "text": [
        "\n",
        "('iteration:', 945, 'Kplus:', 8, 'alpha:', 1.2649890164709343)"
       ]
      },
      {
       "output_type": "stream",
       "stream": "stdout",
       "text": [
        "\n",
        "('iteration:', 946, 'Kplus:', 6, 'alpha:', 0.961104903964279)"
       ]
      },
      {
       "output_type": "stream",
       "stream": "stdout",
       "text": [
        "\n",
        "('iteration:', 947, 'Kplus:', 7, 'alpha:', 1.5618757832406598)"
       ]
      },
      {
       "output_type": "stream",
       "stream": "stdout",
       "text": [
        "\n",
        "('iteration:', 948, 'Kplus:', 6, 'alpha:', 0.5848964368906311)"
       ]
      },
      {
       "output_type": "stream",
       "stream": "stdout",
       "text": [
        "\n",
        "('iteration:', 949, 'Kplus:', 6, 'alpha:', 1.115339413341932)"
       ]
      },
      {
       "output_type": "stream",
       "stream": "stdout",
       "text": [
        "\n",
        "('iteration:', 950, 'Kplus:', 6, 'alpha:', 0.9366356937324597)"
       ]
      },
      {
       "output_type": "stream",
       "stream": "stdout",
       "text": [
        "\n",
        "('iteration:', 951, 'Kplus:', 6, 'alpha:', 1.095487964805301)"
       ]
      },
      {
       "output_type": "stream",
       "stream": "stdout",
       "text": [
        "\n",
        "('iteration:', 952, 'Kplus:', 6, 'alpha:', 1.348118760873436)"
       ]
      },
      {
       "output_type": "stream",
       "stream": "stdout",
       "text": [
        "\n",
        "('iteration:', 953, 'Kplus:', 6, 'alpha:', 0.8048713911417229)"
       ]
      },
      {
       "output_type": "stream",
       "stream": "stdout",
       "text": [
        "\n",
        "('iteration:', 954, 'Kplus:', 6, 'alpha:', 2.6615288182159595)"
       ]
      },
      {
       "output_type": "stream",
       "stream": "stdout",
       "text": [
        "\n",
        "('iteration:', 955, 'Kplus:', 6, 'alpha:', 0.8646083653583742)"
       ]
      },
      {
       "output_type": "stream",
       "stream": "stdout",
       "text": [
        "\n",
        "('iteration:', 956, 'Kplus:', 6, 'alpha:', 1.003680930996444)"
       ]
      },
      {
       "output_type": "stream",
       "stream": "stdout",
       "text": [
        "\n",
        "('iteration:', 957, 'Kplus:', 6, 'alpha:', 1.0415170383609076)"
       ]
      },
      {
       "output_type": "stream",
       "stream": "stdout",
       "text": [
        "\n",
        "('iteration:', 958, 'Kplus:', 6, 'alpha:', 1.0630313736980708)"
       ]
      },
      {
       "output_type": "stream",
       "stream": "stdout",
       "text": [
        "\n",
        "('iteration:', 959, 'Kplus:', 6, 'alpha:', 0.6124949175244238)"
       ]
      },
      {
       "output_type": "stream",
       "stream": "stdout",
       "text": [
        "\n",
        "('iteration:', 960, 'Kplus:', 6, 'alpha:', 1.2033922108092734)"
       ]
      },
      {
       "output_type": "stream",
       "stream": "stdout",
       "text": [
        "\n",
        "('iteration:', 961, 'Kplus:', 6, 'alpha:', 0.7678715258735603)"
       ]
      },
      {
       "output_type": "stream",
       "stream": "stdout",
       "text": [
        "\n",
        "('iteration:', 962, 'Kplus:', 6, 'alpha:', 1.193922014975628)"
       ]
      },
      {
       "output_type": "stream",
       "stream": "stdout",
       "text": [
        "\n",
        "('iteration:', 963, 'Kplus:', 7, 'alpha:', 0.8805653904721803)"
       ]
      },
      {
       "output_type": "stream",
       "stream": "stdout",
       "text": [
        "\n",
        "('iteration:', 964, 'Kplus:', 6, 'alpha:', 1.243918395205152)"
       ]
      },
      {
       "output_type": "stream",
       "stream": "stdout",
       "text": [
        "\n",
        "('iteration:', 965, 'Kplus:', 7, 'alpha:', 1.1651429657437338)"
       ]
      },
      {
       "output_type": "stream",
       "stream": "stdout",
       "text": [
        "\n",
        "('iteration:', 966, 'Kplus:', 7, 'alpha:', 1.777052181755812)"
       ]
      },
      {
       "output_type": "stream",
       "stream": "stdout",
       "text": [
        "\n",
        "('iteration:', 967, 'Kplus:', 9, 'alpha:', 1.992521792171213)"
       ]
      },
      {
       "output_type": "stream",
       "stream": "stdout",
       "text": [
        "\n",
        "('iteration:', 968, 'Kplus:', 7, 'alpha:', 1.5110586437606197)"
       ]
      },
      {
       "output_type": "stream",
       "stream": "stdout",
       "text": [
        "\n",
        "('iteration:', 969, 'Kplus:', 7, 'alpha:', 1.6293860708261436)"
       ]
      },
      {
       "output_type": "stream",
       "stream": "stdout",
       "text": [
        "\n",
        "('iteration:', 970, 'Kplus:', 7, 'alpha:', 1.7967174438427784)"
       ]
      },
      {
       "output_type": "stream",
       "stream": "stdout",
       "text": [
        "\n",
        "('iteration:', 971, 'Kplus:', 7, 'alpha:', 0.832960484462103)"
       ]
      },
      {
       "output_type": "stream",
       "stream": "stdout",
       "text": [
        "\n",
        "('iteration:', 972, 'Kplus:', 6, 'alpha:', 1.1341210359567526)"
       ]
      },
      {
       "output_type": "stream",
       "stream": "stdout",
       "text": [
        "\n",
        "('iteration:', 973, 'Kplus:', 7, 'alpha:', 1.534025568833187)"
       ]
      },
      {
       "output_type": "stream",
       "stream": "stdout",
       "text": [
        "\n",
        "('iteration:', 974, 'Kplus:', 7, 'alpha:', 1.5928372717775308)"
       ]
      },
      {
       "output_type": "stream",
       "stream": "stdout",
       "text": [
        "\n",
        "('iteration:', 975, 'Kplus:', 6, 'alpha:', 0.7632211918386386)"
       ]
      },
      {
       "output_type": "stream",
       "stream": "stdout",
       "text": [
        "\n",
        "('iteration:', 976, 'Kplus:', 7, 'alpha:', 1.6984913674831557)"
       ]
      },
      {
       "output_type": "stream",
       "stream": "stdout",
       "text": [
        "\n",
        "('iteration:', 977, 'Kplus:', 7, 'alpha:', 1.3472207223348225)"
       ]
      },
      {
       "output_type": "stream",
       "stream": "stdout",
       "text": [
        "\n",
        "('iteration:', 978, 'Kplus:', 7, 'alpha:', 1.2566830303460743)"
       ]
      },
      {
       "output_type": "stream",
       "stream": "stdout",
       "text": [
        "\n",
        "('iteration:', 979, 'Kplus:', 7, 'alpha:', 1.13878072474116)"
       ]
      },
      {
       "output_type": "stream",
       "stream": "stdout",
       "text": [
        "\n",
        "('iteration:', 980, 'Kplus:', 7, 'alpha:', 1.0257039258322156)"
       ]
      },
      {
       "output_type": "stream",
       "stream": "stdout",
       "text": [
        "\n",
        "('iteration:', 981, 'Kplus:', 8, 'alpha:', 1.744923127347859)"
       ]
      },
      {
       "output_type": "stream",
       "stream": "stdout",
       "text": [
        "\n",
        "('iteration:', 982, 'Kplus:', 7, 'alpha:', 0.734557209912089)"
       ]
      },
      {
       "output_type": "stream",
       "stream": "stdout",
       "text": [
        "\n",
        "('iteration:', 983, 'Kplus:', 7, 'alpha:', 1.2011095735950337)"
       ]
      },
      {
       "output_type": "stream",
       "stream": "stdout",
       "text": [
        "\n",
        "('iteration:', 984, 'Kplus:', 8, 'alpha:', 1.2207901535046748)"
       ]
      },
      {
       "output_type": "stream",
       "stream": "stdout",
       "text": [
        "\n",
        "('iteration:', 985, 'Kplus:', 7, 'alpha:', 1.415005361946796)"
       ]
      },
      {
       "output_type": "stream",
       "stream": "stdout",
       "text": [
        "\n",
        "('iteration:', 986, 'Kplus:', 8, 'alpha:', 0.8950961766287147)"
       ]
      },
      {
       "output_type": "stream",
       "stream": "stdout",
       "text": [
        "\n",
        "('iteration:', 987, 'Kplus:', 8, 'alpha:', 1.6861647362203733)"
       ]
      },
      {
       "output_type": "stream",
       "stream": "stdout",
       "text": [
        "\n",
        "('iteration:', 988, 'Kplus:', 7, 'alpha:', 2.360596410052163)"
       ]
      },
      {
       "output_type": "stream",
       "stream": "stdout",
       "text": [
        "\n",
        "('iteration:', 989, 'Kplus:', 7, 'alpha:', 1.011809264968205)"
       ]
      },
      {
       "output_type": "stream",
       "stream": "stdout",
       "text": [
        "\n",
        "('iteration:', 990, 'Kplus:', 7, 'alpha:', 1.703300957103143)"
       ]
      },
      {
       "output_type": "stream",
       "stream": "stdout",
       "text": [
        "\n",
        "('iteration:', 991, 'Kplus:', 8, 'alpha:', 1.6739258826409842)"
       ]
      },
      {
       "output_type": "stream",
       "stream": "stdout",
       "text": [
        "\n",
        "('iteration:', 992, 'Kplus:', 7, 'alpha:', 1.1439262591911585)"
       ]
      },
      {
       "output_type": "stream",
       "stream": "stdout",
       "text": [
        "\n",
        "('iteration:', 993, 'Kplus:', 6, 'alpha:', 0.7060017421591769)"
       ]
      },
      {
       "output_type": "stream",
       "stream": "stdout",
       "text": [
        "\n",
        "('iteration:', 994, 'Kplus:', 6, 'alpha:', 1.0739313551510723)"
       ]
      },
      {
       "output_type": "stream",
       "stream": "stdout",
       "text": [
        "\n",
        "('iteration:', 995, 'Kplus:', 7, 'alpha:', 0.8903339216404852)"
       ]
      },
      {
       "output_type": "stream",
       "stream": "stdout",
       "text": [
        "\n",
        "('iteration:', 996, 'Kplus:', 6, 'alpha:', 1.3880149800204018)"
       ]
      },
      {
       "output_type": "stream",
       "stream": "stdout",
       "text": [
        "\n",
        "('iteration:', 997, 'Kplus:', 8, 'alpha:', 1.1660333316253526)"
       ]
      },
      {
       "output_type": "stream",
       "stream": "stdout",
       "text": [
        "\n",
        "('iteration:', 998, 'Kplus:', 7, 'alpha:', 0.8956319210935315)"
       ]
      },
      {
       "output_type": "stream",
       "stream": "stdout",
       "text": [
        "\n",
        "('iteration:', 999, 'Kplus:', 6, 'alpha:', 1.009828344730897)"
       ]
      },
      {
       "output_type": "stream",
       "stream": "stdout",
       "text": [
        "\n"
       ]
      }
     ],
     "prompt_number": 493
    },
    {
     "cell_type": "heading",
     "level": 3,
     "metadata": {},
     "source": [
      "Unit testing"
     ]
    },
    {
     "cell_type": "code",
     "collapsed": false,
     "input": [
      "sigmaX"
     ],
     "language": "python",
     "metadata": {},
     "outputs": [
      {
       "metadata": {},
       "output_type": "pyout",
       "prompt_number": 491,
       "text": [
        "0.48984263159208197"
       ]
      }
     ],
     "prompt_number": 491
    },
    {
     "cell_type": "markdown",
     "metadata": {},
     "source": [
      "To check if the code is working properly some of the unit testings I've come up with so far are:\n",
      "* Probabilities calculated for the presence of feature have to be between 0 and 1.\n",
      "* "
     ]
    }
   ],
   "metadata": {}
  }
 ]
}