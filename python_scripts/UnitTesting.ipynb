{
 "cells": [
  {
   "cell_type": "markdown",
   "metadata": {},
   "source": [
    "###Unit testing"
   ]
  },
  {
   "cell_type": "markdown",
   "metadata": {},
   "source": [
    "####Testing Griffiths and Ghrahamani calcInverse for matrix inverse"
   ]
  },
  {
   "cell_type": "code",
   "execution_count": 1,
   "metadata": {
    "collapsed": false
   },
   "outputs": [],
   "source": [
    "import numpy.testing as npt\n",
    "import numpy as np\n",
    "from __future__ import division\n",
    "import math\n",
    "import scipy.stats as stats\n",
    "\n",
    "np.random.seed(1)\n",
    "\n",
    "def calcInverse(Zn,M,i,k,val):\n",
    "    M_i = M-np.dot(np.dot(np.dot(M,Zn[i,:].T),Zn[i,:]),M)/(np.dot(np.dot(Zn[i,:],M),Zn[i,:].T)-1)\n",
    "    Zn[i,k] = val\n",
    "    M = M_i-np.dot(np.dot(np.dot(M_i,Zn[i,:].T),Zn[i,:]),M_i)/(np.dot(np.dot(Zn[i,:],M_i),Zn[i,:].T)+1)\n",
    "    Inv = M\n",
    "    return Inv\n",
    "\n",
    "sigma_A=1.\n",
    "sigma_X=1.\n",
    "alpha=1.\n",
    "num_objects=100\n",
    "K_plus=4\n",
    "alpha=1\n",
    "\n",
    "Z=np.zeros((num_objects,100))\n",
    "\n",
    "dish=0\n",
    "while dish<num_objects:\n",
    "    t=stats.poisson.rvs(alpha)\n",
    "    if t>0:\n",
    "        Z[dish,0:t]=1\n",
    "        dish+=1\n",
    "\n",
    "M=np.linalg.inv(np.dot(Z[:,0:K_plus].T,Z[:,0:K_plus])+((sigma_X/sigma_A)**2)*np.identity(K_plus))\n",
    "\n",
    "inv=np.dot(Z[:,0:K_plus].T,Z[:,0:K_plus])+((sigma_X/sigma_A)**2)*np.identity(K_plus)\n",
    "\n",
    "npt.assert_almost_equal(np.dot(M,inv),np.identity(K_plus))"
   ]
  },
  {
   "cell_type": "code",
   "execution_count": 2,
   "metadata": {
    "collapsed": false
   },
   "outputs": [
    {
     "data": {
      "text/plain": [
       "True"
      ]
     },
     "execution_count": 2,
     "metadata": {},
     "output_type": "execute_result"
    }
   ],
   "source": [
    "Z = Z[:,0:K_plus]\n",
    "(i,k,val) = (7,1,1)\n",
    "M1=calcInverse(Z,M,i,k,val)\n",
    "\n",
    "Z[i,k]=val\n",
    "M_new=np.linalg.inv(np.dot(Z[:,0:K_plus].T,Z[:,0:K_plus])+((sigma_X/sigma_A)**2)*np.identity(K_plus))\n",
    "\n",
    "np.allclose(M1,M_new)"
   ]
  },
  {
   "cell_type": "code",
   "execution_count": 94,
   "metadata": {
    "collapsed": false
   },
   "outputs": [
    {
     "data": {
      "text/plain": [
       "False"
      ]
     },
     "execution_count": 94,
     "metadata": {},
     "output_type": "execute_result"
    }
   ],
   "source": [
    "Z = Z[:,0:K_plus]\n",
    "(i,k,val) = (7,1,0)\n",
    "M1=calcInverse(Z,M,i,k,val)\n",
    "\n",
    "Z[i,k]=val\n",
    "M_new=np.linalg.inv(np.dot(Z[:,0:K_plus].T,Z[:,0:K_plus])+((sigma_X/sigma_A)**2)*np.identity(K_plus))\n",
    "\n",
    "np.allclose(M1,M_new)"
   ]
  },
  {
   "cell_type": "code",
   "execution_count": null,
   "metadata": {
    "collapsed": true
   },
   "outputs": [],
   "source": []
  }
 ],
 "metadata": {
  "kernelspec": {
   "display_name": "Python 2",
   "language": "python",
   "name": "python2"
  },
  "language_info": {
   "codemirror_mode": {
    "name": "ipython",
    "version": 2
   },
   "file_extension": ".py",
   "mimetype": "text/x-python",
   "name": "python",
   "nbconvert_exporter": "python",
   "pygments_lexer": "ipython2",
   "version": "2.7.9"
  }
 },
 "nbformat": 4,
 "nbformat_minor": 0
}
