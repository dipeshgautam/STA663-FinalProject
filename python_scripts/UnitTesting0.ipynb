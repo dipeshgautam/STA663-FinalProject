{
 "cells": [
  {
   "cell_type": "markdown",
   "metadata": {},
   "source": [
    "###Unit testing"
   ]
  },
  {
   "cell_type": "markdown",
   "metadata": {},
   "source": [
    "####Testing Griffiths and Ghrahamani calcInverse for matrix inverse"
   ]
  },
  {
   "cell_type": "code",
   "execution_count": 68,
   "metadata": {
    "collapsed": false
   },
   "outputs": [
    {
     "name": "stdout",
     "output_type": "stream",
     "text": [
      "Overwriting test_code.py\n"
     ]
    }
   ],
   "source": [
    "%%file test_code.py\n",
    "from __future__ import division\n",
    "import numpy.testing as npt\n",
    "import numpy as np\n",
    "import math\n",
    "import scipy.stats as stats\n",
    "from functions import sampleIBP, calcInverse, ll\n",
    "\n",
    "X=np.load('../Data/SimulatedData.npy')\n",
    "chainSigmaX=np.load(\"../Data/chainSigmaX.npy\")\n",
    "\n",
    "sigmaA=1.\n",
    "sigmaX=1.\n",
    "alpha=1.\n",
    "N=100\n",
    "Kplus=4\n",
    "D=36\n",
    "\n",
    "np.random.seed(1)\n",
    "\n",
    "Z=np.zeros((N,100))\n",
    "\n",
    "\n",
    "for i in range(N):\n",
    "    t=stats.poisson.rvs(alpha)\n",
    "    if t>0:\n",
    "        Z[i,0:t]=1\n",
    "\n",
    "Z = Z[:,0:Kplus]\n",
    "M=np.linalg.inv(np.dot(Z.T,Z)+((sigmaX/sigmaA)**2)*np.identity(Kplus))\n",
    "def test1():\n",
    "    M1=np.linalg.inv(np.dot(Z.T,Z)+((sigmaX/sigmaA)**2)*np.identity(Kplus))\n",
    "    M2=np.dot(Z.T,Z)+((sigmaX/sigmaA)**2)*np.identity(Kplus)\n",
    "    npt.assert_almost_equal(np.dot(M1,M2),np.identity(Kplus))\n",
    "\n",
    "#test of calcinverse\n",
    "def test2():\n",
    "    (i,k,val) = (7,1,1)\n",
    "    M1=calcInverse(Z,M,i,k,val)\n",
    "    M2=np.linalg.inv(np.dot(Z.T,Z)+((sigmaX/sigmaA)**2)*np.identity(Kplus))\n",
    "    npt.assert_almost_equal(M1,M2, decimal =2)\n",
    "\n",
    "#testing that likelihoods are positive    \n",
    "def test3():\n",
    "    lik = np.exp(ll(X, Z, sigmaX, sigmaA, Kplus, D, N))\n",
    "    assert lik >= 0\n",
    "#Make sure that likelihood function gives zerodivision error when sigmaA is 0\n",
    "def test4():\n",
    "    npt.assert_raises(ZeroDivisionError,ll, X, Z, sigmaX, 0, Kplus, D, N)\n",
    "\n",
    "#test of convergence of code\n",
    "def test5():\n",
    "    assert (np.abs(np.mean(chainSigmaX[200:])-0.5))<=.05"
   ]
  },
  {
   "cell_type": "code",
   "execution_count": 69,
   "metadata": {
    "collapsed": false
   },
   "outputs": [
    {
     "name": "stdout",
     "output_type": "stream",
     "text": [
      "\u001b[1m============================= test session starts ==============================\u001b[0m\n",
      "platform linux2 -- Python 2.7.9 -- py-1.4.25 -- pytest-2.6.3\n",
      "collected 5 items \n",
      "\u001b[0m\n",
      "test_code.py .....\n",
      "\n",
      "\u001b[32m\u001b[1m=========================== 5 passed in 0.32 seconds ===========================\u001b[0m\n"
     ]
    }
   ],
   "source": [
    "! py.test"
   ]
  },
  {
   "cell_type": "code",
   "execution_count": 71,
   "metadata": {
    "collapsed": false
   },
   "outputs": [],
   "source": [
    "from __future__ import division\n",
    "import numpy.testing as npt\n",
    "import numpy as np\n",
    "import math\n",
    "import scipy.stats as stats\n",
    "from functions import sampleIBP, calcInverse, ll\n",
    "\n",
    "X=np.load('../Data/SimulatedData.npy')\n",
    "chainSigmaX=np.load(\"../Data/chainSigmaX.npy\")\n",
    "\n",
    "sigmaA=1.\n",
    "sigmaX=1.\n",
    "alpha=1.\n",
    "N=100\n",
    "Kplus=4\n",
    "D=36\n",
    "\n",
    "np.random.seed(1)\n",
    "\n",
    "Z=np.zeros((N,100))\n",
    "\n",
    "\n",
    "for i in range(N):\n",
    "    t=stats.poisson.rvs(alpha)\n",
    "    if t>0:\n",
    "        Z[i,0:t]=1\n",
    "\n",
    "Z = Z[:,0:Kplus]\n",
    "M=np.linalg.inv(np.dot(Z.T,Z)+((sigmaX/sigmaA)**2)*np.identity(Kplus))\n"
   ]
  },
  {
   "cell_type": "code",
   "execution_count": 76,
   "metadata": {
    "collapsed": false
   },
   "outputs": [
    {
     "data": {
      "text/plain": [
       "nan"
      ]
     },
     "execution_count": 76,
     "metadata": {},
     "output_type": "execute_result"
    }
   ],
   "source": [
    "ll(X, Z, sigmaX, -1, Kplus, D, N)"
   ]
  },
  {
   "cell_type": "code",
   "execution_count": 77,
   "metadata": {
    "collapsed": false
   },
   "outputs": [
    {
     "data": {
      "text/plain": [
       "nan"
      ]
     },
     "execution_count": 77,
     "metadata": {},
     "output_type": "execute_result"
    }
   ],
   "source": [
    "from functions import ll\n",
    "ll(X, Z, sigmaX, -1, Kplus, D, N)"
   ]
  },
  {
   "cell_type": "code",
   "execution_count": null,
   "metadata": {
    "collapsed": true
   },
   "outputs": [],
   "source": []
  }
 ],
 "metadata": {
  "kernelspec": {
   "display_name": "Python 2",
   "language": "python",
   "name": "python2"
  },
  "language_info": {
   "codemirror_mode": {
    "name": "ipython",
    "version": 2
   },
   "file_extension": ".py",
   "mimetype": "text/x-python",
   "name": "python",
   "nbconvert_exporter": "python",
   "pygments_lexer": "ipython2",
   "version": "2.7.9"
  }
 },
 "nbformat": 4,
 "nbformat_minor": 0
}
